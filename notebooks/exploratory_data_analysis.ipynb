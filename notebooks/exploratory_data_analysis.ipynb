{
 "cells": [
  {
   "cell_type": "markdown",
   "id": "006d63ff",
   "metadata": {
    "colab_type": "text",
    "id": "view-in-github"
   },
   "source": [
    "<a href=\"https://colab.research.google.com/github/HemantRajSingh/MovieMatch/blob/master/ExploratoryData_Analysis.ipynb\" target=\"_parent\"><img src=\"https://colab.research.google.com/assets/colab-badge.svg\" alt=\"Open In Colab\"/></a>"
   ]
  },
  {
   "cell_type": "code",
   "execution_count": 104,
   "id": "e5a734c2",
   "metadata": {
    "id": "e5a734c2"
   },
   "outputs": [],
   "source": [
    "import pandas as pd\n",
    "import numpy as np\n",
    "import matplotlib.pyplot as plt\n",
    "import seaborn as sns\n",
    "import plotly.express as px\n",
    "from wordcloud import WordCloud\n",
    "\n",
    "import re\n",
    "import nltk\n",
    "from nltk.corpus import stopwords\n",
    "from nltk.tokenize import word_tokenize\n",
    "# import string library for text preprocessing\n",
    "import string\n",
    "\n",
    "from nltk.stem import WordNetLemmatizer\n",
    "from sklearn.feature_extraction.text import CountVectorizer\n",
    "from sklearn.feature_extraction.text import TfidfTransformer\n",
    "from sklearn.feature_extraction.text import TfidfVectorizer\n",
    "from sklearn.cluster import KMeans"
   ]
  },
  {
   "cell_type": "code",
   "execution_count": 105,
   "id": "141f70af",
   "metadata": {
    "colab": {
     "base_uri": "https://localhost:8080/",
     "height": 206
    },
    "id": "141f70af",
    "outputId": "0a98475d-6eb8-42f2-be00-fc192cc566f7"
   },
   "outputs": [
    {
     "data": {
      "text/html": [
       "<div>\n",
       "<style scoped>\n",
       "    .dataframe tbody tr th:only-of-type {\n",
       "        vertical-align: middle;\n",
       "    }\n",
       "\n",
       "    .dataframe tbody tr th {\n",
       "        vertical-align: top;\n",
       "    }\n",
       "\n",
       "    .dataframe thead th {\n",
       "        text-align: right;\n",
       "    }\n",
       "</style>\n",
       "<table border=\"1\" class=\"dataframe\">\n",
       "  <thead>\n",
       "    <tr style=\"text-align: right;\">\n",
       "      <th></th>\n",
       "      <th>image_link</th>\n",
       "      <th>imdb_id</th>\n",
       "      <th>rating_count</th>\n",
       "      <th>rating</th>\n",
       "      <th>genre</th>\n",
       "      <th>keywords</th>\n",
       "      <th>trailer_link</th>\n",
       "      <th>actors</th>\n",
       "      <th>director</th>\n",
       "      <th>title</th>\n",
       "      <th>year</th>\n",
       "      <th>plot</th>\n",
       "      <th>processed_plot</th>\n",
       "    </tr>\n",
       "  </thead>\n",
       "  <tbody>\n",
       "    <tr>\n",
       "      <th>0</th>\n",
       "      <td>https://m.media-amazon.com/images/M/MV5BMDliMm...</td>\n",
       "      <td>tt0172495</td>\n",
       "      <td>1610899</td>\n",
       "      <td>8.5</td>\n",
       "      <td>[Action, Adventure, Drama]</td>\n",
       "      <td>[roman empire, gladiator, slavery, combat, bat...</td>\n",
       "      <td>https://www.imdb.com/video/vi2628367897/</td>\n",
       "      <td>[Russell Crowe, Joaquin Phoenix, Connie Nielsen]</td>\n",
       "      <td>[Ridley Scott]</td>\n",
       "      <td>Gladiator</td>\n",
       "      <td>2000</td>\n",
       "      <td>Shouting \"Roma Invicta!\" as his forces attack,...</td>\n",
       "      <td>shouting rom invicta force attack general maxi...</td>\n",
       "    </tr>\n",
       "    <tr>\n",
       "      <th>1</th>\n",
       "      <td>https://m.media-amazon.com/images/M/MV5BZTcyNj...</td>\n",
       "      <td>tt0209144</td>\n",
       "      <td>1316937</td>\n",
       "      <td>8.4</td>\n",
       "      <td>[Mystery, Thriller]</td>\n",
       "      <td>[memory, short term memory loss, hidden truth,...</td>\n",
       "      <td>https://www.imdb.com/video/vi3220356889/</td>\n",
       "      <td>[Guy Pearce, Carrie-Anne Moss, Joe Pantoliano]</td>\n",
       "      <td>[Christopher Nolan]</td>\n",
       "      <td>Memento</td>\n",
       "      <td>2000</td>\n",
       "      <td>Leonard Shelby (Guy Pearce), a man whose short...</td>\n",
       "      <td>leonard shelby guy pearce man whose short term...</td>\n",
       "    </tr>\n",
       "    <tr>\n",
       "      <th>2</th>\n",
       "      <td>https://m.media-amazon.com/images/M/MV5BMTA2ND...</td>\n",
       "      <td>tt0208092</td>\n",
       "      <td>906115</td>\n",
       "      <td>8.2</td>\n",
       "      <td>[Comedy, Crime]</td>\n",
       "      <td>[diamond, boxer, narrated by character, cockne...</td>\n",
       "      <td>https://www.imdb.com/video/vi1558577433/</td>\n",
       "      <td>[Jason Statham, Brad Pitt, Stephen Graham]</td>\n",
       "      <td>[Guy Ritchie]</td>\n",
       "      <td>Snatch</td>\n",
       "      <td>2000</td>\n",
       "      <td>After stealing an 86-carat (17 g) diamond in a...</td>\n",
       "      <td>stealing carat  g diamond heist antwerp franki...</td>\n",
       "    </tr>\n",
       "    <tr>\n",
       "      <th>3</th>\n",
       "      <td>https://m.media-amazon.com/images/M/MV5BZTM2ZG...</td>\n",
       "      <td>tt0144084</td>\n",
       "      <td>709394</td>\n",
       "      <td>7.6</td>\n",
       "      <td>[Crime, Drama, Horror]</td>\n",
       "      <td>[narcissism, materialism, serial murder, socio...</td>\n",
       "      <td>https://www.imdb.com/video/vi4060743449/</td>\n",
       "      <td>[Christian Bale, Justin Theroux, Josh Lucas]</td>\n",
       "      <td>[Mary Harron]</td>\n",
       "      <td>American Psycho</td>\n",
       "      <td>2000</td>\n",
       "      <td>A white background. Red drops begin to fall pa...</td>\n",
       "      <td>white background red drop begin fall past open...</td>\n",
       "    </tr>\n",
       "    <tr>\n",
       "      <th>4</th>\n",
       "      <td>https://m.media-amazon.com/images/M/MV5BNjUxYz...</td>\n",
       "      <td>tt0187393</td>\n",
       "      <td>292416</td>\n",
       "      <td>7.2</td>\n",
       "      <td>[Action, Drama, History]</td>\n",
       "      <td>[american revolution, 18th century, british ar...</td>\n",
       "      <td>https://www.imdb.com/video/vi100139289/</td>\n",
       "      <td>[Mel Gibson, Heath Ledger, Joely Richardson]</td>\n",
       "      <td>[Roland Emmerich]</td>\n",
       "      <td>The Patriot</td>\n",
       "      <td>2000</td>\n",
       "      <td>Benjamin Martin (Mel Gibson), a veteran of the...</td>\n",
       "      <td>benjamin martin mel gibson veteran  french ind...</td>\n",
       "    </tr>\n",
       "  </tbody>\n",
       "</table>\n",
       "</div>"
      ],
      "text/plain": [
       "                                          image_link    imdb_id  rating_count  \\\n",
       "0  https://m.media-amazon.com/images/M/MV5BMDliMm...  tt0172495       1610899   \n",
       "1  https://m.media-amazon.com/images/M/MV5BZTcyNj...  tt0209144       1316937   \n",
       "2  https://m.media-amazon.com/images/M/MV5BMTA2ND...  tt0208092        906115   \n",
       "3  https://m.media-amazon.com/images/M/MV5BZTM2ZG...  tt0144084        709394   \n",
       "4  https://m.media-amazon.com/images/M/MV5BNjUxYz...  tt0187393        292416   \n",
       "\n",
       "   rating                       genre  \\\n",
       "0     8.5  [Action, Adventure, Drama]   \n",
       "1     8.4         [Mystery, Thriller]   \n",
       "2     8.2             [Comedy, Crime]   \n",
       "3     7.6      [Crime, Drama, Horror]   \n",
       "4     7.2    [Action, Drama, History]   \n",
       "\n",
       "                                            keywords  \\\n",
       "0  [roman empire, gladiator, slavery, combat, bat...   \n",
       "1  [memory, short term memory loss, hidden truth,...   \n",
       "2  [diamond, boxer, narrated by character, cockne...   \n",
       "3  [narcissism, materialism, serial murder, socio...   \n",
       "4  [american revolution, 18th century, british ar...   \n",
       "\n",
       "                               trailer_link  \\\n",
       "0  https://www.imdb.com/video/vi2628367897/   \n",
       "1  https://www.imdb.com/video/vi3220356889/   \n",
       "2  https://www.imdb.com/video/vi1558577433/   \n",
       "3  https://www.imdb.com/video/vi4060743449/   \n",
       "4   https://www.imdb.com/video/vi100139289/   \n",
       "\n",
       "                                             actors             director  \\\n",
       "0  [Russell Crowe, Joaquin Phoenix, Connie Nielsen]       [Ridley Scott]   \n",
       "1    [Guy Pearce, Carrie-Anne Moss, Joe Pantoliano]  [Christopher Nolan]   \n",
       "2        [Jason Statham, Brad Pitt, Stephen Graham]        [Guy Ritchie]   \n",
       "3      [Christian Bale, Justin Theroux, Josh Lucas]        [Mary Harron]   \n",
       "4      [Mel Gibson, Heath Ledger, Joely Richardson]    [Roland Emmerich]   \n",
       "\n",
       "              title  year                                               plot  \\\n",
       "0         Gladiator  2000  Shouting \"Roma Invicta!\" as his forces attack,...   \n",
       "1           Memento  2000  Leonard Shelby (Guy Pearce), a man whose short...   \n",
       "2            Snatch  2000  After stealing an 86-carat (17 g) diamond in a...   \n",
       "3   American Psycho  2000  A white background. Red drops begin to fall pa...   \n",
       "4       The Patriot  2000  Benjamin Martin (Mel Gibson), a veteran of the...   \n",
       "\n",
       "                                      processed_plot  \n",
       "0  shouting rom invicta force attack general maxi...  \n",
       "1  leonard shelby guy pearce man whose short term...  \n",
       "2  stealing carat  g diamond heist antwerp franki...  \n",
       "3  white background red drop begin fall past open...  \n",
       "4  benjamin martin mel gibson veteran  french ind...  "
      ]
     },
     "execution_count": 105,
     "metadata": {},
     "output_type": "execute_result"
    }
   ],
   "source": [
    "df=pd.read_csv('../data/processed/preprocessed_dataset.csv')\n",
    "df.head()"
   ]
  },
  {
   "cell_type": "code",
   "execution_count": 106,
   "id": "e99f8ba1",
   "metadata": {},
   "outputs": [
    {
     "data": {
      "text/html": [
       "<div>\n",
       "<style scoped>\n",
       "    .dataframe tbody tr th:only-of-type {\n",
       "        vertical-align: middle;\n",
       "    }\n",
       "\n",
       "    .dataframe tbody tr th {\n",
       "        vertical-align: top;\n",
       "    }\n",
       "\n",
       "    .dataframe thead th {\n",
       "        text-align: right;\n",
       "    }\n",
       "</style>\n",
       "<table border=\"1\" class=\"dataframe\">\n",
       "  <thead>\n",
       "    <tr style=\"text-align: right;\">\n",
       "      <th></th>\n",
       "      <th>image_link</th>\n",
       "      <th>imdb_id</th>\n",
       "      <th>rating_count</th>\n",
       "      <th>rating</th>\n",
       "      <th>genre</th>\n",
       "      <th>keywords</th>\n",
       "      <th>trailer_link</th>\n",
       "      <th>actors</th>\n",
       "      <th>director</th>\n",
       "      <th>title</th>\n",
       "      <th>year</th>\n",
       "      <th>plot</th>\n",
       "      <th>processed_plot</th>\n",
       "    </tr>\n",
       "  </thead>\n",
       "  <tbody>\n",
       "    <tr>\n",
       "      <th>2395</th>\n",
       "      <td>https://m.media-amazon.com/images/M/MV5BN2QyZG...</td>\n",
       "      <td>tt15239678</td>\n",
       "      <td>253617</td>\n",
       "      <td>8.8</td>\n",
       "      <td>[Action, Adventure, Drama]</td>\n",
       "      <td>[desert planet, second part, dune, desert, fight]</td>\n",
       "      <td>https://www.imdb.com/video/vi3332425241/</td>\n",
       "      <td>[Timothée Chalamet, Zendaya, Rebecca Ferguson]</td>\n",
       "      <td>[Denis Villeneuve]</td>\n",
       "      <td>Dune: Part Two</td>\n",
       "      <td>2024</td>\n",
       "      <td>Following the destruction of House Atreides by...</td>\n",
       "      <td>following destruction house atreides house har...</td>\n",
       "    </tr>\n",
       "    <tr>\n",
       "      <th>2396</th>\n",
       "      <td>https://m.media-amazon.com/images/M/MV5BM2IzZW...</td>\n",
       "      <td>tt19637052</td>\n",
       "      <td>3574</td>\n",
       "      <td>7.3</td>\n",
       "      <td>[Action, Adventure, Crime]</td>\n",
       "      <td>[bodybuilder, lesbian, female nudity, female b...</td>\n",
       "      <td>https://www.imdb.com/video/vi1229440793/</td>\n",
       "      <td>[Anna Baryshnikov, Kristen Stewart, Dave Franco]</td>\n",
       "      <td>[Rose Glass]</td>\n",
       "      <td>Love Lies Bleeding</td>\n",
       "      <td>2024</td>\n",
       "      <td>Gym manager Lou falls for Jackie, a bodybuilde...</td>\n",
       "      <td>gym manager lou fall jackie bodybuilder passin...</td>\n",
       "    </tr>\n",
       "    <tr>\n",
       "      <th>2397</th>\n",
       "      <td>https://m.media-amazon.com/images/M/MV5BYzhkYj...</td>\n",
       "      <td>tt14351082</td>\n",
       "      <td>2453</td>\n",
       "      <td>8.0</td>\n",
       "      <td>[Biography, Drama]</td>\n",
       "      <td>[poverty, italian immigrant, nun, five points ...</td>\n",
       "      <td>https://www.imdb.com/video/vi2427962905/</td>\n",
       "      <td>[Cristiana Dell&amp;apos;Anna, John Lithgow, David...</td>\n",
       "      <td>[Alejandro Monteverde]</td>\n",
       "      <td>Cabrini</td>\n",
       "      <td>2024</td>\n",
       "      <td>After witnessing disease and poverty in the sl...</td>\n",
       "      <td>witnessing disease poverty slum new york itali...</td>\n",
       "    </tr>\n",
       "    <tr>\n",
       "      <th>2398</th>\n",
       "      <td>https://m.media-amazon.com/images/M/MV5BYmY2Ym...</td>\n",
       "      <td>tt4996328</td>\n",
       "      <td>1598</td>\n",
       "      <td>7.8</td>\n",
       "      <td>[Drama]</td>\n",
       "      <td>[family relationships]</td>\n",
       "      <td>https://www.imdb.com/video/vi1315030041/</td>\n",
       "      <td>[Hilary Swank, Alan Ritchson, Emily Mitchell]</td>\n",
       "      <td>[Jon Gunn]</td>\n",
       "      <td>Ordinary Angels</td>\n",
       "      <td>2024</td>\n",
       "      <td>Inspired by the incredible true story of a hai...</td>\n",
       "      <td>inspired incredible true story hairdresser sin...</td>\n",
       "    </tr>\n",
       "    <tr>\n",
       "      <th>2399</th>\n",
       "      <td>https://m.media-amazon.com/images/M/MV5BZTFjYT...</td>\n",
       "      <td>tt30796448</td>\n",
       "      <td>10027</td>\n",
       "      <td>7.9</td>\n",
       "      <td>[Documentary, Music]</td>\n",
       "      <td>[charity song, 1980s, all star, five word titl...</td>\n",
       "      <td>https://www.imdb.com/video/vi2271332121/</td>\n",
       "      <td>[Lionel Richie, Harriet Sternberg, Wendy Rees]</td>\n",
       "      <td>[Bao Nguyen]</td>\n",
       "      <td>The Greatest Night in Pop</td>\n",
       "      <td>2024</td>\n",
       "      <td>On January 25th 1985, dozens of the era's most...</td>\n",
       "      <td>january th  dozen era popular musician gathere...</td>\n",
       "    </tr>\n",
       "  </tbody>\n",
       "</table>\n",
       "</div>"
      ],
      "text/plain": [
       "                                             image_link     imdb_id  \\\n",
       "2395  https://m.media-amazon.com/images/M/MV5BN2QyZG...  tt15239678   \n",
       "2396  https://m.media-amazon.com/images/M/MV5BM2IzZW...  tt19637052   \n",
       "2397  https://m.media-amazon.com/images/M/MV5BYzhkYj...  tt14351082   \n",
       "2398  https://m.media-amazon.com/images/M/MV5BYmY2Ym...   tt4996328   \n",
       "2399  https://m.media-amazon.com/images/M/MV5BZTFjYT...  tt30796448   \n",
       "\n",
       "      rating_count  rating                       genre  \\\n",
       "2395        253617     8.8  [Action, Adventure, Drama]   \n",
       "2396          3574     7.3  [Action, Adventure, Crime]   \n",
       "2397          2453     8.0          [Biography, Drama]   \n",
       "2398          1598     7.8                     [Drama]   \n",
       "2399         10027     7.9        [Documentary, Music]   \n",
       "\n",
       "                                               keywords  \\\n",
       "2395  [desert planet, second part, dune, desert, fight]   \n",
       "2396  [bodybuilder, lesbian, female nudity, female b...   \n",
       "2397  [poverty, italian immigrant, nun, five points ...   \n",
       "2398                             [family relationships]   \n",
       "2399  [charity song, 1980s, all star, five word titl...   \n",
       "\n",
       "                                  trailer_link  \\\n",
       "2395  https://www.imdb.com/video/vi3332425241/   \n",
       "2396  https://www.imdb.com/video/vi1229440793/   \n",
       "2397  https://www.imdb.com/video/vi2427962905/   \n",
       "2398  https://www.imdb.com/video/vi1315030041/   \n",
       "2399  https://www.imdb.com/video/vi2271332121/   \n",
       "\n",
       "                                                 actors  \\\n",
       "2395     [Timothée Chalamet, Zendaya, Rebecca Ferguson]   \n",
       "2396   [Anna Baryshnikov, Kristen Stewart, Dave Franco]   \n",
       "2397  [Cristiana Dell&apos;Anna, John Lithgow, David...   \n",
       "2398      [Hilary Swank, Alan Ritchson, Emily Mitchell]   \n",
       "2399     [Lionel Richie, Harriet Sternberg, Wendy Rees]   \n",
       "\n",
       "                    director                       title  year  \\\n",
       "2395      [Denis Villeneuve]              Dune: Part Two  2024   \n",
       "2396            [Rose Glass]          Love Lies Bleeding  2024   \n",
       "2397  [Alejandro Monteverde]                     Cabrini  2024   \n",
       "2398              [Jon Gunn]             Ordinary Angels  2024   \n",
       "2399            [Bao Nguyen]   The Greatest Night in Pop  2024   \n",
       "\n",
       "                                                   plot  \\\n",
       "2395  Following the destruction of House Atreides by...   \n",
       "2396  Gym manager Lou falls for Jackie, a bodybuilde...   \n",
       "2397  After witnessing disease and poverty in the sl...   \n",
       "2398  Inspired by the incredible true story of a hai...   \n",
       "2399  On January 25th 1985, dozens of the era's most...   \n",
       "\n",
       "                                         processed_plot  \n",
       "2395  following destruction house atreides house har...  \n",
       "2396  gym manager lou fall jackie bodybuilder passin...  \n",
       "2397  witnessing disease poverty slum new york itali...  \n",
       "2398  inspired incredible true story hairdresser sin...  \n",
       "2399  january th  dozen era popular musician gathere...  "
      ]
     },
     "execution_count": 106,
     "metadata": {},
     "output_type": "execute_result"
    }
   ],
   "source": [
    "df.tail()"
   ]
  },
  {
   "cell_type": "markdown",
   "id": "eeb667c5",
   "metadata": {
    "id": "eeb667c5"
   },
   "source": [
    "# Understanding data"
   ]
  },
  {
   "cell_type": "code",
   "execution_count": 107,
   "id": "ecc23b26",
   "metadata": {
    "colab": {
     "base_uri": "https://localhost:8080/"
    },
    "id": "ecc23b26",
    "outputId": "c40fe90f-d984-4ca8-dac1-23391946515e"
   },
   "outputs": [
    {
     "data": {
      "text/plain": [
       "(2400, 13)"
      ]
     },
     "execution_count": 107,
     "metadata": {},
     "output_type": "execute_result"
    }
   ],
   "source": [
    "df.shape #getting the rows and columns of dataset"
   ]
  },
  {
   "cell_type": "code",
   "execution_count": 108,
   "id": "fe9fc98b",
   "metadata": {
    "id": "fe9fc98b"
   },
   "outputs": [],
   "source": [
    "df_2023= df[df['year']==2023] # creating a new dataframe of year 2023"
   ]
  },
  {
   "cell_type": "code",
   "execution_count": 109,
   "id": "db81c12c",
   "metadata": {
    "colab": {
     "base_uri": "https://localhost:8080/"
    },
    "id": "db81c12c",
    "outputId": "c5313bad-2bf2-40d6-b582-36be9ad8b5a3"
   },
   "outputs": [
    {
     "data": {
      "text/plain": [
       "(83, 13)"
      ]
     },
     "execution_count": 109,
     "metadata": {},
     "output_type": "execute_result"
    }
   ],
   "source": [
    "df_2023.shape #getting rows and columns for year 2023\n"
   ]
  },
  {
   "cell_type": "code",
   "execution_count": 110,
   "id": "0ac5afae",
   "metadata": {
    "id": "0ac5afae",
    "outputId": "9b7f9102-9545-46d4-c0f3-c391f5a6f7e4"
   },
   "outputs": [
    {
     "data": {
      "text/plain": [
       "'Shouting \"Roma Invicta!\" as his forces attack, General Maximus Decimus Meridius (Russell Crowe) leads the Roman Army to victory against Germanic barbarians in the year 180 A.D., ending a prolonged war and earning the esteem of elderly Emperor Marcus Aurelius. Although the dying Aurelius has a son, Commodus (Joaquin Phoenix), he decides to appoint temporary leadership to the morally-upstanding Maximus, with a desire to eventually return power to the Roman Senate. Aurelius informs Maximus and offers him time to consider before informing Commodus, who, in a bout of jealousy, murders his father.Declaring himself the emperor, Commodus asks Maximus for his loyalty, which Maximus, realizing Commodus\\' involvement in the Emperor\\'s death, refuses. Commodus orders Maximus\\' execution and dispatches Praetorian Guards to murder Maximus\\' wife and son. Maximus narrowly escapes his execution and races home only to discover his family\\'s charred and crucified bodies in the smoldering ruins of his villa. After burying his wife and son, a grieving Maximus succumbs to exhaustion and collapses on their graves.Slave traders find Maximus and take him to Zucchabar, a rugged province in North Africa, where he is purchased by Proximo, the head of a local gladiator school. Distraught and nihilistic over the death of his family and betrayal by his empire, Maximus initially refuses to fight, but as he defends himself in the arena his formidable combat skills lead to a rise in popularity with the audience. As he trains and fights further, Maximus befriends Hagen, a Germanic barbarian, and Juba, a Numidian hunter, the latter becoming a close friend and confidant to the grieving Maximus, the two speaking frequently of the afterlife and Maximus\\' eventual reunification with his family.In Rome, Commodus reopens the gladiatorial games to commemorate his father\\'s death, and Proximo\\'s company of gladiators are hired to participate. In a recreation of the Battle of Zama (incorrectly named the Battle of Carthage) at the Colosseum, Maximus leads Proximo\\'s gladiators to decisive victory against a more powerful force, much to the amazement of the crowd. Commodus descends into the arena to meet the victors and is stunned to discover Maximus as the leader of Proximo\\'s gladiators. The Emperor, unable to kill Maximus because of the crowd\\'s roaring approval for him, sulks out of the arena.As the games continue, Commodus pits Maximus against Tigris of Gaul, Rome\\'s only undefeated gladiator, in an arena surrounded by chained tigers with handlers instructed to target Maximus. Following an intense battle, Maximus narrowly defeats Tigris and awaits Commodus\\' decision to kill or spare Tigris. As Commodus votes for death, Maximus spares Tigris, deliberately insulting the Emperor and garnering the audience\\'s approval. His bitter enemy now known as \"Maximus the Merciful,\" Commodus becomes more frustrated at his inability to kill Maximus or stop his ascending popularity while Commodus\\' own popularity shrinks.Following the fight, Maximus meets his former servant Cicero, who reveals that Maximus\\'s army remains loyal to him. They are camped at the port Ostia. Maximus forms a plot with Lucilla, Commodus\\' sister, and Senator Gracchus to reunite Maximus with his army and overthrow Commodus. Commodus however, suspecting his sister\\'s betrayal, threatens her young son and forces her to reveal the plot. Praetorian guards immediately storm Proximo\\'s gladiator barracks, battling the gladiators while Maximus escapes. Hagen and Proximo are killed in the siege while Juba and the survivors are imprisoned. Maximus escapes to the city walls only to witness Cicero\\'s death and be ambushed by a legion of Praetorian guards.Concluding that legends born in the Colosseum must die there, Commodus personally challenges Maximus to a duel in front of a roaring audience. Acknowledging that Maximus\\' skill exceeds his own, Commodus deliberately stabs Maximus with a stiletto, puncturing his lung, and has the wound concealed beneath the gladiator\\'s armor. In the arena, the two exchange blows before Maximus rips the sword from Commodus\\'s hands. Commodus requests a sword from his guards, but they betray him and refuse to lend him their weapons. Maximus drops his own sword, but Commodus pulls a hidden stiletto and renews his attack. Maximus then beats Commodus into submission and kills him with his own stiletto.As Commodus collapses in the now-silent Colosseum, a dying Maximus begins seeing his wife and son in the afterlife. He reaches for them but is pulled back to reality by the Praetorian prefect Quintus, who asks for instructions. Maximus orders the release of Proximo\\'s gladiators and Senator Gracchus, whom he reinstates and instructs to return Rome to a Senate-based government.Maximus collapses, and Lucilla rushes to his aid. After being reassured that her son is safe and Commodus is dead, Maximus dies and wanders into the afterlife to his family in the distance. Senator Gracchus and Proximo\\'s gladiators carry his body out of the Colosseum. That night, a newly freed Juba buries Maximus\\' two small statues of his wife and son in the Colosseum, and says that he too will eventually join them, but not yet.'"
      ]
     },
     "execution_count": 110,
     "metadata": {},
     "output_type": "execute_result"
    }
   ],
   "source": [
    "df['plot'][0]"
   ]
  },
  {
   "cell_type": "code",
   "execution_count": 111,
   "id": "e199b0ff",
   "metadata": {
    "id": "e199b0ff",
    "outputId": "922e94f8-2623-41e5-8b4c-adc890ac9b4d"
   },
   "outputs": [
    {
     "name": "stdout",
     "output_type": "stream",
     "text": [
      "<class 'pandas.core.frame.DataFrame'>\n",
      "RangeIndex: 2400 entries, 0 to 2399\n",
      "Data columns (total 13 columns):\n",
      " #   Column          Non-Null Count  Dtype  \n",
      "---  ------          --------------  -----  \n",
      " 0   image_link      2400 non-null   object \n",
      " 1   imdb_id         2400 non-null   object \n",
      " 2   rating_count    2400 non-null   int64  \n",
      " 3   rating          2400 non-null   float64\n",
      " 4   genre           2400 non-null   object \n",
      " 5   keywords        2400 non-null   object \n",
      " 6   trailer_link    2400 non-null   object \n",
      " 7   actors          2400 non-null   object \n",
      " 8   director        2400 non-null   object \n",
      " 9   title           2400 non-null   object \n",
      " 10  year            2400 non-null   int64  \n",
      " 11  plot            2200 non-null   object \n",
      " 12  processed_plot  2200 non-null   object \n",
      "dtypes: float64(1), int64(2), object(10)\n",
      "memory usage: 243.9+ KB\n"
     ]
    }
   ],
   "source": [
    "df.info()"
   ]
  },
  {
   "cell_type": "code",
   "execution_count": 112,
   "id": "8564ac75",
   "metadata": {
    "id": "8564ac75",
    "outputId": "d107fce8-2d83-4853-d944-e05fae257dac"
   },
   "outputs": [
    {
     "data": {
      "text/plain": [
       "year\n",
       "2014    134\n",
       "2019    130\n",
       "2018    129\n",
       "2017    125\n",
       "2016    124\n",
       "2015    120\n",
       "2013    117\n",
       "2007    117\n",
       "2011    112\n",
       "2012    109\n",
       "2021    105\n",
       "2006    104\n",
       "2022     96\n",
       "2008     95\n",
       "2020     94\n",
       "2009     87\n",
       "2005     87\n",
       "2004     85\n",
       "2023     83\n",
       "2010     83\n",
       "2002     73\n",
       "2003     72\n",
       "2000     61\n",
       "2001     53\n",
       "2024      5\n",
       "Name: count, dtype: int64"
      ]
     },
     "execution_count": 112,
     "metadata": {},
     "output_type": "execute_result"
    }
   ],
   "source": [
    "df['year'].value_counts() # count of movies in each year\n"
   ]
  },
  {
   "cell_type": "code",
   "execution_count": 113,
   "id": "9f646805",
   "metadata": {
    "id": "9f646805",
    "outputId": "ce59ad06-31ae-4112-a117-3abf0351855d"
   },
   "outputs": [
    {
     "data": {
      "text/plain": [
       "array([2000, 2001, 2002, 2003, 2004, 2005, 2006, 2010, 2007, 2008, 2009,\n",
       "       2011, 2012, 2013, 2014, 2015, 2016, 2017, 2018, 2019, 2020, 2021,\n",
       "       2022, 2023, 2024])"
      ]
     },
     "execution_count": 113,
     "metadata": {},
     "output_type": "execute_result"
    }
   ],
   "source": [
    "df['year'].unique() #unique values for year column"
   ]
  },
  {
   "cell_type": "code",
   "execution_count": 114,
   "id": "d325d619",
   "metadata": {
    "id": "d325d619",
    "outputId": "e130e8c0-7398-45d4-e828-d1002d7eeb7d"
   },
   "outputs": [
    {
     "data": {
      "text/plain": [
       "25"
      ]
     },
     "execution_count": 114,
     "metadata": {},
     "output_type": "execute_result"
    }
   ],
   "source": [
    "df['year'].nunique()  #total count of years"
   ]
  },
  {
   "cell_type": "code",
   "execution_count": 115,
   "id": "6895cc33",
   "metadata": {
    "id": "6895cc33",
    "outputId": "966cee7b-252b-4122-e2f9-a7c8247d5879"
   },
   "outputs": [
    {
     "data": {
      "text/plain": [
       "image_link          0\n",
       "imdb_id             0\n",
       "rating_count        0\n",
       "rating              0\n",
       "genre               0\n",
       "keywords            0\n",
       "trailer_link        0\n",
       "actors              0\n",
       "director            0\n",
       "title               0\n",
       "year                0\n",
       "plot              200\n",
       "processed_plot    200\n",
       "dtype: int64"
      ]
     },
     "execution_count": 115,
     "metadata": {},
     "output_type": "execute_result"
    }
   ],
   "source": [
    "df.isna().sum() # total num of null values"
   ]
  },
  {
   "cell_type": "code",
   "execution_count": 116,
   "id": "341cef46",
   "metadata": {},
   "outputs": [
    {
     "data": {
      "text/plain": [
       "image_link        0.000000\n",
       "imdb_id           0.000000\n",
       "rating_count      0.000000\n",
       "rating            0.000000\n",
       "genre             0.000000\n",
       "keywords          0.000000\n",
       "trailer_link      0.000000\n",
       "actors            0.000000\n",
       "director          0.000000\n",
       "title             0.000000\n",
       "year              0.000000\n",
       "plot              8.333333\n",
       "processed_plot    8.333333\n",
       "dtype: float64"
      ]
     },
     "execution_count": 116,
     "metadata": {},
     "output_type": "execute_result"
    }
   ],
   "source": [
    "df.isna().mean()*100 #percentage of null values in each column"
   ]
  },
  {
   "cell_type": "code",
   "execution_count": 117,
   "id": "c1366b87",
   "metadata": {},
   "outputs": [],
   "source": [
    "# delete the rows with null values\n",
    "df.dropna(inplace=True)"
   ]
  },
  {
   "cell_type": "code",
   "execution_count": 118,
   "id": "13cc8a58",
   "metadata": {},
   "outputs": [
    {
     "data": {
      "text/plain": [
       "image_link        0\n",
       "imdb_id           0\n",
       "rating_count      0\n",
       "rating            0\n",
       "genre             0\n",
       "keywords          0\n",
       "trailer_link      0\n",
       "actors            0\n",
       "director          0\n",
       "title             0\n",
       "year              0\n",
       "plot              0\n",
       "processed_plot    0\n",
       "dtype: int64"
      ]
     },
     "execution_count": 118,
     "metadata": {},
     "output_type": "execute_result"
    }
   ],
   "source": [
    "df.isnull().sum()"
   ]
  },
  {
   "cell_type": "markdown",
   "id": "6f3dc17e",
   "metadata": {
    "id": "6f3dc17e"
   },
   "source": [
    "\n",
    "# Exploratory Data Analysis\n",
    "-Character count\n",
    "-Word count\n",
    "-Mean word length\n",
    "-Mean sentence length"
   ]
  },
  {
   "cell_type": "code",
   "execution_count": 119,
   "id": "57ec53da",
   "metadata": {
    "colab": {
     "base_uri": "https://localhost:8080/"
    },
    "id": "57ec53da",
    "outputId": "9d97621a-4e29-4693-c618-a39aa98b0c9e"
   },
   "outputs": [
    {
     "data": {
      "text/plain": [
       "5208"
      ]
     },
     "execution_count": 119,
     "metadata": {},
     "output_type": "execute_result"
    }
   ],
   "source": [
    "length = len(df['plot'][0])\n",
    "length"
   ]
  },
  {
   "cell_type": "markdown",
   "id": "03be2c26",
   "metadata": {
    "id": "03be2c26"
   },
   "source": [
    "The length of our sample review is 565"
   ]
  },
  {
   "cell_type": "code",
   "execution_count": 120,
   "id": "945923f4",
   "metadata": {
    "id": "945923f4"
   },
   "outputs": [],
   "source": [
    "df['length'] = df['plot'].str.len()\n"
   ]
  },
  {
   "cell_type": "code",
   "execution_count": 121,
   "id": "27963a10",
   "metadata": {
    "colab": {
     "base_uri": "https://localhost:8080/"
    },
    "id": "27963a10",
    "outputId": "81d0ee98-98eb-45e1-fad9-fc21912d0e43"
   },
   "outputs": [
    {
     "data": {
      "text/plain": [
       "count     2200.000000\n",
       "mean      3875.810455\n",
       "std       5607.504086\n",
       "min         36.000000\n",
       "25%        168.000000\n",
       "50%       1467.000000\n",
       "75%       5755.500000\n",
       "max      63904.000000\n",
       "Name: length, dtype: float64"
      ]
     },
     "execution_count": 121,
     "metadata": {},
     "output_type": "execute_result"
    }
   ],
   "source": [
    "df['length'].describe()"
   ]
  },
  {
   "cell_type": "code",
   "execution_count": 122,
   "id": "90b20f57",
   "metadata": {},
   "outputs": [
    {
     "data": {
      "text/html": [
       "<div>\n",
       "<style scoped>\n",
       "    .dataframe tbody tr th:only-of-type {\n",
       "        vertical-align: middle;\n",
       "    }\n",
       "\n",
       "    .dataframe tbody tr th {\n",
       "        vertical-align: top;\n",
       "    }\n",
       "\n",
       "    .dataframe thead th {\n",
       "        text-align: right;\n",
       "    }\n",
       "</style>\n",
       "<table border=\"1\" class=\"dataframe\">\n",
       "  <thead>\n",
       "    <tr style=\"text-align: right;\">\n",
       "      <th></th>\n",
       "      <th>title</th>\n",
       "      <th>rating_count</th>\n",
       "      <th>rating</th>\n",
       "    </tr>\n",
       "  </thead>\n",
       "  <tbody>\n",
       "    <tr>\n",
       "      <th>0</th>\n",
       "      <td>Gladiator</td>\n",
       "      <td>1610899</td>\n",
       "      <td>8.5</td>\n",
       "    </tr>\n",
       "    <tr>\n",
       "      <th>1</th>\n",
       "      <td>Memento</td>\n",
       "      <td>1316937</td>\n",
       "      <td>8.4</td>\n",
       "    </tr>\n",
       "    <tr>\n",
       "      <th>2</th>\n",
       "      <td>Snatch</td>\n",
       "      <td>906115</td>\n",
       "      <td>8.2</td>\n",
       "    </tr>\n",
       "    <tr>\n",
       "      <th>3</th>\n",
       "      <td>American Psycho</td>\n",
       "      <td>709394</td>\n",
       "      <td>7.6</td>\n",
       "    </tr>\n",
       "    <tr>\n",
       "      <th>4</th>\n",
       "      <td>The Patriot</td>\n",
       "      <td>292416</td>\n",
       "      <td>7.2</td>\n",
       "    </tr>\n",
       "  </tbody>\n",
       "</table>\n",
       "</div>"
      ],
      "text/plain": [
       "              title  rating_count  rating\n",
       "0         Gladiator       1610899     8.5\n",
       "1           Memento       1316937     8.4\n",
       "2            Snatch        906115     8.2\n",
       "3   American Psycho        709394     7.6\n",
       "4       The Patriot        292416     7.2"
      ]
     },
     "execution_count": 122,
     "metadata": {},
     "output_type": "execute_result"
    }
   ],
   "source": [
    "df[['title', 'rating_count', 'rating']].head()"
   ]
  },
  {
   "cell_type": "code",
   "execution_count": 123,
   "id": "b6949811",
   "metadata": {},
   "outputs": [
    {
     "data": {
      "text/html": [
       "<div>\n",
       "<style scoped>\n",
       "    .dataframe tbody tr th:only-of-type {\n",
       "        vertical-align: middle;\n",
       "    }\n",
       "\n",
       "    .dataframe tbody tr th {\n",
       "        vertical-align: top;\n",
       "    }\n",
       "\n",
       "    .dataframe thead th {\n",
       "        text-align: right;\n",
       "    }\n",
       "</style>\n",
       "<table border=\"1\" class=\"dataframe\">\n",
       "  <thead>\n",
       "    <tr style=\"text-align: right;\">\n",
       "      <th></th>\n",
       "      <th>title</th>\n",
       "      <th>rating</th>\n",
       "      <th>rating_count</th>\n",
       "      <th>year</th>\n",
       "    </tr>\n",
       "  </thead>\n",
       "  <tbody>\n",
       "    <tr>\n",
       "      <th>974</th>\n",
       "      <td>Wendigo</td>\n",
       "      <td>9.3</td>\n",
       "      <td>2130</td>\n",
       "      <td>2011</td>\n",
       "    </tr>\n",
       "    <tr>\n",
       "      <th>2285</th>\n",
       "      <td>The Beatles: Get Back - The Rooftop Concert</td>\n",
       "      <td>9.0</td>\n",
       "      <td>1498</td>\n",
       "      <td>2022</td>\n",
       "    </tr>\n",
       "    <tr>\n",
       "      <th>653</th>\n",
       "      <td>The Dark Knight</td>\n",
       "      <td>9.0</td>\n",
       "      <td>2855415</td>\n",
       "      <td>2008</td>\n",
       "    </tr>\n",
       "    <tr>\n",
       "      <th>187</th>\n",
       "      <td>The Lord of the Rings: The Return of the King</td>\n",
       "      <td>9.0</td>\n",
       "      <td>1968660</td>\n",
       "      <td>2003</td>\n",
       "    </tr>\n",
       "    <tr>\n",
       "      <th>507</th>\n",
       "      <td>Thursday</td>\n",
       "      <td>8.9</td>\n",
       "      <td>2753</td>\n",
       "      <td>2006</td>\n",
       "    </tr>\n",
       "    <tr>\n",
       "      <th>1571</th>\n",
       "      <td>OJ: Made in America</td>\n",
       "      <td>8.9</td>\n",
       "      <td>21312</td>\n",
       "      <td>2016</td>\n",
       "    </tr>\n",
       "    <tr>\n",
       "      <th>2371</th>\n",
       "      <td>Holiday Twist</td>\n",
       "      <td>8.9</td>\n",
       "      <td>1156</td>\n",
       "      <td>2023</td>\n",
       "    </tr>\n",
       "    <tr>\n",
       "      <th>61</th>\n",
       "      <td>The Lord of the Rings: The Fellowship of the ...</td>\n",
       "      <td>8.9</td>\n",
       "      <td>1996714</td>\n",
       "      <td>2001</td>\n",
       "    </tr>\n",
       "    <tr>\n",
       "      <th>115</th>\n",
       "      <td>The Lord of the Rings: The Two Towers</td>\n",
       "      <td>8.8</td>\n",
       "      <td>1774820</td>\n",
       "      <td>2002</td>\n",
       "    </tr>\n",
       "    <tr>\n",
       "      <th>835</th>\n",
       "      <td>Inception</td>\n",
       "      <td>8.8</td>\n",
       "      <td>2536356</td>\n",
       "      <td>2010</td>\n",
       "    </tr>\n",
       "  </tbody>\n",
       "</table>\n",
       "</div>"
      ],
      "text/plain": [
       "                                                  title  rating  rating_count  \\\n",
       "974                                             Wendigo     9.3          2130   \n",
       "2285        The Beatles: Get Back - The Rooftop Concert     9.0          1498   \n",
       "653                                     The Dark Knight     9.0       2855415   \n",
       "187       The Lord of the Rings: The Return of the King     9.0       1968660   \n",
       "507                                            Thursday     8.9          2753   \n",
       "1571                                OJ: Made in America     8.9         21312   \n",
       "2371                                      Holiday Twist     8.9          1156   \n",
       "61     The Lord of the Rings: The Fellowship of the ...     8.9       1996714   \n",
       "115               The Lord of the Rings: The Two Towers     8.8       1774820   \n",
       "835                                           Inception     8.8       2536356   \n",
       "\n",
       "      year  \n",
       "974   2011  \n",
       "2285  2022  \n",
       "653   2008  \n",
       "187   2003  \n",
       "507   2006  \n",
       "1571  2016  \n",
       "2371  2023  \n",
       "61    2001  \n",
       "115   2002  \n",
       "835   2010  "
      ]
     },
     "execution_count": 123,
     "metadata": {},
     "output_type": "execute_result"
    }
   ],
   "source": [
    "df[['title', 'rating', 'rating_count', 'year']].sort_values(by='rating', ascending=False).head(10)"
   ]
  },
  {
   "cell_type": "code",
   "execution_count": 124,
   "id": "f82e364e",
   "metadata": {},
   "outputs": [
    {
     "data": {
      "application/vnd.plotly.v1+json": {
       "config": {
        "plotlyServerURL": "https://plot.ly"
       },
       "data": [
        {
         "alignmentgroup": "True",
         "hovertemplate": "title=%{x}<br>rating=%{y}<extra></extra>",
         "legendgroup": "",
         "marker": {
          "color": "#636efa",
          "pattern": {
           "shape": ""
          }
         },
         "name": "",
         "offsetgroup": "",
         "orientation": "v",
         "showlegend": false,
         "textposition": "auto",
         "type": "bar",
         "x": [
          " The Greatest Night in Pop",
          " Ordinary Angels",
          " Cabrini",
          " Love Lies Bleeding",
          " Dune: Part Two",
          " The Little Mermaid",
          " The Boys in the Boat",
          " Guy Ritchie's the Covenant",
          " Elemental",
          " Sound of Freedom"
         ],
         "xaxis": "x",
         "y": [
          7.9,
          7.8,
          8,
          7.3,
          8.8,
          7.2,
          7,
          7.5,
          7,
          7.7
         ],
         "yaxis": "y"
        }
       ],
       "layout": {
        "barmode": "relative",
        "legend": {
         "tracegroupgap": 0
        },
        "margin": {
         "t": 60
        },
        "template": {
         "data": {
          "bar": [
           {
            "error_x": {
             "color": "#2a3f5f"
            },
            "error_y": {
             "color": "#2a3f5f"
            },
            "marker": {
             "line": {
              "color": "#E5ECF6",
              "width": 0.5
             },
             "pattern": {
              "fillmode": "overlay",
              "size": 10,
              "solidity": 0.2
             }
            },
            "type": "bar"
           }
          ],
          "barpolar": [
           {
            "marker": {
             "line": {
              "color": "#E5ECF6",
              "width": 0.5
             },
             "pattern": {
              "fillmode": "overlay",
              "size": 10,
              "solidity": 0.2
             }
            },
            "type": "barpolar"
           }
          ],
          "carpet": [
           {
            "aaxis": {
             "endlinecolor": "#2a3f5f",
             "gridcolor": "white",
             "linecolor": "white",
             "minorgridcolor": "white",
             "startlinecolor": "#2a3f5f"
            },
            "baxis": {
             "endlinecolor": "#2a3f5f",
             "gridcolor": "white",
             "linecolor": "white",
             "minorgridcolor": "white",
             "startlinecolor": "#2a3f5f"
            },
            "type": "carpet"
           }
          ],
          "choropleth": [
           {
            "colorbar": {
             "outlinewidth": 0,
             "ticks": ""
            },
            "type": "choropleth"
           }
          ],
          "contour": [
           {
            "colorbar": {
             "outlinewidth": 0,
             "ticks": ""
            },
            "colorscale": [
             [
              0,
              "#0d0887"
             ],
             [
              0.1111111111111111,
              "#46039f"
             ],
             [
              0.2222222222222222,
              "#7201a8"
             ],
             [
              0.3333333333333333,
              "#9c179e"
             ],
             [
              0.4444444444444444,
              "#bd3786"
             ],
             [
              0.5555555555555556,
              "#d8576b"
             ],
             [
              0.6666666666666666,
              "#ed7953"
             ],
             [
              0.7777777777777778,
              "#fb9f3a"
             ],
             [
              0.8888888888888888,
              "#fdca26"
             ],
             [
              1,
              "#f0f921"
             ]
            ],
            "type": "contour"
           }
          ],
          "contourcarpet": [
           {
            "colorbar": {
             "outlinewidth": 0,
             "ticks": ""
            },
            "type": "contourcarpet"
           }
          ],
          "heatmap": [
           {
            "colorbar": {
             "outlinewidth": 0,
             "ticks": ""
            },
            "colorscale": [
             [
              0,
              "#0d0887"
             ],
             [
              0.1111111111111111,
              "#46039f"
             ],
             [
              0.2222222222222222,
              "#7201a8"
             ],
             [
              0.3333333333333333,
              "#9c179e"
             ],
             [
              0.4444444444444444,
              "#bd3786"
             ],
             [
              0.5555555555555556,
              "#d8576b"
             ],
             [
              0.6666666666666666,
              "#ed7953"
             ],
             [
              0.7777777777777778,
              "#fb9f3a"
             ],
             [
              0.8888888888888888,
              "#fdca26"
             ],
             [
              1,
              "#f0f921"
             ]
            ],
            "type": "heatmap"
           }
          ],
          "heatmapgl": [
           {
            "colorbar": {
             "outlinewidth": 0,
             "ticks": ""
            },
            "colorscale": [
             [
              0,
              "#0d0887"
             ],
             [
              0.1111111111111111,
              "#46039f"
             ],
             [
              0.2222222222222222,
              "#7201a8"
             ],
             [
              0.3333333333333333,
              "#9c179e"
             ],
             [
              0.4444444444444444,
              "#bd3786"
             ],
             [
              0.5555555555555556,
              "#d8576b"
             ],
             [
              0.6666666666666666,
              "#ed7953"
             ],
             [
              0.7777777777777778,
              "#fb9f3a"
             ],
             [
              0.8888888888888888,
              "#fdca26"
             ],
             [
              1,
              "#f0f921"
             ]
            ],
            "type": "heatmapgl"
           }
          ],
          "histogram": [
           {
            "marker": {
             "pattern": {
              "fillmode": "overlay",
              "size": 10,
              "solidity": 0.2
             }
            },
            "type": "histogram"
           }
          ],
          "histogram2d": [
           {
            "colorbar": {
             "outlinewidth": 0,
             "ticks": ""
            },
            "colorscale": [
             [
              0,
              "#0d0887"
             ],
             [
              0.1111111111111111,
              "#46039f"
             ],
             [
              0.2222222222222222,
              "#7201a8"
             ],
             [
              0.3333333333333333,
              "#9c179e"
             ],
             [
              0.4444444444444444,
              "#bd3786"
             ],
             [
              0.5555555555555556,
              "#d8576b"
             ],
             [
              0.6666666666666666,
              "#ed7953"
             ],
             [
              0.7777777777777778,
              "#fb9f3a"
             ],
             [
              0.8888888888888888,
              "#fdca26"
             ],
             [
              1,
              "#f0f921"
             ]
            ],
            "type": "histogram2d"
           }
          ],
          "histogram2dcontour": [
           {
            "colorbar": {
             "outlinewidth": 0,
             "ticks": ""
            },
            "colorscale": [
             [
              0,
              "#0d0887"
             ],
             [
              0.1111111111111111,
              "#46039f"
             ],
             [
              0.2222222222222222,
              "#7201a8"
             ],
             [
              0.3333333333333333,
              "#9c179e"
             ],
             [
              0.4444444444444444,
              "#bd3786"
             ],
             [
              0.5555555555555556,
              "#d8576b"
             ],
             [
              0.6666666666666666,
              "#ed7953"
             ],
             [
              0.7777777777777778,
              "#fb9f3a"
             ],
             [
              0.8888888888888888,
              "#fdca26"
             ],
             [
              1,
              "#f0f921"
             ]
            ],
            "type": "histogram2dcontour"
           }
          ],
          "mesh3d": [
           {
            "colorbar": {
             "outlinewidth": 0,
             "ticks": ""
            },
            "type": "mesh3d"
           }
          ],
          "parcoords": [
           {
            "line": {
             "colorbar": {
              "outlinewidth": 0,
              "ticks": ""
             }
            },
            "type": "parcoords"
           }
          ],
          "pie": [
           {
            "automargin": true,
            "type": "pie"
           }
          ],
          "scatter": [
           {
            "fillpattern": {
             "fillmode": "overlay",
             "size": 10,
             "solidity": 0.2
            },
            "type": "scatter"
           }
          ],
          "scatter3d": [
           {
            "line": {
             "colorbar": {
              "outlinewidth": 0,
              "ticks": ""
             }
            },
            "marker": {
             "colorbar": {
              "outlinewidth": 0,
              "ticks": ""
             }
            },
            "type": "scatter3d"
           }
          ],
          "scattercarpet": [
           {
            "marker": {
             "colorbar": {
              "outlinewidth": 0,
              "ticks": ""
             }
            },
            "type": "scattercarpet"
           }
          ],
          "scattergeo": [
           {
            "marker": {
             "colorbar": {
              "outlinewidth": 0,
              "ticks": ""
             }
            },
            "type": "scattergeo"
           }
          ],
          "scattergl": [
           {
            "marker": {
             "colorbar": {
              "outlinewidth": 0,
              "ticks": ""
             }
            },
            "type": "scattergl"
           }
          ],
          "scattermapbox": [
           {
            "marker": {
             "colorbar": {
              "outlinewidth": 0,
              "ticks": ""
             }
            },
            "type": "scattermapbox"
           }
          ],
          "scatterpolar": [
           {
            "marker": {
             "colorbar": {
              "outlinewidth": 0,
              "ticks": ""
             }
            },
            "type": "scatterpolar"
           }
          ],
          "scatterpolargl": [
           {
            "marker": {
             "colorbar": {
              "outlinewidth": 0,
              "ticks": ""
             }
            },
            "type": "scatterpolargl"
           }
          ],
          "scatterternary": [
           {
            "marker": {
             "colorbar": {
              "outlinewidth": 0,
              "ticks": ""
             }
            },
            "type": "scatterternary"
           }
          ],
          "surface": [
           {
            "colorbar": {
             "outlinewidth": 0,
             "ticks": ""
            },
            "colorscale": [
             [
              0,
              "#0d0887"
             ],
             [
              0.1111111111111111,
              "#46039f"
             ],
             [
              0.2222222222222222,
              "#7201a8"
             ],
             [
              0.3333333333333333,
              "#9c179e"
             ],
             [
              0.4444444444444444,
              "#bd3786"
             ],
             [
              0.5555555555555556,
              "#d8576b"
             ],
             [
              0.6666666666666666,
              "#ed7953"
             ],
             [
              0.7777777777777778,
              "#fb9f3a"
             ],
             [
              0.8888888888888888,
              "#fdca26"
             ],
             [
              1,
              "#f0f921"
             ]
            ],
            "type": "surface"
           }
          ],
          "table": [
           {
            "cells": {
             "fill": {
              "color": "#EBF0F8"
             },
             "line": {
              "color": "white"
             }
            },
            "header": {
             "fill": {
              "color": "#C8D4E3"
             },
             "line": {
              "color": "white"
             }
            },
            "type": "table"
           }
          ]
         },
         "layout": {
          "annotationdefaults": {
           "arrowcolor": "#2a3f5f",
           "arrowhead": 0,
           "arrowwidth": 1
          },
          "autotypenumbers": "strict",
          "coloraxis": {
           "colorbar": {
            "outlinewidth": 0,
            "ticks": ""
           }
          },
          "colorscale": {
           "diverging": [
            [
             0,
             "#8e0152"
            ],
            [
             0.1,
             "#c51b7d"
            ],
            [
             0.2,
             "#de77ae"
            ],
            [
             0.3,
             "#f1b6da"
            ],
            [
             0.4,
             "#fde0ef"
            ],
            [
             0.5,
             "#f7f7f7"
            ],
            [
             0.6,
             "#e6f5d0"
            ],
            [
             0.7,
             "#b8e186"
            ],
            [
             0.8,
             "#7fbc41"
            ],
            [
             0.9,
             "#4d9221"
            ],
            [
             1,
             "#276419"
            ]
           ],
           "sequential": [
            [
             0,
             "#0d0887"
            ],
            [
             0.1111111111111111,
             "#46039f"
            ],
            [
             0.2222222222222222,
             "#7201a8"
            ],
            [
             0.3333333333333333,
             "#9c179e"
            ],
            [
             0.4444444444444444,
             "#bd3786"
            ],
            [
             0.5555555555555556,
             "#d8576b"
            ],
            [
             0.6666666666666666,
             "#ed7953"
            ],
            [
             0.7777777777777778,
             "#fb9f3a"
            ],
            [
             0.8888888888888888,
             "#fdca26"
            ],
            [
             1,
             "#f0f921"
            ]
           ],
           "sequentialminus": [
            [
             0,
             "#0d0887"
            ],
            [
             0.1111111111111111,
             "#46039f"
            ],
            [
             0.2222222222222222,
             "#7201a8"
            ],
            [
             0.3333333333333333,
             "#9c179e"
            ],
            [
             0.4444444444444444,
             "#bd3786"
            ],
            [
             0.5555555555555556,
             "#d8576b"
            ],
            [
             0.6666666666666666,
             "#ed7953"
            ],
            [
             0.7777777777777778,
             "#fb9f3a"
            ],
            [
             0.8888888888888888,
             "#fdca26"
            ],
            [
             1,
             "#f0f921"
            ]
           ]
          },
          "colorway": [
           "#636efa",
           "#EF553B",
           "#00cc96",
           "#ab63fa",
           "#FFA15A",
           "#19d3f3",
           "#FF6692",
           "#B6E880",
           "#FF97FF",
           "#FECB52"
          ],
          "font": {
           "color": "#2a3f5f"
          },
          "geo": {
           "bgcolor": "white",
           "lakecolor": "white",
           "landcolor": "#E5ECF6",
           "showlakes": true,
           "showland": true,
           "subunitcolor": "white"
          },
          "hoverlabel": {
           "align": "left"
          },
          "hovermode": "closest",
          "mapbox": {
           "style": "light"
          },
          "paper_bgcolor": "white",
          "plot_bgcolor": "#E5ECF6",
          "polar": {
           "angularaxis": {
            "gridcolor": "white",
            "linecolor": "white",
            "ticks": ""
           },
           "bgcolor": "#E5ECF6",
           "radialaxis": {
            "gridcolor": "white",
            "linecolor": "white",
            "ticks": ""
           }
          },
          "scene": {
           "xaxis": {
            "backgroundcolor": "#E5ECF6",
            "gridcolor": "white",
            "gridwidth": 2,
            "linecolor": "white",
            "showbackground": true,
            "ticks": "",
            "zerolinecolor": "white"
           },
           "yaxis": {
            "backgroundcolor": "#E5ECF6",
            "gridcolor": "white",
            "gridwidth": 2,
            "linecolor": "white",
            "showbackground": true,
            "ticks": "",
            "zerolinecolor": "white"
           },
           "zaxis": {
            "backgroundcolor": "#E5ECF6",
            "gridcolor": "white",
            "gridwidth": 2,
            "linecolor": "white",
            "showbackground": true,
            "ticks": "",
            "zerolinecolor": "white"
           }
          },
          "shapedefaults": {
           "line": {
            "color": "#2a3f5f"
           }
          },
          "ternary": {
           "aaxis": {
            "gridcolor": "white",
            "linecolor": "white",
            "ticks": ""
           },
           "baxis": {
            "gridcolor": "white",
            "linecolor": "white",
            "ticks": ""
           },
           "bgcolor": "#E5ECF6",
           "caxis": {
            "gridcolor": "white",
            "linecolor": "white",
            "ticks": ""
           }
          },
          "title": {
           "x": 0.05
          },
          "xaxis": {
           "automargin": true,
           "gridcolor": "white",
           "linecolor": "white",
           "ticks": "",
           "title": {
            "standoff": 15
           },
           "zerolinecolor": "white",
           "zerolinewidth": 2
          },
          "yaxis": {
           "automargin": true,
           "gridcolor": "white",
           "linecolor": "white",
           "ticks": "",
           "title": {
            "standoff": 15
           },
           "zerolinecolor": "white",
           "zerolinewidth": 2
          }
         }
        },
        "xaxis": {
         "anchor": "y",
         "domain": [
          0,
          1
         ],
         "title": {
          "text": "title"
         }
        },
        "yaxis": {
         "anchor": "x",
         "domain": [
          0,
          1
         ],
         "title": {
          "text": "rating"
         }
        }
       }
      }
     },
     "metadata": {},
     "output_type": "display_data"
    }
   ],
   "source": [
    "fig = px.bar(df[['title', 'rating', 'year']].sort_values(by='year', ascending=False).head(10), x='title', y='rating')\n",
    "fig.show()"
   ]
  },
  {
   "cell_type": "code",
   "execution_count": 125,
   "id": "2d3c23e0",
   "metadata": {},
   "outputs": [
    {
     "data": {
      "text/plain": [
       "array(['[Action, Adventure, Drama]', '[Mystery, Thriller]',\n",
       "       '[Comedy, Crime]', '[Crime, Drama, Horror]',\n",
       "       '[Action, Drama, History]', '[Drama]', '[Crime, Drama, Thriller]',\n",
       "       '[Biography, Drama]', '[Action, Adventure, Sci-Fi]',\n",
       "       '[Drama, Romance, War]', '[Biography, Drama, Sport]',\n",
       "       '[Adventure, Comedy, Drama]', '[Adventure, Drama, Romance]',\n",
       "       '[Adventure, Comedy, Crime]', '[Animation, Adventure, Comedy]',\n",
       "       '[Drama, Mystery, Sci-Fi]', '[Drama, Romance]', '[Comedy]',\n",
       "       '[Comedy, Drama, Music]', '[Action, Horror, Sci-Fi]',\n",
       "       '[Crime, Drama, Mystery]', '[Crime, Drama, Musical]',\n",
       "       '[Comedy, Drama]', '[Drama, History, Thriller]',\n",
       "       '[Animation, Action, Drama]', '[Biography, Drama, Romance]',\n",
       "       '[Comedy, Drama, Family]', '[Documentary, History]',\n",
       "       '[Comedy, Drama, Romance]', '[Documentary, History, Romance]',\n",
       "       '[Adventure, Family, Fantasy]', '[Crime, Thriller]',\n",
       "       '[Biography, Drama, Mystery]', '[Drama, Mystery, Thriller]',\n",
       "       '[Drama, Musical, Romance]', '[Action, Adventure, Romance]',\n",
       "       '[Adventure, Drama, Sci-Fi]', '[Horror, Mystery, Thriller]',\n",
       "       '[Comedy, Crime, Mystery]', '[Comedy, Drama, Mystery]',\n",
       "       '[Biography, Crime, Drama]', '[Action, Drama, War]',\n",
       "       '[Action, Crime, Thriller]', '[Crime, Drama]',\n",
       "       '[Animation, Drama, Fantasy]', '[Drama, Musical, Sport]',\n",
       "       '[Drama, History, War]', '[Documentary]',\n",
       "       '[Biography, Drama, Music]', '[Horror, Mystery]',\n",
       "       '[Comedy, Crime, Musical]', '[Action, Crime, Mystery]',\n",
       "       '[Action, Mystery, Thriller]', '[Drama, Music]',\n",
       "       '[Animation, Adventure, Family]', '[Action, Drama, Sci-Fi]',\n",
       "       '[Biography, Comedy, Crime]', '[Animation, Adventure, Drama]',\n",
       "       '[Documentary, Crime, Drama]', '[Action, Crime, Drama]',\n",
       "       '[Drama, Romance, Thriller]', '[Crime, Drama, Romance]',\n",
       "       '[Documentary, Music]', '[Action, Adventure, Fantasy]',\n",
       "       '[Action, Drama]', '[Comedy, Music]',\n",
       "       '[Adventure, Drama, Fantasy]', '[Action, Sci-Fi, Thriller]',\n",
       "       '[Action, Fantasy, Thriller]', '[Action, Sci-Fi]',\n",
       "       '[Action, Drama, Romance]', '[Adventure, Comedy, Family]',\n",
       "       '[Comedy, Crime, Drama]', '[Drama, History, Sport]',\n",
       "       '[Documentary, Adventure, Drama]', '[Drama, History]',\n",
       "       '[Drama, Romance, Sci-Fi]', '[Drama, Sci-Fi, Thriller]',\n",
       "       '[Animation, Action, Adventure]', '[Action, Horror]',\n",
       "       '[Drama, Sport]', '[Drama, Thriller]', '[Action, Mystery, Sci-Fi]',\n",
       "       '[Action, Comedy, Fantasy]', '[Adventure, Comedy]',\n",
       "       '[Action, Comedy]', '[Biography, Drama, History]',\n",
       "       '[Action, Drama, Sport]', '[Biography, Drama, Family]',\n",
       "       '[Drama, Mystery, Romance]', '[Adventure, Biography, Drama]',\n",
       "       '[Comedy, Drama, Fantasy]', '[Documentary, Drama, War]',\n",
       "       '[Drama, Musical]', '[Documentary, Biography, News]',\n",
       "       '[Documentary, Sport]', '[Comedy, Romance]',\n",
       "       '[Action, Fantasy, Horror]', '[Crime, Drama, Sport]',\n",
       "       '[Biography, Drama, War]', '[Animation, Drama, Family]',\n",
       "       '[Documentary, Biography]', '[Crime, Drama, Music]',\n",
       "       '[Drama, Fantasy, Mystery]', '[Comedy, Family, Romance]',\n",
       "       '[Adventure, Crime, Drama]', '[Documentary, Biography, History]',\n",
       "       '[Documentary, History, War]', '[Documentary, Drama]',\n",
       "       '[Action, Adventure, Thriller]', '[Adventure, Drama, Thriller]',\n",
       "       '[Crime, Drama, Fantasy]', '[Action, Crime, Sci-Fi]',\n",
       "       '[Animation, Comedy, Crime]', '[Drama, Family]',\n",
       "       '[Adventure, Biography, War]', '[Adventure, Drama, Family]',\n",
       "       '[Drama, Family, Romance]', '[Action, Biography, Drama]',\n",
       "       '[Drama, Romance, Sport]', '[Documentary, Action, Comedy]',\n",
       "       '[Documentary, Crime]', '[Animation, Fantasy]',\n",
       "       '[Action, Adventure, Crime]', '[Documentary, History, Music]',\n",
       "       '[Documentary, Horror]', '[Documentary, Biography, Music]',\n",
       "       '[Documentary, War]', '[Documentary, Biography, Comedy]',\n",
       "       '[Documentary, Sci-Fi]', '[Action, Adventure, Family]',\n",
       "       '[Action, Comedy, Mystery]', '[Horror, Sci-Fi, Thriller]',\n",
       "       '[Drama, Family, Fantasy]', '[Action, Drama, Horror]',\n",
       "       '[Drama, Horror, Musical]', '[Action, Drama, Thriller]',\n",
       "       '[Action, Comedy, Horror]', '[Action, Horror, Thriller]',\n",
       "       '[Drama, History, Romance]', '[Action, Thriller]',\n",
       "       '[Biography, Comedy, Drama]', '[Drama, Fantasy, History]',\n",
       "       '[Drama, Horror, Mystery]', '[Drama, Music, Romance]',\n",
       "       '[Animation, Biography, Drama]', '[Adventure, Drama]',\n",
       "       '[Action, Adventure, Comedy]', '[Drama, Family, Sport]',\n",
       "       '[Documentary, Crime, History]', '[Biography, History, War]',\n",
       "       '[Documentary, Animation, History]', '[Documentary, Romance]',\n",
       "       '[Comedy, Romance, Sport]', '[Documentary, Comedy]',\n",
       "       '[Documentary, Family, Mystery]', '[Documentary, Music, War]',\n",
       "       '[Action, Comedy, War]', '[Drama, War]',\n",
       "       '[Drama, Fantasy, Romance]', '[Drama, Thriller, War]',\n",
       "       '[Drama, Mystery]', '[Documentary, Biography, Crime]',\n",
       "       '[Documentary, Animation, Biography]', '[Documentary, News]',\n",
       "       '[Documentary, Comedy, War]', '[Documentary, Biography, Sport]',\n",
       "       '[Animation, Comedy, Fantasy]', '[Documentary, Crime, War]',\n",
       "       '[Animation, Comedy, Drama]', '[Documentary, History, News]',\n",
       "       '[Documentary, Adventure, Sport]', '[Adventure, Drama, War]',\n",
       "       '[Action, Drama, Mystery]', '[Action, Adventure, Mystery]',\n",
       "       '[Action, Biography, Crime]', '[Drama, Fantasy, Horror]',\n",
       "       '[Documentary, Biography, Drama]', '[Documentary, Drama, History]',\n",
       "       '[Action, Comedy, Crime]', '[Drama, Western]', '[Comedy, Horror]',\n",
       "       '[Adventure, Drama, History]', '[Documentary, Drama, Mystery]',\n",
       "       '[Documentary, Drama, Sport]', '[Documentary, Biography, Fantasy]',\n",
       "       '[Documentary, Biography, Mystery]', '[Action, Fantasy]',\n",
       "       '[Comedy, Fantasy, Romance]', '[Sci-Fi, Thriller]',\n",
       "       '[Drama, Horror, Sci-Fi]', '[Comedy, Crime, Thriller]',\n",
       "       '[Comedy, Drama, Sport]', '[Horror]', '[Comedy, Drama, Musical]',\n",
       "       '[Documentary, Drama, Family]', '[Documentary, Family]',\n",
       "       '[Documentary, Adventure]', '[Documentary, Comedy, Music]',\n",
       "       '[Documentary, Comedy, Drama]', '[Documentary, Drama, Musical]',\n",
       "       '[Documentary, Action, Sport]', '[Adventure, Mystery, Sci-Fi]',\n",
       "       '[Adventure, Fantasy]', '[Comedy, Music, Romance]',\n",
       "       '[Biography, Drama, Thriller]', '[Animation, Family, Fantasy]',\n",
       "       '[Comedy, Music, Sci-Fi]', '[Animation, Crime, Music]',\n",
       "       '[Documentary, Musical]', '[Crime, Mystery, Thriller]',\n",
       "       '[Action, Adventure, Horror]', '[Music]',\n",
       "       '[Documentary, Action, History]',\n",
       "       '[Documentary, Adventure, Biography]', '[Horror, Thriller]',\n",
       "       '[Musical]', '[Documentary, Adventure, History]',\n",
       "       '[Animation, Drama]', '[Documentary, Animation, Comedy]',\n",
       "       '[Documentary, Biography, Family]', '[Documentary, Music, News]',\n",
       "       '[Documentary, Drama, News]', '[Documentary, Family, History]',\n",
       "       '[Documentary, Action]', '[Documentary, Comedy, History]',\n",
       "       '[Drama, Horror, Western]', '[Action, Adventure, Biography]',\n",
       "       '[Adventure, Biography, Comedy]',\n",
       "       '[Documentary, Adventure, Western]',\n",
       "       '[Documentary, Adventure, News]',\n",
       "       '[Documentary, Action, Biography]', '[Animation, Comedy, Family]',\n",
       "       '[Biography, Family, Sport]', '[Action, History, Thriller]',\n",
       "       '[Documentary, Animation]', '[Documentary, Animation, Crime]',\n",
       "       '[Documentary, History, Sport]',\n",
       "       '[Documentary, Adventure, Family]',\n",
       "       '[Documentary, Biography, War]',\n",
       "       '[Documentary, Action, Adventure]', '[Biography, Drama, Musical]',\n",
       "       '[Adventure, Biography, Crime]', '[Comedy, Drama, History]',\n",
       "       '[Animation, Drama, Mystery]', '[Crime, Drama, History]',\n",
       "       '[Comedy, Drama, Western]', '[Documentary, Animation, Mystery]',\n",
       "       '[Documentary, Mystery]', '[Comedy, Drama, Horror]',\n",
       "       '[Animation, Action, Fantasy]', '[Music, Sci-Fi]',\n",
       "       '[Documentary, Comedy, Musical]', '[Action, Crime]',\n",
       "       '[Comedy, Drama, War]', '[Documentary, Crime, Music]',\n",
       "       '[Documentary, Crime, Mystery]', '[Crime, History]',\n",
       "       '[Documentary, News, War]', '[Documentary, Crime, Sport]',\n",
       "       '[Drama, History, Mystery]', '[Comedy, Fantasy, Mystery]',\n",
       "       '[Action, Biography, Comedy]', '[Documentary, Drama, Music]',\n",
       "       '[Documentary, Music, Musical]', '[Documentary, Crime, Thriller]',\n",
       "       '[Adventure, Comedy, Fantasy]', '[Comedy, Drama, Sci-Fi]',\n",
       "       '[Action, Drama, Western]', '[Documentary, Action, Mystery]',\n",
       "       '[Animation, Action, Crime]', '[Action, Comedy, Thriller]',\n",
       "       '[Comedy, Horror, Thriller]', '[Drama, Horror, Thriller]',\n",
       "       '[Animation, Comedy, Music]', '[Animation, Comedy, Sci-Fi]',\n",
       "       '[Animation]', '[Thriller]', '[Animation, Crime, Horror]'],\n",
       "      dtype=object)"
      ]
     },
     "execution_count": 125,
     "metadata": {},
     "output_type": "execute_result"
    }
   ],
   "source": [
    "df['genre'].unique()"
   ]
  },
  {
   "cell_type": "code",
   "execution_count": 126,
   "id": "cbb7d562",
   "metadata": {},
   "outputs": [
    {
     "name": "stdout",
     "output_type": "stream",
     "text": [
      "0       [Action, Adventure, Drama]\n",
      "1              [Mystery, Thriller]\n",
      "2                  [Comedy, Crime]\n",
      "3           [Crime, Drama, Horror]\n",
      "4         [Action, Drama, History]\n",
      "                   ...            \n",
      "2395    [Action, Adventure, Drama]\n",
      "2396    [Action, Adventure, Crime]\n",
      "2397            [Biography, Drama]\n",
      "2398                       [Drama]\n",
      "2399          [Documentary, Music]\n",
      "Name: genre, Length: 2200, dtype: object\n"
     ]
    }
   ],
   "source": [
    "print(df['genre'])"
   ]
  },
  {
   "cell_type": "code",
   "execution_count": 127,
   "id": "e752217f",
   "metadata": {},
   "outputs": [
    {
     "data": {
      "text/plain": [
       "genre\n",
       "[Documentary]                        293\n",
       "[Drama]                              127\n",
       "[Documentary, Biography]              77\n",
       "[Documentary, Music]                  70\n",
       "[Comedy, Drama]                       63\n",
       "[Animation, Adventure, Comedy]        56\n",
       "[Comedy, Drama, Romance]              52\n",
       "[Drama, Romance]                      51\n",
       "[Documentary, Biography, Music]       45\n",
       "[Documentary, Biography, History]     41\n",
       "Name: count, dtype: int64"
      ]
     },
     "execution_count": 127,
     "metadata": {},
     "output_type": "execute_result"
    }
   ],
   "source": [
    "genre_counts = df['genre'].value_counts().sort_values(ascending=False).head(10)\n",
    "genre_counts"
   ]
  },
  {
   "cell_type": "code",
   "execution_count": 128,
   "id": "24dc5a69",
   "metadata": {},
   "outputs": [
    {
     "data": {
      "application/vnd.plotly.v1+json": {
       "config": {
        "plotlyServerURL": "https://plot.ly"
       },
       "data": [
        {
         "domain": {
          "x": [
           0,
           1
          ],
          "y": [
           0,
           1
          ]
         },
         "hovertemplate": "genre=%{label}<br>value=%{value}<extra></extra>",
         "labels": [
          "[Documentary]",
          "[Drama]",
          "[Documentary, Biography]",
          "[Documentary, Music]",
          "[Comedy, Drama]",
          "[Animation, Adventure, Comedy]",
          "[Comedy, Drama, Romance]",
          "[Drama, Romance]",
          "[Documentary, Biography, Music]",
          "[Documentary, Biography, History]"
         ],
         "legendgroup": "",
         "name": "",
         "showlegend": true,
         "type": "pie",
         "values": [
          293,
          127,
          77,
          70,
          63,
          56,
          52,
          51,
          45,
          41
         ]
        }
       ],
       "layout": {
        "legend": {
         "tracegroupgap": 0
        },
        "template": {
         "data": {
          "bar": [
           {
            "error_x": {
             "color": "#2a3f5f"
            },
            "error_y": {
             "color": "#2a3f5f"
            },
            "marker": {
             "line": {
              "color": "#E5ECF6",
              "width": 0.5
             },
             "pattern": {
              "fillmode": "overlay",
              "size": 10,
              "solidity": 0.2
             }
            },
            "type": "bar"
           }
          ],
          "barpolar": [
           {
            "marker": {
             "line": {
              "color": "#E5ECF6",
              "width": 0.5
             },
             "pattern": {
              "fillmode": "overlay",
              "size": 10,
              "solidity": 0.2
             }
            },
            "type": "barpolar"
           }
          ],
          "carpet": [
           {
            "aaxis": {
             "endlinecolor": "#2a3f5f",
             "gridcolor": "white",
             "linecolor": "white",
             "minorgridcolor": "white",
             "startlinecolor": "#2a3f5f"
            },
            "baxis": {
             "endlinecolor": "#2a3f5f",
             "gridcolor": "white",
             "linecolor": "white",
             "minorgridcolor": "white",
             "startlinecolor": "#2a3f5f"
            },
            "type": "carpet"
           }
          ],
          "choropleth": [
           {
            "colorbar": {
             "outlinewidth": 0,
             "ticks": ""
            },
            "type": "choropleth"
           }
          ],
          "contour": [
           {
            "colorbar": {
             "outlinewidth": 0,
             "ticks": ""
            },
            "colorscale": [
             [
              0,
              "#0d0887"
             ],
             [
              0.1111111111111111,
              "#46039f"
             ],
             [
              0.2222222222222222,
              "#7201a8"
             ],
             [
              0.3333333333333333,
              "#9c179e"
             ],
             [
              0.4444444444444444,
              "#bd3786"
             ],
             [
              0.5555555555555556,
              "#d8576b"
             ],
             [
              0.6666666666666666,
              "#ed7953"
             ],
             [
              0.7777777777777778,
              "#fb9f3a"
             ],
             [
              0.8888888888888888,
              "#fdca26"
             ],
             [
              1,
              "#f0f921"
             ]
            ],
            "type": "contour"
           }
          ],
          "contourcarpet": [
           {
            "colorbar": {
             "outlinewidth": 0,
             "ticks": ""
            },
            "type": "contourcarpet"
           }
          ],
          "heatmap": [
           {
            "colorbar": {
             "outlinewidth": 0,
             "ticks": ""
            },
            "colorscale": [
             [
              0,
              "#0d0887"
             ],
             [
              0.1111111111111111,
              "#46039f"
             ],
             [
              0.2222222222222222,
              "#7201a8"
             ],
             [
              0.3333333333333333,
              "#9c179e"
             ],
             [
              0.4444444444444444,
              "#bd3786"
             ],
             [
              0.5555555555555556,
              "#d8576b"
             ],
             [
              0.6666666666666666,
              "#ed7953"
             ],
             [
              0.7777777777777778,
              "#fb9f3a"
             ],
             [
              0.8888888888888888,
              "#fdca26"
             ],
             [
              1,
              "#f0f921"
             ]
            ],
            "type": "heatmap"
           }
          ],
          "heatmapgl": [
           {
            "colorbar": {
             "outlinewidth": 0,
             "ticks": ""
            },
            "colorscale": [
             [
              0,
              "#0d0887"
             ],
             [
              0.1111111111111111,
              "#46039f"
             ],
             [
              0.2222222222222222,
              "#7201a8"
             ],
             [
              0.3333333333333333,
              "#9c179e"
             ],
             [
              0.4444444444444444,
              "#bd3786"
             ],
             [
              0.5555555555555556,
              "#d8576b"
             ],
             [
              0.6666666666666666,
              "#ed7953"
             ],
             [
              0.7777777777777778,
              "#fb9f3a"
             ],
             [
              0.8888888888888888,
              "#fdca26"
             ],
             [
              1,
              "#f0f921"
             ]
            ],
            "type": "heatmapgl"
           }
          ],
          "histogram": [
           {
            "marker": {
             "pattern": {
              "fillmode": "overlay",
              "size": 10,
              "solidity": 0.2
             }
            },
            "type": "histogram"
           }
          ],
          "histogram2d": [
           {
            "colorbar": {
             "outlinewidth": 0,
             "ticks": ""
            },
            "colorscale": [
             [
              0,
              "#0d0887"
             ],
             [
              0.1111111111111111,
              "#46039f"
             ],
             [
              0.2222222222222222,
              "#7201a8"
             ],
             [
              0.3333333333333333,
              "#9c179e"
             ],
             [
              0.4444444444444444,
              "#bd3786"
             ],
             [
              0.5555555555555556,
              "#d8576b"
             ],
             [
              0.6666666666666666,
              "#ed7953"
             ],
             [
              0.7777777777777778,
              "#fb9f3a"
             ],
             [
              0.8888888888888888,
              "#fdca26"
             ],
             [
              1,
              "#f0f921"
             ]
            ],
            "type": "histogram2d"
           }
          ],
          "histogram2dcontour": [
           {
            "colorbar": {
             "outlinewidth": 0,
             "ticks": ""
            },
            "colorscale": [
             [
              0,
              "#0d0887"
             ],
             [
              0.1111111111111111,
              "#46039f"
             ],
             [
              0.2222222222222222,
              "#7201a8"
             ],
             [
              0.3333333333333333,
              "#9c179e"
             ],
             [
              0.4444444444444444,
              "#bd3786"
             ],
             [
              0.5555555555555556,
              "#d8576b"
             ],
             [
              0.6666666666666666,
              "#ed7953"
             ],
             [
              0.7777777777777778,
              "#fb9f3a"
             ],
             [
              0.8888888888888888,
              "#fdca26"
             ],
             [
              1,
              "#f0f921"
             ]
            ],
            "type": "histogram2dcontour"
           }
          ],
          "mesh3d": [
           {
            "colorbar": {
             "outlinewidth": 0,
             "ticks": ""
            },
            "type": "mesh3d"
           }
          ],
          "parcoords": [
           {
            "line": {
             "colorbar": {
              "outlinewidth": 0,
              "ticks": ""
             }
            },
            "type": "parcoords"
           }
          ],
          "pie": [
           {
            "automargin": true,
            "type": "pie"
           }
          ],
          "scatter": [
           {
            "fillpattern": {
             "fillmode": "overlay",
             "size": 10,
             "solidity": 0.2
            },
            "type": "scatter"
           }
          ],
          "scatter3d": [
           {
            "line": {
             "colorbar": {
              "outlinewidth": 0,
              "ticks": ""
             }
            },
            "marker": {
             "colorbar": {
              "outlinewidth": 0,
              "ticks": ""
             }
            },
            "type": "scatter3d"
           }
          ],
          "scattercarpet": [
           {
            "marker": {
             "colorbar": {
              "outlinewidth": 0,
              "ticks": ""
             }
            },
            "type": "scattercarpet"
           }
          ],
          "scattergeo": [
           {
            "marker": {
             "colorbar": {
              "outlinewidth": 0,
              "ticks": ""
             }
            },
            "type": "scattergeo"
           }
          ],
          "scattergl": [
           {
            "marker": {
             "colorbar": {
              "outlinewidth": 0,
              "ticks": ""
             }
            },
            "type": "scattergl"
           }
          ],
          "scattermapbox": [
           {
            "marker": {
             "colorbar": {
              "outlinewidth": 0,
              "ticks": ""
             }
            },
            "type": "scattermapbox"
           }
          ],
          "scatterpolar": [
           {
            "marker": {
             "colorbar": {
              "outlinewidth": 0,
              "ticks": ""
             }
            },
            "type": "scatterpolar"
           }
          ],
          "scatterpolargl": [
           {
            "marker": {
             "colorbar": {
              "outlinewidth": 0,
              "ticks": ""
             }
            },
            "type": "scatterpolargl"
           }
          ],
          "scatterternary": [
           {
            "marker": {
             "colorbar": {
              "outlinewidth": 0,
              "ticks": ""
             }
            },
            "type": "scatterternary"
           }
          ],
          "surface": [
           {
            "colorbar": {
             "outlinewidth": 0,
             "ticks": ""
            },
            "colorscale": [
             [
              0,
              "#0d0887"
             ],
             [
              0.1111111111111111,
              "#46039f"
             ],
             [
              0.2222222222222222,
              "#7201a8"
             ],
             [
              0.3333333333333333,
              "#9c179e"
             ],
             [
              0.4444444444444444,
              "#bd3786"
             ],
             [
              0.5555555555555556,
              "#d8576b"
             ],
             [
              0.6666666666666666,
              "#ed7953"
             ],
             [
              0.7777777777777778,
              "#fb9f3a"
             ],
             [
              0.8888888888888888,
              "#fdca26"
             ],
             [
              1,
              "#f0f921"
             ]
            ],
            "type": "surface"
           }
          ],
          "table": [
           {
            "cells": {
             "fill": {
              "color": "#EBF0F8"
             },
             "line": {
              "color": "white"
             }
            },
            "header": {
             "fill": {
              "color": "#C8D4E3"
             },
             "line": {
              "color": "white"
             }
            },
            "type": "table"
           }
          ]
         },
         "layout": {
          "annotationdefaults": {
           "arrowcolor": "#2a3f5f",
           "arrowhead": 0,
           "arrowwidth": 1
          },
          "autotypenumbers": "strict",
          "coloraxis": {
           "colorbar": {
            "outlinewidth": 0,
            "ticks": ""
           }
          },
          "colorscale": {
           "diverging": [
            [
             0,
             "#8e0152"
            ],
            [
             0.1,
             "#c51b7d"
            ],
            [
             0.2,
             "#de77ae"
            ],
            [
             0.3,
             "#f1b6da"
            ],
            [
             0.4,
             "#fde0ef"
            ],
            [
             0.5,
             "#f7f7f7"
            ],
            [
             0.6,
             "#e6f5d0"
            ],
            [
             0.7,
             "#b8e186"
            ],
            [
             0.8,
             "#7fbc41"
            ],
            [
             0.9,
             "#4d9221"
            ],
            [
             1,
             "#276419"
            ]
           ],
           "sequential": [
            [
             0,
             "#0d0887"
            ],
            [
             0.1111111111111111,
             "#46039f"
            ],
            [
             0.2222222222222222,
             "#7201a8"
            ],
            [
             0.3333333333333333,
             "#9c179e"
            ],
            [
             0.4444444444444444,
             "#bd3786"
            ],
            [
             0.5555555555555556,
             "#d8576b"
            ],
            [
             0.6666666666666666,
             "#ed7953"
            ],
            [
             0.7777777777777778,
             "#fb9f3a"
            ],
            [
             0.8888888888888888,
             "#fdca26"
            ],
            [
             1,
             "#f0f921"
            ]
           ],
           "sequentialminus": [
            [
             0,
             "#0d0887"
            ],
            [
             0.1111111111111111,
             "#46039f"
            ],
            [
             0.2222222222222222,
             "#7201a8"
            ],
            [
             0.3333333333333333,
             "#9c179e"
            ],
            [
             0.4444444444444444,
             "#bd3786"
            ],
            [
             0.5555555555555556,
             "#d8576b"
            ],
            [
             0.6666666666666666,
             "#ed7953"
            ],
            [
             0.7777777777777778,
             "#fb9f3a"
            ],
            [
             0.8888888888888888,
             "#fdca26"
            ],
            [
             1,
             "#f0f921"
            ]
           ]
          },
          "colorway": [
           "#636efa",
           "#EF553B",
           "#00cc96",
           "#ab63fa",
           "#FFA15A",
           "#19d3f3",
           "#FF6692",
           "#B6E880",
           "#FF97FF",
           "#FECB52"
          ],
          "font": {
           "color": "#2a3f5f"
          },
          "geo": {
           "bgcolor": "white",
           "lakecolor": "white",
           "landcolor": "#E5ECF6",
           "showlakes": true,
           "showland": true,
           "subunitcolor": "white"
          },
          "hoverlabel": {
           "align": "left"
          },
          "hovermode": "closest",
          "mapbox": {
           "style": "light"
          },
          "paper_bgcolor": "white",
          "plot_bgcolor": "#E5ECF6",
          "polar": {
           "angularaxis": {
            "gridcolor": "white",
            "linecolor": "white",
            "ticks": ""
           },
           "bgcolor": "#E5ECF6",
           "radialaxis": {
            "gridcolor": "white",
            "linecolor": "white",
            "ticks": ""
           }
          },
          "scene": {
           "xaxis": {
            "backgroundcolor": "#E5ECF6",
            "gridcolor": "white",
            "gridwidth": 2,
            "linecolor": "white",
            "showbackground": true,
            "ticks": "",
            "zerolinecolor": "white"
           },
           "yaxis": {
            "backgroundcolor": "#E5ECF6",
            "gridcolor": "white",
            "gridwidth": 2,
            "linecolor": "white",
            "showbackground": true,
            "ticks": "",
            "zerolinecolor": "white"
           },
           "zaxis": {
            "backgroundcolor": "#E5ECF6",
            "gridcolor": "white",
            "gridwidth": 2,
            "linecolor": "white",
            "showbackground": true,
            "ticks": "",
            "zerolinecolor": "white"
           }
          },
          "shapedefaults": {
           "line": {
            "color": "#2a3f5f"
           }
          },
          "ternary": {
           "aaxis": {
            "gridcolor": "white",
            "linecolor": "white",
            "ticks": ""
           },
           "baxis": {
            "gridcolor": "white",
            "linecolor": "white",
            "ticks": ""
           },
           "bgcolor": "#E5ECF6",
           "caxis": {
            "gridcolor": "white",
            "linecolor": "white",
            "ticks": ""
           }
          },
          "title": {
           "x": 0.05
          },
          "xaxis": {
           "automargin": true,
           "gridcolor": "white",
           "linecolor": "white",
           "ticks": "",
           "title": {
            "standoff": 15
           },
           "zerolinecolor": "white",
           "zerolinewidth": 2
          },
          "yaxis": {
           "automargin": true,
           "gridcolor": "white",
           "linecolor": "white",
           "ticks": "",
           "title": {
            "standoff": 15
           },
           "zerolinecolor": "white",
           "zerolinewidth": 2
          }
         }
        },
        "title": {
         "text": "Distribution of Genre(s)"
        }
       }
      }
     },
     "metadata": {},
     "output_type": "display_data"
    }
   ],
   "source": [
    "fig = px.pie(genre_counts, values=genre_counts, names=genre_counts.index, title='Distribution of Genre(s)')\n",
    "fig.show()"
   ]
  },
  {
   "cell_type": "code",
   "execution_count": 129,
   "id": "e2ef3a3f",
   "metadata": {
    "colab": {
     "base_uri": "https://localhost:8080/"
    },
    "id": "e2ef3a3f",
    "outputId": "3c517b9a-c530-4afd-ad25-201116abcb6b"
   },
   "outputs": [
    {
     "data": {
      "text/plain": [
       "count     2200.000000\n",
       "mean       673.843636\n",
       "std        998.463406\n",
       "min          5.000000\n",
       "25%         27.000000\n",
       "50%        244.000000\n",
       "75%        987.000000\n",
       "max      11396.000000\n",
       "Name: word_count, dtype: float64"
      ]
     },
     "execution_count": 129,
     "metadata": {},
     "output_type": "execute_result"
    }
   ],
   "source": [
    "#word_count\n",
    "def word_count(review):\n",
    "    review= str(review)\n",
    "    review_list = review.split()\n",
    "    return len(review_list)\n",
    "\n",
    "df['word_count'] = df['plot'].apply(word_count)\n",
    "df['word_count'].describe()"
   ]
  },
  {
   "cell_type": "markdown",
   "id": "636fa4bc",
   "metadata": {
    "id": "636fa4bc"
   },
   "source": [
    "# Corpus Build"
   ]
  },
  {
   "cell_type": "code",
   "execution_count": 130,
   "id": "7286b5f9",
   "metadata": {
    "id": "7286b5f9"
   },
   "outputs": [],
   "source": [
    "def corpus(text):\n",
    "    text_str=str(text)\n",
    "    text_list = text_str.split()\n",
    "    return text_list"
   ]
  },
  {
   "cell_type": "code",
   "execution_count": 131,
   "id": "0f73cf95",
   "metadata": {},
   "outputs": [],
   "source": [
    "df['corp_list'] = df['processed_plot'].apply(corpus)"
   ]
  },
  {
   "cell_type": "code",
   "execution_count": 132,
   "id": "7f2a35b4",
   "metadata": {},
   "outputs": [
    {
     "data": {
      "text/plain": [
       "0    [shouting, rom, invicta, force, attack, genera...\n",
       "1    [leonard, shelby, guy, pearce, man, whose, sho...\n",
       "2    [stealing, carat, g, diamond, heist, antwerp, ...\n",
       "3    [white, background, red, drop, begin, fall, pa...\n",
       "4    [benjamin, martin, mel, gibson, veteran, frenc...\n",
       "Name: corp_list, dtype: object"
      ]
     },
     "execution_count": 132,
     "metadata": {},
     "output_type": "execute_result"
    }
   ],
   "source": [
    "df['corp_list'].head()"
   ]
  },
  {
   "cell_type": "code",
   "execution_count": 133,
   "id": "e4fcb258",
   "metadata": {
    "colab": {
     "base_uri": "https://localhost:8080/"
    },
    "id": "e4fcb258",
    "outputId": "50910713-e999-4ea8-d63c-9e4bd7637cc3"
   },
   "outputs": [
    {
     "data": {
      "text/plain": [
       "['shouting',\n",
       " 'rom',\n",
       " 'invicta',\n",
       " 'force',\n",
       " 'attack',\n",
       " 'general',\n",
       " 'maximus',\n",
       " 'decimus',\n",
       " 'meridius',\n",
       " 'russell',\n",
       " 'crowe',\n",
       " 'lead',\n",
       " 'roman',\n",
       " 'army',\n",
       " 'victory',\n",
       " 'germanic',\n",
       " 'barbarian',\n",
       " 'year',\n",
       " 'ad',\n",
       " 'ending',\n",
       " 'prolonged',\n",
       " 'war',\n",
       " 'earning',\n",
       " 'esteem',\n",
       " 'elderly',\n",
       " 'emperor',\n",
       " 'marcus',\n",
       " 'aurelius',\n",
       " 'although',\n",
       " 'dying',\n",
       " 'aurelius',\n",
       " 'son',\n",
       " 'commodus',\n",
       " 'joaquin',\n",
       " 'phoenix',\n",
       " 'decides',\n",
       " 'appoint',\n",
       " 'temporary',\n",
       " 'leadership',\n",
       " 'morallyupstanding',\n",
       " 'maximus',\n",
       " 'desire',\n",
       " 'eventually',\n",
       " 'return',\n",
       " 'power',\n",
       " 'roman',\n",
       " 'senate',\n",
       " 'aurelius',\n",
       " 'informs',\n",
       " 'maximus',\n",
       " 'offer',\n",
       " 'time',\n",
       " 'consider',\n",
       " 'informing',\n",
       " 'commodus',\n",
       " 'bout',\n",
       " 'jealousy',\n",
       " 'murder',\n",
       " 'fatherdeclaring',\n",
       " 'emperor',\n",
       " 'commodus',\n",
       " 'asks',\n",
       " 'maximus',\n",
       " 'loyalty',\n",
       " 'maximus',\n",
       " 'realizing',\n",
       " 'commodus',\n",
       " 'involvement',\n",
       " 'emperor',\n",
       " 'death',\n",
       " 'refuse',\n",
       " 'commodus',\n",
       " 'order',\n",
       " 'maximus',\n",
       " 'execution',\n",
       " 'dispatch',\n",
       " 'praetorian',\n",
       " 'guard',\n",
       " 'murder',\n",
       " 'maximus',\n",
       " 'wife',\n",
       " 'son',\n",
       " 'maximus',\n",
       " 'narrowly',\n",
       " 'escape',\n",
       " 'execution',\n",
       " 'race',\n",
       " 'home',\n",
       " 'discover',\n",
       " 'family',\n",
       " 'charred',\n",
       " 'crucified',\n",
       " 'body',\n",
       " 'smoldering',\n",
       " 'ruin',\n",
       " 'villa',\n",
       " 'burying',\n",
       " 'wife',\n",
       " 'son',\n",
       " 'grieving',\n",
       " 'maximus',\n",
       " 'succumbs',\n",
       " 'exhaustion',\n",
       " 'collapse',\n",
       " 'gravesslave',\n",
       " 'trader',\n",
       " 'find',\n",
       " 'maximus',\n",
       " 'take',\n",
       " 'zucchabar',\n",
       " 'rugged',\n",
       " 'province',\n",
       " 'north',\n",
       " 'africa',\n",
       " 'purchased',\n",
       " 'proximo',\n",
       " 'head',\n",
       " 'local',\n",
       " 'gladiator',\n",
       " 'school',\n",
       " 'distraught',\n",
       " 'nihilistic',\n",
       " 'death',\n",
       " 'family',\n",
       " 'betrayal',\n",
       " 'empire',\n",
       " 'maximus',\n",
       " 'initially',\n",
       " 'refuse',\n",
       " 'fight',\n",
       " 'defends',\n",
       " 'arena',\n",
       " 'formidable',\n",
       " 'combat',\n",
       " 'skill',\n",
       " 'lead',\n",
       " 'rise',\n",
       " 'popularity',\n",
       " 'audience',\n",
       " 'train',\n",
       " 'fight',\n",
       " 'maximus',\n",
       " 'befriends',\n",
       " 'hagen',\n",
       " 'germanic',\n",
       " 'barbarian',\n",
       " 'juba',\n",
       " 'numidian',\n",
       " 'hunter',\n",
       " 'latter',\n",
       " 'becoming',\n",
       " 'close',\n",
       " 'friend',\n",
       " 'confidant',\n",
       " 'grieving',\n",
       " 'maximus',\n",
       " 'two',\n",
       " 'speaking',\n",
       " 'frequently',\n",
       " 'afterlife',\n",
       " 'maximus',\n",
       " 'eventual',\n",
       " 'reunification',\n",
       " 'familyin',\n",
       " 'rome',\n",
       " 'commodus',\n",
       " 'reopens',\n",
       " 'gladiatorial',\n",
       " 'game',\n",
       " 'commemorate',\n",
       " 'father',\n",
       " 'death',\n",
       " 'proximos',\n",
       " 'company',\n",
       " 'gladiator',\n",
       " 'hired',\n",
       " 'participate',\n",
       " 'recreation',\n",
       " 'battle',\n",
       " 'zama',\n",
       " 'incorrectly',\n",
       " 'named',\n",
       " 'battle',\n",
       " 'carthage',\n",
       " 'colosseum',\n",
       " 'maximus',\n",
       " 'lead',\n",
       " 'proximos',\n",
       " 'gladiator',\n",
       " 'decisive',\n",
       " 'victory',\n",
       " 'powerful',\n",
       " 'force',\n",
       " 'much',\n",
       " 'amazement',\n",
       " 'crowd',\n",
       " 'commodus',\n",
       " 'descends',\n",
       " 'arena',\n",
       " 'meet',\n",
       " 'victor',\n",
       " 'stunned',\n",
       " 'discover',\n",
       " 'maximus',\n",
       " 'leader',\n",
       " 'proximos',\n",
       " 'gladiator',\n",
       " 'emperor',\n",
       " 'unable',\n",
       " 'kill',\n",
       " 'maximus',\n",
       " 'crowd',\n",
       " 'roaring',\n",
       " 'approval',\n",
       " 'sulk',\n",
       " 'arenaas',\n",
       " 'game',\n",
       " 'continue',\n",
       " 'commodus',\n",
       " 'pit',\n",
       " 'maximus',\n",
       " 'tigris',\n",
       " 'gaul',\n",
       " 'rome',\n",
       " 'undefeated',\n",
       " 'gladiator',\n",
       " 'arena',\n",
       " 'surrounded',\n",
       " 'chained',\n",
       " 'tiger',\n",
       " 'handler',\n",
       " 'instructed',\n",
       " 'target',\n",
       " 'maximus',\n",
       " 'following',\n",
       " 'intense',\n",
       " 'battle',\n",
       " 'maximus',\n",
       " 'narrowly',\n",
       " 'defeat',\n",
       " 'tigris',\n",
       " 'awaits',\n",
       " 'commodus',\n",
       " 'decision',\n",
       " 'kill',\n",
       " 'spare',\n",
       " 'tigris',\n",
       " 'commodus',\n",
       " 'vote',\n",
       " 'death',\n",
       " 'maximus',\n",
       " 'spare',\n",
       " 'tigris',\n",
       " 'deliberately',\n",
       " 'insulting',\n",
       " 'emperor',\n",
       " 'garnering',\n",
       " 'audience',\n",
       " 'approval',\n",
       " 'bitter',\n",
       " 'enemy',\n",
       " 'known',\n",
       " 'maximus',\n",
       " 'merciful',\n",
       " 'commodus',\n",
       " 'becomes',\n",
       " 'frustrated',\n",
       " 'inability',\n",
       " 'kill',\n",
       " 'maximus',\n",
       " 'stop',\n",
       " 'ascending',\n",
       " 'popularity',\n",
       " 'commodus',\n",
       " 'popularity',\n",
       " 'shrinksfollowing',\n",
       " 'fight',\n",
       " 'maximus',\n",
       " 'meet',\n",
       " 'former',\n",
       " 'servant',\n",
       " 'cicero',\n",
       " 'reveals',\n",
       " 'maximuss',\n",
       " 'army',\n",
       " 'remains',\n",
       " 'loyal',\n",
       " 'camped',\n",
       " 'port',\n",
       " 'ostia',\n",
       " 'maximus',\n",
       " 'form',\n",
       " 'plot',\n",
       " 'lucilla',\n",
       " 'commodus',\n",
       " 'sister',\n",
       " 'senator',\n",
       " 'gracchus',\n",
       " 'reunite',\n",
       " 'maximus',\n",
       " 'army',\n",
       " 'overthrow',\n",
       " 'commodus',\n",
       " 'commodus',\n",
       " 'however',\n",
       " 'suspecting',\n",
       " 'sister',\n",
       " 'betrayal',\n",
       " 'threatens',\n",
       " 'young',\n",
       " 'son',\n",
       " 'force',\n",
       " 'reveal',\n",
       " 'plot',\n",
       " 'praetorian',\n",
       " 'guard',\n",
       " 'immediately',\n",
       " 'storm',\n",
       " 'proximos',\n",
       " 'gladiator',\n",
       " 'barrack',\n",
       " 'battling',\n",
       " 'gladiator',\n",
       " 'maximus',\n",
       " 'escape',\n",
       " 'hagen',\n",
       " 'proximo',\n",
       " 'killed',\n",
       " 'siege',\n",
       " 'juba',\n",
       " 'survivor',\n",
       " 'imprisoned',\n",
       " 'maximus',\n",
       " 'escape',\n",
       " 'city',\n",
       " 'wall',\n",
       " 'witness',\n",
       " 'cicero',\n",
       " 'death',\n",
       " 'ambushed',\n",
       " 'legion',\n",
       " 'praetorian',\n",
       " 'guardsconcluding',\n",
       " 'legend',\n",
       " 'born',\n",
       " 'colosseum',\n",
       " 'must',\n",
       " 'die',\n",
       " 'commodus',\n",
       " 'personally',\n",
       " 'challenge',\n",
       " 'maximus',\n",
       " 'duel',\n",
       " 'front',\n",
       " 'roaring',\n",
       " 'audience',\n",
       " 'acknowledging',\n",
       " 'maximus',\n",
       " 'skill',\n",
       " 'exceeds',\n",
       " 'commodus',\n",
       " 'deliberately',\n",
       " 'stab',\n",
       " 'maximus',\n",
       " 'stiletto',\n",
       " 'puncturing',\n",
       " 'lung',\n",
       " 'wound',\n",
       " 'concealed',\n",
       " 'beneath',\n",
       " 'gladiator',\n",
       " 'armor',\n",
       " 'arena',\n",
       " 'two',\n",
       " 'exchange',\n",
       " 'blow',\n",
       " 'maximus',\n",
       " 'rip',\n",
       " 'sword',\n",
       " 'commoduss',\n",
       " 'hand',\n",
       " 'commodus',\n",
       " 'request',\n",
       " 'sword',\n",
       " 'guard',\n",
       " 'betray',\n",
       " 'refuse',\n",
       " 'lend',\n",
       " 'weapon',\n",
       " 'maximus',\n",
       " 'drop',\n",
       " 'sword',\n",
       " 'commodus',\n",
       " 'pull',\n",
       " 'hidden',\n",
       " 'stiletto',\n",
       " 'renews',\n",
       " 'attack',\n",
       " 'maximus',\n",
       " 'beat',\n",
       " 'commodus',\n",
       " 'submission',\n",
       " 'kill',\n",
       " 'stilettoas',\n",
       " 'commodus',\n",
       " 'collapse',\n",
       " 'nowsilent',\n",
       " 'colosseum',\n",
       " 'dying',\n",
       " 'maximus',\n",
       " 'begin',\n",
       " 'seeing',\n",
       " 'wife',\n",
       " 'son',\n",
       " 'afterlife',\n",
       " 'reach',\n",
       " 'pulled',\n",
       " 'back',\n",
       " 'reality',\n",
       " 'praetorian',\n",
       " 'prefect',\n",
       " 'quintus',\n",
       " 'asks',\n",
       " 'instruction',\n",
       " 'maximus',\n",
       " 'order',\n",
       " 'release',\n",
       " 'proximos',\n",
       " 'gladiator',\n",
       " 'senator',\n",
       " 'gracchus',\n",
       " 'reinstates',\n",
       " 'instructs',\n",
       " 'return',\n",
       " 'rome',\n",
       " 'senatebased',\n",
       " 'governmentmaximus',\n",
       " 'collapse',\n",
       " 'lucilla',\n",
       " 'rush',\n",
       " 'aid',\n",
       " 'reassured',\n",
       " 'son',\n",
       " 'safe',\n",
       " 'commodus',\n",
       " 'dead',\n",
       " 'maximus',\n",
       " 'dy',\n",
       " 'wanders',\n",
       " 'afterlife',\n",
       " 'family',\n",
       " 'distance',\n",
       " 'senator',\n",
       " 'gracchus',\n",
       " 'proximos',\n",
       " 'gladiator',\n",
       " 'carry',\n",
       " 'body',\n",
       " 'colosseum',\n",
       " 'night',\n",
       " 'newly',\n",
       " 'freed',\n",
       " 'juba',\n",
       " 'buries',\n",
       " 'maximus',\n",
       " 'two',\n",
       " 'small',\n",
       " 'statue',\n",
       " 'wife',\n",
       " 'son',\n",
       " 'colosseum',\n",
       " 'say',\n",
       " 'eventually',\n",
       " 'join',\n",
       " 'yet']"
      ]
     },
     "execution_count": 133,
     "metadata": {},
     "output_type": "execute_result"
    }
   ],
   "source": [
    "\n",
    "corpus(df['processed_plot'][0])"
   ]
  },
  {
   "cell_type": "code",
   "execution_count": 134,
   "id": "2b1cca53",
   "metadata": {
    "colab": {
     "base_uri": "https://localhost:8080/"
    },
    "id": "2b1cca53",
    "outputId": "52360ca2-8c63-48d4-cb96-d501a4105983"
   },
   "outputs": [
    {
     "data": {
      "text/plain": [
       "0    [shouting, rom, invicta, force, attack, genera...\n",
       "1    [leonard, shelby, guy, pearce, man, whose, sho...\n",
       "2    [stealing, carat, g, diamond, heist, antwerp, ...\n",
       "3    [white, background, red, drop, begin, fall, pa...\n",
       "4    [benjamin, martin, mel, gibson, veteran, frenc...\n",
       "Name: review_list, dtype: object"
      ]
     },
     "execution_count": 134,
     "metadata": {},
     "output_type": "execute_result"
    }
   ],
   "source": [
    "df['review_list'] = df['processed_plot'].apply(corpus)\n",
    "df['review_list'][:5]"
   ]
  },
  {
   "cell_type": "code",
   "execution_count": 135,
   "id": "49b9e5eb",
   "metadata": {},
   "outputs": [
    {
     "data": {
      "text/plain": [
       "(2200, 17)"
      ]
     },
     "execution_count": 135,
     "metadata": {},
     "output_type": "execute_result"
    }
   ],
   "source": [
    "df.shape"
   ]
  },
  {
   "cell_type": "code",
   "execution_count": 137,
   "id": "ef907973",
   "metadata": {},
   "outputs": [
    {
     "data": {
      "text/plain": [
       "2200"
      ]
     },
     "execution_count": 137,
     "metadata": {},
     "output_type": "execute_result"
    }
   ],
   "source": [
    "len(df['corp_list'])"
   ]
  },
  {
   "cell_type": "code",
   "execution_count": 139,
   "id": "d90cbfe5",
   "metadata": {},
   "outputs": [],
   "source": [
    "df = df.reset_index(drop=True)"
   ]
  },
  {
   "cell_type": "code",
   "execution_count": 140,
   "id": "f0bc22fa",
   "metadata": {
    "colab": {
     "base_uri": "https://localhost:8080/"
    },
    "id": "f0bc22fa",
    "outputId": "f4232f5f-0b5c-46ff-ec35-6bff6a7920da"
   },
   "outputs": [
    {
     "name": "stderr",
     "output_type": "stream",
     "text": [
      "100%|█████████████████████████████████████████████████████████████████████████████████████████████████████████| 2200/2200 [00:00<00:00, 208487.96it/s]\n"
     ]
    },
    {
     "data": {
      "text/plain": [
       "809418"
      ]
     },
     "execution_count": 140,
     "metadata": {},
     "output_type": "execute_result"
    }
   ],
   "source": [
    "from tqdm import trange\n",
    "corpus = []\n",
    "for i in trange(df.shape[0],ncols=150):\n",
    "    corpus+=df['corp_list'][i]\n",
    "len(corpus)\n"
   ]
  },
  {
   "cell_type": "code",
   "execution_count": 142,
   "id": "b34f96d2",
   "metadata": {
    "colab": {
     "base_uri": "https://localhost:8080/"
    },
    "id": "b34f96d2",
    "outputId": "20fccab7-7b26-480a-9c7d-8ae77ebdba5b"
   },
   "outputs": [
    {
     "data": {
      "text/plain": [
       "[('tell', 4853),\n",
       " ('go', 4089),\n",
       " ('get', 3675),\n",
       " ('one', 3503),\n",
       " ('take', 3214),\n",
       " ('back', 3101),\n",
       " ('find', 3094),\n",
       " ('say', 3046),\n",
       " ('see', 2849),\n",
       " ('time', 2349)]"
      ]
     },
     "execution_count": 142,
     "metadata": {},
     "output_type": "execute_result"
    }
   ],
   "source": [
    "from collections import Counter\n",
    "\n",
    "\n",
    "mostCommon = Counter(corpus).most_common(10)\n",
    "mostCommon"
   ]
  },
  {
   "cell_type": "code",
   "execution_count": 143,
   "id": "e4926ad7",
   "metadata": {
    "id": "e4926ad7"
   },
   "outputs": [],
   "source": [
    "words = []\n",
    "freq = []\n",
    "for word, count in mostCommon:\n",
    "    words.append(word)\n",
    "    freq.append(count)"
   ]
  },
  {
   "cell_type": "code",
   "execution_count": 144,
   "id": "dcc5db68",
   "metadata": {
    "colab": {
     "base_uri": "https://localhost:8080/",
     "height": 452
    },
    "id": "dcc5db68",
    "outputId": "17db364d-bcdc-416f-8ad3-23314a563454"
   },
   "outputs": [
    {
     "name": "stderr",
     "output_type": "stream",
     "text": [
      "/Users/hemantrajsingh/anaconda3/lib/python3.11/site-packages/seaborn/_oldcore.py:1765: FutureWarning:\n",
      "\n",
      "unique with argument that is not not a Series, Index, ExtensionArray, or np.ndarray is deprecated and will raise in a future version.\n",
      "\n"
     ]
    },
    {
     "data": {
      "image/png": "[encoded data removed]",
      "text/plain": [
       "<Figure size 640x480 with 1 Axes>"
      ]
     },
     "metadata": {},
     "output_type": "display_data"
    }
   ],
   "source": [
    "sns.barplot(x=freq, y=words)\n",
    "plt.title('Top 10 Most Frequently Occuring Words')\n",
    "plt.show()"
   ]
  },
  {
   "cell_type": "markdown",
   "id": "d8ae2085",
   "metadata": {
    "id": "d8ae2085"
   },
   "source": [
    "# ngramns"
   ]
  },
  {
   "cell_type": "code",
   "execution_count": 145,
   "id": "6fa6de88",
   "metadata": {
    "id": "6fa6de88"
   },
   "outputs": [],
   "source": [
    "cv = CountVectorizer(ngram_range=(2,2))\n",
    "bigrams = cv.fit_transform(df['processed_plot'])\n"
   ]
  },
  {
   "cell_type": "code",
   "execution_count": 146,
   "id": "fd54be41",
   "metadata": {
    "id": "fd54be41"
   },
   "outputs": [],
   "source": [
    "count_values = bigrams.toarray().sum(axis=0)\n",
    "ngram_freq = pd.DataFrame(sorted([(count_values[i], k) for k, i in cv.vocabulary_.items()], reverse = True))\n",
    "ngram_freq.columns = [\"frequency\", \"ngram\"]"
   ]
  },
  {
   "cell_type": "code",
   "execution_count": 147,
   "id": "77999d98",
   "metadata": {
    "colab": {
     "base_uri": "https://localhost:8080/",
     "height": 472
    },
    "id": "77999d98",
    "outputId": "17ef3ed4-70ab-4c3b-ee16-5159e79bb05a"
   },
   "outputs": [
    {
     "data": {
      "image/png": "[encoded data removed]",
      "text/plain": [
       "<Figure size 640x480 with 1 Axes>"
      ]
     },
     "metadata": {},
     "output_type": "display_data"
    }
   ],
   "source": [
    "sns.barplot(x=ngram_freq['frequency'][:10], y=ngram_freq['ngram'][:10])\n",
    "plt.title('Top 10 Most Frequently Occuring Bigrams')\n",
    "plt.show()"
   ]
  },
  {
   "cell_type": "code",
   "execution_count": 149,
   "id": "SPL232QU90fI",
   "metadata": {
    "id": "SPL232QU90fI"
   },
   "outputs": [],
   "source": [
    "cv1 = CountVectorizer(ngram_range=(3,3))\n",
    "trigrams = cv1.fit_transform(df['processed_plot'])\n",
    "count_values = trigrams.toarray().sum(axis=0)\n",
    "ngram_freq = pd.DataFrame(sorted([(count_values[i], k) for k, i in cv1.vocabulary_.items()], reverse = True))\n",
    "ngram_freq.columns = [\"frequency\", \"ngram\"]"
   ]
  },
  {
   "cell_type": "code",
   "execution_count": 150,
   "id": "MOTfzDPn-Xtj",
   "metadata": {
    "colab": {
     "base_uri": "https://localhost:8080/",
     "height": 472
    },
    "id": "MOTfzDPn-Xtj",
    "outputId": "ba074aa2-d032-4baf-bdef-c3be4f603b03"
   },
   "outputs": [
    {
     "data": {
      "image/png": "[encoded data removed]",
      "text/plain": [
       "<Figure size 640x480 with 1 Axes>"
      ]
     },
     "metadata": {},
     "output_type": "display_data"
    }
   ],
   "source": [
    "sns.barplot(x=ngram_freq['frequency'][:10], y=ngram_freq['ngram'][:10])\n",
    "plt.title('Top 10 Most Frequently Occuring Trigrams')\n",
    "plt.show()"
   ]
  }
 ],
 "metadata": {
  "colab": {
   "include_colab_link": true,
   "provenance": []
  },
  "kernelspec": {
   "display_name": "Python 3 (ipykernel)",
   "language": "python",
   "name": "python3"
  },
  "language_info": {
   "codemirror_mode": {
    "name": "ipython",
    "version": 3
   },
   "file_extension": ".py",
   "mimetype": "text/x-python",
   "name": "python",
   "nbconvert_exporter": "python",
   "pygments_lexer": "ipython3",
   "version": "3.11.5"
  }
 },
 "nbformat": 4,
 "nbformat_minor": 5
}
