{
 "cells": [
  {
   "cell_type": "code",
   "execution_count": 1,
   "id": "e8fa4e3a-d1f9-46d1-af9b-1e41a3a9d1bc",
   "metadata": {},
   "outputs": [],
   "source": [
    "import pandas as pd\n",
    "import numpy as np\n",
    "import matplotlib.pyplot as plt\n",
    "import seaborn as sns\n",
    "import plotly.express as px\n",
    "from wordcloud import WordCloud\n",
    "\n",
    "import re\n",
    "import nltk\n",
    "from nltk.corpus import stopwords\n",
    "from nltk.tokenize import word_tokenize\n",
    "# import string library for text preprocessing\n",
    "import string\n",
    "\n",
    "from nltk.stem import WordNetLemmatizer\n",
    "from sklearn.feature_extraction.text import CountVectorizer\n",
    "from sklearn.feature_extraction.text import TfidfTransformer\n",
    "from sklearn.feature_extraction.text import TfidfVectorizer\n",
    "from sklearn.cluster import KMeans"
   ]
  },
  {
   "cell_type": "code",
   "execution_count": 2,
   "id": "886c645c-b312-418f-b0f5-64007a56d5dd",
   "metadata": {},
   "outputs": [],
   "source": [
    "df = pd.read_csv('../data/raw/movies_dataset_2000_2023.csv')"
   ]
  },
  {
   "cell_type": "code",
   "execution_count": 3,
   "id": "2836fc08-d04f-4e73-998d-a61934792c73",
   "metadata": {},
   "outputs": [
    {
     "data": {
      "text/html": [
       "<div>\n",
       "<style scoped>\n",
       "    .dataframe tbody tr th:only-of-type {\n",
       "        vertical-align: middle;\n",
       "    }\n",
       "\n",
       "    .dataframe tbody tr th {\n",
       "        vertical-align: top;\n",
       "    }\n",
       "\n",
       "    .dataframe thead th {\n",
       "        text-align: right;\n",
       "    }\n",
       "</style>\n",
       "<table border=\"1\" class=\"dataframe\">\n",
       "  <thead>\n",
       "    <tr style=\"text-align: right;\">\n",
       "      <th></th>\n",
       "      <th>Unnamed: 0.1</th>\n",
       "      <th>Movie Title</th>\n",
       "      <th>Plot Summary</th>\n",
       "      <th>Cover Image</th>\n",
       "      <th>Year</th>\n",
       "      <th>Source</th>\n",
       "      <th>Rated</th>\n",
       "      <th>omdb Year</th>\n",
       "      <th>omdb Title</th>\n",
       "      <th>Released</th>\n",
       "      <th>...</th>\n",
       "      <th>Actors</th>\n",
       "      <th>Plot</th>\n",
       "      <th>Language</th>\n",
       "      <th>Country</th>\n",
       "      <th>Awards</th>\n",
       "      <th>Poster</th>\n",
       "      <th>Ratings</th>\n",
       "      <th>imdbRating</th>\n",
       "      <th>BoxOffice</th>\n",
       "      <th>imdbID</th>\n",
       "    </tr>\n",
       "  </thead>\n",
       "  <tbody>\n",
       "    <tr>\n",
       "      <th>0</th>\n",
       "      <td>0.0</td>\n",
       "      <td>The Extreme Adventures of Super Dave</td>\n",
       "      <td>After the kind-hearted but clumsy Super Dave O...</td>\n",
       "      <td>NaN</td>\n",
       "      <td>2000</td>\n",
       "      <td>https://en.wikipedia.org//wiki/The_Extreme_Adv...</td>\n",
       "      <td>PG</td>\n",
       "      <td>2000</td>\n",
       "      <td>The Extreme Adventures of Super Dave</td>\n",
       "      <td>11 Jan 2000</td>\n",
       "      <td>...</td>\n",
       "      <td>Bob Einstein, Dan Hedaya, Gia Carides, Don Lake</td>\n",
       "      <td>Super Dave Osborne, our accident-prone stuntma...</td>\n",
       "      <td>English</td>\n",
       "      <td>USA</td>\n",
       "      <td>NaN</td>\n",
       "      <td>https://m.media-amazon.com/images/M/MV5BNTk2ND...</td>\n",
       "      <td>{'Source': 'Internet Movie Database', 'Value':...</td>\n",
       "      <td>5.1</td>\n",
       "      <td>NaN</td>\n",
       "      <td>tt0144096</td>\n",
       "    </tr>\n",
       "    <tr>\n",
       "      <th>1</th>\n",
       "      <td>1.0</td>\n",
       "      <td>Next Friday</td>\n",
       "      <td>After finding out Deebo escaped prison to get ...</td>\n",
       "      <td>upload.wikimedia.org/wikipedia/en/e/e2/Next_Fr...</td>\n",
       "      <td>2000</td>\n",
       "      <td>https://en.wikipedia.org//wiki/Next_Friday</td>\n",
       "      <td>R</td>\n",
       "      <td>2000</td>\n",
       "      <td>Next Friday</td>\n",
       "      <td>12 Jan 2000</td>\n",
       "      <td>...</td>\n",
       "      <td>Ice Cube, Mike Epps, Justin Pierce</td>\n",
       "      <td>A streetwise man flees South Central Los Angel...</td>\n",
       "      <td>English, Spanish</td>\n",
       "      <td>United States</td>\n",
       "      <td>2 nominations</td>\n",
       "      <td>https://m.media-amazon.com/images/M/MV5BZTg4NT...</td>\n",
       "      <td>[{'Source': 'Internet Movie Database', 'Value'...</td>\n",
       "      <td>6.1</td>\n",
       "      <td>$57,328,603</td>\n",
       "      <td>tt0195945</td>\n",
       "    </tr>\n",
       "    <tr>\n",
       "      <th>2</th>\n",
       "      <td>2.0</td>\n",
       "      <td>Play It to the Bone</td>\n",
       "      <td>Aging prizefighters and longtime best friends ...</td>\n",
       "      <td>upload.wikimedia.org/wikipedia/en/thumb/5/5d/P...</td>\n",
       "      <td>2000</td>\n",
       "      <td>https://en.wikipedia.org//wiki/Play_It_to_the_...</td>\n",
       "      <td>R</td>\n",
       "      <td>1999</td>\n",
       "      <td>Play It to the Bone</td>\n",
       "      <td>21 Jan 2000</td>\n",
       "      <td>...</td>\n",
       "      <td>Woody Harrelson, Antonio Banderas, Lolita Davi...</td>\n",
       "      <td>Two best friends and former middleweight conte...</td>\n",
       "      <td>English</td>\n",
       "      <td>United States</td>\n",
       "      <td>NaN</td>\n",
       "      <td>https://m.media-amazon.com/images/M/MV5BMTM2Nj...</td>\n",
       "      <td>[{'Source': 'Internet Movie Database', 'Value'...</td>\n",
       "      <td>5.5</td>\n",
       "      <td>$8,434,146</td>\n",
       "      <td>tt0196857</td>\n",
       "    </tr>\n",
       "    <tr>\n",
       "      <th>3</th>\n",
       "      <td>3.0</td>\n",
       "      <td>Supernova (2000 film)</td>\n",
       "      <td>Supernova chronicles the search-and-rescue pat...</td>\n",
       "      <td>upload.wikimedia.org/wikipedia/en/thumb/0/0a/S...</td>\n",
       "      <td>2000</td>\n",
       "      <td>https://en.wikipedia.org//wiki/Supernova_(2000...</td>\n",
       "      <td>PG-13</td>\n",
       "      <td>2000</td>\n",
       "      <td>Supernova</td>\n",
       "      <td>14 Jan 2000</td>\n",
       "      <td>...</td>\n",
       "      <td>James Spader, Peter Facinelli, Robin Tunney</td>\n",
       "      <td>A deep space rescue and recovery spaceship wit...</td>\n",
       "      <td>English</td>\n",
       "      <td>United States</td>\n",
       "      <td>NaN</td>\n",
       "      <td>https://m.media-amazon.com/images/M/MV5BMzRjYT...</td>\n",
       "      <td>[{'Source': 'Internet Movie Database', 'Value'...</td>\n",
       "      <td>4.8</td>\n",
       "      <td>$14,230,455</td>\n",
       "      <td>tt0134983</td>\n",
       "    </tr>\n",
       "    <tr>\n",
       "      <th>4</th>\n",
       "      <td>4.0</td>\n",
       "      <td>The Boondock Saints</td>\n",
       "      <td>In Boston, Irish American fraternal twin broth...</td>\n",
       "      <td>upload.wikimedia.org/wikipedia/en/thumb/1/1b/T...</td>\n",
       "      <td>2000</td>\n",
       "      <td>https://en.wikipedia.org//wiki/The_Boondock_Sa...</td>\n",
       "      <td>R</td>\n",
       "      <td>1999</td>\n",
       "      <td>The Boondock Saints</td>\n",
       "      <td>21 Jan 2000</td>\n",
       "      <td>...</td>\n",
       "      <td>Willem Dafoe, Sean Patrick Flanery, Norman Reedus</td>\n",
       "      <td>Two Irish Catholic brothers become vigilantes ...</td>\n",
       "      <td>English, Spanish, Papiamento, Russian, Latin</td>\n",
       "      <td>United States, Canada</td>\n",
       "      <td>NaN</td>\n",
       "      <td>https://m.media-amazon.com/images/M/MV5BNTliMT...</td>\n",
       "      <td>[{'Source': 'Internet Movie Database', 'Value'...</td>\n",
       "      <td>7.7</td>\n",
       "      <td>$30,471</td>\n",
       "      <td>tt0144117</td>\n",
       "    </tr>\n",
       "  </tbody>\n",
       "</table>\n",
       "<p>5 rows × 24 columns</p>\n",
       "</div>"
      ],
      "text/plain": [
       "   Unnamed: 0.1                           Movie Title  \\\n",
       "0           0.0  The Extreme Adventures of Super Dave   \n",
       "1           1.0                           Next Friday   \n",
       "2           2.0                   Play It to the Bone   \n",
       "3           3.0                 Supernova (2000 film)   \n",
       "4           4.0                   The Boondock Saints   \n",
       "\n",
       "                                        Plot Summary  \\\n",
       "0  After the kind-hearted but clumsy Super Dave O...   \n",
       "1  After finding out Deebo escaped prison to get ...   \n",
       "2  Aging prizefighters and longtime best friends ...   \n",
       "3  Supernova chronicles the search-and-rescue pat...   \n",
       "4  In Boston, Irish American fraternal twin broth...   \n",
       "\n",
       "                                         Cover Image  Year  \\\n",
       "0                                                NaN  2000   \n",
       "1  upload.wikimedia.org/wikipedia/en/e/e2/Next_Fr...  2000   \n",
       "2  upload.wikimedia.org/wikipedia/en/thumb/5/5d/P...  2000   \n",
       "3  upload.wikimedia.org/wikipedia/en/thumb/0/0a/S...  2000   \n",
       "4  upload.wikimedia.org/wikipedia/en/thumb/1/1b/T...  2000   \n",
       "\n",
       "                                              Source  Rated omdb Year  \\\n",
       "0  https://en.wikipedia.org//wiki/The_Extreme_Adv...     PG      2000   \n",
       "1         https://en.wikipedia.org//wiki/Next_Friday      R      2000   \n",
       "2  https://en.wikipedia.org//wiki/Play_It_to_the_...      R      1999   \n",
       "3  https://en.wikipedia.org//wiki/Supernova_(2000...  PG-13      2000   \n",
       "4  https://en.wikipedia.org//wiki/The_Boondock_Sa...      R      1999   \n",
       "\n",
       "                             omdb Title     Released  ...  \\\n",
       "0  The Extreme Adventures of Super Dave  11 Jan 2000  ...   \n",
       "1                           Next Friday  12 Jan 2000  ...   \n",
       "2                   Play It to the Bone  21 Jan 2000  ...   \n",
       "3                             Supernova  14 Jan 2000  ...   \n",
       "4                   The Boondock Saints  21 Jan 2000  ...   \n",
       "\n",
       "                                              Actors  \\\n",
       "0    Bob Einstein, Dan Hedaya, Gia Carides, Don Lake   \n",
       "1                 Ice Cube, Mike Epps, Justin Pierce   \n",
       "2  Woody Harrelson, Antonio Banderas, Lolita Davi...   \n",
       "3        James Spader, Peter Facinelli, Robin Tunney   \n",
       "4  Willem Dafoe, Sean Patrick Flanery, Norman Reedus   \n",
       "\n",
       "                                                Plot  \\\n",
       "0  Super Dave Osborne, our accident-prone stuntma...   \n",
       "1  A streetwise man flees South Central Los Angel...   \n",
       "2  Two best friends and former middleweight conte...   \n",
       "3  A deep space rescue and recovery spaceship wit...   \n",
       "4  Two Irish Catholic brothers become vigilantes ...   \n",
       "\n",
       "                                       Language                Country  \\\n",
       "0                                       English                    USA   \n",
       "1                              English, Spanish          United States   \n",
       "2                                       English          United States   \n",
       "3                                       English          United States   \n",
       "4  English, Spanish, Papiamento, Russian, Latin  United States, Canada   \n",
       "\n",
       "          Awards                                             Poster  \\\n",
       "0            NaN  https://m.media-amazon.com/images/M/MV5BNTk2ND...   \n",
       "1  2 nominations  https://m.media-amazon.com/images/M/MV5BZTg4NT...   \n",
       "2            NaN  https://m.media-amazon.com/images/M/MV5BMTM2Nj...   \n",
       "3            NaN  https://m.media-amazon.com/images/M/MV5BMzRjYT...   \n",
       "4            NaN  https://m.media-amazon.com/images/M/MV5BNTliMT...   \n",
       "\n",
       "                                             Ratings imdbRating    BoxOffice  \\\n",
       "0  {'Source': 'Internet Movie Database', 'Value':...        5.1          NaN   \n",
       "1  [{'Source': 'Internet Movie Database', 'Value'...        6.1  $57,328,603   \n",
       "2  [{'Source': 'Internet Movie Database', 'Value'...        5.5   $8,434,146   \n",
       "3  [{'Source': 'Internet Movie Database', 'Value'...        4.8  $14,230,455   \n",
       "4  [{'Source': 'Internet Movie Database', 'Value'...        7.7      $30,471   \n",
       "\n",
       "      imdbID  \n",
       "0  tt0144096  \n",
       "1  tt0195945  \n",
       "2  tt0196857  \n",
       "3  tt0134983  \n",
       "4  tt0144117  \n",
       "\n",
       "[5 rows x 24 columns]"
      ]
     },
     "execution_count": 3,
     "metadata": {},
     "output_type": "execute_result"
    }
   ],
   "source": [
    "df.head()"
   ]
  },
  {
   "cell_type": "code",
   "execution_count": 4,
   "id": "792d017c-fcde-4636-b632-107a48fd9c47",
   "metadata": {},
   "outputs": [
    {
     "data": {
      "text/plain": [
       "Index(['Unnamed: 0.1', 'Movie Title', 'Plot Summary', 'Cover Image', 'Year',\n",
       "       'Source', 'Rated', 'omdb Year', 'omdb Title', 'Released', 'Runtime',\n",
       "       'Genre', 'Director', 'Writer', 'Actors', 'Plot', 'Language', 'Country',\n",
       "       'Awards', 'Poster', 'Ratings', 'imdbRating', 'BoxOffice', 'imdbID'],\n",
       "      dtype='object')"
      ]
     },
     "execution_count": 4,
     "metadata": {},
     "output_type": "execute_result"
    }
   ],
   "source": [
    "df.columns"
   ]
  },
  {
   "cell_type": "code",
   "execution_count": 5,
   "id": "f3712468-8485-4550-ab6b-5a5012406e57",
   "metadata": {},
   "outputs": [],
   "source": [
    "df.drop('Unnamed: 0.1', inplace=True, axis=1)"
   ]
  },
  {
   "cell_type": "code",
   "execution_count": 6,
   "id": "b1d8221b-dd23-400a-baea-8868aa2ebbdd",
   "metadata": {},
   "outputs": [
    {
     "data": {
      "text/plain": [
       "(6095, 23)"
      ]
     },
     "execution_count": 6,
     "metadata": {},
     "output_type": "execute_result"
    }
   ],
   "source": [
    "df.shape"
   ]
  },
  {
   "cell_type": "code",
   "execution_count": 7,
   "id": "0c4059c1-b289-4cb4-97f5-3a5f7fa8b3e2",
   "metadata": {},
   "outputs": [
    {
     "data": {
      "text/html": [
       "<div>\n",
       "<style scoped>\n",
       "    .dataframe tbody tr th:only-of-type {\n",
       "        vertical-align: middle;\n",
       "    }\n",
       "\n",
       "    .dataframe tbody tr th {\n",
       "        vertical-align: top;\n",
       "    }\n",
       "\n",
       "    .dataframe thead th {\n",
       "        text-align: right;\n",
       "    }\n",
       "</style>\n",
       "<table border=\"1\" class=\"dataframe\">\n",
       "  <thead>\n",
       "    <tr style=\"text-align: right;\">\n",
       "      <th></th>\n",
       "      <th>Movie Title</th>\n",
       "      <th>Plot Summary</th>\n",
       "      <th>Cover Image</th>\n",
       "      <th>Year</th>\n",
       "      <th>Source</th>\n",
       "      <th>Rated</th>\n",
       "      <th>omdb Year</th>\n",
       "      <th>omdb Title</th>\n",
       "      <th>Released</th>\n",
       "      <th>Runtime</th>\n",
       "      <th>...</th>\n",
       "      <th>Actors</th>\n",
       "      <th>Plot</th>\n",
       "      <th>Language</th>\n",
       "      <th>Country</th>\n",
       "      <th>Awards</th>\n",
       "      <th>Poster</th>\n",
       "      <th>Ratings</th>\n",
       "      <th>imdbRating</th>\n",
       "      <th>BoxOffice</th>\n",
       "      <th>imdbID</th>\n",
       "    </tr>\n",
       "  </thead>\n",
       "  <tbody>\n",
       "    <tr>\n",
       "      <th>0</th>\n",
       "      <td>The Extreme Adventures of Super Dave</td>\n",
       "      <td>After the kind-hearted but clumsy Super Dave O...</td>\n",
       "      <td>NaN</td>\n",
       "      <td>2000</td>\n",
       "      <td>https://en.wikipedia.org//wiki/The_Extreme_Adv...</td>\n",
       "      <td>PG</td>\n",
       "      <td>2000</td>\n",
       "      <td>The Extreme Adventures of Super Dave</td>\n",
       "      <td>11 Jan 2000</td>\n",
       "      <td>91 min</td>\n",
       "      <td>...</td>\n",
       "      <td>Bob Einstein, Dan Hedaya, Gia Carides, Don Lake</td>\n",
       "      <td>Super Dave Osborne, our accident-prone stuntma...</td>\n",
       "      <td>English</td>\n",
       "      <td>USA</td>\n",
       "      <td>NaN</td>\n",
       "      <td>https://m.media-amazon.com/images/M/MV5BNTk2ND...</td>\n",
       "      <td>{'Source': 'Internet Movie Database', 'Value':...</td>\n",
       "      <td>5.1</td>\n",
       "      <td>NaN</td>\n",
       "      <td>tt0144096</td>\n",
       "    </tr>\n",
       "    <tr>\n",
       "      <th>1</th>\n",
       "      <td>Next Friday</td>\n",
       "      <td>After finding out Deebo escaped prison to get ...</td>\n",
       "      <td>upload.wikimedia.org/wikipedia/en/e/e2/Next_Fr...</td>\n",
       "      <td>2000</td>\n",
       "      <td>https://en.wikipedia.org//wiki/Next_Friday</td>\n",
       "      <td>R</td>\n",
       "      <td>2000</td>\n",
       "      <td>Next Friday</td>\n",
       "      <td>12 Jan 2000</td>\n",
       "      <td>98 min</td>\n",
       "      <td>...</td>\n",
       "      <td>Ice Cube, Mike Epps, Justin Pierce</td>\n",
       "      <td>A streetwise man flees South Central Los Angel...</td>\n",
       "      <td>English, Spanish</td>\n",
       "      <td>United States</td>\n",
       "      <td>2 nominations</td>\n",
       "      <td>https://m.media-amazon.com/images/M/MV5BZTg4NT...</td>\n",
       "      <td>[{'Source': 'Internet Movie Database', 'Value'...</td>\n",
       "      <td>6.1</td>\n",
       "      <td>$57,328,603</td>\n",
       "      <td>tt0195945</td>\n",
       "    </tr>\n",
       "    <tr>\n",
       "      <th>2</th>\n",
       "      <td>Play It to the Bone</td>\n",
       "      <td>Aging prizefighters and longtime best friends ...</td>\n",
       "      <td>upload.wikimedia.org/wikipedia/en/thumb/5/5d/P...</td>\n",
       "      <td>2000</td>\n",
       "      <td>https://en.wikipedia.org//wiki/Play_It_to_the_...</td>\n",
       "      <td>R</td>\n",
       "      <td>1999</td>\n",
       "      <td>Play It to the Bone</td>\n",
       "      <td>21 Jan 2000</td>\n",
       "      <td>124 min</td>\n",
       "      <td>...</td>\n",
       "      <td>Woody Harrelson, Antonio Banderas, Lolita Davi...</td>\n",
       "      <td>Two best friends and former middleweight conte...</td>\n",
       "      <td>English</td>\n",
       "      <td>United States</td>\n",
       "      <td>NaN</td>\n",
       "      <td>https://m.media-amazon.com/images/M/MV5BMTM2Nj...</td>\n",
       "      <td>[{'Source': 'Internet Movie Database', 'Value'...</td>\n",
       "      <td>5.5</td>\n",
       "      <td>$8,434,146</td>\n",
       "      <td>tt0196857</td>\n",
       "    </tr>\n",
       "    <tr>\n",
       "      <th>3</th>\n",
       "      <td>Supernova (2000 film)</td>\n",
       "      <td>Supernova chronicles the search-and-rescue pat...</td>\n",
       "      <td>upload.wikimedia.org/wikipedia/en/thumb/0/0a/S...</td>\n",
       "      <td>2000</td>\n",
       "      <td>https://en.wikipedia.org//wiki/Supernova_(2000...</td>\n",
       "      <td>PG-13</td>\n",
       "      <td>2000</td>\n",
       "      <td>Supernova</td>\n",
       "      <td>14 Jan 2000</td>\n",
       "      <td>90 min</td>\n",
       "      <td>...</td>\n",
       "      <td>James Spader, Peter Facinelli, Robin Tunney</td>\n",
       "      <td>A deep space rescue and recovery spaceship wit...</td>\n",
       "      <td>English</td>\n",
       "      <td>United States</td>\n",
       "      <td>NaN</td>\n",
       "      <td>https://m.media-amazon.com/images/M/MV5BMzRjYT...</td>\n",
       "      <td>[{'Source': 'Internet Movie Database', 'Value'...</td>\n",
       "      <td>4.8</td>\n",
       "      <td>$14,230,455</td>\n",
       "      <td>tt0134983</td>\n",
       "    </tr>\n",
       "    <tr>\n",
       "      <th>4</th>\n",
       "      <td>The Boondock Saints</td>\n",
       "      <td>In Boston, Irish American fraternal twin broth...</td>\n",
       "      <td>upload.wikimedia.org/wikipedia/en/thumb/1/1b/T...</td>\n",
       "      <td>2000</td>\n",
       "      <td>https://en.wikipedia.org//wiki/The_Boondock_Sa...</td>\n",
       "      <td>R</td>\n",
       "      <td>1999</td>\n",
       "      <td>The Boondock Saints</td>\n",
       "      <td>21 Jan 2000</td>\n",
       "      <td>108 min</td>\n",
       "      <td>...</td>\n",
       "      <td>Willem Dafoe, Sean Patrick Flanery, Norman Reedus</td>\n",
       "      <td>Two Irish Catholic brothers become vigilantes ...</td>\n",
       "      <td>English, Spanish, Papiamento, Russian, Latin</td>\n",
       "      <td>United States, Canada</td>\n",
       "      <td>NaN</td>\n",
       "      <td>https://m.media-amazon.com/images/M/MV5BNTliMT...</td>\n",
       "      <td>[{'Source': 'Internet Movie Database', 'Value'...</td>\n",
       "      <td>7.7</td>\n",
       "      <td>$30,471</td>\n",
       "      <td>tt0144117</td>\n",
       "    </tr>\n",
       "  </tbody>\n",
       "</table>\n",
       "<p>5 rows × 23 columns</p>\n",
       "</div>"
      ],
      "text/plain": [
       "                            Movie Title  \\\n",
       "0  The Extreme Adventures of Super Dave   \n",
       "1                           Next Friday   \n",
       "2                   Play It to the Bone   \n",
       "3                 Supernova (2000 film)   \n",
       "4                   The Boondock Saints   \n",
       "\n",
       "                                        Plot Summary  \\\n",
       "0  After the kind-hearted but clumsy Super Dave O...   \n",
       "1  After finding out Deebo escaped prison to get ...   \n",
       "2  Aging prizefighters and longtime best friends ...   \n",
       "3  Supernova chronicles the search-and-rescue pat...   \n",
       "4  In Boston, Irish American fraternal twin broth...   \n",
       "\n",
       "                                         Cover Image  Year  \\\n",
       "0                                                NaN  2000   \n",
       "1  upload.wikimedia.org/wikipedia/en/e/e2/Next_Fr...  2000   \n",
       "2  upload.wikimedia.org/wikipedia/en/thumb/5/5d/P...  2000   \n",
       "3  upload.wikimedia.org/wikipedia/en/thumb/0/0a/S...  2000   \n",
       "4  upload.wikimedia.org/wikipedia/en/thumb/1/1b/T...  2000   \n",
       "\n",
       "                                              Source  Rated omdb Year  \\\n",
       "0  https://en.wikipedia.org//wiki/The_Extreme_Adv...     PG      2000   \n",
       "1         https://en.wikipedia.org//wiki/Next_Friday      R      2000   \n",
       "2  https://en.wikipedia.org//wiki/Play_It_to_the_...      R      1999   \n",
       "3  https://en.wikipedia.org//wiki/Supernova_(2000...  PG-13      2000   \n",
       "4  https://en.wikipedia.org//wiki/The_Boondock_Sa...      R      1999   \n",
       "\n",
       "                             omdb Title     Released  Runtime  ...  \\\n",
       "0  The Extreme Adventures of Super Dave  11 Jan 2000   91 min  ...   \n",
       "1                           Next Friday  12 Jan 2000   98 min  ...   \n",
       "2                   Play It to the Bone  21 Jan 2000  124 min  ...   \n",
       "3                             Supernova  14 Jan 2000   90 min  ...   \n",
       "4                   The Boondock Saints  21 Jan 2000  108 min  ...   \n",
       "\n",
       "                                              Actors  \\\n",
       "0    Bob Einstein, Dan Hedaya, Gia Carides, Don Lake   \n",
       "1                 Ice Cube, Mike Epps, Justin Pierce   \n",
       "2  Woody Harrelson, Antonio Banderas, Lolita Davi...   \n",
       "3        James Spader, Peter Facinelli, Robin Tunney   \n",
       "4  Willem Dafoe, Sean Patrick Flanery, Norman Reedus   \n",
       "\n",
       "                                                Plot  \\\n",
       "0  Super Dave Osborne, our accident-prone stuntma...   \n",
       "1  A streetwise man flees South Central Los Angel...   \n",
       "2  Two best friends and former middleweight conte...   \n",
       "3  A deep space rescue and recovery spaceship wit...   \n",
       "4  Two Irish Catholic brothers become vigilantes ...   \n",
       "\n",
       "                                       Language                Country  \\\n",
       "0                                       English                    USA   \n",
       "1                              English, Spanish          United States   \n",
       "2                                       English          United States   \n",
       "3                                       English          United States   \n",
       "4  English, Spanish, Papiamento, Russian, Latin  United States, Canada   \n",
       "\n",
       "          Awards                                             Poster  \\\n",
       "0            NaN  https://m.media-amazon.com/images/M/MV5BNTk2ND...   \n",
       "1  2 nominations  https://m.media-amazon.com/images/M/MV5BZTg4NT...   \n",
       "2            NaN  https://m.media-amazon.com/images/M/MV5BMTM2Nj...   \n",
       "3            NaN  https://m.media-amazon.com/images/M/MV5BMzRjYT...   \n",
       "4            NaN  https://m.media-amazon.com/images/M/MV5BNTliMT...   \n",
       "\n",
       "                                             Ratings imdbRating    BoxOffice  \\\n",
       "0  {'Source': 'Internet Movie Database', 'Value':...        5.1          NaN   \n",
       "1  [{'Source': 'Internet Movie Database', 'Value'...        6.1  $57,328,603   \n",
       "2  [{'Source': 'Internet Movie Database', 'Value'...        5.5   $8,434,146   \n",
       "3  [{'Source': 'Internet Movie Database', 'Value'...        4.8  $14,230,455   \n",
       "4  [{'Source': 'Internet Movie Database', 'Value'...        7.7      $30,471   \n",
       "\n",
       "      imdbID  \n",
       "0  tt0144096  \n",
       "1  tt0195945  \n",
       "2  tt0196857  \n",
       "3  tt0134983  \n",
       "4  tt0144117  \n",
       "\n",
       "[5 rows x 23 columns]"
      ]
     },
     "execution_count": 7,
     "metadata": {},
     "output_type": "execute_result"
    }
   ],
   "source": [
    "df.head()"
   ]
  },
  {
   "cell_type": "code",
   "execution_count": 8,
   "id": "fe0a80c1-51a9-40d4-8655-9b45c83ee393",
   "metadata": {},
   "outputs": [],
   "source": [
    "# Convert text to lowercase\n",
    "def convert_to_lower_case(text):\n",
    "  return text.lower()"
   ]
  },
  {
   "cell_type": "code",
   "execution_count": 9,
   "id": "45ad849f-2836-43d0-86ee-6c9e47c75ea4",
   "metadata": {},
   "outputs": [],
   "source": [
    "def remove_punctuation(text):\n",
    "  # Create a translation table to remove punctuation\n",
    "  translator = str.maketrans('', '', string.punctuation)\n",
    "\n",
    "  # Remove punctuation using the translation table\n",
    "  text_without_punct = text.translate(translator)\n",
    "\n",
    "  return text_without_punct"
   ]
  },
  {
   "cell_type": "code",
   "execution_count": 10,
   "id": "e5d61848-e47e-418f-b20a-8a8d24f5d4c3",
   "metadata": {},
   "outputs": [],
   "source": [
    "def tokenize(text):\n",
    "  # Tokenization\n",
    "  return word_tokenize(text)"
   ]
  },
  {
   "cell_type": "code",
   "execution_count": 11,
   "id": "531d3b3f-0668-4d89-bd59-466c4a7a63cc",
   "metadata": {},
   "outputs": [],
   "source": [
    "# Remove stopwords\n",
    "def remove_stop_words(tokens):\n",
    "  stop_words = set(stopwords.words('english'))\n",
    "  return [word for word in tokens if word not in stop_words]"
   ]
  },
  {
   "cell_type": "code",
   "execution_count": 12,
   "id": "b39168a5-94a3-4b2e-a187-ab3eb9ce32c6",
   "metadata": {},
   "outputs": [],
   "source": [
    "def lemmatize(tokens):\n",
    "  # Lemmatization\n",
    "  lemmatizer = WordNetLemmatizer()\n",
    "  return [lemmatizer.lemmatize(word) if lemmatizer.lemmatize(word) is not None else word for word in tokens]"
   ]
  },
  {
   "cell_type": "code",
   "execution_count": 13,
   "id": "ecc531cc-0183-4dec-ad4b-6a610e689749",
   "metadata": {},
   "outputs": [],
   "source": [
    "# Remove special characters and numbers\n",
    "def remove_special_chars(tokens):\n",
    "    return [re.sub('[^A-Za-z]+', '', word) for word in tokens]"
   ]
  },
  {
   "cell_type": "code",
   "execution_count": 14,
   "id": "c769e571-b9f7-4c78-a0e4-32a6f0987482",
   "metadata": {},
   "outputs": [],
   "source": [
    "# function to do preprocessing text\n",
    "def preprocess_text(text):\n",
    "  lower_text = convert_to_lower_case(text) # converting to lowercase\n",
    "  removed_punctuation = remove_punctuation(lower_text) # removing punctuation\n",
    "  tokens = tokenize(removed_punctuation) # tokenize words\n",
    "  tokens = remove_stop_words(tokens) # removing stop words\n",
    "  tokens = lemmatize(tokens) # lemmatize tokens\n",
    "  tokens = remove_special_chars(tokens) # remove special characters from token\n",
    "\n",
    "  preprocessed_text = ' '.join(tokens) # final preprocessed text\n",
    "  return preprocessed_text"
   ]
  },
  {
   "cell_type": "code",
   "execution_count": 15,
   "id": "528faea6-2fdb-46e6-bd59-678a841abf40",
   "metadata": {},
   "outputs": [
    {
     "data": {
      "text/plain": [
       "'hi name testing code noww'"
      ]
     },
     "execution_count": 15,
     "metadata": {},
     "output_type": "execute_result"
    }
   ],
   "source": [
    "preprocess_text(\"Hi!, my name is 123......testing the code noww11111\")"
   ]
  },
  {
   "cell_type": "code",
   "execution_count": 16,
   "id": "6848be4c-c2bf-4017-84df-4d6d5f2739cc",
   "metadata": {},
   "outputs": [
    {
     "data": {
      "text/plain": [
       "Movie Title        0\n",
       "Plot Summary     539\n",
       "Cover Image      105\n",
       "Year               0\n",
       "Source             0\n",
       "Rated           5254\n",
       "omdb Year       5224\n",
       "omdb Title      5224\n",
       "Released        5227\n",
       "Runtime         5234\n",
       "Genre           5225\n",
       "Director        5245\n",
       "Writer          5238\n",
       "Actors          5228\n",
       "Plot            5233\n",
       "Language        5229\n",
       "Country         5226\n",
       "Awards          5339\n",
       "Poster          5231\n",
       "Ratings         5224\n",
       "imdbRating      5235\n",
       "BoxOffice       5333\n",
       "imdbID          5224\n",
       "dtype: int64"
      ]
     },
     "execution_count": 16,
     "metadata": {},
     "output_type": "execute_result"
    }
   ],
   "source": [
    "df.isnull().sum()"
   ]
  },
  {
   "cell_type": "code",
   "execution_count": 17,
   "id": "9f61012e-dedb-4d0b-ba66-2aa352424d17",
   "metadata": {},
   "outputs": [
    {
     "data": {
      "text/plain": [
       "Movie Title      0.000000\n",
       "Plot Summary     8.843314\n",
       "Cover Image      1.722724\n",
       "Year             0.000000\n",
       "Source           0.000000\n",
       "Rated           86.201805\n",
       "omdb Year       85.709598\n",
       "omdb Title      85.709598\n",
       "Released        85.758819\n",
       "Runtime         85.873667\n",
       "Genre           85.726005\n",
       "Director        86.054143\n",
       "Writer          85.939295\n",
       "Actors          85.775226\n",
       "Plot            85.857260\n",
       "Language        85.791632\n",
       "Country         85.742412\n",
       "Awards          87.596390\n",
       "Poster          85.824446\n",
       "Ratings         85.709598\n",
       "imdbRating      85.890074\n",
       "BoxOffice       87.497949\n",
       "imdbID          85.709598\n",
       "dtype: float64"
      ]
     },
     "execution_count": 17,
     "metadata": {},
     "output_type": "execute_result"
    }
   ],
   "source": [
    "df.isnull().mean()*100"
   ]
  },
  {
   "cell_type": "code",
   "execution_count": 18,
   "id": "c21d8cac-917b-498a-b5ce-a303d3073e0e",
   "metadata": {},
   "outputs": [],
   "source": [
    "df.dropna(subset=['Plot Summary'], inplace=True)"
   ]
  },
  {
   "cell_type": "code",
   "execution_count": 19,
   "id": "3881c4e9-e8a9-40c3-b9e7-dd3bda519f9b",
   "metadata": {},
   "outputs": [
    {
     "data": {
      "text/plain": [
       "Movie Title      0.000000\n",
       "Plot Summary     0.000000\n",
       "Cover Image      0.485961\n",
       "Year             0.000000\n",
       "Source           0.000000\n",
       "Rated           85.763139\n",
       "omdb Year       85.313175\n",
       "omdb Title      85.313175\n",
       "Released        85.367171\n",
       "Runtime         85.457163\n",
       "Genre           85.331174\n",
       "Director        85.655148\n",
       "Writer          85.475162\n",
       "Actors          85.385169\n",
       "Plot            85.439165\n",
       "Language        85.385169\n",
       "Country         85.349172\n",
       "Awards          87.167027\n",
       "Poster          85.403168\n",
       "Ratings         85.313175\n",
       "imdbRating      85.475162\n",
       "BoxOffice       87.059035\n",
       "imdbID          85.313175\n",
       "dtype: float64"
      ]
     },
     "execution_count": 19,
     "metadata": {},
     "output_type": "execute_result"
    }
   ],
   "source": [
    "df.isnull().mean()*100"
   ]
  },
  {
   "cell_type": "code",
   "execution_count": 20,
   "id": "358476b5-9194-4a29-9109-b492a3b31488",
   "metadata": {},
   "outputs": [],
   "source": [
    "# Apply function on text column\n",
    "df['ProcessedPlot'] = df['Plot Summary'].apply(preprocess_text)"
   ]
  },
  {
   "cell_type": "code",
   "execution_count": 21,
   "id": "88ec7e0b-934a-4fe0-a3ad-6c919c310f31",
   "metadata": {},
   "outputs": [
    {
     "data": {
      "text/html": [
       "<div>\n",
       "<style scoped>\n",
       "    .dataframe tbody tr th:only-of-type {\n",
       "        vertical-align: middle;\n",
       "    }\n",
       "\n",
       "    .dataframe tbody tr th {\n",
       "        vertical-align: top;\n",
       "    }\n",
       "\n",
       "    .dataframe thead th {\n",
       "        text-align: right;\n",
       "    }\n",
       "</style>\n",
       "<table border=\"1\" class=\"dataframe\">\n",
       "  <thead>\n",
       "    <tr style=\"text-align: right;\">\n",
       "      <th></th>\n",
       "      <th>Movie Title</th>\n",
       "      <th>Plot Summary</th>\n",
       "      <th>Cover Image</th>\n",
       "      <th>Year</th>\n",
       "      <th>Source</th>\n",
       "      <th>Rated</th>\n",
       "      <th>omdb Year</th>\n",
       "      <th>omdb Title</th>\n",
       "      <th>Released</th>\n",
       "      <th>Runtime</th>\n",
       "      <th>...</th>\n",
       "      <th>Plot</th>\n",
       "      <th>Language</th>\n",
       "      <th>Country</th>\n",
       "      <th>Awards</th>\n",
       "      <th>Poster</th>\n",
       "      <th>Ratings</th>\n",
       "      <th>imdbRating</th>\n",
       "      <th>BoxOffice</th>\n",
       "      <th>imdbID</th>\n",
       "      <th>ProcessedPlot</th>\n",
       "    </tr>\n",
       "  </thead>\n",
       "  <tbody>\n",
       "    <tr>\n",
       "      <th>0</th>\n",
       "      <td>The Extreme Adventures of Super Dave</td>\n",
       "      <td>After the kind-hearted but clumsy Super Dave O...</td>\n",
       "      <td>NaN</td>\n",
       "      <td>2000</td>\n",
       "      <td>https://en.wikipedia.org//wiki/The_Extreme_Adv...</td>\n",
       "      <td>PG</td>\n",
       "      <td>2000</td>\n",
       "      <td>The Extreme Adventures of Super Dave</td>\n",
       "      <td>11 Jan 2000</td>\n",
       "      <td>91 min</td>\n",
       "      <td>...</td>\n",
       "      <td>Super Dave Osborne, our accident-prone stuntma...</td>\n",
       "      <td>English</td>\n",
       "      <td>USA</td>\n",
       "      <td>NaN</td>\n",
       "      <td>https://m.media-amazon.com/images/M/MV5BNTk2ND...</td>\n",
       "      <td>{'Source': 'Internet Movie Database', 'Value':...</td>\n",
       "      <td>5.1</td>\n",
       "      <td>NaN</td>\n",
       "      <td>tt0144096</td>\n",
       "      <td>kindhearted clumsy super dave osborne bob eins...</td>\n",
       "    </tr>\n",
       "    <tr>\n",
       "      <th>1</th>\n",
       "      <td>Next Friday</td>\n",
       "      <td>After finding out Deebo escaped prison to get ...</td>\n",
       "      <td>upload.wikimedia.org/wikipedia/en/e/e2/Next_Fr...</td>\n",
       "      <td>2000</td>\n",
       "      <td>https://en.wikipedia.org//wiki/Next_Friday</td>\n",
       "      <td>R</td>\n",
       "      <td>2000</td>\n",
       "      <td>Next Friday</td>\n",
       "      <td>12 Jan 2000</td>\n",
       "      <td>98 min</td>\n",
       "      <td>...</td>\n",
       "      <td>A streetwise man flees South Central Los Angel...</td>\n",
       "      <td>English, Spanish</td>\n",
       "      <td>United States</td>\n",
       "      <td>2 nominations</td>\n",
       "      <td>https://m.media-amazon.com/images/M/MV5BZTg4NT...</td>\n",
       "      <td>[{'Source': 'Internet Movie Database', 'Value'...</td>\n",
       "      <td>6.1</td>\n",
       "      <td>$57,328,603</td>\n",
       "      <td>tt0195945</td>\n",
       "      <td>finding deebo escaped prison get revenge craig...</td>\n",
       "    </tr>\n",
       "    <tr>\n",
       "      <th>2</th>\n",
       "      <td>Play It to the Bone</td>\n",
       "      <td>Aging prizefighters and longtime best friends ...</td>\n",
       "      <td>upload.wikimedia.org/wikipedia/en/thumb/5/5d/P...</td>\n",
       "      <td>2000</td>\n",
       "      <td>https://en.wikipedia.org//wiki/Play_It_to_the_...</td>\n",
       "      <td>R</td>\n",
       "      <td>1999</td>\n",
       "      <td>Play It to the Bone</td>\n",
       "      <td>21 Jan 2000</td>\n",
       "      <td>124 min</td>\n",
       "      <td>...</td>\n",
       "      <td>Two best friends and former middleweight conte...</td>\n",
       "      <td>English</td>\n",
       "      <td>United States</td>\n",
       "      <td>NaN</td>\n",
       "      <td>https://m.media-amazon.com/images/M/MV5BMTM2Nj...</td>\n",
       "      <td>[{'Source': 'Internet Movie Database', 'Value'...</td>\n",
       "      <td>5.5</td>\n",
       "      <td>$8,434,146</td>\n",
       "      <td>tt0196857</td>\n",
       "      <td>aging prizefighter longtime best friend vince ...</td>\n",
       "    </tr>\n",
       "    <tr>\n",
       "      <th>3</th>\n",
       "      <td>Supernova (2000 film)</td>\n",
       "      <td>Supernova chronicles the search-and-rescue pat...</td>\n",
       "      <td>upload.wikimedia.org/wikipedia/en/thumb/0/0a/S...</td>\n",
       "      <td>2000</td>\n",
       "      <td>https://en.wikipedia.org//wiki/Supernova_(2000...</td>\n",
       "      <td>PG-13</td>\n",
       "      <td>2000</td>\n",
       "      <td>Supernova</td>\n",
       "      <td>14 Jan 2000</td>\n",
       "      <td>90 min</td>\n",
       "      <td>...</td>\n",
       "      <td>A deep space rescue and recovery spaceship wit...</td>\n",
       "      <td>English</td>\n",
       "      <td>United States</td>\n",
       "      <td>NaN</td>\n",
       "      <td>https://m.media-amazon.com/images/M/MV5BMzRjYT...</td>\n",
       "      <td>[{'Source': 'Internet Movie Database', 'Value'...</td>\n",
       "      <td>4.8</td>\n",
       "      <td>$14,230,455</td>\n",
       "      <td>tt0134983</td>\n",
       "      <td>supernova chronicle searchandrescue patrol med...</td>\n",
       "    </tr>\n",
       "    <tr>\n",
       "      <th>4</th>\n",
       "      <td>The Boondock Saints</td>\n",
       "      <td>In Boston, Irish American fraternal twin broth...</td>\n",
       "      <td>upload.wikimedia.org/wikipedia/en/thumb/1/1b/T...</td>\n",
       "      <td>2000</td>\n",
       "      <td>https://en.wikipedia.org//wiki/The_Boondock_Sa...</td>\n",
       "      <td>R</td>\n",
       "      <td>1999</td>\n",
       "      <td>The Boondock Saints</td>\n",
       "      <td>21 Jan 2000</td>\n",
       "      <td>108 min</td>\n",
       "      <td>...</td>\n",
       "      <td>Two Irish Catholic brothers become vigilantes ...</td>\n",
       "      <td>English, Spanish, Papiamento, Russian, Latin</td>\n",
       "      <td>United States, Canada</td>\n",
       "      <td>NaN</td>\n",
       "      <td>https://m.media-amazon.com/images/M/MV5BNTliMT...</td>\n",
       "      <td>[{'Source': 'Internet Movie Database', 'Value'...</td>\n",
       "      <td>7.7</td>\n",
       "      <td>$30,471</td>\n",
       "      <td>tt0144117</td>\n",
       "      <td>boston irish american fraternal twin brother c...</td>\n",
       "    </tr>\n",
       "  </tbody>\n",
       "</table>\n",
       "<p>5 rows × 24 columns</p>\n",
       "</div>"
      ],
      "text/plain": [
       "                            Movie Title  \\\n",
       "0  The Extreme Adventures of Super Dave   \n",
       "1                           Next Friday   \n",
       "2                   Play It to the Bone   \n",
       "3                 Supernova (2000 film)   \n",
       "4                   The Boondock Saints   \n",
       "\n",
       "                                        Plot Summary  \\\n",
       "0  After the kind-hearted but clumsy Super Dave O...   \n",
       "1  After finding out Deebo escaped prison to get ...   \n",
       "2  Aging prizefighters and longtime best friends ...   \n",
       "3  Supernova chronicles the search-and-rescue pat...   \n",
       "4  In Boston, Irish American fraternal twin broth...   \n",
       "\n",
       "                                         Cover Image  Year  \\\n",
       "0                                                NaN  2000   \n",
       "1  upload.wikimedia.org/wikipedia/en/e/e2/Next_Fr...  2000   \n",
       "2  upload.wikimedia.org/wikipedia/en/thumb/5/5d/P...  2000   \n",
       "3  upload.wikimedia.org/wikipedia/en/thumb/0/0a/S...  2000   \n",
       "4  upload.wikimedia.org/wikipedia/en/thumb/1/1b/T...  2000   \n",
       "\n",
       "                                              Source  Rated omdb Year  \\\n",
       "0  https://en.wikipedia.org//wiki/The_Extreme_Adv...     PG      2000   \n",
       "1         https://en.wikipedia.org//wiki/Next_Friday      R      2000   \n",
       "2  https://en.wikipedia.org//wiki/Play_It_to_the_...      R      1999   \n",
       "3  https://en.wikipedia.org//wiki/Supernova_(2000...  PG-13      2000   \n",
       "4  https://en.wikipedia.org//wiki/The_Boondock_Sa...      R      1999   \n",
       "\n",
       "                             omdb Title     Released  Runtime  ...  \\\n",
       "0  The Extreme Adventures of Super Dave  11 Jan 2000   91 min  ...   \n",
       "1                           Next Friday  12 Jan 2000   98 min  ...   \n",
       "2                   Play It to the Bone  21 Jan 2000  124 min  ...   \n",
       "3                             Supernova  14 Jan 2000   90 min  ...   \n",
       "4                   The Boondock Saints  21 Jan 2000  108 min  ...   \n",
       "\n",
       "                                                Plot  \\\n",
       "0  Super Dave Osborne, our accident-prone stuntma...   \n",
       "1  A streetwise man flees South Central Los Angel...   \n",
       "2  Two best friends and former middleweight conte...   \n",
       "3  A deep space rescue and recovery spaceship wit...   \n",
       "4  Two Irish Catholic brothers become vigilantes ...   \n",
       "\n",
       "                                       Language                Country  \\\n",
       "0                                       English                    USA   \n",
       "1                              English, Spanish          United States   \n",
       "2                                       English          United States   \n",
       "3                                       English          United States   \n",
       "4  English, Spanish, Papiamento, Russian, Latin  United States, Canada   \n",
       "\n",
       "          Awards                                             Poster  \\\n",
       "0            NaN  https://m.media-amazon.com/images/M/MV5BNTk2ND...   \n",
       "1  2 nominations  https://m.media-amazon.com/images/M/MV5BZTg4NT...   \n",
       "2            NaN  https://m.media-amazon.com/images/M/MV5BMTM2Nj...   \n",
       "3            NaN  https://m.media-amazon.com/images/M/MV5BMzRjYT...   \n",
       "4            NaN  https://m.media-amazon.com/images/M/MV5BNTliMT...   \n",
       "\n",
       "                                             Ratings imdbRating    BoxOffice  \\\n",
       "0  {'Source': 'Internet Movie Database', 'Value':...        5.1          NaN   \n",
       "1  [{'Source': 'Internet Movie Database', 'Value'...        6.1  $57,328,603   \n",
       "2  [{'Source': 'Internet Movie Database', 'Value'...        5.5   $8,434,146   \n",
       "3  [{'Source': 'Internet Movie Database', 'Value'...        4.8  $14,230,455   \n",
       "4  [{'Source': 'Internet Movie Database', 'Value'...        7.7      $30,471   \n",
       "\n",
       "      imdbID                                      ProcessedPlot  \n",
       "0  tt0144096  kindhearted clumsy super dave osborne bob eins...  \n",
       "1  tt0195945  finding deebo escaped prison get revenge craig...  \n",
       "2  tt0196857  aging prizefighter longtime best friend vince ...  \n",
       "3  tt0134983  supernova chronicle searchandrescue patrol med...  \n",
       "4  tt0144117  boston irish american fraternal twin brother c...  \n",
       "\n",
       "[5 rows x 24 columns]"
      ]
     },
     "execution_count": 21,
     "metadata": {},
     "output_type": "execute_result"
    }
   ],
   "source": [
    "df.head()"
   ]
  },
  {
   "cell_type": "code",
   "execution_count": 22,
   "id": "fcc7650e-2deb-466e-aa75-c104f96d9587",
   "metadata": {},
   "outputs": [],
   "source": [
    "preprocessed_path = '../data/processed/preprocessed_dataset.csv'\n",
    "df.to_csv(preprocessed_path, index=False)"
   ]
  },
  {
   "cell_type": "code",
   "execution_count": 23,
   "id": "e9c75614-cc95-4a8f-8869-102fb5097ed4",
   "metadata": {},
   "outputs": [],
   "source": [
    "processed_df = pd.read_csv('../data/processed/preprocessed_dataset.csv')"
   ]
  },
  {
   "cell_type": "code",
   "execution_count": 24,
   "id": "29e20f79-002b-4280-846b-03e3155bd16e",
   "metadata": {},
   "outputs": [
    {
     "data": {
      "text/plain": [
       "Index(['Movie Title', 'Plot Summary', 'Cover Image', 'Year', 'Source', 'Rated',\n",
       "       'omdb Year', 'omdb Title', 'Released', 'Runtime', 'Genre', 'Director',\n",
       "       'Writer', 'Actors', 'Plot', 'Language', 'Country', 'Awards', 'Poster',\n",
       "       'Ratings', 'imdbRating', 'BoxOffice', 'imdbID', 'ProcessedPlot'],\n",
       "      dtype='object')"
      ]
     },
     "execution_count": 24,
     "metadata": {},
     "output_type": "execute_result"
    }
   ],
   "source": [
    "processed_df.columns"
   ]
  },
  {
   "cell_type": "code",
   "execution_count": 25,
   "id": "2baec66a-2754-46c4-b12c-648761c8aa48",
   "metadata": {},
   "outputs": [
    {
     "data": {
      "text/plain": [
       "Movie Title       0.000000\n",
       "Plot Summary      0.000000\n",
       "Cover Image       0.485961\n",
       "Year              0.000000\n",
       "Source            0.000000\n",
       "Rated            85.763139\n",
       "omdb Year        85.313175\n",
       "omdb Title       85.313175\n",
       "Released         85.367171\n",
       "Runtime          85.457163\n",
       "Genre            85.331174\n",
       "Director         85.655148\n",
       "Writer           85.475162\n",
       "Actors           85.385169\n",
       "Plot             85.439165\n",
       "Language         85.385169\n",
       "Country          85.349172\n",
       "Awards           87.167027\n",
       "Poster           85.403168\n",
       "Ratings          85.313175\n",
       "imdbRating       85.475162\n",
       "BoxOffice        87.059035\n",
       "imdbID           85.313175\n",
       "ProcessedPlot     0.000000\n",
       "dtype: float64"
      ]
     },
     "execution_count": 25,
     "metadata": {},
     "output_type": "execute_result"
    }
   ],
   "source": [
    "processed_df.isnull().mean()*100"
   ]
  },
  {
   "cell_type": "code",
   "execution_count": 26,
   "id": "29d5ba40-242b-4ffe-9bf8-f3e7230557c3",
   "metadata": {},
   "outputs": [
    {
     "data": {
      "text/html": [
       "<div>\n",
       "<style scoped>\n",
       "    .dataframe tbody tr th:only-of-type {\n",
       "        vertical-align: middle;\n",
       "    }\n",
       "\n",
       "    .dataframe tbody tr th {\n",
       "        vertical-align: top;\n",
       "    }\n",
       "\n",
       "    .dataframe thead th {\n",
       "        text-align: right;\n",
       "    }\n",
       "</style>\n",
       "<table border=\"1\" class=\"dataframe\">\n",
       "  <thead>\n",
       "    <tr style=\"text-align: right;\">\n",
       "      <th></th>\n",
       "      <th>Movie Title</th>\n",
       "      <th>Ratings</th>\n",
       "      <th>imdbRating</th>\n",
       "    </tr>\n",
       "  </thead>\n",
       "  <tbody>\n",
       "    <tr>\n",
       "      <th>0</th>\n",
       "      <td>The Extreme Adventures of Super Dave</td>\n",
       "      <td>{'Source': 'Internet Movie Database', 'Value':...</td>\n",
       "      <td>5.1</td>\n",
       "    </tr>\n",
       "    <tr>\n",
       "      <th>1</th>\n",
       "      <td>Next Friday</td>\n",
       "      <td>[{'Source': 'Internet Movie Database', 'Value'...</td>\n",
       "      <td>6.1</td>\n",
       "    </tr>\n",
       "    <tr>\n",
       "      <th>2</th>\n",
       "      <td>Play It to the Bone</td>\n",
       "      <td>[{'Source': 'Internet Movie Database', 'Value'...</td>\n",
       "      <td>5.5</td>\n",
       "    </tr>\n",
       "    <tr>\n",
       "      <th>3</th>\n",
       "      <td>Supernova (2000 film)</td>\n",
       "      <td>[{'Source': 'Internet Movie Database', 'Value'...</td>\n",
       "      <td>4.8</td>\n",
       "    </tr>\n",
       "    <tr>\n",
       "      <th>4</th>\n",
       "      <td>The Boondock Saints</td>\n",
       "      <td>[{'Source': 'Internet Movie Database', 'Value'...</td>\n",
       "      <td>7.7</td>\n",
       "    </tr>\n",
       "  </tbody>\n",
       "</table>\n",
       "</div>"
      ],
      "text/plain": [
       "                            Movie Title  \\\n",
       "0  The Extreme Adventures of Super Dave   \n",
       "1                           Next Friday   \n",
       "2                   Play It to the Bone   \n",
       "3                 Supernova (2000 film)   \n",
       "4                   The Boondock Saints   \n",
       "\n",
       "                                             Ratings  imdbRating  \n",
       "0  {'Source': 'Internet Movie Database', 'Value':...         5.1  \n",
       "1  [{'Source': 'Internet Movie Database', 'Value'...         6.1  \n",
       "2  [{'Source': 'Internet Movie Database', 'Value'...         5.5  \n",
       "3  [{'Source': 'Internet Movie Database', 'Value'...         4.8  \n",
       "4  [{'Source': 'Internet Movie Database', 'Value'...         7.7  "
      ]
     },
     "execution_count": 26,
     "metadata": {},
     "output_type": "execute_result"
    }
   ],
   "source": [
    "processed_df[['Movie Title', 'Ratings', 'imdbRating']].head()"
   ]
  },
  {
   "cell_type": "code",
   "execution_count": 27,
   "id": "1fbaae83-5fd6-414e-91a9-ca33b2d32d7d",
   "metadata": {},
   "outputs": [
    {
     "data": {
      "text/plain": [
       "9.0"
      ]
     },
     "execution_count": 27,
     "metadata": {},
     "output_type": "execute_result"
    }
   ],
   "source": [
    "processed_df['imdbRating'].max()"
   ]
  },
  {
   "cell_type": "code",
   "execution_count": 28,
   "id": "f896b92b-e127-40dc-91fa-b8fb57213d7e",
   "metadata": {},
   "outputs": [
    {
     "name": "stderr",
     "output_type": "stream",
     "text": [
      "C:\\Users\\msani\\AppData\\Local\\Temp\\ipykernel_10644\\445352123.py:1: FutureWarning: A value is trying to be set on a copy of a DataFrame or Series through chained assignment using an inplace method.\n",
      "The behavior will change in pandas 3.0. This inplace method will never work because the intermediate object on which we are setting values always behaves as a copy.\n",
      "\n",
      "For example, when doing 'df[col].method(value, inplace=True)', try using 'df.method({col: value}, inplace=True)' or df[col] = df[col].method(value) instead, to perform the operation inplace on the original object.\n",
      "\n",
      "\n",
      "  processed_df['imdbRating'].fillna(value=processed_df['imdbRating'].mean(), inplace=True)\n"
     ]
    }
   ],
   "source": [
    "processed_df['imdbRating'].fillna(value=processed_df['imdbRating'].mean(), inplace=True)"
   ]
  },
  {
   "cell_type": "code",
   "execution_count": 29,
   "id": "d2a4a0a7-aa73-41b0-96ac-5f61af99a8b1",
   "metadata": {},
   "outputs": [
    {
     "data": {
      "text/plain": [
       "0.0"
      ]
     },
     "execution_count": 29,
     "metadata": {},
     "output_type": "execute_result"
    }
   ],
   "source": [
    "processed_df['imdbRating'].isnull().mean()*100"
   ]
  },
  {
   "cell_type": "code",
   "execution_count": 30,
   "id": "d33dd2e1-8da2-4764-b2d1-d773b29d824e",
   "metadata": {},
   "outputs": [
    {
     "data": {
      "text/html": [
       "<div>\n",
       "<style scoped>\n",
       "    .dataframe tbody tr th:only-of-type {\n",
       "        vertical-align: middle;\n",
       "    }\n",
       "\n",
       "    .dataframe tbody tr th {\n",
       "        vertical-align: top;\n",
       "    }\n",
       "\n",
       "    .dataframe thead th {\n",
       "        text-align: right;\n",
       "    }\n",
       "</style>\n",
       "<table border=\"1\" class=\"dataframe\">\n",
       "  <thead>\n",
       "    <tr style=\"text-align: right;\">\n",
       "      <th></th>\n",
       "      <th>Movie Title</th>\n",
       "      <th>imdbRating</th>\n",
       "      <th>Year</th>\n",
       "    </tr>\n",
       "  </thead>\n",
       "  <tbody>\n",
       "    <tr>\n",
       "      <th>824</th>\n",
       "      <td>The Lord of the Rings: The Return of the King</td>\n",
       "      <td>9.0</td>\n",
       "      <td>2003</td>\n",
       "    </tr>\n",
       "    <tr>\n",
       "      <th>407</th>\n",
       "      <td>The Lord of the Rings: The Fellowship of the Ring</td>\n",
       "      <td>8.9</td>\n",
       "      <td>2001</td>\n",
       "    </tr>\n",
       "    <tr>\n",
       "      <th>610</th>\n",
       "      <td>The Lord of the Rings: The Two Towers</td>\n",
       "      <td>8.8</td>\n",
       "      <td>2002</td>\n",
       "    </tr>\n",
       "    <tr>\n",
       "      <th>626</th>\n",
       "      <td>City of God (2002 film)</td>\n",
       "      <td>8.6</td>\n",
       "      <td>2003</td>\n",
       "    </tr>\n",
       "    <tr>\n",
       "      <th>642</th>\n",
       "      <td>Daredevil (film)</td>\n",
       "      <td>8.6</td>\n",
       "      <td>2003</td>\n",
       "    </tr>\n",
       "    <tr>\n",
       "      <th>555</th>\n",
       "      <td>Spirited Away</td>\n",
       "      <td>8.6</td>\n",
       "      <td>2002</td>\n",
       "    </tr>\n",
       "    <tr>\n",
       "      <th>619</th>\n",
       "      <td>The Pianist (2002 film)</td>\n",
       "      <td>8.5</td>\n",
       "      <td>2002</td>\n",
       "    </tr>\n",
       "    <tr>\n",
       "      <th>64</th>\n",
       "      <td>Gladiator (2000 film)</td>\n",
       "      <td>8.5</td>\n",
       "      <td>2000</td>\n",
       "    </tr>\n",
       "    <tr>\n",
       "      <th>797</th>\n",
       "      <td>Alien (film)</td>\n",
       "      <td>8.5</td>\n",
       "      <td>2003</td>\n",
       "    </tr>\n",
       "    <tr>\n",
       "      <th>250</th>\n",
       "      <td>Memento (film)</td>\n",
       "      <td>8.4</td>\n",
       "      <td>2001</td>\n",
       "    </tr>\n",
       "  </tbody>\n",
       "</table>\n",
       "</div>"
      ],
      "text/plain": [
       "                                           Movie Title  imdbRating  Year\n",
       "824      The Lord of the Rings: The Return of the King         9.0  2003\n",
       "407  The Lord of the Rings: The Fellowship of the Ring         8.9  2001\n",
       "610              The Lord of the Rings: The Two Towers         8.8  2002\n",
       "626                            City of God (2002 film)         8.6  2003\n",
       "642                                   Daredevil (film)         8.6  2003\n",
       "555                                      Spirited Away         8.6  2002\n",
       "619                            The Pianist (2002 film)         8.5  2002\n",
       "64                               Gladiator (2000 film)         8.5  2000\n",
       "797                                       Alien (film)         8.5  2003\n",
       "250                                     Memento (film)         8.4  2001"
      ]
     },
     "execution_count": 30,
     "metadata": {},
     "output_type": "execute_result"
    }
   ],
   "source": [
    "processed_df[['Movie Title', 'imdbRating', 'Year']].sort_values(by='imdbRating', ascending=False).head(10)"
   ]
  },
  {
   "cell_type": "code",
   "execution_count": 68,
   "id": "e1ce6d62-1bb0-4b47-8558-0be9f5e74004",
   "metadata": {},
   "outputs": [
    {
     "data": {
      "application/vnd.plotly.v1+json": {
       "config": {
        "plotlyServerURL": "https://plot.ly"
       },
       "data": [
        {
         "alignmentgroup": "True",
         "hovertemplate": "Movie Title=%{x}<br>imdbRating=%{y}<extra></extra>",
         "legendgroup": "",
         "marker": {
          "color": "#636efa",
          "pattern": {
           "shape": ""
          }
         },
         "name": "",
         "offsetgroup": "",
         "orientation": "v",
         "showlegend": false,
         "textposition": "auto",
         "type": "bar",
         "x": [
          "The Lord of the Rings: The Return of the King",
          "The Lord of the Rings: The Fellowship of the Ring",
          "The Lord of the Rings: The Two Towers",
          "City of God (2002 film)",
          "Daredevil (film)",
          "Spirited Away",
          "The Pianist (2002 film)",
          "Gladiator (2000 film)",
          "Alien (film)",
          "Memento (film)"
         ],
         "xaxis": "x",
         "y": [
          9,
          8.9,
          8.8,
          8.6,
          8.6,
          8.6,
          8.5,
          8.5,
          8.5,
          8.4
         ],
         "yaxis": "y"
        }
       ],
       "layout": {
        "autosize": true,
        "barmode": "relative",
        "legend": {
         "tracegroupgap": 0
        },
        "margin": {
         "t": 60
        },
        "template": {
         "data": {
          "bar": [
           {
            "error_x": {
             "color": "#2a3f5f"
            },
            "error_y": {
             "color": "#2a3f5f"
            },
            "marker": {
             "line": {
              "color": "#E5ECF6",
              "width": 0.5
             },
             "pattern": {
              "fillmode": "overlay",
              "size": 10,
              "solidity": 0.2
             }
            },
            "type": "bar"
           }
          ],
          "barpolar": [
           {
            "marker": {
             "line": {
              "color": "#E5ECF6",
              "width": 0.5
             },
             "pattern": {
              "fillmode": "overlay",
              "size": 10,
              "solidity": 0.2
             }
            },
            "type": "barpolar"
           }
          ],
          "carpet": [
           {
            "aaxis": {
             "endlinecolor": "#2a3f5f",
             "gridcolor": "white",
             "linecolor": "white",
             "minorgridcolor": "white",
             "startlinecolor": "#2a3f5f"
            },
            "baxis": {
             "endlinecolor": "#2a3f5f",
             "gridcolor": "white",
             "linecolor": "white",
             "minorgridcolor": "white",
             "startlinecolor": "#2a3f5f"
            },
            "type": "carpet"
           }
          ],
          "choropleth": [
           {
            "colorbar": {
             "outlinewidth": 0,
             "ticks": ""
            },
            "type": "choropleth"
           }
          ],
          "contour": [
           {
            "colorbar": {
             "outlinewidth": 0,
             "ticks": ""
            },
            "colorscale": [
             [
              0,
              "#0d0887"
             ],
             [
              0.1111111111111111,
              "#46039f"
             ],
             [
              0.2222222222222222,
              "#7201a8"
             ],
             [
              0.3333333333333333,
              "#9c179e"
             ],
             [
              0.4444444444444444,
              "#bd3786"
             ],
             [
              0.5555555555555556,
              "#d8576b"
             ],
             [
              0.6666666666666666,
              "#ed7953"
             ],
             [
              0.7777777777777778,
              "#fb9f3a"
             ],
             [
              0.8888888888888888,
              "#fdca26"
             ],
             [
              1,
              "#f0f921"
             ]
            ],
            "type": "contour"
           }
          ],
          "contourcarpet": [
           {
            "colorbar": {
             "outlinewidth": 0,
             "ticks": ""
            },
            "type": "contourcarpet"
           }
          ],
          "heatmap": [
           {
            "colorbar": {
             "outlinewidth": 0,
             "ticks": ""
            },
            "colorscale": [
             [
              0,
              "#0d0887"
             ],
             [
              0.1111111111111111,
              "#46039f"
             ],
             [
              0.2222222222222222,
              "#7201a8"
             ],
             [
              0.3333333333333333,
              "#9c179e"
             ],
             [
              0.4444444444444444,
              "#bd3786"
             ],
             [
              0.5555555555555556,
              "#d8576b"
             ],
             [
              0.6666666666666666,
              "#ed7953"
             ],
             [
              0.7777777777777778,
              "#fb9f3a"
             ],
             [
              0.8888888888888888,
              "#fdca26"
             ],
             [
              1,
              "#f0f921"
             ]
            ],
            "type": "heatmap"
           }
          ],
          "heatmapgl": [
           {
            "colorbar": {
             "outlinewidth": 0,
             "ticks": ""
            },
            "colorscale": [
             [
              0,
              "#0d0887"
             ],
             [
              0.1111111111111111,
              "#46039f"
             ],
             [
              0.2222222222222222,
              "#7201a8"
             ],
             [
              0.3333333333333333,
              "#9c179e"
             ],
             [
              0.4444444444444444,
              "#bd3786"
             ],
             [
              0.5555555555555556,
              "#d8576b"
             ],
             [
              0.6666666666666666,
              "#ed7953"
             ],
             [
              0.7777777777777778,
              "#fb9f3a"
             ],
             [
              0.8888888888888888,
              "#fdca26"
             ],
             [
              1,
              "#f0f921"
             ]
            ],
            "type": "heatmapgl"
           }
          ],
          "histogram": [
           {
            "marker": {
             "pattern": {
              "fillmode": "overlay",
              "size": 10,
              "solidity": 0.2
             }
            },
            "type": "histogram"
           }
          ],
          "histogram2d": [
           {
            "colorbar": {
             "outlinewidth": 0,
             "ticks": ""
            },
            "colorscale": [
             [
              0,
              "#0d0887"
             ],
             [
              0.1111111111111111,
              "#46039f"
             ],
             [
              0.2222222222222222,
              "#7201a8"
             ],
             [
              0.3333333333333333,
              "#9c179e"
             ],
             [
              0.4444444444444444,
              "#bd3786"
             ],
             [
              0.5555555555555556,
              "#d8576b"
             ],
             [
              0.6666666666666666,
              "#ed7953"
             ],
             [
              0.7777777777777778,
              "#fb9f3a"
             ],
             [
              0.8888888888888888,
              "#fdca26"
             ],
             [
              1,
              "#f0f921"
             ]
            ],
            "type": "histogram2d"
           }
          ],
          "histogram2dcontour": [
           {
            "colorbar": {
             "outlinewidth": 0,
             "ticks": ""
            },
            "colorscale": [
             [
              0,
              "#0d0887"
             ],
             [
              0.1111111111111111,
              "#46039f"
             ],
             [
              0.2222222222222222,
              "#7201a8"
             ],
             [
              0.3333333333333333,
              "#9c179e"
             ],
             [
              0.4444444444444444,
              "#bd3786"
             ],
             [
              0.5555555555555556,
              "#d8576b"
             ],
             [
              0.6666666666666666,
              "#ed7953"
             ],
             [
              0.7777777777777778,
              "#fb9f3a"
             ],
             [
              0.8888888888888888,
              "#fdca26"
             ],
             [
              1,
              "#f0f921"
             ]
            ],
            "type": "histogram2dcontour"
           }
          ],
          "mesh3d": [
           {
            "colorbar": {
             "outlinewidth": 0,
             "ticks": ""
            },
            "type": "mesh3d"
           }
          ],
          "parcoords": [
           {
            "line": {
             "colorbar": {
              "outlinewidth": 0,
              "ticks": ""
             }
            },
            "type": "parcoords"
           }
          ],
          "pie": [
           {
            "automargin": true,
            "type": "pie"
           }
          ],
          "scatter": [
           {
            "fillpattern": {
             "fillmode": "overlay",
             "size": 10,
             "solidity": 0.2
            },
            "type": "scatter"
           }
          ],
          "scatter3d": [
           {
            "line": {
             "colorbar": {
              "outlinewidth": 0,
              "ticks": ""
             }
            },
            "marker": {
             "colorbar": {
              "outlinewidth": 0,
              "ticks": ""
             }
            },
            "type": "scatter3d"
           }
          ],
          "scattercarpet": [
           {
            "marker": {
             "colorbar": {
              "outlinewidth": 0,
              "ticks": ""
             }
            },
            "type": "scattercarpet"
           }
          ],
          "scattergeo": [
           {
            "marker": {
             "colorbar": {
              "outlinewidth": 0,
              "ticks": ""
             }
            },
            "type": "scattergeo"
           }
          ],
          "scattergl": [
           {
            "marker": {
             "colorbar": {
              "outlinewidth": 0,
              "ticks": ""
             }
            },
            "type": "scattergl"
           }
          ],
          "scattermapbox": [
           {
            "marker": {
             "colorbar": {
              "outlinewidth": 0,
              "ticks": ""
             }
            },
            "type": "scattermapbox"
           }
          ],
          "scatterpolar": [
           {
            "marker": {
             "colorbar": {
              "outlinewidth": 0,
              "ticks": ""
             }
            },
            "type": "scatterpolar"
           }
          ],
          "scatterpolargl": [
           {
            "marker": {
             "colorbar": {
              "outlinewidth": 0,
              "ticks": ""
             }
            },
            "type": "scatterpolargl"
           }
          ],
          "scatterternary": [
           {
            "marker": {
             "colorbar": {
              "outlinewidth": 0,
              "ticks": ""
             }
            },
            "type": "scatterternary"
           }
          ],
          "surface": [
           {
            "colorbar": {
             "outlinewidth": 0,
             "ticks": ""
            },
            "colorscale": [
             [
              0,
              "#0d0887"
             ],
             [
              0.1111111111111111,
              "#46039f"
             ],
             [
              0.2222222222222222,
              "#7201a8"
             ],
             [
              0.3333333333333333,
              "#9c179e"
             ],
             [
              0.4444444444444444,
              "#bd3786"
             ],
             [
              0.5555555555555556,
              "#d8576b"
             ],
             [
              0.6666666666666666,
              "#ed7953"
             ],
             [
              0.7777777777777778,
              "#fb9f3a"
             ],
             [
              0.8888888888888888,
              "#fdca26"
             ],
             [
              1,
              "#f0f921"
             ]
            ],
            "type": "surface"
           }
          ],
          "table": [
           {
            "cells": {
             "fill": {
              "color": "#EBF0F8"
             },
             "line": {
              "color": "white"
             }
            },
            "header": {
             "fill": {
              "color": "#C8D4E3"
             },
             "line": {
              "color": "white"
             }
            },
            "type": "table"
           }
          ]
         },
         "layout": {
          "annotationdefaults": {
           "arrowcolor": "#2a3f5f",
           "arrowhead": 0,
           "arrowwidth": 1
          },
          "autotypenumbers": "strict",
          "coloraxis": {
           "colorbar": {
            "outlinewidth": 0,
            "ticks": ""
           }
          },
          "colorscale": {
           "diverging": [
            [
             0,
             "#8e0152"
            ],
            [
             0.1,
             "#c51b7d"
            ],
            [
             0.2,
             "#de77ae"
            ],
            [
             0.3,
             "#f1b6da"
            ],
            [
             0.4,
             "#fde0ef"
            ],
            [
             0.5,
             "#f7f7f7"
            ],
            [
             0.6,
             "#e6f5d0"
            ],
            [
             0.7,
             "#b8e186"
            ],
            [
             0.8,
             "#7fbc41"
            ],
            [
             0.9,
             "#4d9221"
            ],
            [
             1,
             "#276419"
            ]
           ],
           "sequential": [
            [
             0,
             "#0d0887"
            ],
            [
             0.1111111111111111,
             "#46039f"
            ],
            [
             0.2222222222222222,
             "#7201a8"
            ],
            [
             0.3333333333333333,
             "#9c179e"
            ],
            [
             0.4444444444444444,
             "#bd3786"
            ],
            [
             0.5555555555555556,
             "#d8576b"
            ],
            [
             0.6666666666666666,
             "#ed7953"
            ],
            [
             0.7777777777777778,
             "#fb9f3a"
            ],
            [
             0.8888888888888888,
             "#fdca26"
            ],
            [
             1,
             "#f0f921"
            ]
           ],
           "sequentialminus": [
            [
             0,
             "#0d0887"
            ],
            [
             0.1111111111111111,
             "#46039f"
            ],
            [
             0.2222222222222222,
             "#7201a8"
            ],
            [
             0.3333333333333333,
             "#9c179e"
            ],
            [
             0.4444444444444444,
             "#bd3786"
            ],
            [
             0.5555555555555556,
             "#d8576b"
            ],
            [
             0.6666666666666666,
             "#ed7953"
            ],
            [
             0.7777777777777778,
             "#fb9f3a"
            ],
            [
             0.8888888888888888,
             "#fdca26"
            ],
            [
             1,
             "#f0f921"
            ]
           ]
          },
          "colorway": [
           "#636efa",
           "#EF553B",
           "#00cc96",
           "#ab63fa",
           "#FFA15A",
           "#19d3f3",
           "#FF6692",
           "#B6E880",
           "#FF97FF",
           "#FECB52"
          ],
          "font": {
           "color": "#2a3f5f"
          },
          "geo": {
           "bgcolor": "white",
           "lakecolor": "white",
           "landcolor": "#E5ECF6",
           "showlakes": true,
           "showland": true,
           "subunitcolor": "white"
          },
          "hoverlabel": {
           "align": "left"
          },
          "hovermode": "closest",
          "mapbox": {
           "style": "light"
          },
          "paper_bgcolor": "white",
          "plot_bgcolor": "#E5ECF6",
          "polar": {
           "angularaxis": {
            "gridcolor": "white",
            "linecolor": "white",
            "ticks": ""
           },
           "bgcolor": "#E5ECF6",
           "radialaxis": {
            "gridcolor": "white",
            "linecolor": "white",
            "ticks": ""
           }
          },
          "scene": {
           "xaxis": {
            "backgroundcolor": "#E5ECF6",
            "gridcolor": "white",
            "gridwidth": 2,
            "linecolor": "white",
            "showbackground": true,
            "ticks": "",
            "zerolinecolor": "white"
           },
           "yaxis": {
            "backgroundcolor": "#E5ECF6",
            "gridcolor": "white",
            "gridwidth": 2,
            "linecolor": "white",
            "showbackground": true,
            "ticks": "",
            "zerolinecolor": "white"
           },
           "zaxis": {
            "backgroundcolor": "#E5ECF6",
            "gridcolor": "white",
            "gridwidth": 2,
            "linecolor": "white",
            "showbackground": true,
            "ticks": "",
            "zerolinecolor": "white"
           }
          },
          "shapedefaults": {
           "line": {
            "color": "#2a3f5f"
           }
          },
          "ternary": {
           "aaxis": {
            "gridcolor": "white",
            "linecolor": "white",
            "ticks": ""
           },
           "baxis": {
            "gridcolor": "white",
            "linecolor": "white",
            "ticks": ""
           },
           "bgcolor": "#E5ECF6",
           "caxis": {
            "gridcolor": "white",
            "linecolor": "white",
            "ticks": ""
           }
          },
          "title": {
           "x": 0.05
          },
          "xaxis": {
           "automargin": true,
           "gridcolor": "white",
           "linecolor": "white",
           "ticks": "",
           "title": {
            "standoff": 15
           },
           "zerolinecolor": "white",
           "zerolinewidth": 2
          },
          "yaxis": {
           "automargin": true,
           "gridcolor": "white",
           "linecolor": "white",
           "ticks": "",
           "title": {
            "standoff": 15
           },
           "zerolinecolor": "white",
           "zerolinewidth": 2
          }
         }
        },
        "xaxis": {
         "anchor": "y",
         "autorange": true,
         "domain": [
          0,
          1
         ],
         "range": [
          -0.5,
          9.5
         ],
         "title": {
          "text": "Movie Title"
         },
         "type": "category"
        },
        "yaxis": {
         "anchor": "x",
         "autorange": true,
         "domain": [
          0,
          1
         ],
         "range": [
          0,
          9.473684210526315
         ],
         "title": {
          "text": "imdbRating"
         },
         "type": "linear"
        }
       }
      },
      "image/png": "[encoded data removed]",
      "text/html": [
       "<div>                            <div id=\"524e515d-d5b4-4d81-a4b7-d124fde263f6\" class=\"plotly-graph-div\" style=\"height:525px; width:100%;\"></div>            <script type=\"text/javascript\">                require([\"plotly\"], function(Plotly) {                    window.PLOTLYENV=window.PLOTLYENV || {};                                    if (document.getElementById(\"524e515d-d5b4-4d81-a4b7-d124fde263f6\")) {                    Plotly.newPlot(                        \"524e515d-d5b4-4d81-a4b7-d124fde263f6\",                        [{\"alignmentgroup\":\"True\",\"hovertemplate\":\"Movie Title=%{x}\\u003cbr\\u003eimdbRating=%{y}\\u003cextra\\u003e\\u003c\\u002fextra\\u003e\",\"legendgroup\":\"\",\"marker\":{\"color\":\"#636efa\",\"pattern\":{\"shape\":\"\"}},\"name\":\"\",\"offsetgroup\":\"\",\"orientation\":\"v\",\"showlegend\":false,\"textposition\":\"auto\",\"x\":[\"The Lord of the Rings: The Return of the King\",\"The Lord of the Rings: The Fellowship of the Ring\",\"The Lord of the Rings: The Two Towers\",\"City of God (2002 film)\",\"Daredevil (film)\",\"Spirited Away\",\"The Pianist (2002 film)\",\"Gladiator (2000 film)\",\"Alien (film)\",\"Memento (film)\"],\"xaxis\":\"x\",\"y\":[9.0,8.9,8.8,8.6,8.6,8.6,8.5,8.5,8.5,8.4],\"yaxis\":\"y\",\"type\":\"bar\"}],                        {\"template\":{\"data\":{\"histogram2dcontour\":[{\"type\":\"histogram2dcontour\",\"colorbar\":{\"outlinewidth\":0,\"ticks\":\"\"},\"colorscale\":[[0.0,\"#0d0887\"],[0.1111111111111111,\"#46039f\"],[0.2222222222222222,\"#7201a8\"],[0.3333333333333333,\"#9c179e\"],[0.4444444444444444,\"#bd3786\"],[0.5555555555555556,\"#d8576b\"],[0.6666666666666666,\"#ed7953\"],[0.7777777777777778,\"#fb9f3a\"],[0.8888888888888888,\"#fdca26\"],[1.0,\"#f0f921\"]]}],\"choropleth\":[{\"type\":\"choropleth\",\"colorbar\":{\"outlinewidth\":0,\"ticks\":\"\"}}],\"histogram2d\":[{\"type\":\"histogram2d\",\"colorbar\":{\"outlinewidth\":0,\"ticks\":\"\"},\"colorscale\":[[0.0,\"#0d0887\"],[0.1111111111111111,\"#46039f\"],[0.2222222222222222,\"#7201a8\"],[0.3333333333333333,\"#9c179e\"],[0.4444444444444444,\"#bd3786\"],[0.5555555555555556,\"#d8576b\"],[0.6666666666666666,\"#ed7953\"],[0.7777777777777778,\"#fb9f3a\"],[0.8888888888888888,\"#fdca26\"],[1.0,\"#f0f921\"]]}],\"heatmap\":[{\"type\":\"heatmap\",\"colorbar\":{\"outlinewidth\":0,\"ticks\":\"\"},\"colorscale\":[[0.0,\"#0d0887\"],[0.1111111111111111,\"#46039f\"],[0.2222222222222222,\"#7201a8\"],[0.3333333333333333,\"#9c179e\"],[0.4444444444444444,\"#bd3786\"],[0.5555555555555556,\"#d8576b\"],[0.6666666666666666,\"#ed7953\"],[0.7777777777777778,\"#fb9f3a\"],[0.8888888888888888,\"#fdca26\"],[1.0,\"#f0f921\"]]}],\"heatmapgl\":[{\"type\":\"heatmapgl\",\"colorbar\":{\"outlinewidth\":0,\"ticks\":\"\"},\"colorscale\":[[0.0,\"#0d0887\"],[0.1111111111111111,\"#46039f\"],[0.2222222222222222,\"#7201a8\"],[0.3333333333333333,\"#9c179e\"],[0.4444444444444444,\"#bd3786\"],[0.5555555555555556,\"#d8576b\"],[0.6666666666666666,\"#ed7953\"],[0.7777777777777778,\"#fb9f3a\"],[0.8888888888888888,\"#fdca26\"],[1.0,\"#f0f921\"]]}],\"contourcarpet\":[{\"type\":\"contourcarpet\",\"colorbar\":{\"outlinewidth\":0,\"ticks\":\"\"}}],\"contour\":[{\"type\":\"contour\",\"colorbar\":{\"outlinewidth\":0,\"ticks\":\"\"},\"colorscale\":[[0.0,\"#0d0887\"],[0.1111111111111111,\"#46039f\"],[0.2222222222222222,\"#7201a8\"],[0.3333333333333333,\"#9c179e\"],[0.4444444444444444,\"#bd3786\"],[0.5555555555555556,\"#d8576b\"],[0.6666666666666666,\"#ed7953\"],[0.7777777777777778,\"#fb9f3a\"],[0.8888888888888888,\"#fdca26\"],[1.0,\"#f0f921\"]]}],\"surface\":[{\"type\":\"surface\",\"colorbar\":{\"outlinewidth\":0,\"ticks\":\"\"},\"colorscale\":[[0.0,\"#0d0887\"],[0.1111111111111111,\"#46039f\"],[0.2222222222222222,\"#7201a8\"],[0.3333333333333333,\"#9c179e\"],[0.4444444444444444,\"#bd3786\"],[0.5555555555555556,\"#d8576b\"],[0.6666666666666666,\"#ed7953\"],[0.7777777777777778,\"#fb9f3a\"],[0.8888888888888888,\"#fdca26\"],[1.0,\"#f0f921\"]]}],\"mesh3d\":[{\"type\":\"mesh3d\",\"colorbar\":{\"outlinewidth\":0,\"ticks\":\"\"}}],\"scatter\":[{\"fillpattern\":{\"fillmode\":\"overlay\",\"size\":10,\"solidity\":0.2},\"type\":\"scatter\"}],\"parcoords\":[{\"type\":\"parcoords\",\"line\":{\"colorbar\":{\"outlinewidth\":0,\"ticks\":\"\"}}}],\"scatterpolargl\":[{\"type\":\"scatterpolargl\",\"marker\":{\"colorbar\":{\"outlinewidth\":0,\"ticks\":\"\"}}}],\"bar\":[{\"error_x\":{\"color\":\"#2a3f5f\"},\"error_y\":{\"color\":\"#2a3f5f\"},\"marker\":{\"line\":{\"color\":\"#E5ECF6\",\"width\":0.5},\"pattern\":{\"fillmode\":\"overlay\",\"size\":10,\"solidity\":0.2}},\"type\":\"bar\"}],\"scattergeo\":[{\"type\":\"scattergeo\",\"marker\":{\"colorbar\":{\"outlinewidth\":0,\"ticks\":\"\"}}}],\"scatterpolar\":[{\"type\":\"scatterpolar\",\"marker\":{\"colorbar\":{\"outlinewidth\":0,\"ticks\":\"\"}}}],\"histogram\":[{\"marker\":{\"pattern\":{\"fillmode\":\"overlay\",\"size\":10,\"solidity\":0.2}},\"type\":\"histogram\"}],\"scattergl\":[{\"type\":\"scattergl\",\"marker\":{\"colorbar\":{\"outlinewidth\":0,\"ticks\":\"\"}}}],\"scatter3d\":[{\"type\":\"scatter3d\",\"line\":{\"colorbar\":{\"outlinewidth\":0,\"ticks\":\"\"}},\"marker\":{\"colorbar\":{\"outlinewidth\":0,\"ticks\":\"\"}}}],\"scattermapbox\":[{\"type\":\"scattermapbox\",\"marker\":{\"colorbar\":{\"outlinewidth\":0,\"ticks\":\"\"}}}],\"scatterternary\":[{\"type\":\"scatterternary\",\"marker\":{\"colorbar\":{\"outlinewidth\":0,\"ticks\":\"\"}}}],\"scattercarpet\":[{\"type\":\"scattercarpet\",\"marker\":{\"colorbar\":{\"outlinewidth\":0,\"ticks\":\"\"}}}],\"carpet\":[{\"aaxis\":{\"endlinecolor\":\"#2a3f5f\",\"gridcolor\":\"white\",\"linecolor\":\"white\",\"minorgridcolor\":\"white\",\"startlinecolor\":\"#2a3f5f\"},\"baxis\":{\"endlinecolor\":\"#2a3f5f\",\"gridcolor\":\"white\",\"linecolor\":\"white\",\"minorgridcolor\":\"white\",\"startlinecolor\":\"#2a3f5f\"},\"type\":\"carpet\"}],\"table\":[{\"cells\":{\"fill\":{\"color\":\"#EBF0F8\"},\"line\":{\"color\":\"white\"}},\"header\":{\"fill\":{\"color\":\"#C8D4E3\"},\"line\":{\"color\":\"white\"}},\"type\":\"table\"}],\"barpolar\":[{\"marker\":{\"line\":{\"color\":\"#E5ECF6\",\"width\":0.5},\"pattern\":{\"fillmode\":\"overlay\",\"size\":10,\"solidity\":0.2}},\"type\":\"barpolar\"}],\"pie\":[{\"automargin\":true,\"type\":\"pie\"}]},\"layout\":{\"autotypenumbers\":\"strict\",\"colorway\":[\"#636efa\",\"#EF553B\",\"#00cc96\",\"#ab63fa\",\"#FFA15A\",\"#19d3f3\",\"#FF6692\",\"#B6E880\",\"#FF97FF\",\"#FECB52\"],\"font\":{\"color\":\"#2a3f5f\"},\"hovermode\":\"closest\",\"hoverlabel\":{\"align\":\"left\"},\"paper_bgcolor\":\"white\",\"plot_bgcolor\":\"#E5ECF6\",\"polar\":{\"bgcolor\":\"#E5ECF6\",\"angularaxis\":{\"gridcolor\":\"white\",\"linecolor\":\"white\",\"ticks\":\"\"},\"radialaxis\":{\"gridcolor\":\"white\",\"linecolor\":\"white\",\"ticks\":\"\"}},\"ternary\":{\"bgcolor\":\"#E5ECF6\",\"aaxis\":{\"gridcolor\":\"white\",\"linecolor\":\"white\",\"ticks\":\"\"},\"baxis\":{\"gridcolor\":\"white\",\"linecolor\":\"white\",\"ticks\":\"\"},\"caxis\":{\"gridcolor\":\"white\",\"linecolor\":\"white\",\"ticks\":\"\"}},\"coloraxis\":{\"colorbar\":{\"outlinewidth\":0,\"ticks\":\"\"}},\"colorscale\":{\"sequential\":[[0.0,\"#0d0887\"],[0.1111111111111111,\"#46039f\"],[0.2222222222222222,\"#7201a8\"],[0.3333333333333333,\"#9c179e\"],[0.4444444444444444,\"#bd3786\"],[0.5555555555555556,\"#d8576b\"],[0.6666666666666666,\"#ed7953\"],[0.7777777777777778,\"#fb9f3a\"],[0.8888888888888888,\"#fdca26\"],[1.0,\"#f0f921\"]],\"sequentialminus\":[[0.0,\"#0d0887\"],[0.1111111111111111,\"#46039f\"],[0.2222222222222222,\"#7201a8\"],[0.3333333333333333,\"#9c179e\"],[0.4444444444444444,\"#bd3786\"],[0.5555555555555556,\"#d8576b\"],[0.6666666666666666,\"#ed7953\"],[0.7777777777777778,\"#fb9f3a\"],[0.8888888888888888,\"#fdca26\"],[1.0,\"#f0f921\"]],\"diverging\":[[0,\"#8e0152\"],[0.1,\"#c51b7d\"],[0.2,\"#de77ae\"],[0.3,\"#f1b6da\"],[0.4,\"#fde0ef\"],[0.5,\"#f7f7f7\"],[0.6,\"#e6f5d0\"],[0.7,\"#b8e186\"],[0.8,\"#7fbc41\"],[0.9,\"#4d9221\"],[1,\"#276419\"]]},\"xaxis\":{\"gridcolor\":\"white\",\"linecolor\":\"white\",\"ticks\":\"\",\"title\":{\"standoff\":15},\"zerolinecolor\":\"white\",\"automargin\":true,\"zerolinewidth\":2},\"yaxis\":{\"gridcolor\":\"white\",\"linecolor\":\"white\",\"ticks\":\"\",\"title\":{\"standoff\":15},\"zerolinecolor\":\"white\",\"automargin\":true,\"zerolinewidth\":2},\"scene\":{\"xaxis\":{\"backgroundcolor\":\"#E5ECF6\",\"gridcolor\":\"white\",\"linecolor\":\"white\",\"showbackground\":true,\"ticks\":\"\",\"zerolinecolor\":\"white\",\"gridwidth\":2},\"yaxis\":{\"backgroundcolor\":\"#E5ECF6\",\"gridcolor\":\"white\",\"linecolor\":\"white\",\"showbackground\":true,\"ticks\":\"\",\"zerolinecolor\":\"white\",\"gridwidth\":2},\"zaxis\":{\"backgroundcolor\":\"#E5ECF6\",\"gridcolor\":\"white\",\"linecolor\":\"white\",\"showbackground\":true,\"ticks\":\"\",\"zerolinecolor\":\"white\",\"gridwidth\":2}},\"shapedefaults\":{\"line\":{\"color\":\"#2a3f5f\"}},\"annotationdefaults\":{\"arrowcolor\":\"#2a3f5f\",\"arrowhead\":0,\"arrowwidth\":1},\"geo\":{\"bgcolor\":\"white\",\"landcolor\":\"#E5ECF6\",\"subunitcolor\":\"white\",\"showland\":true,\"showlakes\":true,\"lakecolor\":\"white\"},\"title\":{\"x\":0.05},\"mapbox\":{\"style\":\"light\"}}},\"xaxis\":{\"anchor\":\"y\",\"domain\":[0.0,1.0],\"title\":{\"text\":\"Movie Title\"}},\"yaxis\":{\"anchor\":\"x\",\"domain\":[0.0,1.0],\"title\":{\"text\":\"imdbRating\"}},\"legend\":{\"tracegroupgap\":0},\"margin\":{\"t\":60},\"barmode\":\"relative\"},                        {\"responsive\": true}                    ).then(function(){\n",
       "                            \n",
       "var gd = document.getElementById('524e515d-d5b4-4d81-a4b7-d124fde263f6');\n",
       "var x = new MutationObserver(function (mutations, observer) {{\n",
       "        var display = window.getComputedStyle(gd).display;\n",
       "        if (!display || display === 'none') {{\n",
       "            console.log([gd, 'removed!']);\n",
       "            Plotly.purge(gd);\n",
       "            observer.disconnect();\n",
       "        }}\n",
       "}});\n",
       "\n",
       "// Listen for the removal of the full notebook cells\n",
       "var notebookContainer = gd.closest('#notebook-container');\n",
       "if (notebookContainer) {{\n",
       "    x.observe(notebookContainer, {childList: true});\n",
       "}}\n",
       "\n",
       "// Listen for the clearing of the current output cell\n",
       "var outputEl = gd.closest('.output');\n",
       "if (outputEl) {{\n",
       "    x.observe(outputEl, {childList: true});\n",
       "}}\n",
       "\n",
       "                        })                };                });            </script>        </div>"
      ]
     },
     "metadata": {},
     "output_type": "display_data"
    }
   ],
   "source": [
    "fig = px.bar(processed_df[['Movie Title', 'imdbRating', 'Year']].sort_values(by='imdbRating', ascending=False).head(10), x='Movie Title', y='imdbRating')\n",
    "fig.show()"
   ]
  },
  {
   "cell_type": "code",
   "execution_count": 32,
   "id": "8ac8c1f6-5729-4dc4-b327-467f97d983a0",
   "metadata": {},
   "outputs": [
    {
     "data": {
      "text/plain": [
       "array(['Comedy', 'Comedy, Drama, Sport', 'Horror, Sci-Fi, Thriller',\n",
       "       'Action, Crime, Thriller', 'Comedy, Drama, Romance',\n",
       "       'Drama, Mystery, Thriller', 'Comedy, Crime, Drama',\n",
       "       'Comedy, Crime, Romance', 'Horror, Mystery',\n",
       "       'Adventure, Drama, Romance', 'Adventure, Comedy, Family',\n",
       "       'Animation, Adventure, Comedy', 'Animation, Adventure, Family',\n",
       "       'Comedy, Documentary', 'Crime, Drama, Thriller', 'Comedy, Drama',\n",
       "       'Action, Horror, Sci-Fi', 'Comedy, Crime',\n",
       "       'Animation, Comedy, Family, Sport', 'Comedy, Crime, Mystery',\n",
       "       'Comedy, Drama, Family', 'Comedy, Sci-Fi', 'Drama, Romance',\n",
       "       'Adventure, Sci-Fi, Thriller', 'Mystery, Thriller',\n",
       "       'Biography, Drama', 'Horror, Thriller', 'Drama, Horror',\n",
       "       'Crime, Drama', nan, 'Comedy, Drama, Music', 'Drama, Sport',\n",
       "       'Action, Crime, Drama', 'Drama', 'Comedy, Sport',\n",
       "       'Drama, Thriller, War', 'Crime, Drama, Horror',\n",
       "       'Documentary, Short, Biography', 'Drama, Comedy, Crime',\n",
       "       'Action, War', 'Drama, Comedy', 'Comedy, Family, Romance',\n",
       "       'Crime, Drama, Mystery', 'Drama, History, Romance',\n",
       "       'Action, Adventure, Drama', 'Action, Adventure, Sci-Fi',\n",
       "       'Drama, Music, Romance', 'Animation, Adventure, Drama',\n",
       "       'Talk-Show', 'Drama, Mystery, Romance',\n",
       "       'Action, Adventure, Comedy', 'Action, Comedy, Crime',\n",
       "       'Romance, Comedy, Musical', 'Sci-Fi, Thriller',\n",
       "       'Animation, Action, Adventure', 'Drama, Romance, War',\n",
       "       'Action, Drama, History', 'Animation, Short, Adventure',\n",
       "       'Action, Comedy, Drama', 'Comedy, Romance',\n",
       "       'Drama, Horror, Mystery', 'Animation, Adventure, Family, Mystery',\n",
       "       'Family, Comedy', 'Adventure, Comedy, Drama',\n",
       "       'Comedy, Romance, Sci-Fi', 'Action, Adventure, Thriller',\n",
       "       'Animation, Action, Adventure, Comedy, Family, Sci-Fi',\n",
       "       'Comedy, Crime, Thriller', 'Crime, Horror, Sci-Fi',\n",
       "       'Action, Adventure, Crime', 'Comedy, Romance, Sport',\n",
       "       'Comedy, Music',\n",
       "       'Animation, Comedy, Family, Fantasy, Horror, Musical',\n",
       "       'Action, Adventure, Fantasy',\n",
       "       'Animation, Adventure, Comedy, Family, Musical',\n",
       "       'Action, Fantasy, Horror', 'Musical, Romance',\n",
       "       'Comedy, Fantasy, Romance', 'Romance', 'Biography, Drama, Sport',\n",
       "       'Animation, Adventure, Comedy, Family, Mystery, Sci-Fi',\n",
       "       'Crime, Drama, Musical', 'Drama, War', 'Drama, Music',\n",
       "       'Drama, Thriller', 'Drama, Horror, Thriller', 'Adventure, Family',\n",
       "       'Crime, Drama, Romance', 'Comedy, Fantasy',\n",
       "       'Horror, Mystery, Thriller', 'Comedy, Family, Sport',\n",
       "       'Adventure, Fantasy, Horror',\n",
       "       'Animation, Action, Crime, Sci-Fi, Thriller',\n",
       "       'Action, Drama, Crime', 'Drama, Fantasy, Sport',\n",
       "       'Action, Sci-Fi, Thriller', 'Action, Mystery, Sci-Fi',\n",
       "       'Comedy, Family, Fantasy', 'Action, Comedy',\n",
       "       'Biography, Drama, Music', 'Drama, Mystery, Sci-Fi',\n",
       "       'Adventure, Crime, Drama', 'Action, Drama, Thriller',\n",
       "       'Comedy, Mystery, Sci-Fi', 'Comedy, Drama, Fantasy',\n",
       "       'Romance, Drama', 'Adventure, Comedy, Crime',\n",
       "       'Drama, History, Thriller', 'Drama, Romance, Western',\n",
       "       'Biography, Drama, History', 'Comedy, Mystery, Romance',\n",
       "       'Crime, Drama, Music', 'Action, Drama, War',\n",
       "       'Biography, Crime, Drama', 'Adventure, Comedy, Fantasy',\n",
       "       'Action, Drama, Sport', 'Action, Horror, Thriller',\n",
       "       'Action, Adventure, Romance', 'Drama, Musical, Romance',\n",
       "       'Documentary, Short', 'Drama, Sci-Fi', 'Comedy, Horror',\n",
       "       'Action, Western', 'Adventure, Comedy, Romance',\n",
       "       'Drama, Romance, Thriller', 'Drama, Mystery',\n",
       "       'Action, Mystery, Thriller', 'Comedy, Crime, Family',\n",
       "       'Animation, Action, Adventure, Comedy, Family, Mystery, Sci-Fi',\n",
       "       'Biography, Comedy, Drama', 'Animation, Drama, Fantasy',\n",
       "       'Thriller', 'Documentary', 'Crime, Thriller',\n",
       "       'Animation, Comedy, Family',\n",
       "       'Animation, Adventure, Comedy, Family, Fantasy, Music',\n",
       "       'Comedy, Family',\n",
       "       'Animation, Action, Adventure, Drama, Family, Fantasy, Sci-Fi',\n",
       "       'Comedy, Drama, War', 'Biography, Drama, Romance',\n",
       "       'Adventure, Biography, Drama', 'Fantasy, Mystery, Romance',\n",
       "       'Biography, Drama, Mystery', 'Comedy, Drama, Mystery',\n",
       "       'Drama, Horror, Musical', 'Action, Sci-Fi, Sport',\n",
       "       'Drama, Fantasy, Mystery', 'Drama, Fantasy, Horror',\n",
       "       'Adventure, Family, Sci-Fi', 'Crime, Mystery, Thriller',\n",
       "       'Action, Drama', 'Biography, Drama, War', 'Comedy, Drama, Sci-Fi',\n",
       "       'Action, Comedy, Thriller', 'Comedy, Drama, Family, Sport',\n",
       "       'Action, Crime, Mystery', 'Documentary, Short, Comedy',\n",
       "       'Comedy, Family, Music', 'Action, Comedy, Sci-Fi',\n",
       "       'Drama, Romance, Sport', 'Crime, Horror, Thriller',\n",
       "       'Animation, Comedy, Family, Fantasy, Horror',\n",
       "       'Drama, Family, Fantasy', 'Drama, History, War',\n",
       "       'Adventure, Family, Fantasy', 'Animation, Comedy, Musical',\n",
       "       'Action, Drama, Sci-Fi', 'Comedy, Crime, Musical',\n",
       "       'Biography, Comedy, Crime', 'Fantasy, Horror, Mystery',\n",
       "       'Comedy, Music, Romance', 'Action, Thriller',\n",
       "       'Action, Comedy, Crime, Family, Sci-Fi',\n",
       "       'Animation, Adventure, Family, Musical', 'Drama, Horror, Sci-Fi',\n",
       "       'Horror', 'Action, Comedy, Fantasy', 'Action, Sci-Fi',\n",
       "       'Animation, Action, Sci-Fi', 'Drama, Family',\n",
       "       'Comedy, Musical, Romance', 'Action, Adventure, Biography',\n",
       "       'Animation, Short', 'Drama, Fantasy', 'Drama, History, Sport',\n",
       "       'Short, Romance', 'Action, Horror', 'Adventure, Comedy, Sport',\n",
       "       'Action, Drama, Romance', 'Comedy, Romance, Drama',\n",
       "       'Animation, Adventure, Comedy, Family, Sci-Fi',\n",
       "       'Drama, Thriller, Crime', 'Comedy, Drama, Musical',\n",
       "       'Action, Fantasy, Thriller', 'Action, Adventure, Horror',\n",
       "       'Horror, Sci-Fi', 'Drama, History', 'Adventure, Drama, Thriller',\n",
       "       'Comedy, Family, Adventure', 'Adventure, Drama, Fantasy'],\n",
       "      dtype=object)"
      ]
     },
     "execution_count": 32,
     "metadata": {},
     "output_type": "execute_result"
    }
   ],
   "source": [
    "processed_df['Genre'].unique()"
   ]
  },
  {
   "cell_type": "code",
   "execution_count": 33,
   "id": "33bd3559-db42-4664-b0d9-4644219a1d8d",
   "metadata": {},
   "outputs": [],
   "source": [
    "processed_df['Genre'].dropna(inplace=True)"
   ]
  },
  {
   "cell_type": "code",
   "execution_count": 34,
   "id": "1ac836fa-9cbc-46ea-a12f-acde48967592",
   "metadata": {},
   "outputs": [],
   "source": [
    "genre_counts = processed_df['Genre'].value_counts().sort_values(ascending=False).head(10)"
   ]
  },
  {
   "cell_type": "code",
   "execution_count": 35,
   "id": "7ba98c98-bd08-489e-a213-bb0d0ca8a9ff",
   "metadata": {},
   "outputs": [
    {
     "data": {
      "text/plain": [
       "Genre\n",
       "Comedy, Drama, Romance          47\n",
       "Comedy, Romance                 37\n",
       "Comedy                          36\n",
       "Drama                           35\n",
       "Drama, Romance                  28\n",
       "Animation, Adventure, Comedy    22\n",
       "Comedy, Drama                   22\n",
       "Crime, Drama, Thriller          19\n",
       "Action, Adventure, Comedy       19\n",
       "Action, Crime, Drama            18\n",
       "Name: count, dtype: int64"
      ]
     },
     "execution_count": 35,
     "metadata": {},
     "output_type": "execute_result"
    }
   ],
   "source": [
    "genre_counts"
   ]
  },
  {
   "cell_type": "code",
   "execution_count": 36,
   "id": "eca40391-dc55-40a0-947a-b5487c90f60d",
   "metadata": {},
   "outputs": [
    {
     "data": {
      "application/vnd.plotly.v1+json": {
       "config": {
        "plotlyServerURL": "https://plot.ly"
       },
       "data": [
        {
         "domain": {
          "x": [
           0,
           1
          ],
          "y": [
           0,
           1
          ]
         },
         "hovertemplate": "Genre=%{label}<br>value=%{value}<extra></extra>",
         "labels": [
          "Comedy, Drama, Romance",
          "Comedy, Romance",
          "Comedy",
          "Drama",
          "Drama, Romance",
          "Animation, Adventure, Comedy",
          "Comedy, Drama",
          "Crime, Drama, Thriller",
          "Action, Adventure, Comedy",
          "Action, Crime, Drama"
         ],
         "legendgroup": "",
         "name": "",
         "showlegend": true,
         "type": "pie",
         "values": [
          47,
          37,
          36,
          35,
          28,
          22,
          22,
          19,
          19,
          18
         ]
        }
       ],
       "layout": {
        "autosize": true,
        "legend": {
         "tracegroupgap": 0
        },
        "template": {
         "data": {
          "bar": [
           {
            "error_x": {
             "color": "#2a3f5f"
            },
            "error_y": {
             "color": "#2a3f5f"
            },
            "marker": {
             "line": {
              "color": "#E5ECF6",
              "width": 0.5
             },
             "pattern": {
              "fillmode": "overlay",
              "size": 10,
              "solidity": 0.2
             }
            },
            "type": "bar"
           }
          ],
          "barpolar": [
           {
            "marker": {
             "line": {
              "color": "#E5ECF6",
              "width": 0.5
             },
             "pattern": {
              "fillmode": "overlay",
              "size": 10,
              "solidity": 0.2
             }
            },
            "type": "barpolar"
           }
          ],
          "carpet": [
           {
            "aaxis": {
             "endlinecolor": "#2a3f5f",
             "gridcolor": "white",
             "linecolor": "white",
             "minorgridcolor": "white",
             "startlinecolor": "#2a3f5f"
            },
            "baxis": {
             "endlinecolor": "#2a3f5f",
             "gridcolor": "white",
             "linecolor": "white",
             "minorgridcolor": "white",
             "startlinecolor": "#2a3f5f"
            },
            "type": "carpet"
           }
          ],
          "choropleth": [
           {
            "colorbar": {
             "outlinewidth": 0,
             "ticks": ""
            },
            "type": "choropleth"
           }
          ],
          "contour": [
           {
            "colorbar": {
             "outlinewidth": 0,
             "ticks": ""
            },
            "colorscale": [
             [
              0,
              "#0d0887"
             ],
             [
              0.1111111111111111,
              "#46039f"
             ],
             [
              0.2222222222222222,
              "#7201a8"
             ],
             [
              0.3333333333333333,
              "#9c179e"
             ],
             [
              0.4444444444444444,
              "#bd3786"
             ],
             [
              0.5555555555555556,
              "#d8576b"
             ],
             [
              0.6666666666666666,
              "#ed7953"
             ],
             [
              0.7777777777777778,
              "#fb9f3a"
             ],
             [
              0.8888888888888888,
              "#fdca26"
             ],
             [
              1,
              "#f0f921"
             ]
            ],
            "type": "contour"
           }
          ],
          "contourcarpet": [
           {
            "colorbar": {
             "outlinewidth": 0,
             "ticks": ""
            },
            "type": "contourcarpet"
           }
          ],
          "heatmap": [
           {
            "colorbar": {
             "outlinewidth": 0,
             "ticks": ""
            },
            "colorscale": [
             [
              0,
              "#0d0887"
             ],
             [
              0.1111111111111111,
              "#46039f"
             ],
             [
              0.2222222222222222,
              "#7201a8"
             ],
             [
              0.3333333333333333,
              "#9c179e"
             ],
             [
              0.4444444444444444,
              "#bd3786"
             ],
             [
              0.5555555555555556,
              "#d8576b"
             ],
             [
              0.6666666666666666,
              "#ed7953"
             ],
             [
              0.7777777777777778,
              "#fb9f3a"
             ],
             [
              0.8888888888888888,
              "#fdca26"
             ],
             [
              1,
              "#f0f921"
             ]
            ],
            "type": "heatmap"
           }
          ],
          "heatmapgl": [
           {
            "colorbar": {
             "outlinewidth": 0,
             "ticks": ""
            },
            "colorscale": [
             [
              0,
              "#0d0887"
             ],
             [
              0.1111111111111111,
              "#46039f"
             ],
             [
              0.2222222222222222,
              "#7201a8"
             ],
             [
              0.3333333333333333,
              "#9c179e"
             ],
             [
              0.4444444444444444,
              "#bd3786"
             ],
             [
              0.5555555555555556,
              "#d8576b"
             ],
             [
              0.6666666666666666,
              "#ed7953"
             ],
             [
              0.7777777777777778,
              "#fb9f3a"
             ],
             [
              0.8888888888888888,
              "#fdca26"
             ],
             [
              1,
              "#f0f921"
             ]
            ],
            "type": "heatmapgl"
           }
          ],
          "histogram": [
           {
            "marker": {
             "pattern": {
              "fillmode": "overlay",
              "size": 10,
              "solidity": 0.2
             }
            },
            "type": "histogram"
           }
          ],
          "histogram2d": [
           {
            "colorbar": {
             "outlinewidth": 0,
             "ticks": ""
            },
            "colorscale": [
             [
              0,
              "#0d0887"
             ],
             [
              0.1111111111111111,
              "#46039f"
             ],
             [
              0.2222222222222222,
              "#7201a8"
             ],
             [
              0.3333333333333333,
              "#9c179e"
             ],
             [
              0.4444444444444444,
              "#bd3786"
             ],
             [
              0.5555555555555556,
              "#d8576b"
             ],
             [
              0.6666666666666666,
              "#ed7953"
             ],
             [
              0.7777777777777778,
              "#fb9f3a"
             ],
             [
              0.8888888888888888,
              "#fdca26"
             ],
             [
              1,
              "#f0f921"
             ]
            ],
            "type": "histogram2d"
           }
          ],
          "histogram2dcontour": [
           {
            "colorbar": {
             "outlinewidth": 0,
             "ticks": ""
            },
            "colorscale": [
             [
              0,
              "#0d0887"
             ],
             [
              0.1111111111111111,
              "#46039f"
             ],
             [
              0.2222222222222222,
              "#7201a8"
             ],
             [
              0.3333333333333333,
              "#9c179e"
             ],
             [
              0.4444444444444444,
              "#bd3786"
             ],
             [
              0.5555555555555556,
              "#d8576b"
             ],
             [
              0.6666666666666666,
              "#ed7953"
             ],
             [
              0.7777777777777778,
              "#fb9f3a"
             ],
             [
              0.8888888888888888,
              "#fdca26"
             ],
             [
              1,
              "#f0f921"
             ]
            ],
            "type": "histogram2dcontour"
           }
          ],
          "mesh3d": [
           {
            "colorbar": {
             "outlinewidth": 0,
             "ticks": ""
            },
            "type": "mesh3d"
           }
          ],
          "parcoords": [
           {
            "line": {
             "colorbar": {
              "outlinewidth": 0,
              "ticks": ""
             }
            },
            "type": "parcoords"
           }
          ],
          "pie": [
           {
            "automargin": true,
            "type": "pie"
           }
          ],
          "scatter": [
           {
            "fillpattern": {
             "fillmode": "overlay",
             "size": 10,
             "solidity": 0.2
            },
            "type": "scatter"
           }
          ],
          "scatter3d": [
           {
            "line": {
             "colorbar": {
              "outlinewidth": 0,
              "ticks": ""
             }
            },
            "marker": {
             "colorbar": {
              "outlinewidth": 0,
              "ticks": ""
             }
            },
            "type": "scatter3d"
           }
          ],
          "scattercarpet": [
           {
            "marker": {
             "colorbar": {
              "outlinewidth": 0,
              "ticks": ""
             }
            },
            "type": "scattercarpet"
           }
          ],
          "scattergeo": [
           {
            "marker": {
             "colorbar": {
              "outlinewidth": 0,
              "ticks": ""
             }
            },
            "type": "scattergeo"
           }
          ],
          "scattergl": [
           {
            "marker": {
             "colorbar": {
              "outlinewidth": 0,
              "ticks": ""
             }
            },
            "type": "scattergl"
           }
          ],
          "scattermapbox": [
           {
            "marker": {
             "colorbar": {
              "outlinewidth": 0,
              "ticks": ""
             }
            },
            "type": "scattermapbox"
           }
          ],
          "scatterpolar": [
           {
            "marker": {
             "colorbar": {
              "outlinewidth": 0,
              "ticks": ""
             }
            },
            "type": "scatterpolar"
           }
          ],
          "scatterpolargl": [
           {
            "marker": {
             "colorbar": {
              "outlinewidth": 0,
              "ticks": ""
             }
            },
            "type": "scatterpolargl"
           }
          ],
          "scatterternary": [
           {
            "marker": {
             "colorbar": {
              "outlinewidth": 0,
              "ticks": ""
             }
            },
            "type": "scatterternary"
           }
          ],
          "surface": [
           {
            "colorbar": {
             "outlinewidth": 0,
             "ticks": ""
            },
            "colorscale": [
             [
              0,
              "#0d0887"
             ],
             [
              0.1111111111111111,
              "#46039f"
             ],
             [
              0.2222222222222222,
              "#7201a8"
             ],
             [
              0.3333333333333333,
              "#9c179e"
             ],
             [
              0.4444444444444444,
              "#bd3786"
             ],
             [
              0.5555555555555556,
              "#d8576b"
             ],
             [
              0.6666666666666666,
              "#ed7953"
             ],
             [
              0.7777777777777778,
              "#fb9f3a"
             ],
             [
              0.8888888888888888,
              "#fdca26"
             ],
             [
              1,
              "#f0f921"
             ]
            ],
            "type": "surface"
           }
          ],
          "table": [
           {
            "cells": {
             "fill": {
              "color": "#EBF0F8"
             },
             "line": {
              "color": "white"
             }
            },
            "header": {
             "fill": {
              "color": "#C8D4E3"
             },
             "line": {
              "color": "white"
             }
            },
            "type": "table"
           }
          ]
         },
         "layout": {
          "annotationdefaults": {
           "arrowcolor": "#2a3f5f",
           "arrowhead": 0,
           "arrowwidth": 1
          },
          "autotypenumbers": "strict",
          "coloraxis": {
           "colorbar": {
            "outlinewidth": 0,
            "ticks": ""
           }
          },
          "colorscale": {
           "diverging": [
            [
             0,
             "#8e0152"
            ],
            [
             0.1,
             "#c51b7d"
            ],
            [
             0.2,
             "#de77ae"
            ],
            [
             0.3,
             "#f1b6da"
            ],
            [
             0.4,
             "#fde0ef"
            ],
            [
             0.5,
             "#f7f7f7"
            ],
            [
             0.6,
             "#e6f5d0"
            ],
            [
             0.7,
             "#b8e186"
            ],
            [
             0.8,
             "#7fbc41"
            ],
            [
             0.9,
             "#4d9221"
            ],
            [
             1,
             "#276419"
            ]
           ],
           "sequential": [
            [
             0,
             "#0d0887"
            ],
            [
             0.1111111111111111,
             "#46039f"
            ],
            [
             0.2222222222222222,
             "#7201a8"
            ],
            [
             0.3333333333333333,
             "#9c179e"
            ],
            [
             0.4444444444444444,
             "#bd3786"
            ],
            [
             0.5555555555555556,
             "#d8576b"
            ],
            [
             0.6666666666666666,
             "#ed7953"
            ],
            [
             0.7777777777777778,
             "#fb9f3a"
            ],
            [
             0.8888888888888888,
             "#fdca26"
            ],
            [
             1,
             "#f0f921"
            ]
           ],
           "sequentialminus": [
            [
             0,
             "#0d0887"
            ],
            [
             0.1111111111111111,
             "#46039f"
            ],
            [
             0.2222222222222222,
             "#7201a8"
            ],
            [
             0.3333333333333333,
             "#9c179e"
            ],
            [
             0.4444444444444444,
             "#bd3786"
            ],
            [
             0.5555555555555556,
             "#d8576b"
            ],
            [
             0.6666666666666666,
             "#ed7953"
            ],
            [
             0.7777777777777778,
             "#fb9f3a"
            ],
            [
             0.8888888888888888,
             "#fdca26"
            ],
            [
             1,
             "#f0f921"
            ]
           ]
          },
          "colorway": [
           "#636efa",
           "#EF553B",
           "#00cc96",
           "#ab63fa",
           "#FFA15A",
           "#19d3f3",
           "#FF6692",
           "#B6E880",
           "#FF97FF",
           "#FECB52"
          ],
          "font": {
           "color": "#2a3f5f"
          },
          "geo": {
           "bgcolor": "white",
           "lakecolor": "white",
           "landcolor": "#E5ECF6",
           "showlakes": true,
           "showland": true,
           "subunitcolor": "white"
          },
          "hoverlabel": {
           "align": "left"
          },
          "hovermode": "closest",
          "mapbox": {
           "style": "light"
          },
          "paper_bgcolor": "white",
          "plot_bgcolor": "#E5ECF6",
          "polar": {
           "angularaxis": {
            "gridcolor": "white",
            "linecolor": "white",
            "ticks": ""
           },
           "bgcolor": "#E5ECF6",
           "radialaxis": {
            "gridcolor": "white",
            "linecolor": "white",
            "ticks": ""
           }
          },
          "scene": {
           "xaxis": {
            "backgroundcolor": "#E5ECF6",
            "gridcolor": "white",
            "gridwidth": 2,
            "linecolor": "white",
            "showbackground": true,
            "ticks": "",
            "zerolinecolor": "white"
           },
           "yaxis": {
            "backgroundcolor": "#E5ECF6",
            "gridcolor": "white",
            "gridwidth": 2,
            "linecolor": "white",
            "showbackground": true,
            "ticks": "",
            "zerolinecolor": "white"
           },
           "zaxis": {
            "backgroundcolor": "#E5ECF6",
            "gridcolor": "white",
            "gridwidth": 2,
            "linecolor": "white",
            "showbackground": true,
            "ticks": "",
            "zerolinecolor": "white"
           }
          },
          "shapedefaults": {
           "line": {
            "color": "#2a3f5f"
           }
          },
          "ternary": {
           "aaxis": {
            "gridcolor": "white",
            "linecolor": "white",
            "ticks": ""
           },
           "baxis": {
            "gridcolor": "white",
            "linecolor": "white",
            "ticks": ""
           },
           "bgcolor": "#E5ECF6",
           "caxis": {
            "gridcolor": "white",
            "linecolor": "white",
            "ticks": ""
           }
          },
          "title": {
           "x": 0.05
          },
          "xaxis": {
           "automargin": true,
           "gridcolor": "white",
           "linecolor": "white",
           "ticks": "",
           "title": {
            "standoff": 15
           },
           "zerolinecolor": "white",
           "zerolinewidth": 2
          },
          "yaxis": {
           "automargin": true,
           "gridcolor": "white",
           "linecolor": "white",
           "ticks": "",
           "title": {
            "standoff": 15
           },
           "zerolinecolor": "white",
           "zerolinewidth": 2
          }
         }
        },
        "title": {
         "text": "Distribution of Genre(s)"
        }
       }
      },
      "image/png": "[encoded data removed]",
      "text/html": [
       "<div>                            <div id=\"a24de679-4c7a-4d90-9cf6-1ec63c8c7c52\" class=\"plotly-graph-div\" style=\"height:525px; width:100%;\"></div>            <script type=\"text/javascript\">                require([\"plotly\"], function(Plotly) {                    window.PLOTLYENV=window.PLOTLYENV || {};                                    if (document.getElementById(\"a24de679-4c7a-4d90-9cf6-1ec63c8c7c52\")) {                    Plotly.newPlot(                        \"a24de679-4c7a-4d90-9cf6-1ec63c8c7c52\",                        [{\"domain\":{\"x\":[0.0,1.0],\"y\":[0.0,1.0]},\"hovertemplate\":\"Genre=%{label}\\u003cbr\\u003evalue=%{value}\\u003cextra\\u003e\\u003c\\u002fextra\\u003e\",\"labels\":[\"Comedy, Drama, Romance\",\"Comedy, Romance\",\"Comedy\",\"Drama\",\"Drama, Romance\",\"Animation, Adventure, Comedy\",\"Comedy, Drama\",\"Crime, Drama, Thriller\",\"Action, Adventure, Comedy\",\"Action, Crime, Drama\"],\"legendgroup\":\"\",\"name\":\"\",\"showlegend\":true,\"values\":[47,37,36,35,28,22,22,19,19,18],\"type\":\"pie\"}],                        {\"template\":{\"data\":{\"histogram2dcontour\":[{\"type\":\"histogram2dcontour\",\"colorbar\":{\"outlinewidth\":0,\"ticks\":\"\"},\"colorscale\":[[0.0,\"#0d0887\"],[0.1111111111111111,\"#46039f\"],[0.2222222222222222,\"#7201a8\"],[0.3333333333333333,\"#9c179e\"],[0.4444444444444444,\"#bd3786\"],[0.5555555555555556,\"#d8576b\"],[0.6666666666666666,\"#ed7953\"],[0.7777777777777778,\"#fb9f3a\"],[0.8888888888888888,\"#fdca26\"],[1.0,\"#f0f921\"]]}],\"choropleth\":[{\"type\":\"choropleth\",\"colorbar\":{\"outlinewidth\":0,\"ticks\":\"\"}}],\"histogram2d\":[{\"type\":\"histogram2d\",\"colorbar\":{\"outlinewidth\":0,\"ticks\":\"\"},\"colorscale\":[[0.0,\"#0d0887\"],[0.1111111111111111,\"#46039f\"],[0.2222222222222222,\"#7201a8\"],[0.3333333333333333,\"#9c179e\"],[0.4444444444444444,\"#bd3786\"],[0.5555555555555556,\"#d8576b\"],[0.6666666666666666,\"#ed7953\"],[0.7777777777777778,\"#fb9f3a\"],[0.8888888888888888,\"#fdca26\"],[1.0,\"#f0f921\"]]}],\"heatmap\":[{\"type\":\"heatmap\",\"colorbar\":{\"outlinewidth\":0,\"ticks\":\"\"},\"colorscale\":[[0.0,\"#0d0887\"],[0.1111111111111111,\"#46039f\"],[0.2222222222222222,\"#7201a8\"],[0.3333333333333333,\"#9c179e\"],[0.4444444444444444,\"#bd3786\"],[0.5555555555555556,\"#d8576b\"],[0.6666666666666666,\"#ed7953\"],[0.7777777777777778,\"#fb9f3a\"],[0.8888888888888888,\"#fdca26\"],[1.0,\"#f0f921\"]]}],\"heatmapgl\":[{\"type\":\"heatmapgl\",\"colorbar\":{\"outlinewidth\":0,\"ticks\":\"\"},\"colorscale\":[[0.0,\"#0d0887\"],[0.1111111111111111,\"#46039f\"],[0.2222222222222222,\"#7201a8\"],[0.3333333333333333,\"#9c179e\"],[0.4444444444444444,\"#bd3786\"],[0.5555555555555556,\"#d8576b\"],[0.6666666666666666,\"#ed7953\"],[0.7777777777777778,\"#fb9f3a\"],[0.8888888888888888,\"#fdca26\"],[1.0,\"#f0f921\"]]}],\"contourcarpet\":[{\"type\":\"contourcarpet\",\"colorbar\":{\"outlinewidth\":0,\"ticks\":\"\"}}],\"contour\":[{\"type\":\"contour\",\"colorbar\":{\"outlinewidth\":0,\"ticks\":\"\"},\"colorscale\":[[0.0,\"#0d0887\"],[0.1111111111111111,\"#46039f\"],[0.2222222222222222,\"#7201a8\"],[0.3333333333333333,\"#9c179e\"],[0.4444444444444444,\"#bd3786\"],[0.5555555555555556,\"#d8576b\"],[0.6666666666666666,\"#ed7953\"],[0.7777777777777778,\"#fb9f3a\"],[0.8888888888888888,\"#fdca26\"],[1.0,\"#f0f921\"]]}],\"surface\":[{\"type\":\"surface\",\"colorbar\":{\"outlinewidth\":0,\"ticks\":\"\"},\"colorscale\":[[0.0,\"#0d0887\"],[0.1111111111111111,\"#46039f\"],[0.2222222222222222,\"#7201a8\"],[0.3333333333333333,\"#9c179e\"],[0.4444444444444444,\"#bd3786\"],[0.5555555555555556,\"#d8576b\"],[0.6666666666666666,\"#ed7953\"],[0.7777777777777778,\"#fb9f3a\"],[0.8888888888888888,\"#fdca26\"],[1.0,\"#f0f921\"]]}],\"mesh3d\":[{\"type\":\"mesh3d\",\"colorbar\":{\"outlinewidth\":0,\"ticks\":\"\"}}],\"scatter\":[{\"fillpattern\":{\"fillmode\":\"overlay\",\"size\":10,\"solidity\":0.2},\"type\":\"scatter\"}],\"parcoords\":[{\"type\":\"parcoords\",\"line\":{\"colorbar\":{\"outlinewidth\":0,\"ticks\":\"\"}}}],\"scatterpolargl\":[{\"type\":\"scatterpolargl\",\"marker\":{\"colorbar\":{\"outlinewidth\":0,\"ticks\":\"\"}}}],\"bar\":[{\"error_x\":{\"color\":\"#2a3f5f\"},\"error_y\":{\"color\":\"#2a3f5f\"},\"marker\":{\"line\":{\"color\":\"#E5ECF6\",\"width\":0.5},\"pattern\":{\"fillmode\":\"overlay\",\"size\":10,\"solidity\":0.2}},\"type\":\"bar\"}],\"scattergeo\":[{\"type\":\"scattergeo\",\"marker\":{\"colorbar\":{\"outlinewidth\":0,\"ticks\":\"\"}}}],\"scatterpolar\":[{\"type\":\"scatterpolar\",\"marker\":{\"colorbar\":{\"outlinewidth\":0,\"ticks\":\"\"}}}],\"histogram\":[{\"marker\":{\"pattern\":{\"fillmode\":\"overlay\",\"size\":10,\"solidity\":0.2}},\"type\":\"histogram\"}],\"scattergl\":[{\"type\":\"scattergl\",\"marker\":{\"colorbar\":{\"outlinewidth\":0,\"ticks\":\"\"}}}],\"scatter3d\":[{\"type\":\"scatter3d\",\"line\":{\"colorbar\":{\"outlinewidth\":0,\"ticks\":\"\"}},\"marker\":{\"colorbar\":{\"outlinewidth\":0,\"ticks\":\"\"}}}],\"scattermapbox\":[{\"type\":\"scattermapbox\",\"marker\":{\"colorbar\":{\"outlinewidth\":0,\"ticks\":\"\"}}}],\"scatterternary\":[{\"type\":\"scatterternary\",\"marker\":{\"colorbar\":{\"outlinewidth\":0,\"ticks\":\"\"}}}],\"scattercarpet\":[{\"type\":\"scattercarpet\",\"marker\":{\"colorbar\":{\"outlinewidth\":0,\"ticks\":\"\"}}}],\"carpet\":[{\"aaxis\":{\"endlinecolor\":\"#2a3f5f\",\"gridcolor\":\"white\",\"linecolor\":\"white\",\"minorgridcolor\":\"white\",\"startlinecolor\":\"#2a3f5f\"},\"baxis\":{\"endlinecolor\":\"#2a3f5f\",\"gridcolor\":\"white\",\"linecolor\":\"white\",\"minorgridcolor\":\"white\",\"startlinecolor\":\"#2a3f5f\"},\"type\":\"carpet\"}],\"table\":[{\"cells\":{\"fill\":{\"color\":\"#EBF0F8\"},\"line\":{\"color\":\"white\"}},\"header\":{\"fill\":{\"color\":\"#C8D4E3\"},\"line\":{\"color\":\"white\"}},\"type\":\"table\"}],\"barpolar\":[{\"marker\":{\"line\":{\"color\":\"#E5ECF6\",\"width\":0.5},\"pattern\":{\"fillmode\":\"overlay\",\"size\":10,\"solidity\":0.2}},\"type\":\"barpolar\"}],\"pie\":[{\"automargin\":true,\"type\":\"pie\"}]},\"layout\":{\"autotypenumbers\":\"strict\",\"colorway\":[\"#636efa\",\"#EF553B\",\"#00cc96\",\"#ab63fa\",\"#FFA15A\",\"#19d3f3\",\"#FF6692\",\"#B6E880\",\"#FF97FF\",\"#FECB52\"],\"font\":{\"color\":\"#2a3f5f\"},\"hovermode\":\"closest\",\"hoverlabel\":{\"align\":\"left\"},\"paper_bgcolor\":\"white\",\"plot_bgcolor\":\"#E5ECF6\",\"polar\":{\"bgcolor\":\"#E5ECF6\",\"angularaxis\":{\"gridcolor\":\"white\",\"linecolor\":\"white\",\"ticks\":\"\"},\"radialaxis\":{\"gridcolor\":\"white\",\"linecolor\":\"white\",\"ticks\":\"\"}},\"ternary\":{\"bgcolor\":\"#E5ECF6\",\"aaxis\":{\"gridcolor\":\"white\",\"linecolor\":\"white\",\"ticks\":\"\"},\"baxis\":{\"gridcolor\":\"white\",\"linecolor\":\"white\",\"ticks\":\"\"},\"caxis\":{\"gridcolor\":\"white\",\"linecolor\":\"white\",\"ticks\":\"\"}},\"coloraxis\":{\"colorbar\":{\"outlinewidth\":0,\"ticks\":\"\"}},\"colorscale\":{\"sequential\":[[0.0,\"#0d0887\"],[0.1111111111111111,\"#46039f\"],[0.2222222222222222,\"#7201a8\"],[0.3333333333333333,\"#9c179e\"],[0.4444444444444444,\"#bd3786\"],[0.5555555555555556,\"#d8576b\"],[0.6666666666666666,\"#ed7953\"],[0.7777777777777778,\"#fb9f3a\"],[0.8888888888888888,\"#fdca26\"],[1.0,\"#f0f921\"]],\"sequentialminus\":[[0.0,\"#0d0887\"],[0.1111111111111111,\"#46039f\"],[0.2222222222222222,\"#7201a8\"],[0.3333333333333333,\"#9c179e\"],[0.4444444444444444,\"#bd3786\"],[0.5555555555555556,\"#d8576b\"],[0.6666666666666666,\"#ed7953\"],[0.7777777777777778,\"#fb9f3a\"],[0.8888888888888888,\"#fdca26\"],[1.0,\"#f0f921\"]],\"diverging\":[[0,\"#8e0152\"],[0.1,\"#c51b7d\"],[0.2,\"#de77ae\"],[0.3,\"#f1b6da\"],[0.4,\"#fde0ef\"],[0.5,\"#f7f7f7\"],[0.6,\"#e6f5d0\"],[0.7,\"#b8e186\"],[0.8,\"#7fbc41\"],[0.9,\"#4d9221\"],[1,\"#276419\"]]},\"xaxis\":{\"gridcolor\":\"white\",\"linecolor\":\"white\",\"ticks\":\"\",\"title\":{\"standoff\":15},\"zerolinecolor\":\"white\",\"automargin\":true,\"zerolinewidth\":2},\"yaxis\":{\"gridcolor\":\"white\",\"linecolor\":\"white\",\"ticks\":\"\",\"title\":{\"standoff\":15},\"zerolinecolor\":\"white\",\"automargin\":true,\"zerolinewidth\":2},\"scene\":{\"xaxis\":{\"backgroundcolor\":\"#E5ECF6\",\"gridcolor\":\"white\",\"linecolor\":\"white\",\"showbackground\":true,\"ticks\":\"\",\"zerolinecolor\":\"white\",\"gridwidth\":2},\"yaxis\":{\"backgroundcolor\":\"#E5ECF6\",\"gridcolor\":\"white\",\"linecolor\":\"white\",\"showbackground\":true,\"ticks\":\"\",\"zerolinecolor\":\"white\",\"gridwidth\":2},\"zaxis\":{\"backgroundcolor\":\"#E5ECF6\",\"gridcolor\":\"white\",\"linecolor\":\"white\",\"showbackground\":true,\"ticks\":\"\",\"zerolinecolor\":\"white\",\"gridwidth\":2}},\"shapedefaults\":{\"line\":{\"color\":\"#2a3f5f\"}},\"annotationdefaults\":{\"arrowcolor\":\"#2a3f5f\",\"arrowhead\":0,\"arrowwidth\":1},\"geo\":{\"bgcolor\":\"white\",\"landcolor\":\"#E5ECF6\",\"subunitcolor\":\"white\",\"showland\":true,\"showlakes\":true,\"lakecolor\":\"white\"},\"title\":{\"x\":0.05},\"mapbox\":{\"style\":\"light\"}}},\"legend\":{\"tracegroupgap\":0},\"title\":{\"text\":\"Distribution of Genre(s)\"}},                        {\"responsive\": true}                    ).then(function(){\n",
       "                            \n",
       "var gd = document.getElementById('a24de679-4c7a-4d90-9cf6-1ec63c8c7c52');\n",
       "var x = new MutationObserver(function (mutations, observer) {{\n",
       "        var display = window.getComputedStyle(gd).display;\n",
       "        if (!display || display === 'none') {{\n",
       "            console.log([gd, 'removed!']);\n",
       "            Plotly.purge(gd);\n",
       "            observer.disconnect();\n",
       "        }}\n",
       "}});\n",
       "\n",
       "// Listen for the removal of the full notebook cells\n",
       "var notebookContainer = gd.closest('#notebook-container');\n",
       "if (notebookContainer) {{\n",
       "    x.observe(notebookContainer, {childList: true});\n",
       "}}\n",
       "\n",
       "// Listen for the clearing of the current output cell\n",
       "var outputEl = gd.closest('.output');\n",
       "if (outputEl) {{\n",
       "    x.observe(outputEl, {childList: true});\n",
       "}}\n",
       "\n",
       "                        })                };                });            </script>        </div>"
      ]
     },
     "metadata": {},
     "output_type": "display_data"
    }
   ],
   "source": [
    "fig = px.pie(genre_counts, values=genre_counts, names=genre_counts.index, title='Distribution of Genre(s)')\n",
    "fig.show()"
   ]
  },
  {
   "cell_type": "markdown",
   "id": "19df649d-caa3-4cda-825c-d967d5840d06",
   "metadata": {},
   "source": [
    "# Corpus Build"
   ]
  },
  {
   "cell_type": "code",
   "execution_count": 60,
   "id": "e5bc242e-e509-44fe-a0b6-4a37c37cc145",
   "metadata": {},
   "outputs": [],
   "source": [
    "def corpus(text):\n",
    "    text = str(text)\n",
    "    text_l = text.split()\n",
    "    return text_l"
   ]
  },
  {
   "cell_type": "code",
   "execution_count": 61,
   "id": "51208f5b-7a81-4072-9290-2b0844da3233",
   "metadata": {},
   "outputs": [],
   "source": [
    "processed_df['corp_list'] = processed_df['ProcessedPlot'].apply(corpus)"
   ]
  },
  {
   "cell_type": "code",
   "execution_count": 63,
   "id": "a28bd049-12e7-4a96-96e4-bf5f6614ca8f",
   "metadata": {},
   "outputs": [
    {
     "data": {
      "text/plain": [
       "0    [kindhearted, clumsy, super, dave, osborne, bo...\n",
       "1    [finding, deebo, escaped, prison, get, revenge...\n",
       "2    [aging, prizefighter, longtime, best, friend, ...\n",
       "3    [supernova, chronicle, searchandrescue, patrol...\n",
       "4    [boston, irish, american, fraternal, twin, bro...\n",
       "Name: corp_list, dtype: object"
      ]
     },
     "execution_count": 63,
     "metadata": {},
     "output_type": "execute_result"
    }
   ],
   "source": [
    "processed_df['corp_list'].head()"
   ]
  },
  {
   "cell_type": "code",
   "execution_count": 64,
   "id": "8e90c188-42db-4c20-9b39-4df43e67f6b3",
   "metadata": {},
   "outputs": [
    {
     "name": "stderr",
     "output_type": "stream",
     "text": [
      "100%|\u001b[34m██████████████████████████████████████████████████████████████████████████████████████████████████████████\u001b[0m| 5556/5556 [00:00<00:00, 31833.67it/s]\u001b[0m\n"
     ]
    },
    {
     "data": {
      "text/plain": [
       "1808076"
      ]
     },
     "execution_count": 64,
     "metadata": {},
     "output_type": "execute_result"
    }
   ],
   "source": [
    "from tqdm import trange\n",
    "corpus = []\n",
    "for i in trange(processed_df.shape[0],ncols=150,nrows=10,colour='blue',smoothing=0.8):\n",
    "    corpus+=processed_df['corp_list'][i]\n",
    "len(corpus)\n"
   ]
  },
  {
   "cell_type": "code",
   "execution_count": 65,
   "id": "19fce6d8-cf01-45f5-8cbb-49da93ca4f92",
   "metadata": {},
   "outputs": [
    {
     "data": {
      "text/plain": [
       "[('find', 8110),\n",
       " ('tell', 6361),\n",
       " ('one', 6290),\n",
       " ('take', 6056),\n",
       " ('go', 6008),\n",
       " ('back', 5539),\n",
       " ('get', 5277),\n",
       " ('father', 5275),\n",
       " ('friend', 5204),\n",
       " ('home', 5177)]"
      ]
     },
     "execution_count": 65,
     "metadata": {},
     "output_type": "execute_result"
    }
   ],
   "source": [
    "# most occuring words\n",
    "from collections import Counter\n",
    "common_words = Counter(corpus).most_common(10)\n",
    "common_words"
   ]
  },
  {
   "cell_type": "code",
   "execution_count": 66,
   "id": "bf8c8ebc-25d5-4888-85db-51eb99e4deb3",
   "metadata": {},
   "outputs": [],
   "source": [
    "words = []\n",
    "freq = []\n",
    "for word, value in common_words:\n",
    "    words.append(word)\n",
    "    freq.append(value)"
   ]
  },
  {
   "cell_type": "code",
   "execution_count": 67,
   "id": "fff56b7d-8acf-46dc-87b4-af0cb91f2401",
   "metadata": {},
   "outputs": [
    {
     "data": {
      "image/png": "[encoded data removed]",
      "text/plain": [
       "<Figure size 640x480 with 1 Axes>"
      ]
     },
     "metadata": {},
     "output_type": "display_data"
    }
   ],
   "source": [
    "sns.barplot(x=freq,y=words)\n",
    "plt.title('Most Occuring words in the Processed Corpus')\n",
    "plt.show()"
   ]
  },
  {
   "cell_type": "markdown",
   "id": "f7491500-fd02-4d80-bdb2-02eddad4973a",
   "metadata": {},
   "source": [
    "# Vectorisation and Prediction"
   ]
  },
  {
   "cell_type": "code",
   "execution_count": 37,
   "id": "0d119bb1-b91f-4601-b867-37f689ab15e0",
   "metadata": {},
   "outputs": [],
   "source": [
    "kmeans = KMeans(n_clusters=10, random_state=42)\n",
    "tf_idf_vectorizer = TfidfVectorizer()\n",
    "bow_vectorizer = CountVectorizer()"
   ]
  },
  {
   "cell_type": "code",
   "execution_count": 38,
   "id": "7193beb6-732a-40fa-80a2-2586b18b8eb7",
   "metadata": {},
   "outputs": [],
   "source": [
    "def train_model(data, vectorizer):\n",
    "    X = vectorizer.fit_transform(data)\n",
    "    return kmeans.fit(X)"
   ]
  },
  {
   "cell_type": "code",
   "execution_count": 39,
   "id": "94a173be-28ce-43a0-940a-3e82484e0ea8",
   "metadata": {},
   "outputs": [],
   "source": [
    "def find_similar_plot(input_plot, vectorizer, model):\n",
    "    new_plot_vectorized = vectorizer.transform(input_plot)\n",
    "    predicted_cluster = model.predict(new_plot_vectorized)\n",
    "\n",
    "    similar_movies_indices = (model.labels_ == predicted_cluster).nonzero()[0]\n",
    "    similar_movies = processed_df.iloc[similar_movies_indices][['Plot Summary']]\n",
    "\n",
    "    return similar_movies"
   ]
  },
  {
   "cell_type": "code",
   "execution_count": 40,
   "id": "bdad6f68-aa7f-4f3e-adfe-0851234c38df",
   "metadata": {},
   "outputs": [],
   "source": [
    "test_txt = [\"1.. Super Dave, also known as Bob Einstein, is a kind and awkward man. He survives!!!!! a near-fatal accident and learns that his manager embezzled money, forcing him into bankruptcy and losing his house. After retiring from stunt work, he meets Sandy, a single mother, and becomes acquainted with her. Later, Sandy's son Timmy requires costly heart surgery. Super Dave must confront the process of raising money for retirement. Hedaya's archenemy Gil Ruston\"]"
   ]
  },
  {
   "cell_type": "code",
   "execution_count": 41,
   "id": "52a0f68b-5dc8-4ace-b0bf-edfab1c86cac",
   "metadata": {},
   "outputs": [],
   "source": [
    "text_txt1 = [\"Character is dave also goes by the name of Einstein. Survives some accident\"]"
   ]
  },
  {
   "cell_type": "markdown",
   "id": "625c63c7-3a10-4a5c-8619-507ff281fea3",
   "metadata": {},
   "source": [
    "## Using TF-IDF"
   ]
  },
  {
   "cell_type": "code",
   "execution_count": 42,
   "id": "cc95aef4-fda8-4994-a6dc-fa0a19bfcf5a",
   "metadata": {},
   "outputs": [
    {
     "name": "stderr",
     "output_type": "stream",
     "text": [
      "C:\\Users\\msani\\AppData\\Local\\Programs\\Python\\Python310\\lib\\site-packages\\sklearn\\cluster\\_kmeans.py:1416: FutureWarning:\n",
      "\n",
      "The default value of `n_init` will change from 10 to 'auto' in 1.4. Set the value of `n_init` explicitly to suppress the warning\n",
      "\n"
     ]
    }
   ],
   "source": [
    "model = train_model(processed_df['ProcessedPlot'], tf_idf_vectorizer)"
   ]
  },
  {
   "cell_type": "code",
   "execution_count": 43,
   "id": "3e17e97f-931d-4f2a-8654-8ddcfccce64f",
   "metadata": {},
   "outputs": [
    {
     "data": {
      "text/plain": [
       "\"After the kind-hearted but clumsy Super Dave Osborne (Bob Einstein) survives a near-fatal accident, he discovers his manager has embezzled from him. This forces him into bankruptcy and causes him to lose his house. Super Dave decides to retire from stunt work, but ends up meeting a single mother named Sandy (Gia Carides). When Super Dave learns that Sandy's son, Timmy (Carl Michael Lindner) needs an expensive heart surgery, Super Dave comes out of retirement to raise the money. In the process, he must face off against his arch-enemy, Gil Ruston (Dan Hedaya).\\n\""
      ]
     },
     "execution_count": 43,
     "metadata": {},
     "output_type": "execute_result"
    }
   ],
   "source": [
    "find_similar_plot(test_txt, tf_idf_vectorizer, model).iloc[0]['Plot Summary']"
   ]
  },
  {
   "cell_type": "code",
   "execution_count": 44,
   "id": "ffd45347-5341-4044-89b6-5afa6145aca7",
   "metadata": {},
   "outputs": [
    {
     "data": {
      "text/plain": [
       "\"After the kind-hearted but clumsy Super Dave Osborne (Bob Einstein) survives a near-fatal accident, he discovers his manager has embezzled from him. This forces him into bankruptcy and causes him to lose his house. Super Dave decides to retire from stunt work, but ends up meeting a single mother named Sandy (Gia Carides). When Super Dave learns that Sandy's son, Timmy (Carl Michael Lindner) needs an expensive heart surgery, Super Dave comes out of retirement to raise the money. In the process, he must face off against his arch-enemy, Gil Ruston (Dan Hedaya).\\n\""
      ]
     },
     "execution_count": 44,
     "metadata": {},
     "output_type": "execute_result"
    }
   ],
   "source": [
    "find_similar_plot(text_txt1, tf_idf_vectorizer, model).iloc[0]['Plot Summary']"
   ]
  },
  {
   "cell_type": "markdown",
   "id": "75772760-05cd-4900-a7b8-b99742073cd1",
   "metadata": {},
   "source": [
    "## Using Bag of Words"
   ]
  },
  {
   "cell_type": "code",
   "execution_count": 52,
   "id": "5eea3d39-cb21-4d6b-bba7-05b5d62ada37",
   "metadata": {},
   "outputs": [
    {
     "name": "stderr",
     "output_type": "stream",
     "text": [
      "C:\\Users\\msani\\AppData\\Local\\Programs\\Python\\Python310\\lib\\site-packages\\sklearn\\cluster\\_kmeans.py:1416: FutureWarning:\n",
      "\n",
      "The default value of `n_init` will change from 10 to 'auto' in 1.4. Set the value of `n_init` explicitly to suppress the warning\n",
      "\n"
     ]
    }
   ],
   "source": [
    "model = train_model(processed_df['ProcessedPlot'], bow_vectorizer)"
   ]
  },
  {
   "cell_type": "code",
   "execution_count": 46,
   "id": "4caac523-1c22-45ff-a779-9d3ef75f6f4a",
   "metadata": {},
   "outputs": [
    {
     "data": {
      "text/plain": [
       "\"After the kind-hearted but clumsy Super Dave Osborne (Bob Einstein) survives a near-fatal accident, he discovers his manager has embezzled from him. This forces him into bankruptcy and causes him to lose his house. Super Dave decides to retire from stunt work, but ends up meeting a single mother named Sandy (Gia Carides). When Super Dave learns that Sandy's son, Timmy (Carl Michael Lindner) needs an expensive heart surgery, Super Dave comes out of retirement to raise the money. In the process, he must face off against his arch-enemy, Gil Ruston (Dan Hedaya).\\n\""
      ]
     },
     "execution_count": 46,
     "metadata": {},
     "output_type": "execute_result"
    }
   ],
   "source": [
    "find_similar_plot(test_txt, bow_vectorizer, model).iloc[0]['Plot Summary']"
   ]
  },
  {
   "cell_type": "code",
   "execution_count": 47,
   "id": "58564ede-7c1d-48b9-bf61-54c6f0938199",
   "metadata": {},
   "outputs": [
    {
     "data": {
      "text/plain": [
       "\"After the kind-hearted but clumsy Super Dave Osborne (Bob Einstein) survives a near-fatal accident, he discovers his manager has embezzled from him. This forces him into bankruptcy and causes him to lose his house. Super Dave decides to retire from stunt work, but ends up meeting a single mother named Sandy (Gia Carides). When Super Dave learns that Sandy's son, Timmy (Carl Michael Lindner) needs an expensive heart surgery, Super Dave comes out of retirement to raise the money. In the process, he must face off against his arch-enemy, Gil Ruston (Dan Hedaya).\\n\""
      ]
     },
     "execution_count": 47,
     "metadata": {},
     "output_type": "execute_result"
    }
   ],
   "source": [
    "find_similar_plot(text_txt1, tf_idf_vectorizer, model).iloc[0]['Plot Summary']"
   ]
  },
  {
   "cell_type": "markdown",
   "id": "c3566a7d-df01-4fb7-b910-ecc65e20bc53",
   "metadata": {},
   "source": [
    "## Testing"
   ]
  },
  {
   "cell_type": "code",
   "execution_count": 49,
   "id": "df20f9ef-84c2-4249-9a8d-b41b0bc82dde",
   "metadata": {},
   "outputs": [
    {
     "data": {
      "text/plain": [
       "'In London, Marc enjoys a Christmas party with friends and Oliver, his husband of many years. Oliver leaves the party early to travel for a book signing in Paris and dies in a car accident just seconds after.\\nIn the following year, Marc\\'s best friends Sophie and Thomas try to help him through his grief. However, Marc opens a note from Oliver confessing he had met someone else. Then he discovers his husband had also been secretly leasing a flat in Paris.\\nMarc brings Sophie and Thomas with him to the city, though he keeps the revelation a secret so the three can have a good time. Sophie, who had recently ended a serious relationship with her boyfriend Terrance, brings them to meet a date, which Marc leaves to spend time with Theo, a French man he had previously met at a London performance art exhibit.\\nMarc admits that his anger at Oliver\\'s secrets is distracting him from his grief. He also reveals that he gave up painting following the death of his mother, and he worries that he\\'s not properly grieving Oliver just as he didn\\'t properly grieve her. Theo brings Marc to the Claude Monet room at the Musée de l\\'Orangerie, explaining that it had been painted after the death of his family, and they kiss.\\nThe next morning, Thomas berates the two for their abandonment, explaining that Sophie had been found sleeping at a bus station and he could not reach Marc. A man enters and introduces himself as Luca, a Berlin native who had won Oliver\\'s art scholarship before growing closer to him, finally leading to Marc telling the truth about the nature of their trip.\\nAt dinner, Sophie apologizes to the others and asks that they are honest about their feelings for once. The friends ride the Roue de Paris where Sophie admits that she has commitment issues and Thomas admits his fear of never being \"the one\" for his boyfriends. Sophie and Thomas depart for London, Luca apologizes to Marc and tells him that Oliver had no intention of leaving him, and Marc sees Theo one last time.\\nAfter Marc returns to London, he decides to sell the house he\\'d shared with Oliver and takes up painting again. The next Christmas, Sophie is engaged to Terrance and Thomas introduces his new boyfriend to Marc. Marc\\'s portraits, including ones of himself, Sophie, Thomas, Oliver, and Theo, are featured in a gallery, as Marc is finally in a place of acceptance.\\n'"
      ]
     },
     "execution_count": 49,
     "metadata": {},
     "output_type": "execute_result"
    }
   ],
   "source": [
    "processed_df.iloc[-1]['Plot Summary']"
   ]
  },
  {
   "cell_type": "code",
   "execution_count": 50,
   "id": "00c76797-6f4e-48a5-b120-58fa0eb197cd",
   "metadata": {},
   "outputs": [],
   "source": [
    "test_txt2 = [\"In London, Marc enjoys a Christmas party with friends and Oliver, his husband of many years. Oliver leaves the party early to travel for a book signing in Paris and dies in a car accident just seconds after.\\nIn the following year, Marc\\'s best friends Sophie and Thomas try to help him through his grief. However, Marc opens a note from Oliver confessing he had met someone else. Then he discovers his husband had also been secretly leasing a flat in Paris.\\nMarc brings Sophie and Thomas with him to the city, though he keeps the revelation a secret so the three can have a good time. Sophie, who had recently ended a serious relationship with her boyfriend Terrance, brings them to meet a date, which Marc leaves to spend time with Theo, a French man he had previously met at a London performance art exhibit.\\nMarc admits that his anger at Oliver\\'s secrets is distracting him from his grief. He also reveals that he gave up painting following the death of his mother, and he worries that he\\'s not properly grieving Oliver just as he didn\\'t properly grieve her. Theo brings Marc to the Claude Monet room at the Musée de l\\'Orangerie, explaining that it had been painted after the death of his family, and they kiss.\\nThe next morning, Thomas berates the two for their abandonment, explaining that Sophie had been found sleeping at a bus station and he could not reach Marc. A man enters and introduces himself as Luca, a Berlin native who had won Oliver\\'s art scholarship before growing closer to him, finally leading to Marc telling the truth about the nature of their trip.\"]"
   ]
  },
  {
   "cell_type": "code",
   "execution_count": 59,
   "id": "ef41ab7b-2958-44d7-8831-c1c520b9b7cd",
   "metadata": {},
   "outputs": [
    {
     "data": {
      "text/plain": [
       "\"After the kind-hearted but clumsy Super Dave Osborne (Bob Einstein) survives a near-fatal accident, he discovers his manager has embezzled from him. This forces him into bankruptcy and causes him to lose his house. Super Dave decides to retire from stunt work, but ends up meeting a single mother named Sandy (Gia Carides). When Super Dave learns that Sandy's son, Timmy (Carl Michael Lindner) needs an expensive heart surgery, Super Dave comes out of retirement to raise the money. In the process, he must face off against his arch-enemy, Gil Ruston (Dan Hedaya).\\n\""
      ]
     },
     "execution_count": 59,
     "metadata": {},
     "output_type": "execute_result"
    }
   ],
   "source": [
    "find_similar_plot(test_txt2, bow_vectorizer, model).iloc[0]['Plot Summary']"
   ]
  }
 ],
 "metadata": {
  "kernelspec": {
   "display_name": "Python 3 (ipykernel)",
   "language": "python",
   "name": "python3"
  },
  "language_info": {
   "codemirror_mode": {
    "name": "ipython",
    "version": 3
   },
   "file_extension": ".py",
   "mimetype": "text/x-python",
   "name": "python",
   "nbconvert_exporter": "python",
   "pygments_lexer": "ipython3",
   "version": "3.10.0"
  }
 },
 "nbformat": 4,
 "nbformat_minor": 5
}
