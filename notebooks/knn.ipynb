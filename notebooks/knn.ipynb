{
 "cells": [
  {
   "cell_type": "code",
   "execution_count": 1,
   "metadata": {},
   "outputs": [],
   "source": [
    "import numpy as np\n",
    "import pandas as pd\n",
    "from sklearn.neighbors import NearestNeighbors\n",
    "from sklearn.pipeline import Pipeline\n",
    "from gensim.models import KeyedVectors\n",
    "from gensim.scripts.glove2word2vec import glove2word2vec\n"
   ]
  },
  {
   "cell_type": "code",
   "execution_count": 2,
   "metadata": {},
   "outputs": [
    {
     "data": {
      "text/html": [
       "<div>\n",
       "<style scoped>\n",
       "    .dataframe tbody tr th:only-of-type {\n",
       "        vertical-align: middle;\n",
       "    }\n",
       "\n",
       "    .dataframe tbody tr th {\n",
       "        vertical-align: top;\n",
       "    }\n",
       "\n",
       "    .dataframe thead th {\n",
       "        text-align: right;\n",
       "    }\n",
       "</style>\n",
       "<table border=\"1\" class=\"dataframe\">\n",
       "  <thead>\n",
       "    <tr style=\"text-align: right;\">\n",
       "      <th></th>\n",
       "      <th>title</th>\n",
       "      <th>year</th>\n",
       "      <th>image_link</th>\n",
       "      <th>imdb_id</th>\n",
       "      <th>rating_count</th>\n",
       "      <th>rating</th>\n",
       "      <th>genre</th>\n",
       "      <th>keywords</th>\n",
       "      <th>trailer_link</th>\n",
       "      <th>actors</th>\n",
       "      <th>director</th>\n",
       "      <th>synopsis</th>\n",
       "      <th>processed_plot</th>\n",
       "    </tr>\n",
       "  </thead>\n",
       "  <tbody>\n",
       "    <tr>\n",
       "      <th>0</th>\n",
       "      <td>Gladiator</td>\n",
       "      <td>2000</td>\n",
       "      <td>https://m.media-amazon.com/images/M/MV5BMDliMm...</td>\n",
       "      <td>tt0172495</td>\n",
       "      <td>1617220</td>\n",
       "      <td>8.5</td>\n",
       "      <td>[Action, Adventure, Drama]</td>\n",
       "      <td>[roman empire, gladiator, slavery, combat, bat...</td>\n",
       "      <td>https://www.imdb.com/video/vi2628367897/</td>\n",
       "      <td>[Russell Crowe, Joaquin Phoenix, Connie Nielsen]</td>\n",
       "      <td>[Ridley Scott]</td>\n",
       "      <td>Shouting \"Roma Invicta!\" as his forces attack,...</td>\n",
       "      <td>shouting rom invicta force attack general maxi...</td>\n",
       "    </tr>\n",
       "    <tr>\n",
       "      <th>1</th>\n",
       "      <td>Unbreakable</td>\n",
       "      <td>2000</td>\n",
       "      <td>https://m.media-amazon.com/images/M/MV5BMDIwMj...</td>\n",
       "      <td>tt0217869</td>\n",
       "      <td>440860</td>\n",
       "      <td>7.3</td>\n",
       "      <td>[Drama, Mystery, Sci-Fi]</td>\n",
       "      <td>[supernatural power, train crash, superhero, c...</td>\n",
       "      <td>https://www.imdb.com/video/vi1103346201/</td>\n",
       "      <td>[Bruce Willis, Samuel L. Jackson, Robin Wright]</td>\n",
       "      <td>[M. Night Shyamalan]</td>\n",
       "      <td>The film opens as we see a baby being born in ...</td>\n",
       "      <td>film open see baby born west philadelphia elij...</td>\n",
       "    </tr>\n",
       "    <tr>\n",
       "      <th>2</th>\n",
       "      <td>Snatch</td>\n",
       "      <td>2000</td>\n",
       "      <td>https://m.media-amazon.com/images/M/MV5BMTA2ND...</td>\n",
       "      <td>tt0208092</td>\n",
       "      <td>909299</td>\n",
       "      <td>8.2</td>\n",
       "      <td>[Comedy, Crime]</td>\n",
       "      <td>[diamond, boxer, narrated by character, cockne...</td>\n",
       "      <td>https://www.imdb.com/video/vi1558577433/</td>\n",
       "      <td>[Jason Statham, Brad Pitt, Stephen Graham]</td>\n",
       "      <td>[Guy Ritchie]</td>\n",
       "      <td>After stealing an 86-carat (17 g) diamond in a...</td>\n",
       "      <td>stealing carat  g diamond heist antwerp franki...</td>\n",
       "    </tr>\n",
       "    <tr>\n",
       "      <th>3</th>\n",
       "      <td>AmericanPsycho</td>\n",
       "      <td>2000</td>\n",
       "      <td>https://m.media-amazon.com/images/M/MV5BZTM2ZG...</td>\n",
       "      <td>tt0144084</td>\n",
       "      <td>713635</td>\n",
       "      <td>7.6</td>\n",
       "      <td>[Crime, Drama, Horror]</td>\n",
       "      <td>[narcissism, materialism, serial murder, socio...</td>\n",
       "      <td>https://www.imdb.com/video/vi4060743449/</td>\n",
       "      <td>[Christian Bale, Justin Theroux, Josh Lucas]</td>\n",
       "      <td>[Mary Harron]</td>\n",
       "      <td>A white background. Red drops begin to fall pa...</td>\n",
       "      <td>white background red drop begin fall past open...</td>\n",
       "    </tr>\n",
       "    <tr>\n",
       "      <th>4</th>\n",
       "      <td>RequiemforaDream</td>\n",
       "      <td>2000</td>\n",
       "      <td>https://m.media-amazon.com/images/M/MV5BOTdiNz...</td>\n",
       "      <td>tt0180093</td>\n",
       "      <td>897414</td>\n",
       "      <td>8.3</td>\n",
       "      <td>[Drama]</td>\n",
       "      <td>[drug addiction, sex show, sex scene, prostitu...</td>\n",
       "      <td>https://www.imdb.com/video/vi2156069145/</td>\n",
       "      <td>[Ellen Burstyn, Jared Leto, Jennifer Connelly]</td>\n",
       "      <td>[Darren Aronofsky]</td>\n",
       "      <td>Harry Goldfarb (Jared Leto) and Tyrone Love (M...</td>\n",
       "      <td>harry goldfarb jared leto tyrone love marlon w...</td>\n",
       "    </tr>\n",
       "  </tbody>\n",
       "</table>\n",
       "</div>"
      ],
      "text/plain": [
       "              title  year                                         image_link  \\\n",
       "0         Gladiator  2000  https://m.media-amazon.com/images/M/MV5BMDliMm...   \n",
       "1       Unbreakable  2000  https://m.media-amazon.com/images/M/MV5BMDIwMj...   \n",
       "2            Snatch  2000  https://m.media-amazon.com/images/M/MV5BMTA2ND...   \n",
       "3    AmericanPsycho  2000  https://m.media-amazon.com/images/M/MV5BZTM2ZG...   \n",
       "4  RequiemforaDream  2000  https://m.media-amazon.com/images/M/MV5BOTdiNz...   \n",
       "\n",
       "     imdb_id  rating_count  rating                       genre  \\\n",
       "0  tt0172495       1617220     8.5  [Action, Adventure, Drama]   \n",
       "1  tt0217869        440860     7.3    [Drama, Mystery, Sci-Fi]   \n",
       "2  tt0208092        909299     8.2             [Comedy, Crime]   \n",
       "3  tt0144084        713635     7.6      [Crime, Drama, Horror]   \n",
       "4  tt0180093        897414     8.3                     [Drama]   \n",
       "\n",
       "                                            keywords  \\\n",
       "0  [roman empire, gladiator, slavery, combat, bat...   \n",
       "1  [supernatural power, train crash, superhero, c...   \n",
       "2  [diamond, boxer, narrated by character, cockne...   \n",
       "3  [narcissism, materialism, serial murder, socio...   \n",
       "4  [drug addiction, sex show, sex scene, prostitu...   \n",
       "\n",
       "                               trailer_link  \\\n",
       "0  https://www.imdb.com/video/vi2628367897/   \n",
       "1  https://www.imdb.com/video/vi1103346201/   \n",
       "2  https://www.imdb.com/video/vi1558577433/   \n",
       "3  https://www.imdb.com/video/vi4060743449/   \n",
       "4  https://www.imdb.com/video/vi2156069145/   \n",
       "\n",
       "                                             actors              director  \\\n",
       "0  [Russell Crowe, Joaquin Phoenix, Connie Nielsen]        [Ridley Scott]   \n",
       "1   [Bruce Willis, Samuel L. Jackson, Robin Wright]  [M. Night Shyamalan]   \n",
       "2        [Jason Statham, Brad Pitt, Stephen Graham]         [Guy Ritchie]   \n",
       "3      [Christian Bale, Justin Theroux, Josh Lucas]         [Mary Harron]   \n",
       "4    [Ellen Burstyn, Jared Leto, Jennifer Connelly]    [Darren Aronofsky]   \n",
       "\n",
       "                                            synopsis  \\\n",
       "0  Shouting \"Roma Invicta!\" as his forces attack,...   \n",
       "1  The film opens as we see a baby being born in ...   \n",
       "2  After stealing an 86-carat (17 g) diamond in a...   \n",
       "3  A white background. Red drops begin to fall pa...   \n",
       "4  Harry Goldfarb (Jared Leto) and Tyrone Love (M...   \n",
       "\n",
       "                                      processed_plot  \n",
       "0  shouting rom invicta force attack general maxi...  \n",
       "1  film open see baby born west philadelphia elij...  \n",
       "2  stealing carat  g diamond heist antwerp franki...  \n",
       "3  white background red drop begin fall past open...  \n",
       "4  harry goldfarb jared leto tyrone love marlon w...  "
      ]
     },
     "execution_count": 2,
     "metadata": {},
     "output_type": "execute_result"
    }
   ],
   "source": [
    "df = pd.read_csv('../data/processed/preprocessed_dataset.csv')\n",
    "df.head()"
   ]
  },
  {
   "cell_type": "code",
   "execution_count": 3,
   "metadata": {},
   "outputs": [
    {
     "data": {
      "text/plain": [
       "Index(['title', 'year', 'image_link', 'imdb_id', 'rating_count', 'rating',\n",
       "       'genre', 'keywords', 'trailer_link', 'actors', 'director', 'synopsis',\n",
       "       'processed_plot'],\n",
       "      dtype='object')"
      ]
     },
     "execution_count": 3,
     "metadata": {},
     "output_type": "execute_result"
    }
   ],
   "source": [
    "df.columns"
   ]
  },
  {
   "cell_type": "code",
   "execution_count": 4,
   "metadata": {},
   "outputs": [
    {
     "data": {
      "text/html": [
       "<div>\n",
       "<style scoped>\n",
       "    .dataframe tbody tr th:only-of-type {\n",
       "        vertical-align: middle;\n",
       "    }\n",
       "\n",
       "    .dataframe tbody tr th {\n",
       "        vertical-align: top;\n",
       "    }\n",
       "\n",
       "    .dataframe thead th {\n",
       "        text-align: right;\n",
       "    }\n",
       "</style>\n",
       "<table border=\"1\" class=\"dataframe\">\n",
       "  <thead>\n",
       "    <tr style=\"text-align: right;\">\n",
       "      <th></th>\n",
       "      <th>genre</th>\n",
       "      <th>actors</th>\n",
       "      <th>director</th>\n",
       "      <th>keywords</th>\n",
       "      <th>processed_plot</th>\n",
       "    </tr>\n",
       "  </thead>\n",
       "  <tbody>\n",
       "    <tr>\n",
       "      <th>0</th>\n",
       "      <td>[Action, Adventure, Drama]</td>\n",
       "      <td>[Russell Crowe, Joaquin Phoenix, Connie Nielsen]</td>\n",
       "      <td>[Ridley Scott]</td>\n",
       "      <td>[roman empire, gladiator, slavery, combat, bat...</td>\n",
       "      <td>shouting rom invicta force attack general maxi...</td>\n",
       "    </tr>\n",
       "    <tr>\n",
       "      <th>1</th>\n",
       "      <td>[Drama, Mystery, Sci-Fi]</td>\n",
       "      <td>[Bruce Willis, Samuel L. Jackson, Robin Wright]</td>\n",
       "      <td>[M. Night Shyamalan]</td>\n",
       "      <td>[supernatural power, train crash, superhero, c...</td>\n",
       "      <td>film open see baby born west philadelphia elij...</td>\n",
       "    </tr>\n",
       "    <tr>\n",
       "      <th>2</th>\n",
       "      <td>[Comedy, Crime]</td>\n",
       "      <td>[Jason Statham, Brad Pitt, Stephen Graham]</td>\n",
       "      <td>[Guy Ritchie]</td>\n",
       "      <td>[diamond, boxer, narrated by character, cockne...</td>\n",
       "      <td>stealing carat  g diamond heist antwerp franki...</td>\n",
       "    </tr>\n",
       "    <tr>\n",
       "      <th>3</th>\n",
       "      <td>[Crime, Drama, Horror]</td>\n",
       "      <td>[Christian Bale, Justin Theroux, Josh Lucas]</td>\n",
       "      <td>[Mary Harron]</td>\n",
       "      <td>[narcissism, materialism, serial murder, socio...</td>\n",
       "      <td>white background red drop begin fall past open...</td>\n",
       "    </tr>\n",
       "    <tr>\n",
       "      <th>4</th>\n",
       "      <td>[Drama]</td>\n",
       "      <td>[Ellen Burstyn, Jared Leto, Jennifer Connelly]</td>\n",
       "      <td>[Darren Aronofsky]</td>\n",
       "      <td>[drug addiction, sex show, sex scene, prostitu...</td>\n",
       "      <td>harry goldfarb jared leto tyrone love marlon w...</td>\n",
       "    </tr>\n",
       "  </tbody>\n",
       "</table>\n",
       "</div>"
      ],
      "text/plain": [
       "                        genre  \\\n",
       "0  [Action, Adventure, Drama]   \n",
       "1    [Drama, Mystery, Sci-Fi]   \n",
       "2             [Comedy, Crime]   \n",
       "3      [Crime, Drama, Horror]   \n",
       "4                     [Drama]   \n",
       "\n",
       "                                             actors              director  \\\n",
       "0  [Russell Crowe, Joaquin Phoenix, Connie Nielsen]        [Ridley Scott]   \n",
       "1   [Bruce Willis, Samuel L. Jackson, Robin Wright]  [M. Night Shyamalan]   \n",
       "2        [Jason Statham, Brad Pitt, Stephen Graham]         [Guy Ritchie]   \n",
       "3      [Christian Bale, Justin Theroux, Josh Lucas]         [Mary Harron]   \n",
       "4    [Ellen Burstyn, Jared Leto, Jennifer Connelly]    [Darren Aronofsky]   \n",
       "\n",
       "                                            keywords  \\\n",
       "0  [roman empire, gladiator, slavery, combat, bat...   \n",
       "1  [supernatural power, train crash, superhero, c...   \n",
       "2  [diamond, boxer, narrated by character, cockne...   \n",
       "3  [narcissism, materialism, serial murder, socio...   \n",
       "4  [drug addiction, sex show, sex scene, prostitu...   \n",
       "\n",
       "                                      processed_plot  \n",
       "0  shouting rom invicta force attack general maxi...  \n",
       "1  film open see baby born west philadelphia elij...  \n",
       "2  stealing carat  g diamond heist antwerp franki...  \n",
       "3  white background red drop begin fall past open...  \n",
       "4  harry goldfarb jared leto tyrone love marlon w...  "
      ]
     },
     "execution_count": 4,
     "metadata": {},
     "output_type": "execute_result"
    }
   ],
   "source": [
    "features = ['genre', 'actors', 'director', 'keywords', 'processed_plot']\n",
    "df[features].head()"
   ]
  },
  {
   "cell_type": "code",
   "execution_count": 5,
   "metadata": {},
   "outputs": [],
   "source": [
    "# convert the features to lowercase\n",
    "for feature in features:\n",
    "    df[feature] = df[feature].apply(lambda x: x.lower())"
   ]
  },
  {
   "cell_type": "code",
   "execution_count": 6,
   "metadata": {},
   "outputs": [
    {
     "data": {
      "text/html": [
       "<div>\n",
       "<style scoped>\n",
       "    .dataframe tbody tr th:only-of-type {\n",
       "        vertical-align: middle;\n",
       "    }\n",
       "\n",
       "    .dataframe tbody tr th {\n",
       "        vertical-align: top;\n",
       "    }\n",
       "\n",
       "    .dataframe thead th {\n",
       "        text-align: right;\n",
       "    }\n",
       "</style>\n",
       "<table border=\"1\" class=\"dataframe\">\n",
       "  <thead>\n",
       "    <tr style=\"text-align: right;\">\n",
       "      <th></th>\n",
       "      <th>genre</th>\n",
       "      <th>actors</th>\n",
       "      <th>director</th>\n",
       "      <th>keywords</th>\n",
       "      <th>processed_plot</th>\n",
       "    </tr>\n",
       "  </thead>\n",
       "  <tbody>\n",
       "    <tr>\n",
       "      <th>0</th>\n",
       "      <td>[action, adventure, drama]</td>\n",
       "      <td>[russell crowe, joaquin phoenix, connie nielsen]</td>\n",
       "      <td>[ridley scott]</td>\n",
       "      <td>[roman empire, gladiator, slavery, combat, bat...</td>\n",
       "      <td>shouting rom invicta force attack general maxi...</td>\n",
       "    </tr>\n",
       "    <tr>\n",
       "      <th>1</th>\n",
       "      <td>[drama, mystery, sci-fi]</td>\n",
       "      <td>[bruce willis, samuel l. jackson, robin wright]</td>\n",
       "      <td>[m. night shyamalan]</td>\n",
       "      <td>[supernatural power, train crash, superhero, c...</td>\n",
       "      <td>film open see baby born west philadelphia elij...</td>\n",
       "    </tr>\n",
       "    <tr>\n",
       "      <th>2</th>\n",
       "      <td>[comedy, crime]</td>\n",
       "      <td>[jason statham, brad pitt, stephen graham]</td>\n",
       "      <td>[guy ritchie]</td>\n",
       "      <td>[diamond, boxer, narrated by character, cockne...</td>\n",
       "      <td>stealing carat  g diamond heist antwerp franki...</td>\n",
       "    </tr>\n",
       "    <tr>\n",
       "      <th>3</th>\n",
       "      <td>[crime, drama, horror]</td>\n",
       "      <td>[christian bale, justin theroux, josh lucas]</td>\n",
       "      <td>[mary harron]</td>\n",
       "      <td>[narcissism, materialism, serial murder, socio...</td>\n",
       "      <td>white background red drop begin fall past open...</td>\n",
       "    </tr>\n",
       "    <tr>\n",
       "      <th>4</th>\n",
       "      <td>[drama]</td>\n",
       "      <td>[ellen burstyn, jared leto, jennifer connelly]</td>\n",
       "      <td>[darren aronofsky]</td>\n",
       "      <td>[drug addiction, sex show, sex scene, prostitu...</td>\n",
       "      <td>harry goldfarb jared leto tyrone love marlon w...</td>\n",
       "    </tr>\n",
       "  </tbody>\n",
       "</table>\n",
       "</div>"
      ],
      "text/plain": [
       "                        genre  \\\n",
       "0  [action, adventure, drama]   \n",
       "1    [drama, mystery, sci-fi]   \n",
       "2             [comedy, crime]   \n",
       "3      [crime, drama, horror]   \n",
       "4                     [drama]   \n",
       "\n",
       "                                             actors              director  \\\n",
       "0  [russell crowe, joaquin phoenix, connie nielsen]        [ridley scott]   \n",
       "1   [bruce willis, samuel l. jackson, robin wright]  [m. night shyamalan]   \n",
       "2        [jason statham, brad pitt, stephen graham]         [guy ritchie]   \n",
       "3      [christian bale, justin theroux, josh lucas]         [mary harron]   \n",
       "4    [ellen burstyn, jared leto, jennifer connelly]    [darren aronofsky]   \n",
       "\n",
       "                                            keywords  \\\n",
       "0  [roman empire, gladiator, slavery, combat, bat...   \n",
       "1  [supernatural power, train crash, superhero, c...   \n",
       "2  [diamond, boxer, narrated by character, cockne...   \n",
       "3  [narcissism, materialism, serial murder, socio...   \n",
       "4  [drug addiction, sex show, sex scene, prostitu...   \n",
       "\n",
       "                                      processed_plot  \n",
       "0  shouting rom invicta force attack general maxi...  \n",
       "1  film open see baby born west philadelphia elij...  \n",
       "2  stealing carat  g diamond heist antwerp franki...  \n",
       "3  white background red drop begin fall past open...  \n",
       "4  harry goldfarb jared leto tyrone love marlon w...  "
      ]
     },
     "execution_count": 6,
     "metadata": {},
     "output_type": "execute_result"
    }
   ],
   "source": [
    "df[features].head()"
   ]
  },
  {
   "cell_type": "code",
   "execution_count": 7,
   "metadata": {},
   "outputs": [
    {
     "data": {
      "text/plain": [
       "title               0\n",
       "year                0\n",
       "image_link          0\n",
       "imdb_id             0\n",
       "rating_count        0\n",
       "rating              0\n",
       "genre               0\n",
       "keywords            0\n",
       "trailer_link      775\n",
       "actors              0\n",
       "director            0\n",
       "synopsis            0\n",
       "processed_plot      0\n",
       "dtype: int64"
      ]
     },
     "execution_count": 7,
     "metadata": {},
     "output_type": "execute_result"
    }
   ],
   "source": [
    "df.isnull().sum()"
   ]
  },
  {
   "cell_type": "code",
   "execution_count": 8,
   "metadata": {},
   "outputs": [],
   "source": [
    "descriptions = df['processed_plot'].tolist()"
   ]
  },
  {
   "cell_type": "code",
   "execution_count": 9,
   "metadata": {},
   "outputs": [],
   "source": [
    "glove_file = 'glove.6B.100d.txt'  "
   ]
  },
  {
   "cell_type": "code",
   "execution_count": 10,
   "metadata": {},
   "outputs": [],
   "source": [
    "embedding_size = 100\n",
    "word_embeddings = {}\n",
    "with open(glove_file, 'r', encoding='utf-8') as f:\n",
    "    for line in f:\n",
    "        values = line.split()\n",
    "        word = values[0]\n",
    "        embedding = np.array(values[1:], dtype='float32')\n",
    "        word_embeddings[word] = embedding"
   ]
  },
  {
   "cell_type": "code",
   "execution_count": 11,
   "metadata": {},
   "outputs": [],
   "source": [
    "def text_to_embeddings(text):\n",
    "    words = text.split()\n",
    "    embeddings = np.zeros(embedding_size)\n",
    "    count = 0\n",
    "    for word in words:\n",
    "        if word in word_embeddings:\n",
    "            embeddings += word_embeddings[word]\n",
    "            count += 1\n",
    "    if count != 0:\n",
    "        embeddings /= count\n",
    "    return embeddings"
   ]
  },
  {
   "cell_type": "code",
   "execution_count": 12,
   "metadata": {},
   "outputs": [],
   "source": [
    "description_embeddings = np.array([text_to_embeddings(desc) for desc in descriptions])"
   ]
  },
  {
   "cell_type": "code",
   "execution_count": 13,
   "metadata": {},
   "outputs": [],
   "source": [
    "pipeline = Pipeline([\n",
    "    ('knn', NearestNeighbors(n_neighbors=5, metric='cosine'))\n",
    "])"
   ]
  },
  {
   "cell_type": "code",
   "execution_count": 14,
   "metadata": {},
   "outputs": [
    {
     "data": {
      "text/html": [
       "<style>#sk-container-id-1 {color: black;background-color: white;}#sk-container-id-1 pre{padding: 0;}#sk-container-id-1 div.sk-toggleable {background-color: white;}#sk-container-id-1 label.sk-toggleable__label {cursor: pointer;display: block;width: 100%;margin-bottom: 0;padding: 0.3em;box-sizing: border-box;text-align: center;}#sk-container-id-1 label.sk-toggleable__label-arrow:before {content: \"▸\";float: left;margin-right: 0.25em;color: #696969;}#sk-container-id-1 label.sk-toggleable__label-arrow:hover:before {color: black;}#sk-container-id-1 div.sk-estimator:hover label.sk-toggleable__label-arrow:before {color: black;}#sk-container-id-1 div.sk-toggleable__content {max-height: 0;max-width: 0;overflow: hidden;text-align: left;background-color: #f0f8ff;}#sk-container-id-1 div.sk-toggleable__content pre {margin: 0.2em;color: black;border-radius: 0.25em;background-color: #f0f8ff;}#sk-container-id-1 input.sk-toggleable__control:checked~div.sk-toggleable__content {max-height: 200px;max-width: 100%;overflow: auto;}#sk-container-id-1 input.sk-toggleable__control:checked~label.sk-toggleable__label-arrow:before {content: \"▾\";}#sk-container-id-1 div.sk-estimator input.sk-toggleable__control:checked~label.sk-toggleable__label {background-color: #d4ebff;}#sk-container-id-1 div.sk-label input.sk-toggleable__control:checked~label.sk-toggleable__label {background-color: #d4ebff;}#sk-container-id-1 input.sk-hidden--visually {border: 0;clip: rect(1px 1px 1px 1px);clip: rect(1px, 1px, 1px, 1px);height: 1px;margin: -1px;overflow: hidden;padding: 0;position: absolute;width: 1px;}#sk-container-id-1 div.sk-estimator {font-family: monospace;background-color: #f0f8ff;border: 1px dotted black;border-radius: 0.25em;box-sizing: border-box;margin-bottom: 0.5em;}#sk-container-id-1 div.sk-estimator:hover {background-color: #d4ebff;}#sk-container-id-1 div.sk-parallel-item::after {content: \"\";width: 100%;border-bottom: 1px solid gray;flex-grow: 1;}#sk-container-id-1 div.sk-label:hover label.sk-toggleable__label {background-color: #d4ebff;}#sk-container-id-1 div.sk-serial::before {content: \"\";position: absolute;border-left: 1px solid gray;box-sizing: border-box;top: 0;bottom: 0;left: 50%;z-index: 0;}#sk-container-id-1 div.sk-serial {display: flex;flex-direction: column;align-items: center;background-color: white;padding-right: 0.2em;padding-left: 0.2em;position: relative;}#sk-container-id-1 div.sk-item {position: relative;z-index: 1;}#sk-container-id-1 div.sk-parallel {display: flex;align-items: stretch;justify-content: center;background-color: white;position: relative;}#sk-container-id-1 div.sk-item::before, #sk-container-id-1 div.sk-parallel-item::before {content: \"\";position: absolute;border-left: 1px solid gray;box-sizing: border-box;top: 0;bottom: 0;left: 50%;z-index: -1;}#sk-container-id-1 div.sk-parallel-item {display: flex;flex-direction: column;z-index: 1;position: relative;background-color: white;}#sk-container-id-1 div.sk-parallel-item:first-child::after {align-self: flex-end;width: 50%;}#sk-container-id-1 div.sk-parallel-item:last-child::after {align-self: flex-start;width: 50%;}#sk-container-id-1 div.sk-parallel-item:only-child::after {width: 0;}#sk-container-id-1 div.sk-dashed-wrapped {border: 1px dashed gray;margin: 0 0.4em 0.5em 0.4em;box-sizing: border-box;padding-bottom: 0.4em;background-color: white;}#sk-container-id-1 div.sk-label label {font-family: monospace;font-weight: bold;display: inline-block;line-height: 1.2em;}#sk-container-id-1 div.sk-label-container {text-align: center;}#sk-container-id-1 div.sk-container {/* jupyter's `normalize.less` sets `[hidden] { display: none; }` but bootstrap.min.css set `[hidden] { display: none !important; }` so we also need the `!important` here to be able to override the default hidden behavior on the sphinx rendered scikit-learn.org. See: https://github.com/scikit-learn/scikit-learn/issues/21755 */display: inline-block !important;position: relative;}#sk-container-id-1 div.sk-text-repr-fallback {display: none;}</style><div id=\"sk-container-id-1\" class=\"sk-top-container\"><div class=\"sk-text-repr-fallback\"><pre>NearestNeighbors(metric=&#x27;cosine&#x27;)</pre><b>In a Jupyter environment, please rerun this cell to show the HTML representation or trust the notebook. <br />On GitHub, the HTML representation is unable to render, please try loading this page with nbviewer.org.</b></div><div class=\"sk-container\" hidden><div class=\"sk-item\"><div class=\"sk-estimator sk-toggleable\"><input class=\"sk-toggleable__control sk-hidden--visually\" id=\"sk-estimator-id-1\" type=\"checkbox\" checked><label for=\"sk-estimator-id-1\" class=\"sk-toggleable__label sk-toggleable__label-arrow\">NearestNeighbors</label><div class=\"sk-toggleable__content\"><pre>NearestNeighbors(metric=&#x27;cosine&#x27;)</pre></div></div></div></div></div>"
      ],
      "text/plain": [
       "NearestNeighbors(metric='cosine')"
      ]
     },
     "execution_count": 14,
     "metadata": {},
     "output_type": "execute_result"
    }
   ],
   "source": [
    "pipeline.named_steps['knn'].fit(description_embeddings)"
   ]
  },
  {
   "cell_type": "code",
   "execution_count": 15,
   "metadata": {},
   "outputs": [],
   "source": [
    "user_description = \"A thrilling action-packed movie with a twist\""
   ]
  },
  {
   "cell_type": "code",
   "execution_count": 16,
   "metadata": {},
   "outputs": [],
   "source": [
    "# Convert user input to embeddings\n",
    "user_embedding = text_to_embeddings(user_description).reshape(1, -1)\n",
    "\n",
    "# Get recommendations\n",
    "distances, indices = pipeline.named_steps['knn'].kneighbors(user_embedding)"
   ]
  },
  {
   "cell_type": "code",
   "execution_count": 17,
   "metadata": {},
   "outputs": [
    {
     "name": "stdout",
     "output_type": "stream",
     "text": [
      "Recommended Movies:\n",
      "                                                  title  \\\n",
      "6719                                            BadTrip   \n",
      "2114  NotQuiteHollywood:TheWild,UntoldStoryofOzploit...   \n",
      "7203                   EmbracethePanda:MakingTurningRed   \n",
      "984                                   ILikeKillingFlies   \n",
      "1854                      MrWarmth:TheDonRicklesProject   \n",
      "\n",
      "                                         processed_plot  \n",
      "6719  mix scripted buddy comedy road movie real hidd...  \n",
      "2114  quite hollywood synopsisthe much mythologized ...  \n",
      "7203  follow allwomen team helm pixars original feat...  \n",
      "984   bitingly funny comedy follows prickly profanit...  \n",
      "1854  terrific feature film comedy reveals backgroun...  \n"
     ]
    }
   ],
   "source": [
    "# Display recommended movies\n",
    "recommended_movies = df.iloc[indices[0]][['title', 'processed_plot']]\n",
    "print(\"Recommended Movies:\")\n",
    "print(recommended_movies)"
   ]
  },
  {
   "cell_type": "code",
   "execution_count": null,
   "metadata": {},
   "outputs": [],
   "source": []
  }
 ],
 "metadata": {
  "kernelspec": {
   "display_name": "Python 3",
   "language": "python",
   "name": "python3"
  },
  "language_info": {
   "codemirror_mode": {
    "name": "ipython",
    "version": 3
   },
   "file_extension": ".py",
   "mimetype": "text/x-python",
   "name": "python",
   "nbconvert_exporter": "python",
   "pygments_lexer": "ipython3",
   "version": "3.11.5"
  }
 },
 "nbformat": 4,
 "nbformat_minor": 2
}
