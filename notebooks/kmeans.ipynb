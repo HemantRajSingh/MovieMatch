{
 "cells": [
  {
   "cell_type": "code",
   "execution_count": 5,
   "metadata": {},
   "outputs": [],
   "source": [
    "import pandas as pd\n",
    "from sklearn.cluster import KMeans\n",
    "from sklearn.feature_extraction.text import TfidfVectorizer, CountVectorizer"
   ]
  },
  {
   "cell_type": "code",
   "execution_count": 14,
   "metadata": {},
   "outputs": [
    {
     "data": {
      "text/html": [
       "<div>\n",
       "<style scoped>\n",
       "    .dataframe tbody tr th:only-of-type {\n",
       "        vertical-align: middle;\n",
       "    }\n",
       "\n",
       "    .dataframe tbody tr th {\n",
       "        vertical-align: top;\n",
       "    }\n",
       "\n",
       "    .dataframe thead th {\n",
       "        text-align: right;\n",
       "    }\n",
       "</style>\n",
       "<table border=\"1\" class=\"dataframe\">\n",
       "  <thead>\n",
       "    <tr style=\"text-align: right;\">\n",
       "      <th></th>\n",
       "      <th>image_link</th>\n",
       "      <th>imdb_id</th>\n",
       "      <th>rating_count</th>\n",
       "      <th>rating</th>\n",
       "      <th>genre</th>\n",
       "      <th>keywords</th>\n",
       "      <th>trailer_link</th>\n",
       "      <th>actors</th>\n",
       "      <th>director</th>\n",
       "      <th>title</th>\n",
       "      <th>year</th>\n",
       "      <th>plot</th>\n",
       "      <th>processed_plot</th>\n",
       "    </tr>\n",
       "  </thead>\n",
       "  <tbody>\n",
       "    <tr>\n",
       "      <th>0</th>\n",
       "      <td>https://m.media-amazon.com/images/M/MV5BMDliMm...</td>\n",
       "      <td>tt0172495</td>\n",
       "      <td>1610899</td>\n",
       "      <td>8.5</td>\n",
       "      <td>[Action, Adventure, Drama]</td>\n",
       "      <td>[roman empire, gladiator, slavery, combat, bat...</td>\n",
       "      <td>https://www.imdb.com/video/vi2628367897/</td>\n",
       "      <td>[Russell Crowe, Joaquin Phoenix, Connie Nielsen]</td>\n",
       "      <td>[Ridley Scott]</td>\n",
       "      <td>Gladiator</td>\n",
       "      <td>2000</td>\n",
       "      <td>Shouting \"Roma Invicta!\" as his forces attack,...</td>\n",
       "      <td>shouting rom invicta force attack general maxi...</td>\n",
       "    </tr>\n",
       "    <tr>\n",
       "      <th>1</th>\n",
       "      <td>https://m.media-amazon.com/images/M/MV5BZTcyNj...</td>\n",
       "      <td>tt0209144</td>\n",
       "      <td>1316937</td>\n",
       "      <td>8.4</td>\n",
       "      <td>[Mystery, Thriller]</td>\n",
       "      <td>[memory, short term memory loss, hidden truth,...</td>\n",
       "      <td>https://www.imdb.com/video/vi3220356889/</td>\n",
       "      <td>[Guy Pearce, Carrie-Anne Moss, Joe Pantoliano]</td>\n",
       "      <td>[Christopher Nolan]</td>\n",
       "      <td>Memento</td>\n",
       "      <td>2000</td>\n",
       "      <td>Leonard Shelby (Guy Pearce), a man whose short...</td>\n",
       "      <td>leonard shelby guy pearce man whose short term...</td>\n",
       "    </tr>\n",
       "    <tr>\n",
       "      <th>2</th>\n",
       "      <td>https://m.media-amazon.com/images/M/MV5BMTA2ND...</td>\n",
       "      <td>tt0208092</td>\n",
       "      <td>906115</td>\n",
       "      <td>8.2</td>\n",
       "      <td>[Comedy, Crime]</td>\n",
       "      <td>[diamond, boxer, narrated by character, cockne...</td>\n",
       "      <td>https://www.imdb.com/video/vi1558577433/</td>\n",
       "      <td>[Jason Statham, Brad Pitt, Stephen Graham]</td>\n",
       "      <td>[Guy Ritchie]</td>\n",
       "      <td>Snatch</td>\n",
       "      <td>2000</td>\n",
       "      <td>After stealing an 86-carat (17 g) diamond in a...</td>\n",
       "      <td>stealing carat  g diamond heist antwerp franki...</td>\n",
       "    </tr>\n",
       "    <tr>\n",
       "      <th>3</th>\n",
       "      <td>https://m.media-amazon.com/images/M/MV5BZTM2ZG...</td>\n",
       "      <td>tt0144084</td>\n",
       "      <td>709394</td>\n",
       "      <td>7.6</td>\n",
       "      <td>[Crime, Drama, Horror]</td>\n",
       "      <td>[narcissism, materialism, serial murder, socio...</td>\n",
       "      <td>https://www.imdb.com/video/vi4060743449/</td>\n",
       "      <td>[Christian Bale, Justin Theroux, Josh Lucas]</td>\n",
       "      <td>[Mary Harron]</td>\n",
       "      <td>American Psycho</td>\n",
       "      <td>2000</td>\n",
       "      <td>A white background. Red drops begin to fall pa...</td>\n",
       "      <td>white background red drop begin fall past open...</td>\n",
       "    </tr>\n",
       "    <tr>\n",
       "      <th>4</th>\n",
       "      <td>https://m.media-amazon.com/images/M/MV5BNjUxYz...</td>\n",
       "      <td>tt0187393</td>\n",
       "      <td>292416</td>\n",
       "      <td>7.2</td>\n",
       "      <td>[Action, Drama, History]</td>\n",
       "      <td>[american revolution, 18th century, british ar...</td>\n",
       "      <td>https://www.imdb.com/video/vi100139289/</td>\n",
       "      <td>[Mel Gibson, Heath Ledger, Joely Richardson]</td>\n",
       "      <td>[Roland Emmerich]</td>\n",
       "      <td>The Patriot</td>\n",
       "      <td>2000</td>\n",
       "      <td>Benjamin Martin (Mel Gibson), a veteran of the...</td>\n",
       "      <td>benjamin martin mel gibson veteran  french ind...</td>\n",
       "    </tr>\n",
       "  </tbody>\n",
       "</table>\n",
       "</div>"
      ],
      "text/plain": [
       "                                          image_link    imdb_id  rating_count  \\\n",
       "0  https://m.media-amazon.com/images/M/MV5BMDliMm...  tt0172495       1610899   \n",
       "1  https://m.media-amazon.com/images/M/MV5BZTcyNj...  tt0209144       1316937   \n",
       "2  https://m.media-amazon.com/images/M/MV5BMTA2ND...  tt0208092        906115   \n",
       "3  https://m.media-amazon.com/images/M/MV5BZTM2ZG...  tt0144084        709394   \n",
       "4  https://m.media-amazon.com/images/M/MV5BNjUxYz...  tt0187393        292416   \n",
       "\n",
       "   rating                       genre  \\\n",
       "0     8.5  [Action, Adventure, Drama]   \n",
       "1     8.4         [Mystery, Thriller]   \n",
       "2     8.2             [Comedy, Crime]   \n",
       "3     7.6      [Crime, Drama, Horror]   \n",
       "4     7.2    [Action, Drama, History]   \n",
       "\n",
       "                                            keywords  \\\n",
       "0  [roman empire, gladiator, slavery, combat, bat...   \n",
       "1  [memory, short term memory loss, hidden truth,...   \n",
       "2  [diamond, boxer, narrated by character, cockne...   \n",
       "3  [narcissism, materialism, serial murder, socio...   \n",
       "4  [american revolution, 18th century, british ar...   \n",
       "\n",
       "                               trailer_link  \\\n",
       "0  https://www.imdb.com/video/vi2628367897/   \n",
       "1  https://www.imdb.com/video/vi3220356889/   \n",
       "2  https://www.imdb.com/video/vi1558577433/   \n",
       "3  https://www.imdb.com/video/vi4060743449/   \n",
       "4   https://www.imdb.com/video/vi100139289/   \n",
       "\n",
       "                                             actors             director  \\\n",
       "0  [Russell Crowe, Joaquin Phoenix, Connie Nielsen]       [Ridley Scott]   \n",
       "1    [Guy Pearce, Carrie-Anne Moss, Joe Pantoliano]  [Christopher Nolan]   \n",
       "2        [Jason Statham, Brad Pitt, Stephen Graham]        [Guy Ritchie]   \n",
       "3      [Christian Bale, Justin Theroux, Josh Lucas]        [Mary Harron]   \n",
       "4      [Mel Gibson, Heath Ledger, Joely Richardson]    [Roland Emmerich]   \n",
       "\n",
       "              title  year                                               plot  \\\n",
       "0         Gladiator  2000  Shouting \"Roma Invicta!\" as his forces attack,...   \n",
       "1           Memento  2000  Leonard Shelby (Guy Pearce), a man whose short...   \n",
       "2            Snatch  2000  After stealing an 86-carat (17 g) diamond in a...   \n",
       "3   American Psycho  2000  A white background. Red drops begin to fall pa...   \n",
       "4       The Patriot  2000  Benjamin Martin (Mel Gibson), a veteran of the...   \n",
       "\n",
       "                                      processed_plot  \n",
       "0  shouting rom invicta force attack general maxi...  \n",
       "1  leonard shelby guy pearce man whose short term...  \n",
       "2  stealing carat  g diamond heist antwerp franki...  \n",
       "3  white background red drop begin fall past open...  \n",
       "4  benjamin martin mel gibson veteran  french ind...  "
      ]
     },
     "execution_count": 14,
     "metadata": {},
     "output_type": "execute_result"
    }
   ],
   "source": [
    "df = pd.read_csv('../data/processed/preprocessed_dataset.csv')\n",
    "df.head()"
   ]
  },
  {
   "cell_type": "code",
   "execution_count": 16,
   "metadata": {},
   "outputs": [],
   "source": [
    "df.dropna(inplace=True)"
   ]
  },
  {
   "cell_type": "code",
   "execution_count": 17,
   "metadata": {},
   "outputs": [],
   "source": [
    "kmeans = KMeans(n_clusters=10, random_state=42)\n",
    "tf_idf_vectorizer = TfidfVectorizer()\n",
    "bow_vectorizer = CountVectorizer()"
   ]
  },
  {
   "cell_type": "code",
   "execution_count": 18,
   "metadata": {},
   "outputs": [],
   "source": [
    "def train_model(data, vectorizer):\n",
    "    X = vectorizer.fit_transform(data)\n",
    "    return kmeans.fit(X)"
   ]
  },
  {
   "cell_type": "code",
   "execution_count": 27,
   "metadata": {},
   "outputs": [],
   "source": [
    "def find_similar_plot(input_plot, vectorizer, model):\n",
    "    new_plot_vectorized = vectorizer.transform(input_plot)\n",
    "    predicted_cluster = model.predict(new_plot_vectorized)\n",
    "\n",
    "    similar_movies_indices = (model.labels_ == predicted_cluster).nonzero()[0]\n",
    "    similar_movies = df.iloc[similar_movies_indices][['plot']]\n",
    "\n",
    "    return similar_movies"
   ]
  },
  {
   "cell_type": "markdown",
   "metadata": {},
   "source": [
    "## Using TF-IDF"
   ]
  },
  {
   "cell_type": "code",
   "execution_count": 20,
   "metadata": {},
   "outputs": [
    {
     "name": "stderr",
     "output_type": "stream",
     "text": [
      "/Users/hemantrajsingh/anaconda3/lib/python3.11/site-packages/sklearn/cluster/_kmeans.py:870: FutureWarning: The default value of `n_init` will change from 10 to 'auto' in 1.4. Set the value of `n_init` explicitly to suppress the warning\n",
      "  warnings.warn(\n"
     ]
    }
   ],
   "source": [
    "model = train_model(df['processed_plot'], tf_idf_vectorizer)"
   ]
  },
  {
   "cell_type": "code",
   "execution_count": 51,
   "metadata": {},
   "outputs": [
    {
     "name": "stdout",
     "output_type": "stream",
     "text": [
      "Shouting \"Roma Invicta!\" as his forces attack, General Maximus Decimus Meridius (Russell Crowe) leads the Roman Army to victory against Germanic barbarians in the year 180 A.D., ending a prolonged war and earning the esteem of elderly Emperor Marcus Aurelius. Although the dying Aurelius has a son, Commodus (Joaquin Phoenix), he decides to appoint temporary leadership to the morally-upstanding Maximus, with a desire to eventually return power to the Roman Senate. Aurelius informs Maximus and offers him time to consider before informing Commodus, who, in a bout of jealousy, murders his father.Declaring himself the emperor, Commodus asks Maximus for his loyalty, which Maximus, realizing Commodus' involvement in the Emperor's death, refuses. Commodus orders Maximus' execution and dispatches Praetorian Guards to murder Maximus' wife and son. Maximus narrowly escapes his execution and races home only to discover his family's charred and crucified bodies in the smoldering ruins of his villa. After burying his wife and son, a grieving Maximus succumbs to exhaustion and collapses on their graves.Slave traders find Maximus and take him to Zucchabar, a rugged province in North Africa, where he is purchased by Proximo, the head of a local gladiator school. Distraught and nihilistic over the death of his family and betrayal by his empire, Maximus initially refuses to fight, but as he defends himself in the arena his formidable combat skills lead to a rise in popularity with the audience. As he trains and fights further, Maximus befriends Hagen, a Germanic barbarian, and Juba, a Numidian hunter, the latter becoming a close friend and confidant to the grieving Maximus, the two speaking frequently of the afterlife and Maximus' eventual reunification with his family.In Rome, Commodus reopens the gladiatorial games to commemorate his father's death, and Proximo's company of gladiators are hired to participate. In a recreation of the Battle of Zama (incorrectly named the Battle of Carthage) at the Colosseum, Maximus leads Proximo's gladiators to decisive victory against a more powerful force, much to the amazement of the crowd. Commodus descends into the arena to meet the victors and is stunned to discover Maximus as the leader of Proximo's gladiators. The Emperor, unable to kill Maximus because of the crowd's roaring approval for him, sulks out of the arena.As the games continue, Commodus pits Maximus against Tigris of Gaul, Rome's only undefeated gladiator, in an arena surrounded by chained tigers with handlers instructed to target Maximus. Following an intense battle, Maximus narrowly defeats Tigris and awaits Commodus' decision to kill or spare Tigris. As Commodus votes for death, Maximus spares Tigris, deliberately insulting the Emperor and garnering the audience's approval. His bitter enemy now known as \"Maximus the Merciful,\" Commodus becomes more frustrated at his inability to kill Maximus or stop his ascending popularity while Commodus' own popularity shrinks.Following the fight, Maximus meets his former servant Cicero, who reveals that Maximus's army remains loyal to him. They are camped at the port Ostia. Maximus forms a plot with Lucilla, Commodus' sister, and Senator Gracchus to reunite Maximus with his army and overthrow Commodus. Commodus however, suspecting his sister's betrayal, threatens her young son and forces her to reveal the plot. Praetorian guards immediately storm Proximo's gladiator barracks, battling the gladiators while Maximus escapes. Hagen and Proximo are killed in the siege while Juba and the survivors are imprisoned. Maximus escapes to the city walls only to witness Cicero's death and be ambushed by a legion of Praetorian guards.Concluding that legends born in the Colosseum must die there, Commodus personally challenges Maximus to a duel in front of a roaring audience. Acknowledging that Maximus' skill exceeds his own, Commodus deliberately stabs Maximus with a stiletto, puncturing his lung, and has the wound concealed beneath the gladiator's armor. In the arena, the two exchange blows before Maximus rips the sword from Commodus's hands. Commodus requests a sword from his guards, but they betray him and refuse to lend him their weapons. Maximus drops his own sword, but Commodus pulls a hidden stiletto and renews his attack. Maximus then beats Commodus into submission and kills him with his own stiletto.As Commodus collapses in the now-silent Colosseum, a dying Maximus begins seeing his wife and son in the afterlife. He reaches for them but is pulled back to reality by the Praetorian prefect Quintus, who asks for instructions. Maximus orders the release of Proximo's gladiators and Senator Gracchus, whom he reinstates and instructs to return Rome to a Senate-based government.Maximus collapses, and Lucilla rushes to his aid. After being reassured that her son is safe and Commodus is dead, Maximus dies and wanders into the afterlife to his family in the distance. Senator Gracchus and Proximo's gladiators carry his body out of the Colosseum. That night, a newly freed Juba buries Maximus' two small statues of his wife and son in the Colosseum, and says that he too will eventually join them, but not yet.\n"
     ]
    }
   ],
   "source": [
    "print(df['plot'][0])"
   ]
  },
  {
   "cell_type": "code",
   "execution_count": 61,
   "metadata": {},
   "outputs": [],
   "source": [
    "txt = [\"victory against Germanic barbarians\"]"
   ]
  },
  {
   "cell_type": "code",
   "execution_count": 62,
   "metadata": {},
   "outputs": [
    {
     "data": {
      "text/plain": [
       "'Shouting \"Roma Invicta!\" as his forces attack, General Maximus Decimus Meridius (Russell Crowe) leads the Roman Army to victory against Germanic barbarians in the year 180 A.D., ending a prolonged war and earning the esteem of elderly Emperor Marcus Aurelius. Although the dying Aurelius has a son, Commodus (Joaquin Phoenix), he decides to appoint temporary leadership to the morally-upstanding Maximus, with a desire to eventually return power to the Roman Senate. Aurelius informs Maximus and offers him time to consider before informing Commodus, who, in a bout of jealousy, murders his father.Declaring himself the emperor, Commodus asks Maximus for his loyalty, which Maximus, realizing Commodus\\' involvement in the Emperor\\'s death, refuses. Commodus orders Maximus\\' execution and dispatches Praetorian Guards to murder Maximus\\' wife and son. Maximus narrowly escapes his execution and races home only to discover his family\\'s charred and crucified bodies in the smoldering ruins of his villa. After burying his wife and son, a grieving Maximus succumbs to exhaustion and collapses on their graves.Slave traders find Maximus and take him to Zucchabar, a rugged province in North Africa, where he is purchased by Proximo, the head of a local gladiator school. Distraught and nihilistic over the death of his family and betrayal by his empire, Maximus initially refuses to fight, but as he defends himself in the arena his formidable combat skills lead to a rise in popularity with the audience. As he trains and fights further, Maximus befriends Hagen, a Germanic barbarian, and Juba, a Numidian hunter, the latter becoming a close friend and confidant to the grieving Maximus, the two speaking frequently of the afterlife and Maximus\\' eventual reunification with his family.In Rome, Commodus reopens the gladiatorial games to commemorate his father\\'s death, and Proximo\\'s company of gladiators are hired to participate. In a recreation of the Battle of Zama (incorrectly named the Battle of Carthage) at the Colosseum, Maximus leads Proximo\\'s gladiators to decisive victory against a more powerful force, much to the amazement of the crowd. Commodus descends into the arena to meet the victors and is stunned to discover Maximus as the leader of Proximo\\'s gladiators. The Emperor, unable to kill Maximus because of the crowd\\'s roaring approval for him, sulks out of the arena.As the games continue, Commodus pits Maximus against Tigris of Gaul, Rome\\'s only undefeated gladiator, in an arena surrounded by chained tigers with handlers instructed to target Maximus. Following an intense battle, Maximus narrowly defeats Tigris and awaits Commodus\\' decision to kill or spare Tigris. As Commodus votes for death, Maximus spares Tigris, deliberately insulting the Emperor and garnering the audience\\'s approval. His bitter enemy now known as \"Maximus the Merciful,\" Commodus becomes more frustrated at his inability to kill Maximus or stop his ascending popularity while Commodus\\' own popularity shrinks.Following the fight, Maximus meets his former servant Cicero, who reveals that Maximus\\'s army remains loyal to him. They are camped at the port Ostia. Maximus forms a plot with Lucilla, Commodus\\' sister, and Senator Gracchus to reunite Maximus with his army and overthrow Commodus. Commodus however, suspecting his sister\\'s betrayal, threatens her young son and forces her to reveal the plot. Praetorian guards immediately storm Proximo\\'s gladiator barracks, battling the gladiators while Maximus escapes. Hagen and Proximo are killed in the siege while Juba and the survivors are imprisoned. Maximus escapes to the city walls only to witness Cicero\\'s death and be ambushed by a legion of Praetorian guards.Concluding that legends born in the Colosseum must die there, Commodus personally challenges Maximus to a duel in front of a roaring audience. Acknowledging that Maximus\\' skill exceeds his own, Commodus deliberately stabs Maximus with a stiletto, puncturing his lung, and has the wound concealed beneath the gladiator\\'s armor. In the arena, the two exchange blows before Maximus rips the sword from Commodus\\'s hands. Commodus requests a sword from his guards, but they betray him and refuse to lend him their weapons. Maximus drops his own sword, but Commodus pulls a hidden stiletto and renews his attack. Maximus then beats Commodus into submission and kills him with his own stiletto.As Commodus collapses in the now-silent Colosseum, a dying Maximus begins seeing his wife and son in the afterlife. He reaches for them but is pulled back to reality by the Praetorian prefect Quintus, who asks for instructions. Maximus orders the release of Proximo\\'s gladiators and Senator Gracchus, whom he reinstates and instructs to return Rome to a Senate-based government.Maximus collapses, and Lucilla rushes to his aid. After being reassured that her son is safe and Commodus is dead, Maximus dies and wanders into the afterlife to his family in the distance. Senator Gracchus and Proximo\\'s gladiators carry his body out of the Colosseum. That night, a newly freed Juba buries Maximus\\' two small statues of his wife and son in the Colosseum, and says that he too will eventually join them, but not yet.'"
      ]
     },
     "execution_count": 62,
     "metadata": {},
     "output_type": "execute_result"
    }
   ],
   "source": [
    "find_similar_plot(txt, tf_idf_vectorizer, model).iloc[0]['plot']"
   ]
  },
  {
   "cell_type": "markdown",
   "metadata": {},
   "source": [
    "## Using Bag of Words"
   ]
  },
  {
   "cell_type": "code",
   "execution_count": 56,
   "metadata": {},
   "outputs": [
    {
     "name": "stderr",
     "output_type": "stream",
     "text": [
      "/Users/hemantrajsingh/anaconda3/lib/python3.11/site-packages/sklearn/cluster/_kmeans.py:870: FutureWarning: The default value of `n_init` will change from 10 to 'auto' in 1.4. Set the value of `n_init` explicitly to suppress the warning\n",
      "  warnings.warn(\n"
     ]
    }
   ],
   "source": [
    "model = train_model(df['processed_plot'], bow_vectorizer)"
   ]
  },
  {
   "cell_type": "code",
   "execution_count": 63,
   "metadata": {},
   "outputs": [
    {
     "data": {
      "text/plain": [
       "'Shouting \"Roma Invicta!\" as his forces attack, General Maximus Decimus Meridius (Russell Crowe) leads the Roman Army to victory against Germanic barbarians in the year 180 A.D., ending a prolonged war and earning the esteem of elderly Emperor Marcus Aurelius. Although the dying Aurelius has a son, Commodus (Joaquin Phoenix), he decides to appoint temporary leadership to the morally-upstanding Maximus, with a desire to eventually return power to the Roman Senate. Aurelius informs Maximus and offers him time to consider before informing Commodus, who, in a bout of jealousy, murders his father.Declaring himself the emperor, Commodus asks Maximus for his loyalty, which Maximus, realizing Commodus\\' involvement in the Emperor\\'s death, refuses. Commodus orders Maximus\\' execution and dispatches Praetorian Guards to murder Maximus\\' wife and son. Maximus narrowly escapes his execution and races home only to discover his family\\'s charred and crucified bodies in the smoldering ruins of his villa. After burying his wife and son, a grieving Maximus succumbs to exhaustion and collapses on their graves.Slave traders find Maximus and take him to Zucchabar, a rugged province in North Africa, where he is purchased by Proximo, the head of a local gladiator school. Distraught and nihilistic over the death of his family and betrayal by his empire, Maximus initially refuses to fight, but as he defends himself in the arena his formidable combat skills lead to a rise in popularity with the audience. As he trains and fights further, Maximus befriends Hagen, a Germanic barbarian, and Juba, a Numidian hunter, the latter becoming a close friend and confidant to the grieving Maximus, the two speaking frequently of the afterlife and Maximus\\' eventual reunification with his family.In Rome, Commodus reopens the gladiatorial games to commemorate his father\\'s death, and Proximo\\'s company of gladiators are hired to participate. In a recreation of the Battle of Zama (incorrectly named the Battle of Carthage) at the Colosseum, Maximus leads Proximo\\'s gladiators to decisive victory against a more powerful force, much to the amazement of the crowd. Commodus descends into the arena to meet the victors and is stunned to discover Maximus as the leader of Proximo\\'s gladiators. The Emperor, unable to kill Maximus because of the crowd\\'s roaring approval for him, sulks out of the arena.As the games continue, Commodus pits Maximus against Tigris of Gaul, Rome\\'s only undefeated gladiator, in an arena surrounded by chained tigers with handlers instructed to target Maximus. Following an intense battle, Maximus narrowly defeats Tigris and awaits Commodus\\' decision to kill or spare Tigris. As Commodus votes for death, Maximus spares Tigris, deliberately insulting the Emperor and garnering the audience\\'s approval. His bitter enemy now known as \"Maximus the Merciful,\" Commodus becomes more frustrated at his inability to kill Maximus or stop his ascending popularity while Commodus\\' own popularity shrinks.Following the fight, Maximus meets his former servant Cicero, who reveals that Maximus\\'s army remains loyal to him. They are camped at the port Ostia. Maximus forms a plot with Lucilla, Commodus\\' sister, and Senator Gracchus to reunite Maximus with his army and overthrow Commodus. Commodus however, suspecting his sister\\'s betrayal, threatens her young son and forces her to reveal the plot. Praetorian guards immediately storm Proximo\\'s gladiator barracks, battling the gladiators while Maximus escapes. Hagen and Proximo are killed in the siege while Juba and the survivors are imprisoned. Maximus escapes to the city walls only to witness Cicero\\'s death and be ambushed by a legion of Praetorian guards.Concluding that legends born in the Colosseum must die there, Commodus personally challenges Maximus to a duel in front of a roaring audience. Acknowledging that Maximus\\' skill exceeds his own, Commodus deliberately stabs Maximus with a stiletto, puncturing his lung, and has the wound concealed beneath the gladiator\\'s armor. In the arena, the two exchange blows before Maximus rips the sword from Commodus\\'s hands. Commodus requests a sword from his guards, but they betray him and refuse to lend him their weapons. Maximus drops his own sword, but Commodus pulls a hidden stiletto and renews his attack. Maximus then beats Commodus into submission and kills him with his own stiletto.As Commodus collapses in the now-silent Colosseum, a dying Maximus begins seeing his wife and son in the afterlife. He reaches for them but is pulled back to reality by the Praetorian prefect Quintus, who asks for instructions. Maximus orders the release of Proximo\\'s gladiators and Senator Gracchus, whom he reinstates and instructs to return Rome to a Senate-based government.Maximus collapses, and Lucilla rushes to his aid. After being reassured that her son is safe and Commodus is dead, Maximus dies and wanders into the afterlife to his family in the distance. Senator Gracchus and Proximo\\'s gladiators carry his body out of the Colosseum. That night, a newly freed Juba buries Maximus\\' two small statues of his wife and son in the Colosseum, and says that he too will eventually join them, but not yet.'"
      ]
     },
     "execution_count": 63,
     "metadata": {},
     "output_type": "execute_result"
    }
   ],
   "source": [
    "find_similar_plot(txt, bow_vectorizer, model).iloc[0]['plot']"
   ]
  },
  {
   "cell_type": "code",
   "execution_count": null,
   "metadata": {},
   "outputs": [],
   "source": []
  }
 ],
 "metadata": {
  "kernelspec": {
   "display_name": "Python 3",
   "language": "python",
   "name": "python3"
  },
  "language_info": {
   "codemirror_mode": {
    "name": "ipython",
    "version": 3
   },
   "file_extension": ".py",
   "mimetype": "text/x-python",
   "name": "python",
   "nbconvert_exporter": "python",
   "pygments_lexer": "ipython3",
   "version": "3.11.5"
  }
 },
 "nbformat": 4,
 "nbformat_minor": 2
}
