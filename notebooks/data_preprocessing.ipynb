{
  "cells": [
    {
      "cell_type": "code",
      "execution_count": 1,
      "metadata": {
        "id": "BloPBjjSqqUO",
        "tags": []
      },
      "outputs": [],
      "source": [
        "import pandas as pd"
      ]
    },
    {
      "cell_type": "code",
      "execution_count": 2,
      "metadata": {
        "id": "8vejTOLLqtw_",
        "tags": []
      },
      "outputs": [],
      "source": [
        "#df = pd.read_csv('../data/raw/movies_dataset_2000_2023.csv')\n",
        "df = pd.read_csv('movies_dataset_2000_2023.csv')"
      ]
    },
    {
      "cell_type": "code",
      "execution_count": 3,
      "metadata": {
        "colab": {
          "base_uri": "https://localhost:8080/"
        },
        "id": "H6aKhjRNrERf",
        "outputId": "098d334b-a8bb-49bf-b20d-d5162dbdde40",
        "tags": []
      },
      "outputs": [
        {
          "output_type": "execute_result",
          "data": {
            "text/plain": [
              "(6095, 24)"
            ]
          },
          "metadata": {},
          "execution_count": 3
        }
      ],
      "source": [
        "df.shape"
      ]
    },
    {
      "cell_type": "code",
      "execution_count": 4,
      "metadata": {
        "colab": {
          "base_uri": "https://localhost:8080/"
        },
        "id": "pWsXfE_4rEp7",
        "outputId": "abc4ce12-fd3c-4670-ae24-818f8a6f40df",
        "tags": []
      },
      "outputs": [
        {
          "output_type": "execute_result",
          "data": {
            "text/plain": [
              "Index(['Unnamed: 0.1', 'Movie Title', 'Plot Summary', 'Cover Image', 'Year',\n",
              "       'Source', 'Rated', 'omdb Year', 'omdb Title', 'Released', 'Runtime',\n",
              "       'Genre', 'Director', 'Writer', 'Actors', 'Plot', 'Language', 'Country',\n",
              "       'Awards', 'Poster', 'Ratings', 'imdbRating', 'BoxOffice', 'imdbID'],\n",
              "      dtype='object')"
            ]
          },
          "metadata": {},
          "execution_count": 4
        }
      ],
      "source": [
        "df.columns"
      ]
    },
    {
      "cell_type": "code",
      "execution_count": 5,
      "metadata": {
        "colab": {
          "base_uri": "https://localhost:8080/"
        },
        "id": "5C7tcH2vrHcE",
        "outputId": "3773e77e-2269-4eb9-f30c-193c517d362a",
        "tags": []
      },
      "outputs": [
        {
          "output_type": "stream",
          "name": "stdout",
          "text": [
            "<class 'pandas.core.frame.DataFrame'>\n",
            "RangeIndex: 6095 entries, 0 to 6094\n",
            "Data columns (total 24 columns):\n",
            " #   Column        Non-Null Count  Dtype  \n",
            "---  ------        --------------  -----  \n",
            " 0   Unnamed: 0.1  896 non-null    float64\n",
            " 1   Movie Title   6095 non-null   object \n",
            " 2   Plot Summary  5556 non-null   object \n",
            " 3   Cover Image   5990 non-null   object \n",
            " 4   Year          6095 non-null   int64  \n",
            " 5   Source        6095 non-null   object \n",
            " 6   Rated         841 non-null    object \n",
            " 7   omdb Year     871 non-null    object \n",
            " 8   omdb Title    871 non-null    object \n",
            " 9   Released      868 non-null    object \n",
            " 10  Runtime       861 non-null    object \n",
            " 11  Genre         870 non-null    object \n",
            " 12  Director      850 non-null    object \n",
            " 13  Writer        857 non-null    object \n",
            " 14  Actors        867 non-null    object \n",
            " 15  Plot          862 non-null    object \n",
            " 16  Language      866 non-null    object \n",
            " 17  Country       869 non-null    object \n",
            " 18  Awards        756 non-null    object \n",
            " 19  Poster        864 non-null    object \n",
            " 20  Ratings       871 non-null    object \n",
            " 21  imdbRating    860 non-null    float64\n",
            " 22  BoxOffice     762 non-null    object \n",
            " 23  imdbID        871 non-null    object \n",
            "dtypes: float64(2), int64(1), object(21)\n",
            "memory usage: 1.1+ MB\n"
          ]
        }
      ],
      "source": [
        "df.info()"
      ]
    },
    {
      "cell_type": "code",
      "execution_count": 6,
      "metadata": {
        "colab": {
          "base_uri": "https://localhost:8080/"
        },
        "id": "lJ497_2FsFC3",
        "outputId": "e36c5bfd-6d15-49df-d7bd-1afb0e691ea5",
        "tags": []
      },
      "outputs": [
        {
          "output_type": "stream",
          "name": "stdout",
          "text": [
            "Requirement already satisfied: nltk in /usr/local/lib/python3.10/dist-packages (3.8.1)\n",
            "Requirement already satisfied: click in /usr/local/lib/python3.10/dist-packages (from nltk) (8.1.7)\n",
            "Requirement already satisfied: joblib in /usr/local/lib/python3.10/dist-packages (from nltk) (1.3.2)\n",
            "Requirement already satisfied: regex>=2021.8.3 in /usr/local/lib/python3.10/dist-packages (from nltk) (2023.12.25)\n",
            "Requirement already satisfied: tqdm in /usr/local/lib/python3.10/dist-packages (from nltk) (4.66.1)\n"
          ]
        }
      ],
      "source": [
        "!pip install nltk"
      ]
    },
    {
      "cell_type": "code",
      "execution_count": 7,
      "metadata": {
        "colab": {
          "base_uri": "https://localhost:8080/"
        },
        "id": "JS3MptPLsJuo",
        "outputId": "07654457-c0bf-4fed-9cf0-37a1a9fcfb56",
        "tags": []
      },
      "outputs": [
        {
          "output_type": "stream",
          "name": "stderr",
          "text": [
            "[nltk_data] Downloading package punkt to /root/nltk_data...\n",
            "[nltk_data]   Package punkt is already up-to-date!\n",
            "[nltk_data] Downloading package stopwords to /root/nltk_data...\n",
            "[nltk_data]   Package stopwords is already up-to-date!\n"
          ]
        },
        {
          "output_type": "execute_result",
          "data": {
            "text/plain": [
              "True"
            ]
          },
          "metadata": {},
          "execution_count": 7
        }
      ],
      "source": [
        "import nltk\n",
        "nltk.download('punkt')\n",
        "nltk.download('stopwords')"
      ]
    },
    {
      "cell_type": "code",
      "execution_count": 8,
      "metadata": {
        "id": "GNuBr4Y2rI-4",
        "tags": [],
        "outputId": "33bfa17d-738f-4ffb-cab9-2c66394327a8",
        "colab": {
          "base_uri": "https://localhost:8080/"
        }
      },
      "outputs": [
        {
          "output_type": "stream",
          "name": "stderr",
          "text": [
            "[nltk_data] Downloading package wordnet to /root/nltk_data...\n",
            "[nltk_data]   Package wordnet is already up-to-date!\n"
          ]
        },
        {
          "output_type": "execute_result",
          "data": {
            "text/plain": [
              "True"
            ]
          },
          "metadata": {},
          "execution_count": 8
        }
      ],
      "source": [
        "import re\n",
        "import nltk\n",
        "from nltk.corpus import stopwords\n",
        "from nltk.tokenize import word_tokenize\n",
        "# import string library for text preprocessing\n",
        "import string\n",
        "\n",
        "from nltk.stem import WordNetLemmatizer\n",
        "\n",
        "nltk.download('wordnet')"
      ]
    },
    {
      "cell_type": "code",
      "source": [
        "# Convert text to lowercase\n",
        "def convert_to_lower_case(text):\n",
        "  return text.lower()\n"
      ],
      "metadata": {
        "id": "7pTcfGq1EoDv"
      },
      "execution_count": 9,
      "outputs": []
    },
    {
      "cell_type": "code",
      "source": [
        "def remove_punctuation(text):\n",
        "  # Create a translation table to remove punctuation\n",
        "  translator = str.maketrans('', '', string.punctuation)\n",
        "\n",
        "  # Remove punctuation using the translation table\n",
        "  text_without_punct = text.translate(translator)\n",
        "\n",
        "  return text_without_punct\n"
      ],
      "metadata": {
        "id": "dJ6qknuHEvec"
      },
      "execution_count": 10,
      "outputs": []
    },
    {
      "cell_type": "code",
      "source": [
        "def tokenize(text):\n",
        "  # Tokenization\n",
        "  return word_tokenize(text)"
      ],
      "metadata": {
        "id": "3oAnu0IuE0go"
      },
      "execution_count": 11,
      "outputs": []
    },
    {
      "cell_type": "code",
      "source": [
        "# Remove stopwords\n",
        "def remove_stop_words(tokens):\n",
        "  stop_words = set(stopwords.words('english'))\n",
        "  return [word for word in tokens if word not in stop_words]"
      ],
      "metadata": {
        "id": "L6JfRRBaE2AK"
      },
      "execution_count": 12,
      "outputs": []
    },
    {
      "cell_type": "code",
      "source": [],
      "metadata": {
        "id": "PnMNeXNuIeGp"
      },
      "execution_count": 12,
      "outputs": []
    },
    {
      "cell_type": "code",
      "source": [
        "def lemmatize(tokens):\n",
        "  # Lemmatization\n",
        "  lemmatizer = WordNetLemmatizer()\n",
        "  return [lemmatizer.lemmatize(word) if lemmatizer.lemmatize(word) is not None else word for word in tokens]\n",
        "\n"
      ],
      "metadata": {
        "id": "BQoEugPcE7-f"
      },
      "execution_count": 13,
      "outputs": []
    },
    {
      "cell_type": "code",
      "source": [
        "# Remove special characters and numbers\n",
        "def remove_special_chars(tokens):\n",
        "  return [re.sub('[^A-Za-z]+', '', word) for word in tokens]"
      ],
      "metadata": {
        "id": "DjFO6o1eE--o"
      },
      "execution_count": 14,
      "outputs": []
    },
    {
      "cell_type": "code",
      "source": [
        "# function to do preprocessing text\n",
        "def preprocess_text(text):\n",
        "  lower_text = convert_to_lower_case(text) # converting to lowercase\n",
        "  removed_punctuation = remove_punctuation(lower_text) # removing punctuation\n",
        "  tokens = tokenize(removed_punctuation) # tokenize words\n",
        "  tokens = remove_stop_words(tokens) # removing stop words\n",
        "  tokens = lemmatize(tokens) # lemmatize tokens\n",
        "  tokens = remove_special_chars(tokens) # remove special characters from token\n",
        "\n",
        "  preprocessed_text = ' '.join(tokens) # final preprocessed text\n",
        "  return preprocessed_text"
      ],
      "metadata": {
        "id": "eEMuVaI_FJDK"
      },
      "execution_count": 15,
      "outputs": []
    },
    {
      "cell_type": "code",
      "execution_count": 16,
      "metadata": {
        "id": "bYikUnKgre_8",
        "tags": [],
        "outputId": "c5115a9c-53da-4758-d255-bc7f0aa27ec6",
        "colab": {
          "base_uri": "https://localhost:8080/",
          "height": 70
        }
      },
      "outputs": [
        {
          "output_type": "execute_result",
          "data": {
            "text/plain": [
              "\"def preprocess_text(text):\\n  # Remove HTML tags and special characters\\n    clean_text = re.sub('<.*?>', '', text)\\n    clean_text = re.sub(r'[^a-zA-Z\\\\s]', '', clean_text)\\n\\n    # Tokenization\\n    tokens = word_tokenize(clean_text)\\n\\n    # Remove stop words and convert to lowercase\\n    stop_words = set(stopwords.words('english'))\\n    tokens = [token.lower() for token in tokens if token.lower() not in stop_words]\\n\\n    return ' '.join(tokens)\\n    \""
            ],
            "application/vnd.google.colaboratory.intrinsic+json": {
              "type": "string"
            }
          },
          "metadata": {},
          "execution_count": 16
        }
      ],
      "source": [
        "'''\\\n",
        "def preprocess_text(text):\n",
        "  # Remove HTML tags and special characters\n",
        "    clean_text = re.sub('<.*?>', '', text)\n",
        "    clean_text = re.sub(r'[^a-zA-Z\\s]', '', clean_text)\n",
        "\n",
        "    # Tokenization\n",
        "    tokens = word_tokenize(clean_text)\n",
        "\n",
        "    # Remove stop words and convert to lowercase\n",
        "    stop_words = set(stopwords.words('english'))\n",
        "    tokens = [token.lower() for token in tokens if token.lower() not in stop_words]\n",
        "\n",
        "    return ' '.join(tokens)\n",
        "    '''"
      ]
    },
    {
      "cell_type": "code",
      "execution_count": 17,
      "metadata": {
        "id": "bzkGS2U0CpI-"
      },
      "outputs": [],
      "source": [
        "df = df.dropna(subset=['Plot Summary'])"
      ]
    },
    {
      "cell_type": "code",
      "execution_count": 18,
      "metadata": {
        "id": "XqXSTOuwCpI_",
        "outputId": "3c0c7f96-6ac5-4c2f-bc3e-dfeba6893ccc",
        "colab": {
          "base_uri": "https://localhost:8080/"
        }
      },
      "outputs": [
        {
          "output_type": "execute_result",
          "data": {
            "text/plain": [
              "0"
            ]
          },
          "metadata": {},
          "execution_count": 18
        }
      ],
      "source": [
        "df['Plot Summary'].isna().sum()"
      ]
    },
    {
      "cell_type": "code",
      "execution_count": 19,
      "metadata": {
        "id": "KzO64nJhryAu",
        "tags": []
      },
      "outputs": [],
      "source": [
        "# Apply function on text column\n",
        "df['ProcessedPlot'] = df['Plot Summary'].apply(preprocess_text)"
      ]
    },
    {
      "cell_type": "code",
      "source": [
        "df.tail()"
      ],
      "metadata": {
        "id": "h9QUor2kJkZ4",
        "outputId": "cf2ec295-8fbb-473a-9360-278a361aa256",
        "colab": {
          "base_uri": "https://localhost:8080/",
          "height": 620
        }
      },
      "execution_count": 20,
      "outputs": [
        {
          "output_type": "execute_result",
          "data": {
            "text/plain": [
              "      Unnamed: 0.1                   Movie Title  \\\n",
              "6090           NaN            Memory (2023 film)   \n",
              "6091           NaN  The Color Purple (2023 film)   \n",
              "6092           NaN   The Boys in the Boat (film)   \n",
              "6093           NaN           Ferrari (2023 film)   \n",
              "6094           NaN             Good Grief (film)   \n",
              "\n",
              "                                           Plot Summary  \\\n",
              "6090  Sylvia, a single mother, social worker, and re...   \n",
              "6091  In 1909 Georgia, teenager Celie Harris lives w...   \n",
              "6092  The film's plot centres on the University of W...   \n",
              "6093  In the summer of 1957, Italian entrepreneur En...   \n",
              "6094  In London, Marc enjoys a Christmas party with ...   \n",
              "\n",
              "                                            Cover Image  Year  \\\n",
              "6090  upload.wikimedia.org/wikipedia/en/thumb/4/4e/M...  2023   \n",
              "6091  upload.wikimedia.org/wikipedia/en/thumb/7/70/C...  2023   \n",
              "6092  upload.wikimedia.org/wikipedia/en/thumb/6/63/B...  2023   \n",
              "6093  upload.wikimedia.org/wikipedia/en/thumb/f/f6/F...  2023   \n",
              "6094  upload.wikimedia.org/wikipedia/en/thumb/1/14/G...  2023   \n",
              "\n",
              "                                                 Source Rated omdb Year  \\\n",
              "6090  https://en.wikipedia.org//wiki/Memory_(2023_film)   NaN       NaN   \n",
              "6091  https://en.wikipedia.org//wiki/The_Color_Purpl...   NaN       NaN   \n",
              "6092  https://en.wikipedia.org//wiki/The_Boys_in_the...   NaN       NaN   \n",
              "6093  https://en.wikipedia.org//wiki/Ferrari_(2023_f...   NaN       NaN   \n",
              "6094   https://en.wikipedia.org//wiki/Good_Grief_(film)   NaN       NaN   \n",
              "\n",
              "     omdb Title Released  ... Plot Language Country Awards Poster Ratings  \\\n",
              "6090        NaN      NaN  ...  NaN      NaN     NaN    NaN    NaN     NaN   \n",
              "6091        NaN      NaN  ...  NaN      NaN     NaN    NaN    NaN     NaN   \n",
              "6092        NaN      NaN  ...  NaN      NaN     NaN    NaN    NaN     NaN   \n",
              "6093        NaN      NaN  ...  NaN      NaN     NaN    NaN    NaN     NaN   \n",
              "6094        NaN      NaN  ...  NaN      NaN     NaN    NaN    NaN     NaN   \n",
              "\n",
              "     imdbRating BoxOffice imdbID  \\\n",
              "6090        NaN       NaN    NaN   \n",
              "6091        NaN       NaN    NaN   \n",
              "6092        NaN       NaN    NaN   \n",
              "6093        NaN       NaN    NaN   \n",
              "6094        NaN       NaN    NaN   \n",
              "\n",
              "                                          ProcessedPlot  \n",
              "6090  sylvia single mother social worker recovering ...  \n",
              "6091   georgia teenager celie harris life sister net...  \n",
              "6092  film plot centre university washington crew re...  \n",
              "6093  summer  italian entrepreneur enzo ferrari prep...  \n",
              "6094  london marc enjoys christmas party friend oliv...  \n",
              "\n",
              "[5 rows x 25 columns]"
            ],
            "text/html": [
              "\n",
              "  <div id=\"df-05f2c5f4-c316-4aab-8a67-da1b866622ec\" class=\"colab-df-container\">\n",
              "    <div>\n",
              "<style scoped>\n",
              "    .dataframe tbody tr th:only-of-type {\n",
              "        vertical-align: middle;\n",
              "    }\n",
              "\n",
              "    .dataframe tbody tr th {\n",
              "        vertical-align: top;\n",
              "    }\n",
              "\n",
              "    .dataframe thead th {\n",
              "        text-align: right;\n",
              "    }\n",
              "</style>\n",
              "<table border=\"1\" class=\"dataframe\">\n",
              "  <thead>\n",
              "    <tr style=\"text-align: right;\">\n",
              "      <th></th>\n",
              "      <th>Unnamed: 0.1</th>\n",
              "      <th>Movie Title</th>\n",
              "      <th>Plot Summary</th>\n",
              "      <th>Cover Image</th>\n",
              "      <th>Year</th>\n",
              "      <th>Source</th>\n",
              "      <th>Rated</th>\n",
              "      <th>omdb Year</th>\n",
              "      <th>omdb Title</th>\n",
              "      <th>Released</th>\n",
              "      <th>...</th>\n",
              "      <th>Plot</th>\n",
              "      <th>Language</th>\n",
              "      <th>Country</th>\n",
              "      <th>Awards</th>\n",
              "      <th>Poster</th>\n",
              "      <th>Ratings</th>\n",
              "      <th>imdbRating</th>\n",
              "      <th>BoxOffice</th>\n",
              "      <th>imdbID</th>\n",
              "      <th>ProcessedPlot</th>\n",
              "    </tr>\n",
              "  </thead>\n",
              "  <tbody>\n",
              "    <tr>\n",
              "      <th>6090</th>\n",
              "      <td>NaN</td>\n",
              "      <td>Memory (2023 film)</td>\n",
              "      <td>Sylvia, a single mother, social worker, and re...</td>\n",
              "      <td>upload.wikimedia.org/wikipedia/en/thumb/4/4e/M...</td>\n",
              "      <td>2023</td>\n",
              "      <td>https://en.wikipedia.org//wiki/Memory_(2023_film)</td>\n",
              "      <td>NaN</td>\n",
              "      <td>NaN</td>\n",
              "      <td>NaN</td>\n",
              "      <td>NaN</td>\n",
              "      <td>...</td>\n",
              "      <td>NaN</td>\n",
              "      <td>NaN</td>\n",
              "      <td>NaN</td>\n",
              "      <td>NaN</td>\n",
              "      <td>NaN</td>\n",
              "      <td>NaN</td>\n",
              "      <td>NaN</td>\n",
              "      <td>NaN</td>\n",
              "      <td>NaN</td>\n",
              "      <td>sylvia single mother social worker recovering ...</td>\n",
              "    </tr>\n",
              "    <tr>\n",
              "      <th>6091</th>\n",
              "      <td>NaN</td>\n",
              "      <td>The Color Purple (2023 film)</td>\n",
              "      <td>In 1909 Georgia, teenager Celie Harris lives w...</td>\n",
              "      <td>upload.wikimedia.org/wikipedia/en/thumb/7/70/C...</td>\n",
              "      <td>2023</td>\n",
              "      <td>https://en.wikipedia.org//wiki/The_Color_Purpl...</td>\n",
              "      <td>NaN</td>\n",
              "      <td>NaN</td>\n",
              "      <td>NaN</td>\n",
              "      <td>NaN</td>\n",
              "      <td>...</td>\n",
              "      <td>NaN</td>\n",
              "      <td>NaN</td>\n",
              "      <td>NaN</td>\n",
              "      <td>NaN</td>\n",
              "      <td>NaN</td>\n",
              "      <td>NaN</td>\n",
              "      <td>NaN</td>\n",
              "      <td>NaN</td>\n",
              "      <td>NaN</td>\n",
              "      <td>georgia teenager celie harris life sister net...</td>\n",
              "    </tr>\n",
              "    <tr>\n",
              "      <th>6092</th>\n",
              "      <td>NaN</td>\n",
              "      <td>The Boys in the Boat (film)</td>\n",
              "      <td>The film's plot centres on the University of W...</td>\n",
              "      <td>upload.wikimedia.org/wikipedia/en/thumb/6/63/B...</td>\n",
              "      <td>2023</td>\n",
              "      <td>https://en.wikipedia.org//wiki/The_Boys_in_the...</td>\n",
              "      <td>NaN</td>\n",
              "      <td>NaN</td>\n",
              "      <td>NaN</td>\n",
              "      <td>NaN</td>\n",
              "      <td>...</td>\n",
              "      <td>NaN</td>\n",
              "      <td>NaN</td>\n",
              "      <td>NaN</td>\n",
              "      <td>NaN</td>\n",
              "      <td>NaN</td>\n",
              "      <td>NaN</td>\n",
              "      <td>NaN</td>\n",
              "      <td>NaN</td>\n",
              "      <td>NaN</td>\n",
              "      <td>film plot centre university washington crew re...</td>\n",
              "    </tr>\n",
              "    <tr>\n",
              "      <th>6093</th>\n",
              "      <td>NaN</td>\n",
              "      <td>Ferrari (2023 film)</td>\n",
              "      <td>In the summer of 1957, Italian entrepreneur En...</td>\n",
              "      <td>upload.wikimedia.org/wikipedia/en/thumb/f/f6/F...</td>\n",
              "      <td>2023</td>\n",
              "      <td>https://en.wikipedia.org//wiki/Ferrari_(2023_f...</td>\n",
              "      <td>NaN</td>\n",
              "      <td>NaN</td>\n",
              "      <td>NaN</td>\n",
              "      <td>NaN</td>\n",
              "      <td>...</td>\n",
              "      <td>NaN</td>\n",
              "      <td>NaN</td>\n",
              "      <td>NaN</td>\n",
              "      <td>NaN</td>\n",
              "      <td>NaN</td>\n",
              "      <td>NaN</td>\n",
              "      <td>NaN</td>\n",
              "      <td>NaN</td>\n",
              "      <td>NaN</td>\n",
              "      <td>summer  italian entrepreneur enzo ferrari prep...</td>\n",
              "    </tr>\n",
              "    <tr>\n",
              "      <th>6094</th>\n",
              "      <td>NaN</td>\n",
              "      <td>Good Grief (film)</td>\n",
              "      <td>In London, Marc enjoys a Christmas party with ...</td>\n",
              "      <td>upload.wikimedia.org/wikipedia/en/thumb/1/14/G...</td>\n",
              "      <td>2023</td>\n",
              "      <td>https://en.wikipedia.org//wiki/Good_Grief_(film)</td>\n",
              "      <td>NaN</td>\n",
              "      <td>NaN</td>\n",
              "      <td>NaN</td>\n",
              "      <td>NaN</td>\n",
              "      <td>...</td>\n",
              "      <td>NaN</td>\n",
              "      <td>NaN</td>\n",
              "      <td>NaN</td>\n",
              "      <td>NaN</td>\n",
              "      <td>NaN</td>\n",
              "      <td>NaN</td>\n",
              "      <td>NaN</td>\n",
              "      <td>NaN</td>\n",
              "      <td>NaN</td>\n",
              "      <td>london marc enjoys christmas party friend oliv...</td>\n",
              "    </tr>\n",
              "  </tbody>\n",
              "</table>\n",
              "<p>5 rows × 25 columns</p>\n",
              "</div>\n",
              "    <div class=\"colab-df-buttons\">\n",
              "\n",
              "  <div class=\"colab-df-container\">\n",
              "    <button class=\"colab-df-convert\" onclick=\"convertToInteractive('df-05f2c5f4-c316-4aab-8a67-da1b866622ec')\"\n",
              "            title=\"Convert this dataframe to an interactive table.\"\n",
              "            style=\"display:none;\">\n",
              "\n",
              "  <svg xmlns=\"http://www.w3.org/2000/svg\" height=\"24px\" viewBox=\"0 -960 960 960\">\n",
              "    <path d=\"M120-120v-720h720v720H120Zm60-500h600v-160H180v160Zm220 220h160v-160H400v160Zm0 220h160v-160H400v160ZM180-400h160v-160H180v160Zm440 0h160v-160H620v160ZM180-180h160v-160H180v160Zm440 0h160v-160H620v160Z\"/>\n",
              "  </svg>\n",
              "    </button>\n",
              "\n",
              "  <style>\n",
              "    .colab-df-container {\n",
              "      display:flex;\n",
              "      gap: 12px;\n",
              "    }\n",
              "\n",
              "    .colab-df-convert {\n",
              "      background-color: #E8F0FE;\n",
              "      border: none;\n",
              "      border-radius: 50%;\n",
              "      cursor: pointer;\n",
              "      display: none;\n",
              "      fill: #1967D2;\n",
              "      height: 32px;\n",
              "      padding: 0 0 0 0;\n",
              "      width: 32px;\n",
              "    }\n",
              "\n",
              "    .colab-df-convert:hover {\n",
              "      background-color: #E2EBFA;\n",
              "      box-shadow: 0px 1px 2px rgba(60, 64, 67, 0.3), 0px 1px 3px 1px rgba(60, 64, 67, 0.15);\n",
              "      fill: #174EA6;\n",
              "    }\n",
              "\n",
              "    .colab-df-buttons div {\n",
              "      margin-bottom: 4px;\n",
              "    }\n",
              "\n",
              "    [theme=dark] .colab-df-convert {\n",
              "      background-color: #3B4455;\n",
              "      fill: #D2E3FC;\n",
              "    }\n",
              "\n",
              "    [theme=dark] .colab-df-convert:hover {\n",
              "      background-color: #434B5C;\n",
              "      box-shadow: 0px 1px 3px 1px rgba(0, 0, 0, 0.15);\n",
              "      filter: drop-shadow(0px 1px 2px rgba(0, 0, 0, 0.3));\n",
              "      fill: #FFFFFF;\n",
              "    }\n",
              "  </style>\n",
              "\n",
              "    <script>\n",
              "      const buttonEl =\n",
              "        document.querySelector('#df-05f2c5f4-c316-4aab-8a67-da1b866622ec button.colab-df-convert');\n",
              "      buttonEl.style.display =\n",
              "        google.colab.kernel.accessAllowed ? 'block' : 'none';\n",
              "\n",
              "      async function convertToInteractive(key) {\n",
              "        const element = document.querySelector('#df-05f2c5f4-c316-4aab-8a67-da1b866622ec');\n",
              "        const dataTable =\n",
              "          await google.colab.kernel.invokeFunction('convertToInteractive',\n",
              "                                                    [key], {});\n",
              "        if (!dataTable) return;\n",
              "\n",
              "        const docLinkHtml = 'Like what you see? Visit the ' +\n",
              "          '<a target=\"_blank\" href=https://colab.research.google.com/notebooks/data_table.ipynb>data table notebook</a>'\n",
              "          + ' to learn more about interactive tables.';\n",
              "        element.innerHTML = '';\n",
              "        dataTable['output_type'] = 'display_data';\n",
              "        await google.colab.output.renderOutput(dataTable, element);\n",
              "        const docLink = document.createElement('div');\n",
              "        docLink.innerHTML = docLinkHtml;\n",
              "        element.appendChild(docLink);\n",
              "      }\n",
              "    </script>\n",
              "  </div>\n",
              "\n",
              "\n",
              "<div id=\"df-5a9c6c3d-b9a6-42e6-b1bd-a582975d5002\">\n",
              "  <button class=\"colab-df-quickchart\" onclick=\"quickchart('df-5a9c6c3d-b9a6-42e6-b1bd-a582975d5002')\"\n",
              "            title=\"Suggest charts\"\n",
              "            style=\"display:none;\">\n",
              "\n",
              "<svg xmlns=\"http://www.w3.org/2000/svg\" height=\"24px\"viewBox=\"0 0 24 24\"\n",
              "     width=\"24px\">\n",
              "    <g>\n",
              "        <path d=\"M19 3H5c-1.1 0-2 .9-2 2v14c0 1.1.9 2 2 2h14c1.1 0 2-.9 2-2V5c0-1.1-.9-2-2-2zM9 17H7v-7h2v7zm4 0h-2V7h2v10zm4 0h-2v-4h2v4z\"/>\n",
              "    </g>\n",
              "</svg>\n",
              "  </button>\n",
              "\n",
              "<style>\n",
              "  .colab-df-quickchart {\n",
              "      --bg-color: #E8F0FE;\n",
              "      --fill-color: #1967D2;\n",
              "      --hover-bg-color: #E2EBFA;\n",
              "      --hover-fill-color: #174EA6;\n",
              "      --disabled-fill-color: #AAA;\n",
              "      --disabled-bg-color: #DDD;\n",
              "  }\n",
              "\n",
              "  [theme=dark] .colab-df-quickchart {\n",
              "      --bg-color: #3B4455;\n",
              "      --fill-color: #D2E3FC;\n",
              "      --hover-bg-color: #434B5C;\n",
              "      --hover-fill-color: #FFFFFF;\n",
              "      --disabled-bg-color: #3B4455;\n",
              "      --disabled-fill-color: #666;\n",
              "  }\n",
              "\n",
              "  .colab-df-quickchart {\n",
              "    background-color: var(--bg-color);\n",
              "    border: none;\n",
              "    border-radius: 50%;\n",
              "    cursor: pointer;\n",
              "    display: none;\n",
              "    fill: var(--fill-color);\n",
              "    height: 32px;\n",
              "    padding: 0;\n",
              "    width: 32px;\n",
              "  }\n",
              "\n",
              "  .colab-df-quickchart:hover {\n",
              "    background-color: var(--hover-bg-color);\n",
              "    box-shadow: 0 1px 2px rgba(60, 64, 67, 0.3), 0 1px 3px 1px rgba(60, 64, 67, 0.15);\n",
              "    fill: var(--button-hover-fill-color);\n",
              "  }\n",
              "\n",
              "  .colab-df-quickchart-complete:disabled,\n",
              "  .colab-df-quickchart-complete:disabled:hover {\n",
              "    background-color: var(--disabled-bg-color);\n",
              "    fill: var(--disabled-fill-color);\n",
              "    box-shadow: none;\n",
              "  }\n",
              "\n",
              "  .colab-df-spinner {\n",
              "    border: 2px solid var(--fill-color);\n",
              "    border-color: transparent;\n",
              "    border-bottom-color: var(--fill-color);\n",
              "    animation:\n",
              "      spin 1s steps(1) infinite;\n",
              "  }\n",
              "\n",
              "  @keyframes spin {\n",
              "    0% {\n",
              "      border-color: transparent;\n",
              "      border-bottom-color: var(--fill-color);\n",
              "      border-left-color: var(--fill-color);\n",
              "    }\n",
              "    20% {\n",
              "      border-color: transparent;\n",
              "      border-left-color: var(--fill-color);\n",
              "      border-top-color: var(--fill-color);\n",
              "    }\n",
              "    30% {\n",
              "      border-color: transparent;\n",
              "      border-left-color: var(--fill-color);\n",
              "      border-top-color: var(--fill-color);\n",
              "      border-right-color: var(--fill-color);\n",
              "    }\n",
              "    40% {\n",
              "      border-color: transparent;\n",
              "      border-right-color: var(--fill-color);\n",
              "      border-top-color: var(--fill-color);\n",
              "    }\n",
              "    60% {\n",
              "      border-color: transparent;\n",
              "      border-right-color: var(--fill-color);\n",
              "    }\n",
              "    80% {\n",
              "      border-color: transparent;\n",
              "      border-right-color: var(--fill-color);\n",
              "      border-bottom-color: var(--fill-color);\n",
              "    }\n",
              "    90% {\n",
              "      border-color: transparent;\n",
              "      border-bottom-color: var(--fill-color);\n",
              "    }\n",
              "  }\n",
              "</style>\n",
              "\n",
              "  <script>\n",
              "    async function quickchart(key) {\n",
              "      const quickchartButtonEl =\n",
              "        document.querySelector('#' + key + ' button');\n",
              "      quickchartButtonEl.disabled = true;  // To prevent multiple clicks.\n",
              "      quickchartButtonEl.classList.add('colab-df-spinner');\n",
              "      try {\n",
              "        const charts = await google.colab.kernel.invokeFunction(\n",
              "            'suggestCharts', [key], {});\n",
              "      } catch (error) {\n",
              "        console.error('Error during call to suggestCharts:', error);\n",
              "      }\n",
              "      quickchartButtonEl.classList.remove('colab-df-spinner');\n",
              "      quickchartButtonEl.classList.add('colab-df-quickchart-complete');\n",
              "    }\n",
              "    (() => {\n",
              "      let quickchartButtonEl =\n",
              "        document.querySelector('#df-5a9c6c3d-b9a6-42e6-b1bd-a582975d5002 button');\n",
              "      quickchartButtonEl.style.display =\n",
              "        google.colab.kernel.accessAllowed ? 'block' : 'none';\n",
              "    })();\n",
              "  </script>\n",
              "</div>\n",
              "\n",
              "    </div>\n",
              "  </div>\n"
            ]
          },
          "metadata": {},
          "execution_count": 20
        }
      ]
    },
    {
      "cell_type": "code",
      "execution_count": 21,
      "metadata": {
        "id": "iuAqPENVr2PX",
        "tags": []
      },
      "outputs": [],
      "source": [
        "# Save the preprocessed data\n",
        "#preprocessed_path = '../data/processed/preprocessed_dataset.csv'\n",
        "#df.to_csv(preprocessed_path, index=False)"
      ]
    },
    {
      "cell_type": "code",
      "execution_count": 21,
      "metadata": {
        "id": "54_cuB7VCpI_"
      },
      "outputs": [],
      "source": []
    }
  ],
  "metadata": {
    "colab": {
      "provenance": []
    },
    "kernelspec": {
      "display_name": "Python 3 (ipykernel)",
      "language": "python",
      "name": "python3"
    },
    "language_info": {
      "codemirror_mode": {
        "name": "ipython",
        "version": 3
      },
      "file_extension": ".py",
      "mimetype": "text/x-python",
      "name": "python",
      "nbconvert_exporter": "python",
      "pygments_lexer": "ipython3",
      "version": "3.11.5"
    }
  },
  "nbformat": 4,
  "nbformat_minor": 0
}