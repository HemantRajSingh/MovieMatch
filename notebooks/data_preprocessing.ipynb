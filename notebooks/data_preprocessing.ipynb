{
 "cells": [
  {
   "cell_type": "code",
   "execution_count": 77,
   "id": "e8fa4e3a-d1f9-46d1-af9b-1e41a3a9d1bc",
   "metadata": {},
   "outputs": [],
   "source": [
    "import pandas as pd\n",
    "import numpy as np\n",
    "import matplotlib.pyplot as plt\n",
    "import seaborn as sns\n",
    "import plotly.express as px\n",
    "from wordcloud import WordCloud\n",
    "\n",
    "import re\n",
    "import nltk\n",
    "from nltk.corpus import stopwords\n",
    "from nltk.tokenize import word_tokenize\n",
    "# import string library for text preprocessing\n",
    "import string\n",
    "\n",
    "from nltk.stem import WordNetLemmatizer\n",
    "import ast"
   ]
  },
  {
   "cell_type": "code",
   "execution_count": 40,
   "id": "8d891ade",
   "metadata": {},
   "outputs": [],
   "source": [
    "pd.set_option('display.max_columns', None)\n",
    "pd.set_option('display.max_rows', None)"
   ]
  },
  {
   "cell_type": "code",
   "execution_count": 41,
   "id": "886c645c-b312-418f-b0f5-64007a56d5dd",
   "metadata": {},
   "outputs": [
    {
     "name": "stdout",
     "output_type": "stream",
     "text": [
      "(7553, 16)\n"
     ]
    },
    {
     "data": {
      "text/html": [
       "<div>\n",
       "<style scoped>\n",
       "    .dataframe tbody tr th:only-of-type {\n",
       "        vertical-align: middle;\n",
       "    }\n",
       "\n",
       "    .dataframe tbody tr th {\n",
       "        vertical-align: top;\n",
       "    }\n",
       "\n",
       "    .dataframe thead th {\n",
       "        text-align: right;\n",
       "    }\n",
       "</style>\n",
       "<table border=\"1\" class=\"dataframe\">\n",
       "  <thead>\n",
       "    <tr style=\"text-align: right;\">\n",
       "      <th></th>\n",
       "      <th>title</th>\n",
       "      <th>year</th>\n",
       "      <th>description</th>\n",
       "      <th>image_link</th>\n",
       "      <th>imdb_id</th>\n",
       "      <th>rating_count</th>\n",
       "      <th>best_rating</th>\n",
       "      <th>worst_rating</th>\n",
       "      <th>rating</th>\n",
       "      <th>genre</th>\n",
       "      <th>keywords</th>\n",
       "      <th>trailer_link</th>\n",
       "      <th>actors</th>\n",
       "      <th>director</th>\n",
       "      <th>synopsis</th>\n",
       "      <th>summary</th>\n",
       "    </tr>\n",
       "  </thead>\n",
       "  <tbody>\n",
       "    <tr>\n",
       "      <th>0</th>\n",
       "      <td>Gladiator</td>\n",
       "      <td>2000</td>\n",
       "      <td>A former Roman General sets out to exact venge...</td>\n",
       "      <td>https://m.media-amazon.com/images/M/MV5BMDliMm...</td>\n",
       "      <td>tt0172495</td>\n",
       "      <td>1617220</td>\n",
       "      <td>10</td>\n",
       "      <td>1</td>\n",
       "      <td>8.5</td>\n",
       "      <td>['Action', 'Adventure', 'Drama']</td>\n",
       "      <td>['roman empire', 'gladiator', 'slavery', 'comb...</td>\n",
       "      <td>https://www.imdb.com/video/vi2628367897/</td>\n",
       "      <td>['Russell Crowe', 'Joaquin Phoenix', 'Connie N...</td>\n",
       "      <td>['Ridley Scott']</td>\n",
       "      <td>Shouting \"Roma Invicta!\" as his forces attack,...</td>\n",
       "      <td>A former Roman General sets out to exact venge...</td>\n",
       "    </tr>\n",
       "    <tr>\n",
       "      <th>1</th>\n",
       "      <td>Unbreakable</td>\n",
       "      <td>2000</td>\n",
       "      <td>A man learns something extraordinary about him...</td>\n",
       "      <td>https://m.media-amazon.com/images/M/MV5BMDIwMj...</td>\n",
       "      <td>tt0217869</td>\n",
       "      <td>440860</td>\n",
       "      <td>10</td>\n",
       "      <td>1</td>\n",
       "      <td>7.3</td>\n",
       "      <td>['Drama', 'Mystery', 'Sci-Fi']</td>\n",
       "      <td>['supernatural power', 'train crash', 'superhe...</td>\n",
       "      <td>https://www.imdb.com/video/vi1103346201/</td>\n",
       "      <td>['Bruce Willis', 'Samuel L. Jackson', 'Robin W...</td>\n",
       "      <td>['M. Night Shyamalan']</td>\n",
       "      <td>The film opens as we see a baby being born in ...</td>\n",
       "      <td>A man learns something extraordinary about him...</td>\n",
       "    </tr>\n",
       "    <tr>\n",
       "      <th>2</th>\n",
       "      <td>Snatch</td>\n",
       "      <td>2000</td>\n",
       "      <td>Unscrupulous boxing promoters, violent bookmak...</td>\n",
       "      <td>https://m.media-amazon.com/images/M/MV5BMTA2ND...</td>\n",
       "      <td>tt0208092</td>\n",
       "      <td>909299</td>\n",
       "      <td>10</td>\n",
       "      <td>1</td>\n",
       "      <td>8.2</td>\n",
       "      <td>['Comedy', 'Crime']</td>\n",
       "      <td>['diamond', 'boxer', 'narrated by character', ...</td>\n",
       "      <td>https://www.imdb.com/video/vi1558577433/</td>\n",
       "      <td>['Jason Statham', 'Brad Pitt', 'Stephen Graham']</td>\n",
       "      <td>['Guy Ritchie']</td>\n",
       "      <td>After stealing an 86-carat (17 g) diamond in a...</td>\n",
       "      <td>Unscrupulous boxing promoters, violent bookmak...</td>\n",
       "    </tr>\n",
       "    <tr>\n",
       "      <th>3</th>\n",
       "      <td>AmericanPsycho</td>\n",
       "      <td>2000</td>\n",
       "      <td>A wealthy New York City investment banking exe...</td>\n",
       "      <td>https://m.media-amazon.com/images/M/MV5BZTM2ZG...</td>\n",
       "      <td>tt0144084</td>\n",
       "      <td>713635</td>\n",
       "      <td>10</td>\n",
       "      <td>1</td>\n",
       "      <td>7.6</td>\n",
       "      <td>['Crime', 'Drama', 'Horror']</td>\n",
       "      <td>['narcissism', 'materialism', 'serial murder',...</td>\n",
       "      <td>https://www.imdb.com/video/vi4060743449/</td>\n",
       "      <td>['Christian Bale', 'Justin Theroux', 'Josh Luc...</td>\n",
       "      <td>['Mary Harron']</td>\n",
       "      <td>A white background. Red drops begin to fall pa...</td>\n",
       "      <td>A wealthy New York City investment banking exe...</td>\n",
       "    </tr>\n",
       "    <tr>\n",
       "      <th>4</th>\n",
       "      <td>RequiemforaDream</td>\n",
       "      <td>2000</td>\n",
       "      <td>The drug-induced utopias of four Coney Island ...</td>\n",
       "      <td>https://m.media-amazon.com/images/M/MV5BOTdiNz...</td>\n",
       "      <td>tt0180093</td>\n",
       "      <td>897414</td>\n",
       "      <td>10</td>\n",
       "      <td>1</td>\n",
       "      <td>8.3</td>\n",
       "      <td>['Drama']</td>\n",
       "      <td>['drug addiction', 'sex show', 'sex scene', 'p...</td>\n",
       "      <td>https://www.imdb.com/video/vi2156069145/</td>\n",
       "      <td>['Ellen Burstyn', 'Jared Leto', 'Jennifer Conn...</td>\n",
       "      <td>['Darren Aronofsky']</td>\n",
       "      <td>Harry Goldfarb (Jared Leto) and Tyrone Love (M...</td>\n",
       "      <td>The drug-induced utopias of four Coney Island ...</td>\n",
       "    </tr>\n",
       "  </tbody>\n",
       "</table>\n",
       "</div>"
      ],
      "text/plain": [
       "              title  year                                        description  \\\n",
       "0         Gladiator  2000  A former Roman General sets out to exact venge...   \n",
       "1       Unbreakable  2000  A man learns something extraordinary about him...   \n",
       "2            Snatch  2000  Unscrupulous boxing promoters, violent bookmak...   \n",
       "3    AmericanPsycho  2000  A wealthy New York City investment banking exe...   \n",
       "4  RequiemforaDream  2000  The drug-induced utopias of four Coney Island ...   \n",
       "\n",
       "                                          image_link    imdb_id  rating_count  \\\n",
       "0  https://m.media-amazon.com/images/M/MV5BMDliMm...  tt0172495       1617220   \n",
       "1  https://m.media-amazon.com/images/M/MV5BMDIwMj...  tt0217869        440860   \n",
       "2  https://m.media-amazon.com/images/M/MV5BMTA2ND...  tt0208092        909299   \n",
       "3  https://m.media-amazon.com/images/M/MV5BZTM2ZG...  tt0144084        713635   \n",
       "4  https://m.media-amazon.com/images/M/MV5BOTdiNz...  tt0180093        897414   \n",
       "\n",
       "   best_rating  worst_rating  rating                             genre  \\\n",
       "0           10             1     8.5  ['Action', 'Adventure', 'Drama']   \n",
       "1           10             1     7.3    ['Drama', 'Mystery', 'Sci-Fi']   \n",
       "2           10             1     8.2               ['Comedy', 'Crime']   \n",
       "3           10             1     7.6      ['Crime', 'Drama', 'Horror']   \n",
       "4           10             1     8.3                         ['Drama']   \n",
       "\n",
       "                                            keywords  \\\n",
       "0  ['roman empire', 'gladiator', 'slavery', 'comb...   \n",
       "1  ['supernatural power', 'train crash', 'superhe...   \n",
       "2  ['diamond', 'boxer', 'narrated by character', ...   \n",
       "3  ['narcissism', 'materialism', 'serial murder',...   \n",
       "4  ['drug addiction', 'sex show', 'sex scene', 'p...   \n",
       "\n",
       "                               trailer_link  \\\n",
       "0  https://www.imdb.com/video/vi2628367897/   \n",
       "1  https://www.imdb.com/video/vi1103346201/   \n",
       "2  https://www.imdb.com/video/vi1558577433/   \n",
       "3  https://www.imdb.com/video/vi4060743449/   \n",
       "4  https://www.imdb.com/video/vi2156069145/   \n",
       "\n",
       "                                              actors                director  \\\n",
       "0  ['Russell Crowe', 'Joaquin Phoenix', 'Connie N...        ['Ridley Scott']   \n",
       "1  ['Bruce Willis', 'Samuel L. Jackson', 'Robin W...  ['M. Night Shyamalan']   \n",
       "2   ['Jason Statham', 'Brad Pitt', 'Stephen Graham']         ['Guy Ritchie']   \n",
       "3  ['Christian Bale', 'Justin Theroux', 'Josh Luc...         ['Mary Harron']   \n",
       "4  ['Ellen Burstyn', 'Jared Leto', 'Jennifer Conn...    ['Darren Aronofsky']   \n",
       "\n",
       "                                            synopsis  \\\n",
       "0  Shouting \"Roma Invicta!\" as his forces attack,...   \n",
       "1  The film opens as we see a baby being born in ...   \n",
       "2  After stealing an 86-carat (17 g) diamond in a...   \n",
       "3  A white background. Red drops begin to fall pa...   \n",
       "4  Harry Goldfarb (Jared Leto) and Tyrone Love (M...   \n",
       "\n",
       "                                             summary  \n",
       "0  A former Roman General sets out to exact venge...  \n",
       "1  A man learns something extraordinary about him...  \n",
       "2  Unscrupulous boxing promoters, violent bookmak...  \n",
       "3  A wealthy New York City investment banking exe...  \n",
       "4  The drug-induced utopias of four Coney Island ...  "
      ]
     },
     "execution_count": 41,
     "metadata": {},
     "output_type": "execute_result"
    }
   ],
   "source": [
    "df = pd.read_csv('../data/merged/imdb_movies_min_votes_500.csv')\n",
    "print(df.shape)\n",
    "df.head()"
   ]
  },
  {
   "cell_type": "code",
   "execution_count": 42,
   "id": "792d017c-fcde-4636-b632-107a48fd9c47",
   "metadata": {},
   "outputs": [
    {
     "data": {
      "text/plain": [
       "Index(['title', 'year', 'description', 'image_link', 'imdb_id', 'rating_count',\n",
       "       'best_rating', 'worst_rating', 'rating', 'genre', 'keywords',\n",
       "       'trailer_link', 'actors', 'director', 'synopsis', 'summary'],\n",
       "      dtype='object')"
      ]
     },
     "execution_count": 42,
     "metadata": {},
     "output_type": "execute_result"
    }
   ],
   "source": [
    "df.columns"
   ]
  },
  {
   "cell_type": "code",
   "execution_count": 43,
   "id": "ec112eb9",
   "metadata": {},
   "outputs": [
    {
     "name": "stdout",
     "output_type": "stream",
     "text": [
      "<class 'pandas.core.frame.DataFrame'>\n",
      "RangeIndex: 7553 entries, 0 to 7552\n",
      "Data columns (total 16 columns):\n",
      " #   Column        Non-Null Count  Dtype  \n",
      "---  ------        --------------  -----  \n",
      " 0   title         7553 non-null   object \n",
      " 1   year          7553 non-null   int64  \n",
      " 2   description   7553 non-null   object \n",
      " 3   image_link    7553 non-null   object \n",
      " 4   imdb_id       7553 non-null   object \n",
      " 5   rating_count  7553 non-null   int64  \n",
      " 6   best_rating   7553 non-null   int64  \n",
      " 7   worst_rating  7553 non-null   int64  \n",
      " 8   rating        7553 non-null   float64\n",
      " 9   genre         7552 non-null   object \n",
      " 10  keywords      7553 non-null   object \n",
      " 11  trailer_link  6778 non-null   object \n",
      " 12  actors        7553 non-null   object \n",
      " 13  director      7553 non-null   object \n",
      " 14  synopsis      3432 non-null   object \n",
      " 15  summary       7551 non-null   object \n",
      "dtypes: float64(1), int64(4), object(11)\n",
      "memory usage: 944.3+ KB\n"
     ]
    }
   ],
   "source": [
    "df.info()"
   ]
  },
  {
   "cell_type": "markdown",
   "id": "07cf1a52",
   "metadata": {},
   "source": [
    "# Missing Values Handling"
   ]
  },
  {
   "cell_type": "code",
   "execution_count": 44,
   "id": "28df3ffc",
   "metadata": {},
   "outputs": [
    {
     "data": {
      "text/plain": [
       "title              0\n",
       "year               0\n",
       "description        0\n",
       "image_link         0\n",
       "imdb_id            0\n",
       "rating_count       0\n",
       "best_rating        0\n",
       "worst_rating       0\n",
       "rating             0\n",
       "genre              1\n",
       "keywords           0\n",
       "trailer_link     775\n",
       "actors             0\n",
       "director           0\n",
       "synopsis        4121\n",
       "summary            2\n",
       "dtype: int64"
      ]
     },
     "execution_count": 44,
     "metadata": {},
     "output_type": "execute_result"
    }
   ],
   "source": [
    "df.isnull().sum()"
   ]
  },
  {
   "cell_type": "code",
   "execution_count": 45,
   "id": "4dfffaca",
   "metadata": {},
   "outputs": [
    {
     "data": {
      "text/html": [
       "<div>\n",
       "<style scoped>\n",
       "    .dataframe tbody tr th:only-of-type {\n",
       "        vertical-align: middle;\n",
       "    }\n",
       "\n",
       "    .dataframe tbody tr th {\n",
       "        vertical-align: top;\n",
       "    }\n",
       "\n",
       "    .dataframe thead th {\n",
       "        text-align: right;\n",
       "    }\n",
       "</style>\n",
       "<table border=\"1\" class=\"dataframe\">\n",
       "  <thead>\n",
       "    <tr style=\"text-align: right;\">\n",
       "      <th></th>\n",
       "      <th>description</th>\n",
       "      <th>synopsis</th>\n",
       "    </tr>\n",
       "  </thead>\n",
       "  <tbody>\n",
       "    <tr>\n",
       "      <th>169</th>\n",
       "      <td>Islam: Empire of Faith is a documentary series...</td>\n",
       "      <td>Islam: Empire of Faith is a documentary series...</td>\n",
       "    </tr>\n",
       "    <tr>\n",
       "      <th>4215</th>\n",
       "      <td>On Aug. 9, 1974, Richard Milhous Nixon became ...</td>\n",
       "      <td>On Aug. 9, 1974, Richard Milhous Nixon became ...</td>\n",
       "    </tr>\n",
       "  </tbody>\n",
       "</table>\n",
       "</div>"
      ],
      "text/plain": [
       "                                            description  \\\n",
       "169   Islam: Empire of Faith is a documentary series...   \n",
       "4215  On Aug. 9, 1974, Richard Milhous Nixon became ...   \n",
       "\n",
       "                                               synopsis  \n",
       "169   Islam: Empire of Faith is a documentary series...  \n",
       "4215  On Aug. 9, 1974, Richard Milhous Nixon became ...  "
      ]
     },
     "execution_count": 45,
     "metadata": {},
     "output_type": "execute_result"
    }
   ],
   "source": [
    "df[df['summary'].isnull()][['description', 'synopsis']]\n"
   ]
  },
  {
   "cell_type": "code",
   "execution_count": 46,
   "id": "1ac7e04a",
   "metadata": {},
   "outputs": [],
   "source": [
    "# replace missing values in synopsis with summary and if summary is empty replace with description\n",
    "df['synopsis'].fillna(df['summary'], inplace=True)\n",
    "df['synopsis'].fillna(df['description'], inplace=True)"
   ]
  },
  {
   "cell_type": "code",
   "execution_count": 47,
   "id": "bae0e594",
   "metadata": {},
   "outputs": [
    {
     "data": {
      "text/plain": [
       "0"
      ]
     },
     "execution_count": 47,
     "metadata": {},
     "output_type": "execute_result"
    }
   ],
   "source": [
    "df['synopsis'].isnull().sum()"
   ]
  },
  {
   "cell_type": "code",
   "execution_count": 48,
   "id": "eaa33ad5",
   "metadata": {},
   "outputs": [],
   "source": [
    "# drop description and summary columns\n",
    "df.drop(columns=['description', 'summary'], inplace=True)"
   ]
  },
  {
   "cell_type": "code",
   "execution_count": 49,
   "id": "e7ec5b3c",
   "metadata": {},
   "outputs": [
    {
     "data": {
      "text/plain": [
       "Index(['title', 'year', 'image_link', 'imdb_id', 'rating_count', 'best_rating',\n",
       "       'worst_rating', 'rating', 'genre', 'keywords', 'trailer_link', 'actors',\n",
       "       'director', 'synopsis'],\n",
       "      dtype='object')"
      ]
     },
     "execution_count": 49,
     "metadata": {},
     "output_type": "execute_result"
    }
   ],
   "source": [
    "df.columns"
   ]
  },
  {
   "cell_type": "code",
   "execution_count": 50,
   "id": "56568d34",
   "metadata": {},
   "outputs": [
    {
     "data": {
      "text/plain": [
       "title             0\n",
       "year              0\n",
       "image_link        0\n",
       "imdb_id           0\n",
       "rating_count      0\n",
       "best_rating       0\n",
       "worst_rating      0\n",
       "rating            0\n",
       "genre             1\n",
       "keywords          0\n",
       "trailer_link    775\n",
       "actors            0\n",
       "director          0\n",
       "synopsis          0\n",
       "dtype: int64"
      ]
     },
     "execution_count": 50,
     "metadata": {},
     "output_type": "execute_result"
    }
   ],
   "source": [
    "df.isnull().sum()"
   ]
  },
  {
   "cell_type": "code",
   "execution_count": 51,
   "id": "4f09d638",
   "metadata": {},
   "outputs": [
    {
     "data": {
      "text/html": [
       "<div>\n",
       "<style scoped>\n",
       "    .dataframe tbody tr th:only-of-type {\n",
       "        vertical-align: middle;\n",
       "    }\n",
       "\n",
       "    .dataframe tbody tr th {\n",
       "        vertical-align: top;\n",
       "    }\n",
       "\n",
       "    .dataframe thead th {\n",
       "        text-align: right;\n",
       "    }\n",
       "</style>\n",
       "<table border=\"1\" class=\"dataframe\">\n",
       "  <thead>\n",
       "    <tr style=\"text-align: right;\">\n",
       "      <th></th>\n",
       "      <th>title</th>\n",
       "      <th>year</th>\n",
       "      <th>image_link</th>\n",
       "      <th>imdb_id</th>\n",
       "      <th>rating_count</th>\n",
       "      <th>best_rating</th>\n",
       "      <th>worst_rating</th>\n",
       "      <th>rating</th>\n",
       "      <th>genre</th>\n",
       "      <th>keywords</th>\n",
       "      <th>trailer_link</th>\n",
       "      <th>actors</th>\n",
       "      <th>director</th>\n",
       "      <th>synopsis</th>\n",
       "    </tr>\n",
       "  </thead>\n",
       "  <tbody>\n",
       "    <tr>\n",
       "      <th>6882</th>\n",
       "      <td>BeguiledCompany</td>\n",
       "      <td>2021</td>\n",
       "      <td>https://m.media-amazon.com/images/M/MV5BZTFlZT...</td>\n",
       "      <td>tt7884922</td>\n",
       "      <td>872</td>\n",
       "      <td>10</td>\n",
       "      <td>1</td>\n",
       "      <td>6.7</td>\n",
       "      <td>NaN</td>\n",
       "      <td>['group', 'two word title']</td>\n",
       "      <td>NaN</td>\n",
       "      <td>['Chance Gilliam', 'Jess Tomasko', 'Devyn Will...</td>\n",
       "      <td>['Tristan James Jensen']</td>\n",
       "      <td>A group of zillennial friends come together an...</td>\n",
       "    </tr>\n",
       "  </tbody>\n",
       "</table>\n",
       "</div>"
      ],
      "text/plain": [
       "                title  year  \\\n",
       "6882  BeguiledCompany  2021   \n",
       "\n",
       "                                             image_link    imdb_id  \\\n",
       "6882  https://m.media-amazon.com/images/M/MV5BZTFlZT...  tt7884922   \n",
       "\n",
       "      rating_count  best_rating  worst_rating  rating genre  \\\n",
       "6882           872           10             1     6.7   NaN   \n",
       "\n",
       "                         keywords trailer_link  \\\n",
       "6882  ['group', 'two word title']          NaN   \n",
       "\n",
       "                                                 actors  \\\n",
       "6882  ['Chance Gilliam', 'Jess Tomasko', 'Devyn Will...   \n",
       "\n",
       "                      director  \\\n",
       "6882  ['Tristan James Jensen']   \n",
       "\n",
       "                                               synopsis  \n",
       "6882  A group of zillennial friends come together an...  "
      ]
     },
     "execution_count": 51,
     "metadata": {},
     "output_type": "execute_result"
    }
   ],
   "source": [
    "df[df['genre'].isnull()]"
   ]
  },
  {
   "cell_type": "code",
   "execution_count": 52,
   "id": "a49bc05d",
   "metadata": {},
   "outputs": [],
   "source": [
    "df.loc[df['imdb_id'] == 'tt7884922', 'genre'] = \"['Action', 'Thriller', 'Crime Fiction']\""
   ]
  },
  {
   "cell_type": "code",
   "execution_count": 53,
   "id": "8e68d9ae",
   "metadata": {},
   "outputs": [
    {
     "data": {
      "text/plain": [
       "title             0\n",
       "year              0\n",
       "image_link        0\n",
       "imdb_id           0\n",
       "rating_count      0\n",
       "best_rating       0\n",
       "worst_rating      0\n",
       "rating            0\n",
       "genre             0\n",
       "keywords          0\n",
       "trailer_link    775\n",
       "actors            0\n",
       "director          0\n",
       "synopsis          0\n",
       "dtype: int64"
      ]
     },
     "execution_count": 53,
     "metadata": {},
     "output_type": "execute_result"
    }
   ],
   "source": [
    "df.isnull().sum()"
   ]
  },
  {
   "cell_type": "code",
   "execution_count": 54,
   "id": "7fdeb7c4",
   "metadata": {},
   "outputs": [
    {
     "data": {
      "text/html": [
       "<div>\n",
       "<style scoped>\n",
       "    .dataframe tbody tr th:only-of-type {\n",
       "        vertical-align: middle;\n",
       "    }\n",
       "\n",
       "    .dataframe tbody tr th {\n",
       "        vertical-align: top;\n",
       "    }\n",
       "\n",
       "    .dataframe thead th {\n",
       "        text-align: right;\n",
       "    }\n",
       "</style>\n",
       "<table border=\"1\" class=\"dataframe\">\n",
       "  <thead>\n",
       "    <tr style=\"text-align: right;\">\n",
       "      <th></th>\n",
       "      <th>title</th>\n",
       "      <th>year</th>\n",
       "      <th>image_link</th>\n",
       "      <th>imdb_id</th>\n",
       "      <th>rating_count</th>\n",
       "      <th>best_rating</th>\n",
       "      <th>worst_rating</th>\n",
       "      <th>rating</th>\n",
       "      <th>genre</th>\n",
       "      <th>keywords</th>\n",
       "      <th>trailer_link</th>\n",
       "      <th>actors</th>\n",
       "      <th>director</th>\n",
       "      <th>synopsis</th>\n",
       "    </tr>\n",
       "  </thead>\n",
       "  <tbody>\n",
       "    <tr>\n",
       "      <th>38</th>\n",
       "      <td>Dinosaur</td>\n",
       "      <td>2000</td>\n",
       "      <td>https://m.media-amazon.com/images/M/MV5BZWQ1NT...</td>\n",
       "      <td>tt0130623</td>\n",
       "      <td>67113</td>\n",
       "      <td>10</td>\n",
       "      <td>1</td>\n",
       "      <td>6.4</td>\n",
       "      <td>['Animation', 'Adventure', 'Drama']</td>\n",
       "      <td>['dinosaur', 'carnotaurus', 'lemur', 'egg', 'm...</td>\n",
       "      <td>NaN</td>\n",
       "      <td>['D.B. Sweeney', 'Julianna Margulies', 'Samuel...</td>\n",
       "      <td>['Eric Leighton', 'Ralph Zondag']</td>\n",
       "      <td>In a dinosaur breeding ground, a Carnotaurus t...</td>\n",
       "    </tr>\n",
       "    <tr>\n",
       "      <th>54</th>\n",
       "      <td>U-</td>\n",
       "      <td>2000</td>\n",
       "      <td>https://m.media-amazon.com/images/M/MV5BMDE0Yz...</td>\n",
       "      <td>tt0141926</td>\n",
       "      <td>87314</td>\n",
       "      <td>10</td>\n",
       "      <td>1</td>\n",
       "      <td>6.6</td>\n",
       "      <td>['Action', 'War']</td>\n",
       "      <td>['submarine movie', 'world war two', 'military...</td>\n",
       "      <td>NaN</td>\n",
       "      <td>['Matthew McConaughey', 'Bill Paxton', 'Harvey...</td>\n",
       "      <td>['Jonathan Mostow']</td>\n",
       "      <td>German U-boat U-571 is immobilized by a Britis...</td>\n",
       "    </tr>\n",
       "    <tr>\n",
       "      <th>62</th>\n",
       "      <td>Shaft</td>\n",
       "      <td>2000</td>\n",
       "      <td>https://m.media-amazon.com/images/M/MV5BYmJhNW...</td>\n",
       "      <td>tt0162650</td>\n",
       "      <td>80738</td>\n",
       "      <td>10</td>\n",
       "      <td>1</td>\n",
       "      <td>6.0</td>\n",
       "      <td>['Action', 'Crime', 'Thriller']</td>\n",
       "      <td>['fourth part', 'uncle nephew relationship', '...</td>\n",
       "      <td>NaN</td>\n",
       "      <td>['Samuel L. Jackson', 'Vanessa Williams', 'Chr...</td>\n",
       "      <td>['John Singleton']</td>\n",
       "      <td>In 1998, NYPD Detective John Shaft II (Samuel ...</td>\n",
       "    </tr>\n",
       "    <tr>\n",
       "      <th>89</th>\n",
       "      <td>WakingtheDead</td>\n",
       "      <td>2000</td>\n",
       "      <td>https://m.media-amazon.com/images/M/MV5BNDY1OD...</td>\n",
       "      <td>tt0127349</td>\n",
       "      <td>7596</td>\n",
       "      <td>10</td>\n",
       "      <td>1</td>\n",
       "      <td>6.4</td>\n",
       "      <td>['Drama', 'Mystery', 'Romance']</td>\n",
       "      <td>['female nudity', 'based on novel', 'father da...</td>\n",
       "      <td>NaN</td>\n",
       "      <td>['Billy Crudup', 'Bill Haugland', 'Nelson Land...</td>\n",
       "      <td>['Keith Gordon']</td>\n",
       "      <td>The first scene of the movie introduces Fieldi...</td>\n",
       "    </tr>\n",
       "    <tr>\n",
       "      <th>97</th>\n",
       "      <td>Maze</td>\n",
       "      <td>2000</td>\n",
       "      <td>https://m.media-amazon.com/images/M/MV5BMTkwNz...</td>\n",
       "      <td>tt0246072</td>\n",
       "      <td>922</td>\n",
       "      <td>10</td>\n",
       "      <td>1</td>\n",
       "      <td>6.3</td>\n",
       "      <td>['Drama', 'Romance']</td>\n",
       "      <td>['female star appears nude', 'nude model', 'fe...</td>\n",
       "      <td>NaN</td>\n",
       "      <td>['Rob Morrow', 'Laura Linney', 'Craig Sheffer']</td>\n",
       "      <td>['Rob Morrow']</td>\n",
       "      <td>An artist with Tourette Syndrome falls in love...</td>\n",
       "    </tr>\n",
       "  </tbody>\n",
       "</table>\n",
       "</div>"
      ],
      "text/plain": [
       "            title  year                                         image_link  \\\n",
       "38       Dinosaur  2000  https://m.media-amazon.com/images/M/MV5BZWQ1NT...   \n",
       "54             U-  2000  https://m.media-amazon.com/images/M/MV5BMDE0Yz...   \n",
       "62          Shaft  2000  https://m.media-amazon.com/images/M/MV5BYmJhNW...   \n",
       "89  WakingtheDead  2000  https://m.media-amazon.com/images/M/MV5BNDY1OD...   \n",
       "97           Maze  2000  https://m.media-amazon.com/images/M/MV5BMTkwNz...   \n",
       "\n",
       "      imdb_id  rating_count  best_rating  worst_rating  rating  \\\n",
       "38  tt0130623         67113           10             1     6.4   \n",
       "54  tt0141926         87314           10             1     6.6   \n",
       "62  tt0162650         80738           10             1     6.0   \n",
       "89  tt0127349          7596           10             1     6.4   \n",
       "97  tt0246072           922           10             1     6.3   \n",
       "\n",
       "                                  genre  \\\n",
       "38  ['Animation', 'Adventure', 'Drama']   \n",
       "54                    ['Action', 'War']   \n",
       "62      ['Action', 'Crime', 'Thriller']   \n",
       "89      ['Drama', 'Mystery', 'Romance']   \n",
       "97                 ['Drama', 'Romance']   \n",
       "\n",
       "                                             keywords trailer_link  \\\n",
       "38  ['dinosaur', 'carnotaurus', 'lemur', 'egg', 'm...          NaN   \n",
       "54  ['submarine movie', 'world war two', 'military...          NaN   \n",
       "62  ['fourth part', 'uncle nephew relationship', '...          NaN   \n",
       "89  ['female nudity', 'based on novel', 'father da...          NaN   \n",
       "97  ['female star appears nude', 'nude model', 'fe...          NaN   \n",
       "\n",
       "                                               actors  \\\n",
       "38  ['D.B. Sweeney', 'Julianna Margulies', 'Samuel...   \n",
       "54  ['Matthew McConaughey', 'Bill Paxton', 'Harvey...   \n",
       "62  ['Samuel L. Jackson', 'Vanessa Williams', 'Chr...   \n",
       "89  ['Billy Crudup', 'Bill Haugland', 'Nelson Land...   \n",
       "97    ['Rob Morrow', 'Laura Linney', 'Craig Sheffer']   \n",
       "\n",
       "                             director  \\\n",
       "38  ['Eric Leighton', 'Ralph Zondag']   \n",
       "54                ['Jonathan Mostow']   \n",
       "62                 ['John Singleton']   \n",
       "89                   ['Keith Gordon']   \n",
       "97                     ['Rob Morrow']   \n",
       "\n",
       "                                             synopsis  \n",
       "38  In a dinosaur breeding ground, a Carnotaurus t...  \n",
       "54  German U-boat U-571 is immobilized by a Britis...  \n",
       "62  In 1998, NYPD Detective John Shaft II (Samuel ...  \n",
       "89  The first scene of the movie introduces Fieldi...  \n",
       "97  An artist with Tourette Syndrome falls in love...  "
      ]
     },
     "execution_count": 54,
     "metadata": {},
     "output_type": "execute_result"
    }
   ],
   "source": [
    "df[df['trailer_link'].isnull()].head()"
   ]
  },
  {
   "cell_type": "markdown",
   "id": "5188e29d",
   "metadata": {},
   "source": [
    "# Feature Selection"
   ]
  },
  {
   "cell_type": "code",
   "execution_count": 55,
   "id": "348838ed",
   "metadata": {},
   "outputs": [
    {
     "data": {
      "text/plain": [
       "Index(['title', 'year', 'image_link', 'imdb_id', 'rating_count', 'best_rating',\n",
       "       'worst_rating', 'rating', 'genre', 'keywords', 'trailer_link', 'actors',\n",
       "       'director', 'synopsis'],\n",
       "      dtype='object')"
      ]
     },
     "execution_count": 55,
     "metadata": {},
     "output_type": "execute_result"
    }
   ],
   "source": [
    "df.columns"
   ]
  },
  {
   "cell_type": "code",
   "execution_count": 56,
   "id": "ed79f9a2",
   "metadata": {},
   "outputs": [
    {
     "data": {
      "text/plain": [
       "best_rating\n",
       "10    7553\n",
       "Name: count, dtype: int64"
      ]
     },
     "execution_count": 56,
     "metadata": {},
     "output_type": "execute_result"
    }
   ],
   "source": [
    "df['best_rating'].value_counts()"
   ]
  },
  {
   "cell_type": "code",
   "execution_count": 57,
   "id": "8106aeb2",
   "metadata": {},
   "outputs": [
    {
     "data": {
      "text/plain": [
       "worst_rating\n",
       "1    7553\n",
       "Name: count, dtype: int64"
      ]
     },
     "execution_count": 57,
     "metadata": {},
     "output_type": "execute_result"
    }
   ],
   "source": [
    "df['worst_rating'].value_counts()"
   ]
  },
  {
   "cell_type": "code",
   "execution_count": 58,
   "id": "beeadd08",
   "metadata": {},
   "outputs": [],
   "source": [
    "# drop worst_rating and best_rating columns as they don't have significant meaning\n",
    "df.drop(columns=['worst_rating', 'best_rating'], inplace=True)"
   ]
  },
  {
   "cell_type": "code",
   "execution_count": 59,
   "id": "76f21802",
   "metadata": {},
   "outputs": [
    {
     "data": {
      "text/plain": [
       "Index(['title', 'year', 'image_link', 'imdb_id', 'rating_count', 'rating',\n",
       "       'genre', 'keywords', 'trailer_link', 'actors', 'director', 'synopsis'],\n",
       "      dtype='object')"
      ]
     },
     "execution_count": 59,
     "metadata": {},
     "output_type": "execute_result"
    }
   ],
   "source": [
    "df.columns"
   ]
  },
  {
   "cell_type": "markdown",
   "id": "9c81cd2f",
   "metadata": {},
   "source": [
    "# Duplicates Check"
   ]
  },
  {
   "cell_type": "code",
   "execution_count": 60,
   "id": "8002b6c2",
   "metadata": {},
   "outputs": [
    {
     "data": {
      "text/plain": [
       "0"
      ]
     },
     "execution_count": 60,
     "metadata": {},
     "output_type": "execute_result"
    }
   ],
   "source": [
    "df.duplicated().sum()"
   ]
  },
  {
   "cell_type": "markdown",
   "id": "ed611cb6",
   "metadata": {},
   "source": [
    "# Clean synopsis"
   ]
  },
  {
   "cell_type": "code",
   "execution_count": 61,
   "id": "fe0a80c1-51a9-40d4-8655-9b45c83ee393",
   "metadata": {},
   "outputs": [],
   "source": [
    "# Convert text to lowercase\n",
    "def convert_to_lower_case(text):\n",
    "  return text.lower()"
   ]
  },
  {
   "cell_type": "code",
   "execution_count": 62,
   "id": "45ad849f-2836-43d0-86ee-6c9e47c75ea4",
   "metadata": {},
   "outputs": [],
   "source": [
    "def remove_punctuation(text):\n",
    "  # Create a translation table to remove punctuation\n",
    "  translator = str.maketrans('', '', string.punctuation)\n",
    "\n",
    "  # Remove punctuation using the translation table\n",
    "  text_without_punct = text.translate(translator)\n",
    "\n",
    "  return text_without_punct"
   ]
  },
  {
   "cell_type": "code",
   "execution_count": 63,
   "id": "e5d61848-e47e-418f-b20a-8a8d24f5d4c3",
   "metadata": {},
   "outputs": [],
   "source": [
    "def tokenize(text):\n",
    "  # Tokenization\n",
    "  return word_tokenize(text)"
   ]
  },
  {
   "cell_type": "code",
   "execution_count": 64,
   "id": "531d3b3f-0668-4d89-bd59-466c4a7a63cc",
   "metadata": {},
   "outputs": [],
   "source": [
    "# Remove stopwords\n",
    "def remove_stop_words(tokens):\n",
    "  stop_words = set(stopwords.words('english'))\n",
    "  return [word for word in tokens if word not in stop_words]"
   ]
  },
  {
   "cell_type": "code",
   "execution_count": 65,
   "id": "b39168a5-94a3-4b2e-a187-ab3eb9ce32c6",
   "metadata": {},
   "outputs": [],
   "source": [
    "def lemmatize(tokens):\n",
    "  # Lemmatization\n",
    "  lemmatizer = WordNetLemmatizer()\n",
    "  return [lemmatizer.lemmatize(word) if lemmatizer.lemmatize(word) is not None else word for word in tokens]"
   ]
  },
  {
   "cell_type": "code",
   "execution_count": 66,
   "id": "ecc531cc-0183-4dec-ad4b-6a610e689749",
   "metadata": {},
   "outputs": [],
   "source": [
    "# Remove special characters and numbers\n",
    "def remove_special_chars(tokens):\n",
    "    return [re.sub('[^A-Za-z]+', '', word) for word in tokens]"
   ]
  },
  {
   "cell_type": "code",
   "execution_count": 67,
   "id": "c769e571-b9f7-4c78-a0e4-32a6f0987482",
   "metadata": {},
   "outputs": [],
   "source": [
    "# function to do preprocessing text\n",
    "def preprocess_text(text):\n",
    "  lower_text = convert_to_lower_case(text) # converting to lowercase\n",
    "  removed_punctuation = remove_punctuation(lower_text) # removing punctuation\n",
    "  tokens = tokenize(removed_punctuation) # tokenize words\n",
    "  tokens = remove_stop_words(tokens) # removing stop words\n",
    "  tokens = lemmatize(tokens) # lemmatize tokens\n",
    "  tokens = remove_special_chars(tokens) # remove special characters from token\n",
    "\n",
    "  preprocessed_text = ' '.join(tokens) # final preprocessed text\n",
    "  return preprocessed_text"
   ]
  },
  {
   "cell_type": "code",
   "execution_count": 68,
   "id": "358476b5-9194-4a29-9109-b492a3b31488",
   "metadata": {},
   "outputs": [],
   "source": [
    "# Apply function on text column\n",
    "df['processed_plot'] = df['synopsis'].apply(preprocess_text)"
   ]
  },
  {
   "cell_type": "code",
   "execution_count": 69,
   "id": "f97c3231",
   "metadata": {},
   "outputs": [
    {
     "data": {
      "text/plain": [
       "0"
      ]
     },
     "execution_count": 69,
     "metadata": {},
     "output_type": "execute_result"
    }
   ],
   "source": [
    "df['processed_plot'].isnull().sum()"
   ]
  },
  {
   "cell_type": "code",
   "execution_count": 71,
   "id": "644835ce",
   "metadata": {},
   "outputs": [
    {
     "data": {
      "text/plain": [
       "'shouting rom invicta force attack general maximus decimus meridius russell crowe lead roman army victory germanic barbarian year  ad ending prolonged war earning esteem elderly emperor marcus aurelius although dying aurelius son commodus joaquin phoenix decides appoint temporary leadership morallyupstanding maximus desire eventually return power roman senate aurelius informs maximus offer time consider informing commodus bout jealousy murder fatherdeclaring emperor commodus asks maximus loyalty maximus realizing commodus involvement emperor death refuse commodus order maximus execution dispatch praetorian guard murder maximus wife son maximus narrowly escape execution race home discover family charred crucified body smoldering ruin villa burying wife son grieving maximus succumbs exhaustion collapse gravesslave trader find maximus take zucchabar rugged province north africa purchased proximo head local gladiator school distraught nihilistic death family betrayal empire maximus initially refuse fight defends arena formidable combat skill lead rise popularity audience train fight maximus befriends hagen germanic barbarian juba numidian hunter latter becoming close friend confidant grieving maximus two speaking frequently afterlife maximus eventual reunification familyin rome commodus reopens gladiatorial game commemorate father death proximos company gladiator hired participate recreation battle zama incorrectly named battle carthage colosseum maximus lead proximos gladiator decisive victory powerful force much amazement crowd commodus descends arena meet victor stunned discover maximus leader proximos gladiator emperor unable kill maximus crowd roaring approval sulk arenaas game continue commodus pit maximus tigris gaul rome undefeated gladiator arena surrounded chained tiger handler instructed target maximus following intense battle maximus narrowly defeat tigris awaits commodus decision kill spare tigris commodus vote death maximus spare tigris deliberately insulting emperor garnering audience approval bitter enemy known maximus merciful commodus becomes frustrated inability kill maximus stop ascending popularity commodus popularity shrinksfollowing fight maximus meet former servant cicero reveals maximuss army remains loyal camped port ostia maximus form plot lucilla commodus sister senator gracchus reunite maximus army overthrow commodus commodus however suspecting sister betrayal threatens young son force reveal plot praetorian guard immediately storm proximos gladiator barrack battling gladiator maximus escape hagen proximo killed siege juba survivor imprisoned maximus escape city wall witness cicero death ambushed legion praetorian guardsconcluding legend born colosseum must die commodus personally challenge maximus duel front roaring audience acknowledging maximus skill exceeds commodus deliberately stab maximus stiletto puncturing lung wound concealed beneath gladiator armor arena two exchange blow maximus rip sword commoduss hand commodus request sword guard betray refuse lend weapon maximus drop sword commodus pull hidden stiletto renews attack maximus beat commodus submission kill stilettoas commodus collapse nowsilent colosseum dying maximus begin seeing wife son afterlife reach pulled back reality praetorian prefect quintus asks instruction maximus order release proximos gladiator senator gracchus reinstates instructs return rome senatebased governmentmaximus collapse lucilla rush aid reassured son safe commodus dead maximus dy wanders afterlife family distance senator gracchus proximos gladiator carry body colosseum night newly freed juba buries maximus two small statue wife son colosseum say eventually join yet'"
      ]
     },
     "execution_count": 71,
     "metadata": {},
     "output_type": "execute_result"
    }
   ],
   "source": [
    "df.iloc[0]['processed_plot']"
   ]
  },
  {
   "cell_type": "code",
   "execution_count": 72,
   "id": "881c1d3e",
   "metadata": {},
   "outputs": [],
   "source": [
    "# drop synopsis column\n",
    "df.drop(columns=['synopsis'], inplace=True)"
   ]
  },
  {
   "cell_type": "code",
   "execution_count": 73,
   "id": "dd3c4e7f",
   "metadata": {},
   "outputs": [
    {
     "data": {
      "text/plain": [
       "Index(['title', 'year', 'image_link', 'imdb_id', 'rating_count', 'rating',\n",
       "       'genre', 'keywords', 'trailer_link', 'actors', 'director',\n",
       "       'processed_plot'],\n",
       "      dtype='object')"
      ]
     },
     "execution_count": 73,
     "metadata": {},
     "output_type": "execute_result"
    }
   ],
   "source": [
    "df.columns"
   ]
  },
  {
   "cell_type": "markdown",
   "id": "b5b54ef7",
   "metadata": {},
   "source": [
    "# Clean features with multiple values"
   ]
  },
  {
   "cell_type": "code",
   "execution_count": 74,
   "id": "2165ea12",
   "metadata": {},
   "outputs": [
    {
     "data": {
      "text/plain": [
       "Index(['title', 'year', 'image_link', 'imdb_id', 'rating_count', 'rating',\n",
       "       'genre', 'keywords', 'trailer_link', 'actors', 'director',\n",
       "       'processed_plot'],\n",
       "      dtype='object')"
      ]
     },
     "execution_count": 74,
     "metadata": {},
     "output_type": "execute_result"
    }
   ],
   "source": [
    "df.columns"
   ]
  },
  {
   "cell_type": "code",
   "execution_count": 75,
   "id": "9fecad20",
   "metadata": {},
   "outputs": [
    {
     "name": "stdout",
     "output_type": "stream",
     "text": [
      "<class 'pandas.core.frame.DataFrame'>\n",
      "RangeIndex: 7553 entries, 0 to 7552\n",
      "Data columns (total 12 columns):\n",
      " #   Column          Non-Null Count  Dtype  \n",
      "---  ------          --------------  -----  \n",
      " 0   title           7553 non-null   object \n",
      " 1   year            7553 non-null   int64  \n",
      " 2   image_link      7553 non-null   object \n",
      " 3   imdb_id         7553 non-null   object \n",
      " 4   rating_count    7553 non-null   int64  \n",
      " 5   rating          7553 non-null   float64\n",
      " 6   genre           7553 non-null   object \n",
      " 7   keywords        7553 non-null   object \n",
      " 8   trailer_link    6778 non-null   object \n",
      " 9   actors          7553 non-null   object \n",
      " 10  director        7553 non-null   object \n",
      " 11  processed_plot  7553 non-null   object \n",
      "dtypes: float64(1), int64(2), object(9)\n",
      "memory usage: 708.2+ KB\n"
     ]
    }
   ],
   "source": [
    "df.info()"
   ]
  },
  {
   "cell_type": "code",
   "execution_count": 76,
   "id": "b5ca6ea8",
   "metadata": {},
   "outputs": [
    {
     "data": {
      "text/plain": [
       "keywords    0\n",
       "actors      0\n",
       "director    0\n",
       "genre       0\n",
       "dtype: int64"
      ]
     },
     "execution_count": 76,
     "metadata": {},
     "output_type": "execute_result"
    }
   ],
   "source": [
    "list_cols = ['keywords', 'actors', 'director', 'genre']\n",
    "df[list_cols].isnull().sum()"
   ]
  },
  {
   "cell_type": "code",
   "execution_count": 78,
   "id": "5024c6e3",
   "metadata": {},
   "outputs": [],
   "source": [
    "list_cols = ['keywords', 'actors', 'director', 'genre']\n",
    "for col in list_cols:\n",
    "    df[col] = df[col].apply(ast.literal_eval)"
   ]
  },
  {
   "cell_type": "code",
   "execution_count": 79,
   "id": "88ec7e0b-934a-4fe0-a3ad-6c919c310f31",
   "metadata": {},
   "outputs": [
    {
     "data": {
      "text/html": [
       "<div>\n",
       "<style scoped>\n",
       "    .dataframe tbody tr th:only-of-type {\n",
       "        vertical-align: middle;\n",
       "    }\n",
       "\n",
       "    .dataframe tbody tr th {\n",
       "        vertical-align: top;\n",
       "    }\n",
       "\n",
       "    .dataframe thead th {\n",
       "        text-align: right;\n",
       "    }\n",
       "</style>\n",
       "<table border=\"1\" class=\"dataframe\">\n",
       "  <thead>\n",
       "    <tr style=\"text-align: right;\">\n",
       "      <th></th>\n",
       "      <th>title</th>\n",
       "      <th>year</th>\n",
       "      <th>image_link</th>\n",
       "      <th>imdb_id</th>\n",
       "      <th>rating_count</th>\n",
       "      <th>rating</th>\n",
       "      <th>genre</th>\n",
       "      <th>keywords</th>\n",
       "      <th>trailer_link</th>\n",
       "      <th>actors</th>\n",
       "      <th>director</th>\n",
       "      <th>processed_plot</th>\n",
       "    </tr>\n",
       "  </thead>\n",
       "  <tbody>\n",
       "    <tr>\n",
       "      <th>0</th>\n",
       "      <td>Gladiator</td>\n",
       "      <td>2000</td>\n",
       "      <td>https://m.media-amazon.com/images/M/MV5BMDliMm...</td>\n",
       "      <td>tt0172495</td>\n",
       "      <td>1617220</td>\n",
       "      <td>8.5</td>\n",
       "      <td>[Action, Adventure, Drama]</td>\n",
       "      <td>[roman empire, gladiator, slavery, combat, bat...</td>\n",
       "      <td>https://www.imdb.com/video/vi2628367897/</td>\n",
       "      <td>[Russell Crowe, Joaquin Phoenix, Connie Nielsen]</td>\n",
       "      <td>[Ridley Scott]</td>\n",
       "      <td>shouting rom invicta force attack general maxi...</td>\n",
       "    </tr>\n",
       "    <tr>\n",
       "      <th>1</th>\n",
       "      <td>Unbreakable</td>\n",
       "      <td>2000</td>\n",
       "      <td>https://m.media-amazon.com/images/M/MV5BMDIwMj...</td>\n",
       "      <td>tt0217869</td>\n",
       "      <td>440860</td>\n",
       "      <td>7.3</td>\n",
       "      <td>[Drama, Mystery, Sci-Fi]</td>\n",
       "      <td>[supernatural power, train crash, superhero, c...</td>\n",
       "      <td>https://www.imdb.com/video/vi1103346201/</td>\n",
       "      <td>[Bruce Willis, Samuel L. Jackson, Robin Wright]</td>\n",
       "      <td>[M. Night Shyamalan]</td>\n",
       "      <td>film open see baby born west philadelphia elij...</td>\n",
       "    </tr>\n",
       "    <tr>\n",
       "      <th>2</th>\n",
       "      <td>Snatch</td>\n",
       "      <td>2000</td>\n",
       "      <td>https://m.media-amazon.com/images/M/MV5BMTA2ND...</td>\n",
       "      <td>tt0208092</td>\n",
       "      <td>909299</td>\n",
       "      <td>8.2</td>\n",
       "      <td>[Comedy, Crime]</td>\n",
       "      <td>[diamond, boxer, narrated by character, cockne...</td>\n",
       "      <td>https://www.imdb.com/video/vi1558577433/</td>\n",
       "      <td>[Jason Statham, Brad Pitt, Stephen Graham]</td>\n",
       "      <td>[Guy Ritchie]</td>\n",
       "      <td>stealing carat  g diamond heist antwerp franki...</td>\n",
       "    </tr>\n",
       "    <tr>\n",
       "      <th>3</th>\n",
       "      <td>AmericanPsycho</td>\n",
       "      <td>2000</td>\n",
       "      <td>https://m.media-amazon.com/images/M/MV5BZTM2ZG...</td>\n",
       "      <td>tt0144084</td>\n",
       "      <td>713635</td>\n",
       "      <td>7.6</td>\n",
       "      <td>[Crime, Drama, Horror]</td>\n",
       "      <td>[narcissism, materialism, serial murder, socio...</td>\n",
       "      <td>https://www.imdb.com/video/vi4060743449/</td>\n",
       "      <td>[Christian Bale, Justin Theroux, Josh Lucas]</td>\n",
       "      <td>[Mary Harron]</td>\n",
       "      <td>white background red drop begin fall past open...</td>\n",
       "    </tr>\n",
       "    <tr>\n",
       "      <th>4</th>\n",
       "      <td>RequiemforaDream</td>\n",
       "      <td>2000</td>\n",
       "      <td>https://m.media-amazon.com/images/M/MV5BOTdiNz...</td>\n",
       "      <td>tt0180093</td>\n",
       "      <td>897414</td>\n",
       "      <td>8.3</td>\n",
       "      <td>[Drama]</td>\n",
       "      <td>[drug addiction, sex show, sex scene, prostitu...</td>\n",
       "      <td>https://www.imdb.com/video/vi2156069145/</td>\n",
       "      <td>[Ellen Burstyn, Jared Leto, Jennifer Connelly]</td>\n",
       "      <td>[Darren Aronofsky]</td>\n",
       "      <td>harry goldfarb jared leto tyrone love marlon w...</td>\n",
       "    </tr>\n",
       "  </tbody>\n",
       "</table>\n",
       "</div>"
      ],
      "text/plain": [
       "              title  year                                         image_link  \\\n",
       "0         Gladiator  2000  https://m.media-amazon.com/images/M/MV5BMDliMm...   \n",
       "1       Unbreakable  2000  https://m.media-amazon.com/images/M/MV5BMDIwMj...   \n",
       "2            Snatch  2000  https://m.media-amazon.com/images/M/MV5BMTA2ND...   \n",
       "3    AmericanPsycho  2000  https://m.media-amazon.com/images/M/MV5BZTM2ZG...   \n",
       "4  RequiemforaDream  2000  https://m.media-amazon.com/images/M/MV5BOTdiNz...   \n",
       "\n",
       "     imdb_id  rating_count  rating                       genre  \\\n",
       "0  tt0172495       1617220     8.5  [Action, Adventure, Drama]   \n",
       "1  tt0217869        440860     7.3    [Drama, Mystery, Sci-Fi]   \n",
       "2  tt0208092        909299     8.2             [Comedy, Crime]   \n",
       "3  tt0144084        713635     7.6      [Crime, Drama, Horror]   \n",
       "4  tt0180093        897414     8.3                     [Drama]   \n",
       "\n",
       "                                            keywords  \\\n",
       "0  [roman empire, gladiator, slavery, combat, bat...   \n",
       "1  [supernatural power, train crash, superhero, c...   \n",
       "2  [diamond, boxer, narrated by character, cockne...   \n",
       "3  [narcissism, materialism, serial murder, socio...   \n",
       "4  [drug addiction, sex show, sex scene, prostitu...   \n",
       "\n",
       "                               trailer_link  \\\n",
       "0  https://www.imdb.com/video/vi2628367897/   \n",
       "1  https://www.imdb.com/video/vi1103346201/   \n",
       "2  https://www.imdb.com/video/vi1558577433/   \n",
       "3  https://www.imdb.com/video/vi4060743449/   \n",
       "4  https://www.imdb.com/video/vi2156069145/   \n",
       "\n",
       "                                             actors              director  \\\n",
       "0  [Russell Crowe, Joaquin Phoenix, Connie Nielsen]        [Ridley Scott]   \n",
       "1   [Bruce Willis, Samuel L. Jackson, Robin Wright]  [M. Night Shyamalan]   \n",
       "2        [Jason Statham, Brad Pitt, Stephen Graham]         [Guy Ritchie]   \n",
       "3      [Christian Bale, Justin Theroux, Josh Lucas]         [Mary Harron]   \n",
       "4    [Ellen Burstyn, Jared Leto, Jennifer Connelly]    [Darren Aronofsky]   \n",
       "\n",
       "                                      processed_plot  \n",
       "0  shouting rom invicta force attack general maxi...  \n",
       "1  film open see baby born west philadelphia elij...  \n",
       "2  stealing carat  g diamond heist antwerp franki...  \n",
       "3  white background red drop begin fall past open...  \n",
       "4  harry goldfarb jared leto tyrone love marlon w...  "
      ]
     },
     "execution_count": 79,
     "metadata": {},
     "output_type": "execute_result"
    }
   ],
   "source": [
    "df.head()"
   ]
  },
  {
   "cell_type": "code",
   "execution_count": 80,
   "id": "443613cb",
   "metadata": {},
   "outputs": [],
   "source": [
    "# remove unnecessary columns\n",
    "unrelevant_cols = ['image_link', 'trailer_link']\n",
    "df.drop(columns=unrelevant_cols, inplace=True)"
   ]
  },
  {
   "cell_type": "code",
   "execution_count": 81,
   "id": "b3aa0902",
   "metadata": {},
   "outputs": [
    {
     "data": {
      "text/html": [
       "<div>\n",
       "<style scoped>\n",
       "    .dataframe tbody tr th:only-of-type {\n",
       "        vertical-align: middle;\n",
       "    }\n",
       "\n",
       "    .dataframe tbody tr th {\n",
       "        vertical-align: top;\n",
       "    }\n",
       "\n",
       "    .dataframe thead th {\n",
       "        text-align: right;\n",
       "    }\n",
       "</style>\n",
       "<table border=\"1\" class=\"dataframe\">\n",
       "  <thead>\n",
       "    <tr style=\"text-align: right;\">\n",
       "      <th></th>\n",
       "      <th>title</th>\n",
       "      <th>year</th>\n",
       "      <th>imdb_id</th>\n",
       "      <th>rating_count</th>\n",
       "      <th>rating</th>\n",
       "      <th>genre</th>\n",
       "      <th>keywords</th>\n",
       "      <th>actors</th>\n",
       "      <th>director</th>\n",
       "      <th>processed_plot</th>\n",
       "    </tr>\n",
       "  </thead>\n",
       "  <tbody>\n",
       "    <tr>\n",
       "      <th>0</th>\n",
       "      <td>Gladiator</td>\n",
       "      <td>2000</td>\n",
       "      <td>tt0172495</td>\n",
       "      <td>1617220</td>\n",
       "      <td>8.5</td>\n",
       "      <td>[Action, Adventure, Drama]</td>\n",
       "      <td>[roman empire, gladiator, slavery, combat, bat...</td>\n",
       "      <td>[Russell Crowe, Joaquin Phoenix, Connie Nielsen]</td>\n",
       "      <td>[Ridley Scott]</td>\n",
       "      <td>shouting rom invicta force attack general maxi...</td>\n",
       "    </tr>\n",
       "    <tr>\n",
       "      <th>1</th>\n",
       "      <td>Unbreakable</td>\n",
       "      <td>2000</td>\n",
       "      <td>tt0217869</td>\n",
       "      <td>440860</td>\n",
       "      <td>7.3</td>\n",
       "      <td>[Drama, Mystery, Sci-Fi]</td>\n",
       "      <td>[supernatural power, train crash, superhero, c...</td>\n",
       "      <td>[Bruce Willis, Samuel L. Jackson, Robin Wright]</td>\n",
       "      <td>[M. Night Shyamalan]</td>\n",
       "      <td>film open see baby born west philadelphia elij...</td>\n",
       "    </tr>\n",
       "    <tr>\n",
       "      <th>2</th>\n",
       "      <td>Snatch</td>\n",
       "      <td>2000</td>\n",
       "      <td>tt0208092</td>\n",
       "      <td>909299</td>\n",
       "      <td>8.2</td>\n",
       "      <td>[Comedy, Crime]</td>\n",
       "      <td>[diamond, boxer, narrated by character, cockne...</td>\n",
       "      <td>[Jason Statham, Brad Pitt, Stephen Graham]</td>\n",
       "      <td>[Guy Ritchie]</td>\n",
       "      <td>stealing carat  g diamond heist antwerp franki...</td>\n",
       "    </tr>\n",
       "    <tr>\n",
       "      <th>3</th>\n",
       "      <td>AmericanPsycho</td>\n",
       "      <td>2000</td>\n",
       "      <td>tt0144084</td>\n",
       "      <td>713635</td>\n",
       "      <td>7.6</td>\n",
       "      <td>[Crime, Drama, Horror]</td>\n",
       "      <td>[narcissism, materialism, serial murder, socio...</td>\n",
       "      <td>[Christian Bale, Justin Theroux, Josh Lucas]</td>\n",
       "      <td>[Mary Harron]</td>\n",
       "      <td>white background red drop begin fall past open...</td>\n",
       "    </tr>\n",
       "    <tr>\n",
       "      <th>4</th>\n",
       "      <td>RequiemforaDream</td>\n",
       "      <td>2000</td>\n",
       "      <td>tt0180093</td>\n",
       "      <td>897414</td>\n",
       "      <td>8.3</td>\n",
       "      <td>[Drama]</td>\n",
       "      <td>[drug addiction, sex show, sex scene, prostitu...</td>\n",
       "      <td>[Ellen Burstyn, Jared Leto, Jennifer Connelly]</td>\n",
       "      <td>[Darren Aronofsky]</td>\n",
       "      <td>harry goldfarb jared leto tyrone love marlon w...</td>\n",
       "    </tr>\n",
       "  </tbody>\n",
       "</table>\n",
       "</div>"
      ],
      "text/plain": [
       "              title  year    imdb_id  rating_count  rating  \\\n",
       "0         Gladiator  2000  tt0172495       1617220     8.5   \n",
       "1       Unbreakable  2000  tt0217869        440860     7.3   \n",
       "2            Snatch  2000  tt0208092        909299     8.2   \n",
       "3    AmericanPsycho  2000  tt0144084        713635     7.6   \n",
       "4  RequiemforaDream  2000  tt0180093        897414     8.3   \n",
       "\n",
       "                        genre  \\\n",
       "0  [Action, Adventure, Drama]   \n",
       "1    [Drama, Mystery, Sci-Fi]   \n",
       "2             [Comedy, Crime]   \n",
       "3      [Crime, Drama, Horror]   \n",
       "4                     [Drama]   \n",
       "\n",
       "                                            keywords  \\\n",
       "0  [roman empire, gladiator, slavery, combat, bat...   \n",
       "1  [supernatural power, train crash, superhero, c...   \n",
       "2  [diamond, boxer, narrated by character, cockne...   \n",
       "3  [narcissism, materialism, serial murder, socio...   \n",
       "4  [drug addiction, sex show, sex scene, prostitu...   \n",
       "\n",
       "                                             actors              director  \\\n",
       "0  [Russell Crowe, Joaquin Phoenix, Connie Nielsen]        [Ridley Scott]   \n",
       "1   [Bruce Willis, Samuel L. Jackson, Robin Wright]  [M. Night Shyamalan]   \n",
       "2        [Jason Statham, Brad Pitt, Stephen Graham]         [Guy Ritchie]   \n",
       "3      [Christian Bale, Justin Theroux, Josh Lucas]         [Mary Harron]   \n",
       "4    [Ellen Burstyn, Jared Leto, Jennifer Connelly]    [Darren Aronofsky]   \n",
       "\n",
       "                                      processed_plot  \n",
       "0  shouting rom invicta force attack general maxi...  \n",
       "1  film open see baby born west philadelphia elij...  \n",
       "2  stealing carat  g diamond heist antwerp franki...  \n",
       "3  white background red drop begin fall past open...  \n",
       "4  harry goldfarb jared leto tyrone love marlon w...  "
      ]
     },
     "execution_count": 81,
     "metadata": {},
     "output_type": "execute_result"
    }
   ],
   "source": [
    "df.head()"
   ]
  },
  {
   "cell_type": "code",
   "execution_count": 83,
   "id": "d7b86f05",
   "metadata": {},
   "outputs": [],
   "source": [
    "df.reset_index(drop=True, inplace=True)"
   ]
  },
  {
   "cell_type": "code",
   "execution_count": 84,
   "id": "d8f1055b",
   "metadata": {},
   "outputs": [
    {
     "data": {
      "text/html": [
       "<div>\n",
       "<style scoped>\n",
       "    .dataframe tbody tr th:only-of-type {\n",
       "        vertical-align: middle;\n",
       "    }\n",
       "\n",
       "    .dataframe tbody tr th {\n",
       "        vertical-align: top;\n",
       "    }\n",
       "\n",
       "    .dataframe thead th {\n",
       "        text-align: right;\n",
       "    }\n",
       "</style>\n",
       "<table border=\"1\" class=\"dataframe\">\n",
       "  <thead>\n",
       "    <tr style=\"text-align: right;\">\n",
       "      <th></th>\n",
       "      <th>title</th>\n",
       "      <th>year</th>\n",
       "      <th>imdb_id</th>\n",
       "      <th>rating_count</th>\n",
       "      <th>rating</th>\n",
       "      <th>genre</th>\n",
       "      <th>keywords</th>\n",
       "      <th>actors</th>\n",
       "      <th>director</th>\n",
       "      <th>processed_plot</th>\n",
       "    </tr>\n",
       "  </thead>\n",
       "  <tbody>\n",
       "    <tr>\n",
       "      <th>0</th>\n",
       "      <td>Gladiator</td>\n",
       "      <td>2000</td>\n",
       "      <td>tt0172495</td>\n",
       "      <td>1617220</td>\n",
       "      <td>8.5</td>\n",
       "      <td>[Action, Adventure, Drama]</td>\n",
       "      <td>[roman empire, gladiator, slavery, combat, bat...</td>\n",
       "      <td>[Russell Crowe, Joaquin Phoenix, Connie Nielsen]</td>\n",
       "      <td>[Ridley Scott]</td>\n",
       "      <td>shouting rom invicta force attack general maxi...</td>\n",
       "    </tr>\n",
       "    <tr>\n",
       "      <th>1</th>\n",
       "      <td>Unbreakable</td>\n",
       "      <td>2000</td>\n",
       "      <td>tt0217869</td>\n",
       "      <td>440860</td>\n",
       "      <td>7.3</td>\n",
       "      <td>[Drama, Mystery, Sci-Fi]</td>\n",
       "      <td>[supernatural power, train crash, superhero, c...</td>\n",
       "      <td>[Bruce Willis, Samuel L. Jackson, Robin Wright]</td>\n",
       "      <td>[M. Night Shyamalan]</td>\n",
       "      <td>film open see baby born west philadelphia elij...</td>\n",
       "    </tr>\n",
       "    <tr>\n",
       "      <th>2</th>\n",
       "      <td>Snatch</td>\n",
       "      <td>2000</td>\n",
       "      <td>tt0208092</td>\n",
       "      <td>909299</td>\n",
       "      <td>8.2</td>\n",
       "      <td>[Comedy, Crime]</td>\n",
       "      <td>[diamond, boxer, narrated by character, cockne...</td>\n",
       "      <td>[Jason Statham, Brad Pitt, Stephen Graham]</td>\n",
       "      <td>[Guy Ritchie]</td>\n",
       "      <td>stealing carat  g diamond heist antwerp franki...</td>\n",
       "    </tr>\n",
       "    <tr>\n",
       "      <th>3</th>\n",
       "      <td>AmericanPsycho</td>\n",
       "      <td>2000</td>\n",
       "      <td>tt0144084</td>\n",
       "      <td>713635</td>\n",
       "      <td>7.6</td>\n",
       "      <td>[Crime, Drama, Horror]</td>\n",
       "      <td>[narcissism, materialism, serial murder, socio...</td>\n",
       "      <td>[Christian Bale, Justin Theroux, Josh Lucas]</td>\n",
       "      <td>[Mary Harron]</td>\n",
       "      <td>white background red drop begin fall past open...</td>\n",
       "    </tr>\n",
       "    <tr>\n",
       "      <th>4</th>\n",
       "      <td>RequiemforaDream</td>\n",
       "      <td>2000</td>\n",
       "      <td>tt0180093</td>\n",
       "      <td>897414</td>\n",
       "      <td>8.3</td>\n",
       "      <td>[Drama]</td>\n",
       "      <td>[drug addiction, sex show, sex scene, prostitu...</td>\n",
       "      <td>[Ellen Burstyn, Jared Leto, Jennifer Connelly]</td>\n",
       "      <td>[Darren Aronofsky]</td>\n",
       "      <td>harry goldfarb jared leto tyrone love marlon w...</td>\n",
       "    </tr>\n",
       "  </tbody>\n",
       "</table>\n",
       "</div>"
      ],
      "text/plain": [
       "              title  year    imdb_id  rating_count  rating  \\\n",
       "0         Gladiator  2000  tt0172495       1617220     8.5   \n",
       "1       Unbreakable  2000  tt0217869        440860     7.3   \n",
       "2            Snatch  2000  tt0208092        909299     8.2   \n",
       "3    AmericanPsycho  2000  tt0144084        713635     7.6   \n",
       "4  RequiemforaDream  2000  tt0180093        897414     8.3   \n",
       "\n",
       "                        genre  \\\n",
       "0  [Action, Adventure, Drama]   \n",
       "1    [Drama, Mystery, Sci-Fi]   \n",
       "2             [Comedy, Crime]   \n",
       "3      [Crime, Drama, Horror]   \n",
       "4                     [Drama]   \n",
       "\n",
       "                                            keywords  \\\n",
       "0  [roman empire, gladiator, slavery, combat, bat...   \n",
       "1  [supernatural power, train crash, superhero, c...   \n",
       "2  [diamond, boxer, narrated by character, cockne...   \n",
       "3  [narcissism, materialism, serial murder, socio...   \n",
       "4  [drug addiction, sex show, sex scene, prostitu...   \n",
       "\n",
       "                                             actors              director  \\\n",
       "0  [Russell Crowe, Joaquin Phoenix, Connie Nielsen]        [Ridley Scott]   \n",
       "1   [Bruce Willis, Samuel L. Jackson, Robin Wright]  [M. Night Shyamalan]   \n",
       "2        [Jason Statham, Brad Pitt, Stephen Graham]         [Guy Ritchie]   \n",
       "3      [Christian Bale, Justin Theroux, Josh Lucas]         [Mary Harron]   \n",
       "4    [Ellen Burstyn, Jared Leto, Jennifer Connelly]    [Darren Aronofsky]   \n",
       "\n",
       "                                      processed_plot  \n",
       "0  shouting rom invicta force attack general maxi...  \n",
       "1  film open see baby born west philadelphia elij...  \n",
       "2  stealing carat  g diamond heist antwerp franki...  \n",
       "3  white background red drop begin fall past open...  \n",
       "4  harry goldfarb jared leto tyrone love marlon w...  "
      ]
     },
     "execution_count": 84,
     "metadata": {},
     "output_type": "execute_result"
    }
   ],
   "source": [
    "df.head()"
   ]
  },
  {
   "cell_type": "code",
   "execution_count": 85,
   "id": "4b14bf95",
   "metadata": {},
   "outputs": [],
   "source": [
    "df.to_csv('../data/processed/preprocessed_dataset.csv', index=False)"
   ]
  },
  {
   "cell_type": "code",
   "execution_count": null,
   "id": "44b4c787",
   "metadata": {},
   "outputs": [],
   "source": []
  }
 ],
 "metadata": {
  "kernelspec": {
   "display_name": "Python 3 (ipykernel)",
   "language": "python",
   "name": "python3"
  },
  "language_info": {
   "codemirror_mode": {
    "name": "ipython",
    "version": 3
   },
   "file_extension": ".py",
   "mimetype": "text/x-python",
   "name": "python",
   "nbconvert_exporter": "python",
   "pygments_lexer": "ipython3",
   "version": "3.11.5"
  }
 },
 "nbformat": 4,
 "nbformat_minor": 5
}
