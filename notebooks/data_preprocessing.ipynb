{
 "cells": [
  {
   "cell_type": "code",
   "execution_count": 49,
   "metadata": {
    "id": "BloPBjjSqqUO",
    "tags": []
   },
   "outputs": [],
   "source": [
    "import pandas as pd"
   ]
  },
  {
   "cell_type": "code",
   "execution_count": 50,
   "metadata": {
    "id": "8vejTOLLqtw_",
    "tags": []
   },
   "outputs": [],
   "source": [
    "df = pd.read_csv('../data/raw/movies_dataset_2000_2023.csv')"
   ]
  },
  {
   "cell_type": "code",
   "execution_count": 51,
   "metadata": {
    "colab": {
     "base_uri": "https://localhost:8080/"
    },
    "id": "H6aKhjRNrERf",
    "outputId": "a3fd3d0c-cd7f-4797-fb0b-2bed97a42383",
    "tags": []
   },
   "outputs": [
    {
     "data": {
      "text/plain": [
       "(6095, 24)"
      ]
     },
     "execution_count": 51,
     "metadata": {},
     "output_type": "execute_result"
    }
   ],
   "source": [
    "df.shape"
   ]
  },
  {
   "cell_type": "code",
   "execution_count": 52,
   "metadata": {
    "colab": {
     "base_uri": "https://localhost:8080/"
    },
    "id": "pWsXfE_4rEp7",
    "outputId": "bf6e2586-951f-4541-ce6a-72b6592bd5d4",
    "tags": []
   },
   "outputs": [
    {
     "data": {
      "text/plain": [
       "Index(['Unnamed: 0.1', 'Movie Title', 'Plot Summary', 'Cover Image', 'Year',\n",
       "       'Source', 'Rated', 'omdb Year', 'omdb Title', 'Released', 'Runtime',\n",
       "       'Genre', 'Director', 'Writer', 'Actors', 'Plot', 'Language', 'Country',\n",
       "       'Awards', 'Poster', 'Ratings', 'imdbRating', 'BoxOffice', 'imdbID'],\n",
       "      dtype='object')"
      ]
     },
     "execution_count": 52,
     "metadata": {},
     "output_type": "execute_result"
    }
   ],
   "source": [
    "df.columns"
   ]
  },
  {
   "cell_type": "code",
   "execution_count": 53,
   "metadata": {
    "colab": {
     "base_uri": "https://localhost:8080/"
    },
    "id": "5C7tcH2vrHcE",
    "outputId": "ce7caa8c-fcaa-49f0-d5b5-b080bcb4fe24",
    "tags": []
   },
   "outputs": [
    {
     "name": "stdout",
     "output_type": "stream",
     "text": [
      "<class 'pandas.core.frame.DataFrame'>\n",
      "RangeIndex: 6095 entries, 0 to 6094\n",
      "Data columns (total 24 columns):\n",
      " #   Column        Non-Null Count  Dtype  \n",
      "---  ------        --------------  -----  \n",
      " 0   Unnamed: 0.1  896 non-null    float64\n",
      " 1   Movie Title   6095 non-null   object \n",
      " 2   Plot Summary  5556 non-null   object \n",
      " 3   Cover Image   5990 non-null   object \n",
      " 4   Year          6095 non-null   int64  \n",
      " 5   Source        6095 non-null   object \n",
      " 6   Rated         841 non-null    object \n",
      " 7   omdb Year     871 non-null    object \n",
      " 8   omdb Title    871 non-null    object \n",
      " 9   Released      868 non-null    object \n",
      " 10  Runtime       861 non-null    object \n",
      " 11  Genre         870 non-null    object \n",
      " 12  Director      850 non-null    object \n",
      " 13  Writer        857 non-null    object \n",
      " 14  Actors        867 non-null    object \n",
      " 15  Plot          862 non-null    object \n",
      " 16  Language      866 non-null    object \n",
      " 17  Country       869 non-null    object \n",
      " 18  Awards        756 non-null    object \n",
      " 19  Poster        864 non-null    object \n",
      " 20  Ratings       871 non-null    object \n",
      " 21  imdbRating    860 non-null    float64\n",
      " 22  BoxOffice     762 non-null    object \n",
      " 23  imdbID        871 non-null    object \n",
      "dtypes: float64(2), int64(1), object(21)\n",
      "memory usage: 1.1+ MB\n"
     ]
    }
   ],
   "source": [
    "df.info()"
   ]
  },
  {
   "cell_type": "code",
   "execution_count": 54,
   "metadata": {
    "colab": {
     "base_uri": "https://localhost:8080/"
    },
    "id": "lJ497_2FsFC3",
    "outputId": "b2511c49-f4b3-407d-d4ac-3ba24ba17dee",
    "tags": []
   },
   "outputs": [
    {
     "name": "stdout",
     "output_type": "stream",
     "text": [
      "Requirement already satisfied: nltk in /Users/hemantrajsingh/anaconda3/lib/python3.11/site-packages (3.8.1)\n",
      "Requirement already satisfied: click in /Users/hemantrajsingh/anaconda3/lib/python3.11/site-packages (from nltk) (8.1.7)\n",
      "Requirement already satisfied: joblib in /Users/hemantrajsingh/anaconda3/lib/python3.11/site-packages (from nltk) (1.2.0)\n",
      "Requirement already satisfied: regex>=2021.8.3 in /Users/hemantrajsingh/anaconda3/lib/python3.11/site-packages (from nltk) (2023.10.3)\n",
      "Requirement already satisfied: tqdm in /Users/hemantrajsingh/anaconda3/lib/python3.11/site-packages (from nltk) (4.65.0)\n"
     ]
    }
   ],
   "source": [
    "!pip install nltk"
   ]
  },
  {
   "cell_type": "code",
   "execution_count": 55,
   "metadata": {
    "colab": {
     "base_uri": "https://localhost:8080/"
    },
    "id": "JS3MptPLsJuo",
    "outputId": "5c99880f-5378-4eee-cba3-1a6f76d60033",
    "tags": []
   },
   "outputs": [
    {
     "name": "stderr",
     "output_type": "stream",
     "text": [
      "[nltk_data] Downloading package punkt to\n",
      "[nltk_data]     /Users/hemantrajsingh/nltk_data...\n",
      "[nltk_data]   Package punkt is already up-to-date!\n",
      "[nltk_data] Downloading package stopwords to\n",
      "[nltk_data]     /Users/hemantrajsingh/nltk_data...\n",
      "[nltk_data]   Package stopwords is already up-to-date!\n"
     ]
    },
    {
     "data": {
      "text/plain": [
       "True"
      ]
     },
     "execution_count": 55,
     "metadata": {},
     "output_type": "execute_result"
    }
   ],
   "source": [
    "import nltk\n",
    "nltk.download('punkt')\n",
    "nltk.download('stopwords')"
   ]
  },
  {
   "cell_type": "code",
   "execution_count": 56,
   "metadata": {
    "id": "GNuBr4Y2rI-4",
    "tags": []
   },
   "outputs": [],
   "source": [
    "import re\n",
    "from nltk.corpus import stopwords\n",
    "from nltk.tokenize import word_tokenize"
   ]
  },
  {
   "cell_type": "code",
   "execution_count": 57,
   "metadata": {
    "id": "bYikUnKgre_8",
    "tags": []
   },
   "outputs": [],
   "source": [
    "def preprocess_text(text):\n",
    "  # Remove HTML tags and special characters\n",
    "    clean_text = re.sub('<.*?>', '', text)\n",
    "    clean_text = re.sub(r'[^a-zA-Z\\s]', '', clean_text)\n",
    "\n",
    "    # Tokenization\n",
    "    tokens = word_tokenize(clean_text)\n",
    "\n",
    "    # Remove stop words and convert to lowercase\n",
    "    stop_words = set(stopwords.words('english'))\n",
    "    tokens = [token.lower() for token in tokens if token.lower() not in stop_words]\n",
    "\n",
    "    return ' '.join(tokens)"
   ]
  },
  {
   "cell_type": "code",
   "execution_count": 64,
   "metadata": {},
   "outputs": [],
   "source": [
    "df = df.dropna(subset=['Plot Summary'])"
   ]
  },
  {
   "cell_type": "code",
   "execution_count": 65,
   "metadata": {},
   "outputs": [
    {
     "data": {
      "text/plain": [
       "0"
      ]
     },
     "execution_count": 65,
     "metadata": {},
     "output_type": "execute_result"
    }
   ],
   "source": [
    "df['Plot Summary'].isna().sum()"
   ]
  },
  {
   "cell_type": "code",
   "execution_count": 66,
   "metadata": {
    "id": "KzO64nJhryAu",
    "tags": []
   },
   "outputs": [],
   "source": [
    "df['ProcessedPlot'] = df['Plot Summary'].apply(preprocess_text)"
   ]
  },
  {
   "cell_type": "code",
   "execution_count": 67,
   "metadata": {
    "id": "iuAqPENVr2PX",
    "tags": []
   },
   "outputs": [],
   "source": [
    "# Save the preprocessed data\n",
    "preprocessed_path = '../data/processed/preprocessed_dataset.csv'\n",
    "df.to_csv(preprocessed_path, index=False)"
   ]
  },
  {
   "cell_type": "code",
   "execution_count": null,
   "metadata": {},
   "outputs": [],
   "source": []
  }
 ],
 "metadata": {
  "colab": {
   "provenance": []
  },
  "kernelspec": {
   "display_name": "Python 3 (ipykernel)",
   "language": "python",
   "name": "python3"
  },
  "language_info": {
   "codemirror_mode": {
    "name": "ipython",
    "version": 3
   },
   "file_extension": ".py",
   "mimetype": "text/x-python",
   "name": "python",
   "nbconvert_exporter": "python",
   "pygments_lexer": "ipython3",
   "version": "3.11.5"
  }
 },
 "nbformat": 4,
 "nbformat_minor": 4
}
