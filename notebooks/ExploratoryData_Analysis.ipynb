{
  "cells": [
    {
      "cell_type": "markdown",
      "metadata": {
        "id": "view-in-github",
        "colab_type": "text"
      },
      "source": [
        "<a href=\"https://colab.research.google.com/github/HemantRajSingh/MovieMatch/blob/master/ExploratoryData_Analysis.ipynb\" target=\"_parent\"><img src=\"https://colab.research.google.com/assets/colab-badge.svg\" alt=\"Open In Colab\"/></a>"
      ]
    },
    {
      "cell_type": "code",
      "execution_count": 1,
      "id": "e5a734c2",
      "metadata": {
        "id": "e5a734c2"
      },
      "outputs": [],
      "source": [
        "#setup\n",
        "import pandas as pd\n",
        "from sklearn.feature_extraction.text import CountVectorizer\n",
        "from collections import Counter\n",
        "import seaborn as sns\n",
        "import matplotlib.pyplot as plt\n"
      ]
    },
    {
      "cell_type": "code",
      "execution_count": 10,
      "id": "1681613f",
      "metadata": {
        "colab": {
          "base_uri": "https://localhost:8080/"
        },
        "id": "1681613f",
        "outputId": "1b5bc1d1-5064-445a-e198-22eca622c212"
      },
      "outputs": [
        {
          "output_type": "execute_result",
          "data": {
            "text/plain": [
              "['movie_list_2000.csv',\n",
              " 'movie_list_2001.csv',\n",
              " 'movie_list_2002.csv',\n",
              " 'movie_list_2003.csv',\n",
              " 'movie_list_2004.csv',\n",
              " 'movie_list_2005.csv',\n",
              " 'movie_list_2006.csv',\n",
              " 'movie_list_2007.csv',\n",
              " 'movie_list_2008.csv',\n",
              " 'movie_list_2009.csv',\n",
              " 'movie_list_2010.csv',\n",
              " 'movie_list_2011.csv',\n",
              " 'movie_list_2012.csv',\n",
              " 'movie_list_2013.csv',\n",
              " 'movie_list_2014.csv',\n",
              " 'movie_list_2015.csv',\n",
              " 'movie_list_2016.csv',\n",
              " 'movie_list_2017.csv',\n",
              " 'movie_list_2018.csv',\n",
              " 'movie_list_2019.csv',\n",
              " 'movie_list_2020.csv',\n",
              " 'movie_list_2021.csv',\n",
              " 'movie_list_2022.csv',\n",
              " 'movie_list_2023.csv']"
            ]
          },
          "metadata": {},
          "execution_count": 10
        }
      ],
      "source": [
        "data_files=[]\n",
        "for i in range(2000,2024):\n",
        "    #file_name= '../data/raw/movie_list_'+str( i)+'.csv'\n",
        "    file_name= 'movie_list_'+str( i)+'.csv'\n",
        "    data_files.append(file_name)\n",
        "data_files\n"
      ]
    },
    {
      "cell_type": "code",
      "execution_count": 11,
      "id": "141f70af",
      "metadata": {
        "colab": {
          "base_uri": "https://localhost:8080/",
          "height": 206
        },
        "id": "141f70af",
        "outputId": "0a98475d-6eb8-42f2-be00-fc192cc566f7"
      },
      "outputs": [
        {
          "output_type": "execute_result",
          "data": {
            "text/plain": [
              "      Unnamed: 0                   Movie Title  \\\n",
              "6090         331            Memory (2023 film)   \n",
              "6091         332  The Color Purple (2023 film)   \n",
              "6092         333   The Boys in the Boat (film)   \n",
              "6093         334           Ferrari (2023 film)   \n",
              "6094         335             Good Grief (film)   \n",
              "\n",
              "                                           Plot Summary  \\\n",
              "6090  Sylvia, a single mother, social worker, and re...   \n",
              "6091  In 1909 Georgia, teenager Celie Harris lives w...   \n",
              "6092  The film's plot centres on the University of W...   \n",
              "6093  In the summer of 1957, Italian entrepreneur En...   \n",
              "6094  In London, Marc enjoys a Christmas party with ...   \n",
              "\n",
              "                                            Cover Image  Year  \\\n",
              "6090  upload.wikimedia.org/wikipedia/en/thumb/4/4e/M...  2023   \n",
              "6091  upload.wikimedia.org/wikipedia/en/thumb/7/70/C...  2023   \n",
              "6092  upload.wikimedia.org/wikipedia/en/thumb/6/63/B...  2023   \n",
              "6093  upload.wikimedia.org/wikipedia/en/thumb/f/f6/F...  2023   \n",
              "6094  upload.wikimedia.org/wikipedia/en/thumb/1/14/G...  2023   \n",
              "\n",
              "                                                 Source  \n",
              "6090  https://en.wikipedia.org//wiki/Memory_(2023_film)  \n",
              "6091  https://en.wikipedia.org//wiki/The_Color_Purpl...  \n",
              "6092  https://en.wikipedia.org//wiki/The_Boys_in_the...  \n",
              "6093  https://en.wikipedia.org//wiki/Ferrari_(2023_f...  \n",
              "6094   https://en.wikipedia.org//wiki/Good_Grief_(film)  "
            ],
            "text/html": [
              "\n",
              "  <div id=\"df-7e882456-7be3-4708-a26b-6c277d438ff0\" class=\"colab-df-container\">\n",
              "    <div>\n",
              "<style scoped>\n",
              "    .dataframe tbody tr th:only-of-type {\n",
              "        vertical-align: middle;\n",
              "    }\n",
              "\n",
              "    .dataframe tbody tr th {\n",
              "        vertical-align: top;\n",
              "    }\n",
              "\n",
              "    .dataframe thead th {\n",
              "        text-align: right;\n",
              "    }\n",
              "</style>\n",
              "<table border=\"1\" class=\"dataframe\">\n",
              "  <thead>\n",
              "    <tr style=\"text-align: right;\">\n",
              "      <th></th>\n",
              "      <th>Unnamed: 0</th>\n",
              "      <th>Movie Title</th>\n",
              "      <th>Plot Summary</th>\n",
              "      <th>Cover Image</th>\n",
              "      <th>Year</th>\n",
              "      <th>Source</th>\n",
              "    </tr>\n",
              "  </thead>\n",
              "  <tbody>\n",
              "    <tr>\n",
              "      <th>6090</th>\n",
              "      <td>331</td>\n",
              "      <td>Memory (2023 film)</td>\n",
              "      <td>Sylvia, a single mother, social worker, and re...</td>\n",
              "      <td>upload.wikimedia.org/wikipedia/en/thumb/4/4e/M...</td>\n",
              "      <td>2023</td>\n",
              "      <td>https://en.wikipedia.org//wiki/Memory_(2023_film)</td>\n",
              "    </tr>\n",
              "    <tr>\n",
              "      <th>6091</th>\n",
              "      <td>332</td>\n",
              "      <td>The Color Purple (2023 film)</td>\n",
              "      <td>In 1909 Georgia, teenager Celie Harris lives w...</td>\n",
              "      <td>upload.wikimedia.org/wikipedia/en/thumb/7/70/C...</td>\n",
              "      <td>2023</td>\n",
              "      <td>https://en.wikipedia.org//wiki/The_Color_Purpl...</td>\n",
              "    </tr>\n",
              "    <tr>\n",
              "      <th>6092</th>\n",
              "      <td>333</td>\n",
              "      <td>The Boys in the Boat (film)</td>\n",
              "      <td>The film's plot centres on the University of W...</td>\n",
              "      <td>upload.wikimedia.org/wikipedia/en/thumb/6/63/B...</td>\n",
              "      <td>2023</td>\n",
              "      <td>https://en.wikipedia.org//wiki/The_Boys_in_the...</td>\n",
              "    </tr>\n",
              "    <tr>\n",
              "      <th>6093</th>\n",
              "      <td>334</td>\n",
              "      <td>Ferrari (2023 film)</td>\n",
              "      <td>In the summer of 1957, Italian entrepreneur En...</td>\n",
              "      <td>upload.wikimedia.org/wikipedia/en/thumb/f/f6/F...</td>\n",
              "      <td>2023</td>\n",
              "      <td>https://en.wikipedia.org//wiki/Ferrari_(2023_f...</td>\n",
              "    </tr>\n",
              "    <tr>\n",
              "      <th>6094</th>\n",
              "      <td>335</td>\n",
              "      <td>Good Grief (film)</td>\n",
              "      <td>In London, Marc enjoys a Christmas party with ...</td>\n",
              "      <td>upload.wikimedia.org/wikipedia/en/thumb/1/14/G...</td>\n",
              "      <td>2023</td>\n",
              "      <td>https://en.wikipedia.org//wiki/Good_Grief_(film)</td>\n",
              "    </tr>\n",
              "  </tbody>\n",
              "</table>\n",
              "</div>\n",
              "    <div class=\"colab-df-buttons\">\n",
              "\n",
              "  <div class=\"colab-df-container\">\n",
              "    <button class=\"colab-df-convert\" onclick=\"convertToInteractive('df-7e882456-7be3-4708-a26b-6c277d438ff0')\"\n",
              "            title=\"Convert this dataframe to an interactive table.\"\n",
              "            style=\"display:none;\">\n",
              "\n",
              "  <svg xmlns=\"http://www.w3.org/2000/svg\" height=\"24px\" viewBox=\"0 -960 960 960\">\n",
              "    <path d=\"M120-120v-720h720v720H120Zm60-500h600v-160H180v160Zm220 220h160v-160H400v160Zm0 220h160v-160H400v160ZM180-400h160v-160H180v160Zm440 0h160v-160H620v160ZM180-180h160v-160H180v160Zm440 0h160v-160H620v160Z\"/>\n",
              "  </svg>\n",
              "    </button>\n",
              "\n",
              "  <style>\n",
              "    .colab-df-container {\n",
              "      display:flex;\n",
              "      gap: 12px;\n",
              "    }\n",
              "\n",
              "    .colab-df-convert {\n",
              "      background-color: #E8F0FE;\n",
              "      border: none;\n",
              "      border-radius: 50%;\n",
              "      cursor: pointer;\n",
              "      display: none;\n",
              "      fill: #1967D2;\n",
              "      height: 32px;\n",
              "      padding: 0 0 0 0;\n",
              "      width: 32px;\n",
              "    }\n",
              "\n",
              "    .colab-df-convert:hover {\n",
              "      background-color: #E2EBFA;\n",
              "      box-shadow: 0px 1px 2px rgba(60, 64, 67, 0.3), 0px 1px 3px 1px rgba(60, 64, 67, 0.15);\n",
              "      fill: #174EA6;\n",
              "    }\n",
              "\n",
              "    .colab-df-buttons div {\n",
              "      margin-bottom: 4px;\n",
              "    }\n",
              "\n",
              "    [theme=dark] .colab-df-convert {\n",
              "      background-color: #3B4455;\n",
              "      fill: #D2E3FC;\n",
              "    }\n",
              "\n",
              "    [theme=dark] .colab-df-convert:hover {\n",
              "      background-color: #434B5C;\n",
              "      box-shadow: 0px 1px 3px 1px rgba(0, 0, 0, 0.15);\n",
              "      filter: drop-shadow(0px 1px 2px rgba(0, 0, 0, 0.3));\n",
              "      fill: #FFFFFF;\n",
              "    }\n",
              "  </style>\n",
              "\n",
              "    <script>\n",
              "      const buttonEl =\n",
              "        document.querySelector('#df-7e882456-7be3-4708-a26b-6c277d438ff0 button.colab-df-convert');\n",
              "      buttonEl.style.display =\n",
              "        google.colab.kernel.accessAllowed ? 'block' : 'none';\n",
              "\n",
              "      async function convertToInteractive(key) {\n",
              "        const element = document.querySelector('#df-7e882456-7be3-4708-a26b-6c277d438ff0');\n",
              "        const dataTable =\n",
              "          await google.colab.kernel.invokeFunction('convertToInteractive',\n",
              "                                                    [key], {});\n",
              "        if (!dataTable) return;\n",
              "\n",
              "        const docLinkHtml = 'Like what you see? Visit the ' +\n",
              "          '<a target=\"_blank\" href=https://colab.research.google.com/notebooks/data_table.ipynb>data table notebook</a>'\n",
              "          + ' to learn more about interactive tables.';\n",
              "        element.innerHTML = '';\n",
              "        dataTable['output_type'] = 'display_data';\n",
              "        await google.colab.output.renderOutput(dataTable, element);\n",
              "        const docLink = document.createElement('div');\n",
              "        docLink.innerHTML = docLinkHtml;\n",
              "        element.appendChild(docLink);\n",
              "      }\n",
              "    </script>\n",
              "  </div>\n",
              "\n",
              "\n",
              "<div id=\"df-3ab6805a-2ffa-4226-b3e3-8a78a95d3bf5\">\n",
              "  <button class=\"colab-df-quickchart\" onclick=\"quickchart('df-3ab6805a-2ffa-4226-b3e3-8a78a95d3bf5')\"\n",
              "            title=\"Suggest charts\"\n",
              "            style=\"display:none;\">\n",
              "\n",
              "<svg xmlns=\"http://www.w3.org/2000/svg\" height=\"24px\"viewBox=\"0 0 24 24\"\n",
              "     width=\"24px\">\n",
              "    <g>\n",
              "        <path d=\"M19 3H5c-1.1 0-2 .9-2 2v14c0 1.1.9 2 2 2h14c1.1 0 2-.9 2-2V5c0-1.1-.9-2-2-2zM9 17H7v-7h2v7zm4 0h-2V7h2v10zm4 0h-2v-4h2v4z\"/>\n",
              "    </g>\n",
              "</svg>\n",
              "  </button>\n",
              "\n",
              "<style>\n",
              "  .colab-df-quickchart {\n",
              "      --bg-color: #E8F0FE;\n",
              "      --fill-color: #1967D2;\n",
              "      --hover-bg-color: #E2EBFA;\n",
              "      --hover-fill-color: #174EA6;\n",
              "      --disabled-fill-color: #AAA;\n",
              "      --disabled-bg-color: #DDD;\n",
              "  }\n",
              "\n",
              "  [theme=dark] .colab-df-quickchart {\n",
              "      --bg-color: #3B4455;\n",
              "      --fill-color: #D2E3FC;\n",
              "      --hover-bg-color: #434B5C;\n",
              "      --hover-fill-color: #FFFFFF;\n",
              "      --disabled-bg-color: #3B4455;\n",
              "      --disabled-fill-color: #666;\n",
              "  }\n",
              "\n",
              "  .colab-df-quickchart {\n",
              "    background-color: var(--bg-color);\n",
              "    border: none;\n",
              "    border-radius: 50%;\n",
              "    cursor: pointer;\n",
              "    display: none;\n",
              "    fill: var(--fill-color);\n",
              "    height: 32px;\n",
              "    padding: 0;\n",
              "    width: 32px;\n",
              "  }\n",
              "\n",
              "  .colab-df-quickchart:hover {\n",
              "    background-color: var(--hover-bg-color);\n",
              "    box-shadow: 0 1px 2px rgba(60, 64, 67, 0.3), 0 1px 3px 1px rgba(60, 64, 67, 0.15);\n",
              "    fill: var(--button-hover-fill-color);\n",
              "  }\n",
              "\n",
              "  .colab-df-quickchart-complete:disabled,\n",
              "  .colab-df-quickchart-complete:disabled:hover {\n",
              "    background-color: var(--disabled-bg-color);\n",
              "    fill: var(--disabled-fill-color);\n",
              "    box-shadow: none;\n",
              "  }\n",
              "\n",
              "  .colab-df-spinner {\n",
              "    border: 2px solid var(--fill-color);\n",
              "    border-color: transparent;\n",
              "    border-bottom-color: var(--fill-color);\n",
              "    animation:\n",
              "      spin 1s steps(1) infinite;\n",
              "  }\n",
              "\n",
              "  @keyframes spin {\n",
              "    0% {\n",
              "      border-color: transparent;\n",
              "      border-bottom-color: var(--fill-color);\n",
              "      border-left-color: var(--fill-color);\n",
              "    }\n",
              "    20% {\n",
              "      border-color: transparent;\n",
              "      border-left-color: var(--fill-color);\n",
              "      border-top-color: var(--fill-color);\n",
              "    }\n",
              "    30% {\n",
              "      border-color: transparent;\n",
              "      border-left-color: var(--fill-color);\n",
              "      border-top-color: var(--fill-color);\n",
              "      border-right-color: var(--fill-color);\n",
              "    }\n",
              "    40% {\n",
              "      border-color: transparent;\n",
              "      border-right-color: var(--fill-color);\n",
              "      border-top-color: var(--fill-color);\n",
              "    }\n",
              "    60% {\n",
              "      border-color: transparent;\n",
              "      border-right-color: var(--fill-color);\n",
              "    }\n",
              "    80% {\n",
              "      border-color: transparent;\n",
              "      border-right-color: var(--fill-color);\n",
              "      border-bottom-color: var(--fill-color);\n",
              "    }\n",
              "    90% {\n",
              "      border-color: transparent;\n",
              "      border-bottom-color: var(--fill-color);\n",
              "    }\n",
              "  }\n",
              "</style>\n",
              "\n",
              "  <script>\n",
              "    async function quickchart(key) {\n",
              "      const quickchartButtonEl =\n",
              "        document.querySelector('#' + key + ' button');\n",
              "      quickchartButtonEl.disabled = true;  // To prevent multiple clicks.\n",
              "      quickchartButtonEl.classList.add('colab-df-spinner');\n",
              "      try {\n",
              "        const charts = await google.colab.kernel.invokeFunction(\n",
              "            'suggestCharts', [key], {});\n",
              "      } catch (error) {\n",
              "        console.error('Error during call to suggestCharts:', error);\n",
              "      }\n",
              "      quickchartButtonEl.classList.remove('colab-df-spinner');\n",
              "      quickchartButtonEl.classList.add('colab-df-quickchart-complete');\n",
              "    }\n",
              "    (() => {\n",
              "      let quickchartButtonEl =\n",
              "        document.querySelector('#df-3ab6805a-2ffa-4226-b3e3-8a78a95d3bf5 button');\n",
              "      quickchartButtonEl.style.display =\n",
              "        google.colab.kernel.accessAllowed ? 'block' : 'none';\n",
              "    })();\n",
              "  </script>\n",
              "</div>\n",
              "\n",
              "    </div>\n",
              "  </div>\n"
            ]
          },
          "metadata": {},
          "execution_count": 11
        }
      ],
      "source": [
        "df = pd.concat(map(pd.read_csv,data_files), ignore_index=True)\n",
        "#df=pd.read_csv('wiki_movies.csv')\n",
        "df.tail(5)"
      ]
    },
    {
      "cell_type": "markdown",
      "id": "eeb667c5",
      "metadata": {
        "id": "eeb667c5"
      },
      "source": [
        "# Understanding data"
      ]
    },
    {
      "cell_type": "code",
      "execution_count": 12,
      "id": "ecc23b26",
      "metadata": {
        "colab": {
          "base_uri": "https://localhost:8080/"
        },
        "id": "ecc23b26",
        "outputId": "c40fe90f-d984-4ca8-dac1-23391946515e"
      },
      "outputs": [
        {
          "output_type": "execute_result",
          "data": {
            "text/plain": [
              "(6095, 6)"
            ]
          },
          "metadata": {},
          "execution_count": 12
        }
      ],
      "source": [
        "df.shape #getting the rows and columns of dataset"
      ]
    },
    {
      "cell_type": "code",
      "execution_count": 13,
      "id": "fe9fc98b",
      "metadata": {
        "id": "fe9fc98b"
      },
      "outputs": [],
      "source": [
        "df_2023= df[df['Year']==2023] # creating a new dataframe of year 2023"
      ]
    },
    {
      "cell_type": "code",
      "execution_count": 14,
      "id": "db81c12c",
      "metadata": {
        "colab": {
          "base_uri": "https://localhost:8080/"
        },
        "id": "db81c12c",
        "outputId": "c5313bad-2bf2-40d6-b582-36be9ad8b5a3"
      },
      "outputs": [
        {
          "output_type": "execute_result",
          "data": {
            "text/plain": [
              "(336, 6)"
            ]
          },
          "metadata": {},
          "execution_count": 14
        }
      ],
      "source": [
        "df_2023.shape #getting rows and columns for year 2023\n"
      ]
    },
    {
      "cell_type": "code",
      "execution_count": null,
      "id": "0ac5afae",
      "metadata": {
        "id": "0ac5afae",
        "outputId": "9b7f9102-9545-46d4-c0f3-c391f5a6f7e4"
      },
      "outputs": [
        {
          "data": {
            "text/plain": [
              "\"After the kind-hearted but clumsy Super Dave Osborne (Bob Einstein) survives a near-fatal accident, he discovers his manager has embezzled from him. This forces him into bankruptcy and causes him to lose his house. Super Dave decides to retire from stunt work, but ends up meeting a single mother named Sandy (Gia Carides). When Super Dave learns that Sandy's son, Timmy (Carl Michael Lindner) needs an expensive heart surgery, Super Dave comes out of retirement to raise the money. In the process, he must face off against his arch-enemy, Gil Ruston (Dan Hedaya).\\n\""
            ]
          },
          "execution_count": 10,
          "metadata": {},
          "output_type": "execute_result"
        }
      ],
      "source": [
        "df['Plot Summary'][0]"
      ]
    },
    {
      "cell_type": "code",
      "execution_count": null,
      "id": "e199b0ff",
      "metadata": {
        "id": "e199b0ff",
        "outputId": "922e94f8-2623-41e5-8b4c-adc890ac9b4d"
      },
      "outputs": [
        {
          "name": "stdout",
          "output_type": "stream",
          "text": [
            "<class 'pandas.core.frame.DataFrame'>\n",
            "RangeIndex: 6095 entries, 0 to 6094\n",
            "Data columns (total 6 columns):\n",
            " #   Column        Non-Null Count  Dtype \n",
            "---  ------        --------------  ----- \n",
            " 0   Unnamed: 0    6095 non-null   int64 \n",
            " 1   Movie Title   6095 non-null   object\n",
            " 2   Plot Summary  5556 non-null   object\n",
            " 3   Cover Image   5990 non-null   object\n",
            " 4   Year          6095 non-null   int64 \n",
            " 5   Source        6095 non-null   object\n",
            "dtypes: int64(2), object(4)\n",
            "memory usage: 285.8+ KB\n"
          ]
        }
      ],
      "source": [
        "df.info()"
      ]
    },
    {
      "cell_type": "code",
      "execution_count": null,
      "id": "8564ac75",
      "metadata": {
        "id": "8564ac75",
        "outputId": "d107fce8-2d83-4853-d944-e05fae257dac"
      },
      "outputs": [
        {
          "data": {
            "text/plain": [
              "2009    388\n",
              "2021    363\n",
              "2010    338\n",
              "2023    336\n",
              "2022    312\n",
              "2012    281\n",
              "2008    278\n",
              "2020    275\n",
              "2007    262\n",
              "2019    244\n",
              "2018    241\n",
              "2000    237\n",
              "2017    237\n",
              "2003    231\n",
              "2014    229\n",
              "2013    228\n",
              "2002    217\n",
              "2011    214\n",
              "2006    212\n",
              "2001    211\n",
              "2015    200\n",
              "2004    198\n",
              "2005    187\n",
              "2016    176\n",
              "Name: Year, dtype: int64"
            ]
          },
          "execution_count": 12,
          "metadata": {},
          "output_type": "execute_result"
        }
      ],
      "source": [
        "df['Year'].value_counts() # count of movies in each year\n"
      ]
    },
    {
      "cell_type": "code",
      "execution_count": null,
      "id": "9f646805",
      "metadata": {
        "id": "9f646805",
        "outputId": "ce59ad06-31ae-4112-a117-3abf0351855d"
      },
      "outputs": [
        {
          "data": {
            "text/plain": [
              "array([2000, 2001, 2002, 2003, 2004, 2005, 2006, 2007, 2008, 2009, 2010,\n",
              "       2011, 2012, 2013, 2014, 2015, 2016, 2017, 2018, 2019, 2020, 2021,\n",
              "       2022, 2023])"
            ]
          },
          "execution_count": 13,
          "metadata": {},
          "output_type": "execute_result"
        }
      ],
      "source": [
        "df['Year'].unique() #unique values for year column"
      ]
    },
    {
      "cell_type": "code",
      "execution_count": null,
      "id": "d325d619",
      "metadata": {
        "id": "d325d619",
        "outputId": "e130e8c0-7398-45d4-e828-d1002d7eeb7d"
      },
      "outputs": [
        {
          "data": {
            "text/plain": [
              "24"
            ]
          },
          "execution_count": 14,
          "metadata": {},
          "output_type": "execute_result"
        }
      ],
      "source": [
        "df['Year'].nunique()  #total count of years"
      ]
    },
    {
      "cell_type": "code",
      "execution_count": null,
      "id": "6895cc33",
      "metadata": {
        "id": "6895cc33",
        "outputId": "966cee7b-252b-4122-e2f9-a7c8247d5879"
      },
      "outputs": [
        {
          "data": {
            "text/plain": [
              "Unnamed: 0        0\n",
              "Movie Title       0\n",
              "Plot Summary    539\n",
              "Cover Image     105\n",
              "Year              0\n",
              "Source            0\n",
              "dtype: int64"
            ]
          },
          "execution_count": 15,
          "metadata": {},
          "output_type": "execute_result"
        }
      ],
      "source": [
        "df.isna().sum() # total num of null values"
      ]
    },
    {
      "cell_type": "markdown",
      "id": "3f79a9ca",
      "metadata": {
        "id": "3f79a9ca"
      },
      "source": [
        "There are 539 null values ofr plot summary in our data"
      ]
    },
    {
      "cell_type": "markdown",
      "id": "6f3dc17e",
      "metadata": {
        "id": "6f3dc17e"
      },
      "source": [
        "\n",
        "# Exploratory Data Analysis\n",
        "-Character count\n",
        "-Word count\n",
        "-Mean word length\n",
        "-Mean sentence length"
      ]
    },
    {
      "cell_type": "code",
      "execution_count": 15,
      "id": "57ec53da",
      "metadata": {
        "colab": {
          "base_uri": "https://localhost:8080/"
        },
        "id": "57ec53da",
        "outputId": "9d97621a-4e29-4693-c618-a39aa98b0c9e"
      },
      "outputs": [
        {
          "output_type": "execute_result",
          "data": {
            "text/plain": [
              "565"
            ]
          },
          "metadata": {},
          "execution_count": 15
        }
      ],
      "source": [
        "length = len(df['Plot Summary'][0])\n",
        "length"
      ]
    },
    {
      "cell_type": "markdown",
      "id": "03be2c26",
      "metadata": {
        "id": "03be2c26"
      },
      "source": [
        "The length of our sample review is 565"
      ]
    },
    {
      "cell_type": "code",
      "execution_count": 16,
      "id": "945923f4",
      "metadata": {
        "id": "945923f4"
      },
      "outputs": [],
      "source": [
        "df['Length'] = df['Plot Summary'].str.len()\n"
      ]
    },
    {
      "cell_type": "code",
      "execution_count": 17,
      "id": "27963a10",
      "metadata": {
        "colab": {
          "base_uri": "https://localhost:8080/"
        },
        "id": "27963a10",
        "outputId": "81d0ee98-98eb-45e1-fad9-fc21912d0e43"
      },
      "outputs": [
        {
          "output_type": "execute_result",
          "data": {
            "text/plain": [
              "count     5556.000000\n",
              "mean      3406.812635\n",
              "std       1313.911990\n",
              "min         68.000000\n",
              "25%       2837.750000\n",
              "50%       3633.000000\n",
              "75%       4115.000000\n",
              "max      22275.000000\n",
              "Name: Length, dtype: float64"
            ]
          },
          "metadata": {},
          "execution_count": 17
        }
      ],
      "source": [
        "df['Length'].describe()"
      ]
    },
    {
      "cell_type": "code",
      "execution_count": 18,
      "id": "e2ef3a3f",
      "metadata": {
        "colab": {
          "base_uri": "https://localhost:8080/"
        },
        "id": "e2ef3a3f",
        "outputId": "3c517b9a-c530-4afd-ad25-201116abcb6b"
      },
      "outputs": [
        {
          "output_type": "execute_result",
          "data": {
            "text/plain": [
              "count    6095.000000\n",
              "mean      529.773421\n",
              "std       271.144101\n",
              "min         1.000000\n",
              "25%       415.500000\n",
              "50%       603.000000\n",
              "75%       690.000000\n",
              "max      3764.000000\n",
              "Name: word_count, dtype: float64"
            ]
          },
          "metadata": {},
          "execution_count": 18
        }
      ],
      "source": [
        "#word_count\n",
        "def word_count(review):\n",
        "    review= str(review)\n",
        "    review_list = review.split()\n",
        "    return len(review_list)\n",
        "\n",
        "df['word_count'] = df['Plot Summary'].apply(word_count)\n",
        "df['word_count'].describe()"
      ]
    },
    {
      "cell_type": "markdown",
      "id": "636fa4bc",
      "metadata": {
        "id": "636fa4bc"
      },
      "source": [
        "# Corpus"
      ]
    },
    {
      "cell_type": "code",
      "execution_count": 19,
      "id": "7286b5f9",
      "metadata": {
        "id": "7286b5f9"
      },
      "outputs": [],
      "source": [
        "def corpus(text):\n",
        "    text_str=str(text)\n",
        "    text_list = text_str.split()\n",
        "    return text_list"
      ]
    },
    {
      "cell_type": "code",
      "execution_count": 20,
      "id": "e4fcb258",
      "metadata": {
        "colab": {
          "base_uri": "https://localhost:8080/"
        },
        "id": "e4fcb258",
        "outputId": "50910713-e999-4ea8-d63c-9e4bd7637cc3"
      },
      "outputs": [
        {
          "output_type": "execute_result",
          "data": {
            "text/plain": [
              "['After',\n",
              " 'the',\n",
              " 'kind-hearted',\n",
              " 'but',\n",
              " 'clumsy',\n",
              " 'Super',\n",
              " 'Dave',\n",
              " 'Osborne',\n",
              " '(Bob',\n",
              " 'Einstein)',\n",
              " 'survives',\n",
              " 'a',\n",
              " 'near-fatal',\n",
              " 'accident,',\n",
              " 'he',\n",
              " 'discovers',\n",
              " 'his',\n",
              " 'manager',\n",
              " 'has',\n",
              " 'embezzled',\n",
              " 'from',\n",
              " 'him.',\n",
              " 'This',\n",
              " 'forces',\n",
              " 'him',\n",
              " 'into',\n",
              " 'bankruptcy',\n",
              " 'and',\n",
              " 'causes',\n",
              " 'him',\n",
              " 'to',\n",
              " 'lose',\n",
              " 'his',\n",
              " 'house.',\n",
              " 'Super',\n",
              " 'Dave',\n",
              " 'decides',\n",
              " 'to',\n",
              " 'retire',\n",
              " 'from',\n",
              " 'stunt',\n",
              " 'work,',\n",
              " 'but',\n",
              " 'ends',\n",
              " 'up',\n",
              " 'meeting',\n",
              " 'a',\n",
              " 'single',\n",
              " 'mother',\n",
              " 'named',\n",
              " 'Sandy',\n",
              " '(Gia',\n",
              " 'Carides).',\n",
              " 'When',\n",
              " 'Super',\n",
              " 'Dave',\n",
              " 'learns',\n",
              " 'that',\n",
              " \"Sandy's\",\n",
              " 'son,',\n",
              " 'Timmy',\n",
              " '(Carl',\n",
              " 'Michael',\n",
              " 'Lindner)',\n",
              " 'needs',\n",
              " 'an',\n",
              " 'expensive',\n",
              " 'heart',\n",
              " 'surgery,',\n",
              " 'Super',\n",
              " 'Dave',\n",
              " 'comes',\n",
              " 'out',\n",
              " 'of',\n",
              " 'retirement',\n",
              " 'to',\n",
              " 'raise',\n",
              " 'the',\n",
              " 'money.',\n",
              " 'In',\n",
              " 'the',\n",
              " 'process,',\n",
              " 'he',\n",
              " 'must',\n",
              " 'face',\n",
              " 'off',\n",
              " 'against',\n",
              " 'his',\n",
              " 'arch-enemy,',\n",
              " 'Gil',\n",
              " 'Ruston',\n",
              " '(Dan',\n",
              " 'Hedaya).']"
            ]
          },
          "metadata": {},
          "execution_count": 20
        }
      ],
      "source": [
        "\n",
        "corpus(df['Plot Summary'][0])"
      ]
    },
    {
      "cell_type": "code",
      "execution_count": 21,
      "id": "2b1cca53",
      "metadata": {
        "colab": {
          "base_uri": "https://localhost:8080/"
        },
        "id": "2b1cca53",
        "outputId": "52360ca2-8c63-48d4-cb96-d501a4105983"
      },
      "outputs": [
        {
          "output_type": "execute_result",
          "data": {
            "text/plain": [
              "0    [After, the, kind-hearted, but, clumsy, Super,...\n",
              "1    [After, finding, out, Deebo, escaped, prison, ...\n",
              "2    [Aging, prizefighters, and, longtime, best, fr...\n",
              "3    [Supernova, chronicles, the, search-and-rescue...\n",
              "4    [In, Boston,, Irish, American, fraternal, twin...\n",
              "Name: review_list, dtype: object"
            ]
          },
          "metadata": {},
          "execution_count": 21
        }
      ],
      "source": [
        "df['review_list'] = df['Plot Summary'].apply(corpus)\n",
        "df['review_list'][:5]"
      ]
    },
    {
      "cell_type": "code",
      "execution_count": 22,
      "id": "f0bc22fa",
      "metadata": {
        "colab": {
          "base_uri": "https://localhost:8080/"
        },
        "id": "f0bc22fa",
        "outputId": "f4232f5f-0b5c-46ff-ec35-6bff6a7920da"
      },
      "outputs": [
        {
          "output_type": "stream",
          "name": "stderr",
          "text": [
            "100%|\u001b[32m██████████████████████████████████████████████████████████████████████████████████████████████████████████\u001b[0m| 6095/6095 [00:00<00:00, 71267.87it/s]\u001b[0m\n"
          ]
        },
        {
          "output_type": "execute_result",
          "data": {
            "text/plain": [
              "3228969"
            ]
          },
          "metadata": {},
          "execution_count": 22
        }
      ],
      "source": [
        "from tqdm import trange\n",
        "corpus = []\n",
        "\n",
        "for i in trange(df.shape[0], ncols=150, nrows=10, colour='green', smoothing=0.8):\n",
        "    corpus += df['review_list'][i]\n",
        "\n",
        "\n",
        "len(corpus)"
      ]
    },
    {
      "cell_type": "code",
      "execution_count": 23,
      "id": "b34f96d2",
      "metadata": {
        "colab": {
          "base_uri": "https://localhost:8080/"
        },
        "id": "b34f96d2",
        "outputId": "20fccab7-7b26-480a-9c7d-8ae77ebdba5b"
      },
      "outputs": [
        {
          "output_type": "execute_result",
          "data": {
            "text/plain": [
              "[('the', 167831),\n",
              " ('to', 123947),\n",
              " ('and', 117943),\n",
              " ('a', 84278),\n",
              " ('of', 50608),\n",
              " ('his', 46381),\n",
              " ('is', 45905),\n",
              " ('in', 43424),\n",
              " ('her', 38144),\n",
              " ('with', 35266)]"
            ]
          },
          "metadata": {},
          "execution_count": 23
        }
      ],
      "source": [
        "mostCommon = Counter(corpus).most_common(10)\n",
        "mostCommon"
      ]
    },
    {
      "cell_type": "code",
      "execution_count": 24,
      "id": "e4926ad7",
      "metadata": {
        "id": "e4926ad7"
      },
      "outputs": [],
      "source": [
        "words = []\n",
        "freq = []\n",
        "for word, count in mostCommon:\n",
        "    words.append(word)\n",
        "    freq.append(count)"
      ]
    },
    {
      "cell_type": "code",
      "execution_count": 25,
      "id": "dcc5db68",
      "metadata": {
        "colab": {
          "base_uri": "https://localhost:8080/",
          "height": 452
        },
        "id": "dcc5db68",
        "outputId": "17db364d-bcdc-416f-8ad3-23314a563454"
      },
      "outputs": [
        {
          "output_type": "display_data",
          "data": {
            "text/plain": [
              "<Figure size 640x480 with 1 Axes>"
            ],
            "image/png": "[encoded data removed]"
          },
          "metadata": {}
        }
      ],
      "source": [
        "sns.barplot(x=freq, y=words)\n",
        "plt.title('Top 10 Most Frequently Occuring Words')\n",
        "plt.show()"
      ]
    },
    {
      "cell_type": "markdown",
      "id": "d8ae2085",
      "metadata": {
        "id": "d8ae2085"
      },
      "source": [
        "# ngramns"
      ]
    },
    {
      "cell_type": "code",
      "execution_count": 26,
      "id": "cebfe7c0",
      "metadata": {
        "id": "cebfe7c0"
      },
      "outputs": [],
      "source": [
        "df.dropna(inplace=True)"
      ]
    },
    {
      "cell_type": "code",
      "execution_count": 27,
      "id": "6fa6de88",
      "metadata": {
        "id": "6fa6de88"
      },
      "outputs": [],
      "source": [
        "cv = CountVectorizer(ngram_range=(2,2))\n",
        "bigrams = cv.fit_transform(df['Plot Summary'])\n"
      ]
    },
    {
      "cell_type": "code",
      "execution_count": 28,
      "id": "fd54be41",
      "metadata": {
        "id": "fd54be41"
      },
      "outputs": [],
      "source": [
        "count_values = bigrams.toarray().sum(axis=0)\n",
        "ngram_freq = pd.DataFrame(sorted([(count_values[i], k) for k, i in cv.vocabulary_.items()], reverse = True))\n",
        "ngram_freq.columns = [\"frequency\", \"ngram\"]"
      ]
    },
    {
      "cell_type": "code",
      "execution_count": 29,
      "id": "77999d98",
      "metadata": {
        "colab": {
          "base_uri": "https://localhost:8080/",
          "height": 472
        },
        "id": "77999d98",
        "outputId": "17ef3ed4-70ab-4c3b-ee16-5159e79bb05a"
      },
      "outputs": [
        {
          "output_type": "display_data",
          "data": {
            "text/plain": [
              "<Figure size 640x480 with 1 Axes>"
            ],
            "image/png": "[encoded data removed]"
          },
          "metadata": {}
        }
      ],
      "source": [
        "sns.barplot(x=ngram_freq['frequency'][:10], y=ngram_freq['ngram'][:10])\n",
        "plt.title('Top 10 Most Frequently Occuring Bigrams')\n",
        "plt.show()"
      ]
    },
    {
      "cell_type": "code",
      "source": [
        "cv1 = CountVectorizer(ngram_range=(3,3))\n",
        "trigrams = cv1.fit_transform(df['Plot Summary'])\n",
        "count_values = trigrams.toarray().sum(axis=0)\n",
        "ngram_freq = pd.DataFrame(sorted([(count_values[i], k) for k, i in cv1.vocabulary_.items()], reverse = True))\n",
        "ngram_freq.columns = [\"frequency\", \"ngram\"]"
      ],
      "metadata": {
        "id": "SPL232QU90fI"
      },
      "id": "SPL232QU90fI",
      "execution_count": 31,
      "outputs": []
    },
    {
      "cell_type": "code",
      "source": [
        "sns.barplot(x=ngram_freq['frequency'][:10], y=ngram_freq['ngram'][:10])\n",
        "plt.title('Top 10 Most Frequently Occuring Trigrams')\n",
        "plt.show()"
      ],
      "metadata": {
        "colab": {
          "base_uri": "https://localhost:8080/",
          "height": 472
        },
        "id": "MOTfzDPn-Xtj",
        "outputId": "ba074aa2-d032-4baf-bdef-c3be4f603b03"
      },
      "id": "MOTfzDPn-Xtj",
      "execution_count": 32,
      "outputs": [
        {
          "output_type": "display_data",
          "data": {
            "text/plain": [
              "<Figure size 640x480 with 1 Axes>"
            ],
            "image/png": "[encoded data removed]"
          },
          "metadata": {}
        }
      ]
    },
    {
      "cell_type": "code",
      "source": [],
      "metadata": {
        "id": "yW-99fD1-FO3"
      },
      "id": "yW-99fD1-FO3",
      "execution_count": null,
      "outputs": []
    }
  ],
  "metadata": {
    "kernelspec": {
      "display_name": "Python 3 (ipykernel)",
      "language": "python",
      "name": "python3"
    },
    "language_info": {
      "codemirror_mode": {
        "name": "ipython",
        "version": 3
      },
      "file_extension": ".py",
      "mimetype": "text/x-python",
      "name": "python",
      "nbconvert_exporter": "python",
      "pygments_lexer": "ipython3",
      "version": "3.11.4"
    },
    "colab": {
      "provenance": [],
      "include_colab_link": true
    }
  },
  "nbformat": 4,
  "nbformat_minor": 5
}