{
 "cells": [
  {
   "cell_type": "markdown",
   "id": "006d63ff",
   "metadata": {
    "colab_type": "text",
    "id": "view-in-github"
   },
   "source": [
    "<a href=\"https://colab.research.google.com/github/HemantRajSingh/MovieMatch/blob/master/ExploratoryData_Analysis.ipynb\" target=\"_parent\"><img src=\"https://colab.research.google.com/assets/colab-badge.svg\" alt=\"Open In Colab\"/></a>"
   ]
  },
  {
   "cell_type": "code",
   "execution_count": 1,
   "id": "e5a734c2",
   "metadata": {
    "id": "e5a734c2"
   },
   "outputs": [],
   "source": [
    "#setup\n",
    "import pandas as pd\n",
    "from sklearn.feature_extraction.text import CountVectorizer\n",
    "from collections import Counter\n",
    "import seaborn as sns\n",
    "import matplotlib.pyplot as plt\n"
   ]
  },
  {
   "cell_type": "code",
   "execution_count": 2,
   "id": "1681613f",
   "metadata": {
    "colab": {
     "base_uri": "https://localhost:8080/"
    },
    "id": "1681613f",
    "outputId": "1b5bc1d1-5064-445a-e198-22eca622c212"
   },
   "outputs": [
    {
     "data": {
      "text/plain": [
       "\"data_files=[]\\nfor i in range(2000,2024):\\n    #file_name= '../data/raw/movie_list_'+str( i)+'.csv'\\n    file_name= 'movie_list_'+str( i)+'.csv'\\n    data_files.append(file_name)\\ndata_files\\n\""
      ]
     },
     "execution_count": 2,
     "metadata": {},
     "output_type": "execute_result"
    }
   ],
   "source": [
    "'''data_files=[]\n",
    "for i in range(2000,2024):\n",
    "    #file_name= '../data/raw/movie_list_'+str( i)+'.csv'\n",
    "    file_name= 'movie_list_'+str( i)+'.csv'\n",
    "    data_files.append(file_name)\n",
    "data_files\n",
    "'''"
   ]
  },
  {
   "cell_type": "code",
   "execution_count": 3,
   "id": "141f70af",
   "metadata": {
    "colab": {
     "base_uri": "https://localhost:8080/",
     "height": 206
    },
    "id": "141f70af",
    "outputId": "0a98475d-6eb8-42f2-be00-fc192cc566f7"
   },
   "outputs": [
    {
     "data": {
      "text/html": [
       "<div>\n",
       "<style scoped>\n",
       "    .dataframe tbody tr th:only-of-type {\n",
       "        vertical-align: middle;\n",
       "    }\n",
       "\n",
       "    .dataframe tbody tr th {\n",
       "        vertical-align: top;\n",
       "    }\n",
       "\n",
       "    .dataframe thead th {\n",
       "        text-align: right;\n",
       "    }\n",
       "</style>\n",
       "<table border=\"1\" class=\"dataframe\">\n",
       "  <thead>\n",
       "    <tr style=\"text-align: right;\">\n",
       "      <th></th>\n",
       "      <th>Unnamed: 0.1</th>\n",
       "      <th>Movie Title</th>\n",
       "      <th>Plot Summary</th>\n",
       "      <th>Cover Image</th>\n",
       "      <th>Year</th>\n",
       "      <th>Source</th>\n",
       "      <th>Rated</th>\n",
       "      <th>omdb Year</th>\n",
       "      <th>omdb Title</th>\n",
       "      <th>Released</th>\n",
       "      <th>...</th>\n",
       "      <th>Plot</th>\n",
       "      <th>Language</th>\n",
       "      <th>Country</th>\n",
       "      <th>Awards</th>\n",
       "      <th>Poster</th>\n",
       "      <th>Ratings</th>\n",
       "      <th>imdbRating</th>\n",
       "      <th>BoxOffice</th>\n",
       "      <th>imdbID</th>\n",
       "      <th>ProcessedPlot</th>\n",
       "    </tr>\n",
       "  </thead>\n",
       "  <tbody>\n",
       "    <tr>\n",
       "      <th>5551</th>\n",
       "      <td>NaN</td>\n",
       "      <td>Memory (2023 film)</td>\n",
       "      <td>Sylvia, a single mother, social worker, and re...</td>\n",
       "      <td>upload.wikimedia.org/wikipedia/en/thumb/4/4e/M...</td>\n",
       "      <td>2023</td>\n",
       "      <td>https://en.wikipedia.org//wiki/Memory_(2023_film)</td>\n",
       "      <td>NaN</td>\n",
       "      <td>NaN</td>\n",
       "      <td>NaN</td>\n",
       "      <td>NaN</td>\n",
       "      <td>...</td>\n",
       "      <td>NaN</td>\n",
       "      <td>NaN</td>\n",
       "      <td>NaN</td>\n",
       "      <td>NaN</td>\n",
       "      <td>NaN</td>\n",
       "      <td>NaN</td>\n",
       "      <td>NaN</td>\n",
       "      <td>NaN</td>\n",
       "      <td>NaN</td>\n",
       "      <td>sylvia single mother social worker recovering ...</td>\n",
       "    </tr>\n",
       "    <tr>\n",
       "      <th>5552</th>\n",
       "      <td>NaN</td>\n",
       "      <td>The Color Purple (2023 film)</td>\n",
       "      <td>In 1909 Georgia, teenager Celie Harris lives w...</td>\n",
       "      <td>upload.wikimedia.org/wikipedia/en/thumb/7/70/C...</td>\n",
       "      <td>2023</td>\n",
       "      <td>https://en.wikipedia.org//wiki/The_Color_Purpl...</td>\n",
       "      <td>NaN</td>\n",
       "      <td>NaN</td>\n",
       "      <td>NaN</td>\n",
       "      <td>NaN</td>\n",
       "      <td>...</td>\n",
       "      <td>NaN</td>\n",
       "      <td>NaN</td>\n",
       "      <td>NaN</td>\n",
       "      <td>NaN</td>\n",
       "      <td>NaN</td>\n",
       "      <td>NaN</td>\n",
       "      <td>NaN</td>\n",
       "      <td>NaN</td>\n",
       "      <td>NaN</td>\n",
       "      <td>georgia teenager celie harris life sister net...</td>\n",
       "    </tr>\n",
       "    <tr>\n",
       "      <th>5553</th>\n",
       "      <td>NaN</td>\n",
       "      <td>The Boys in the Boat (film)</td>\n",
       "      <td>The film's plot centres on the University of W...</td>\n",
       "      <td>upload.wikimedia.org/wikipedia/en/thumb/6/63/B...</td>\n",
       "      <td>2023</td>\n",
       "      <td>https://en.wikipedia.org//wiki/The_Boys_in_the...</td>\n",
       "      <td>NaN</td>\n",
       "      <td>NaN</td>\n",
       "      <td>NaN</td>\n",
       "      <td>NaN</td>\n",
       "      <td>...</td>\n",
       "      <td>NaN</td>\n",
       "      <td>NaN</td>\n",
       "      <td>NaN</td>\n",
       "      <td>NaN</td>\n",
       "      <td>NaN</td>\n",
       "      <td>NaN</td>\n",
       "      <td>NaN</td>\n",
       "      <td>NaN</td>\n",
       "      <td>NaN</td>\n",
       "      <td>film plot centre university washington crew re...</td>\n",
       "    </tr>\n",
       "    <tr>\n",
       "      <th>5554</th>\n",
       "      <td>NaN</td>\n",
       "      <td>Ferrari (2023 film)</td>\n",
       "      <td>In the summer of 1957, Italian entrepreneur En...</td>\n",
       "      <td>upload.wikimedia.org/wikipedia/en/thumb/f/f6/F...</td>\n",
       "      <td>2023</td>\n",
       "      <td>https://en.wikipedia.org//wiki/Ferrari_(2023_f...</td>\n",
       "      <td>NaN</td>\n",
       "      <td>NaN</td>\n",
       "      <td>NaN</td>\n",
       "      <td>NaN</td>\n",
       "      <td>...</td>\n",
       "      <td>NaN</td>\n",
       "      <td>NaN</td>\n",
       "      <td>NaN</td>\n",
       "      <td>NaN</td>\n",
       "      <td>NaN</td>\n",
       "      <td>NaN</td>\n",
       "      <td>NaN</td>\n",
       "      <td>NaN</td>\n",
       "      <td>NaN</td>\n",
       "      <td>summer  italian entrepreneur enzo ferrari prep...</td>\n",
       "    </tr>\n",
       "    <tr>\n",
       "      <th>5555</th>\n",
       "      <td>NaN</td>\n",
       "      <td>Good Grief (film)</td>\n",
       "      <td>In London, Marc enjoys a Christmas party with ...</td>\n",
       "      <td>upload.wikimedia.org/wikipedia/en/thumb/1/14/G...</td>\n",
       "      <td>2023</td>\n",
       "      <td>https://en.wikipedia.org//wiki/Good_Grief_(film)</td>\n",
       "      <td>NaN</td>\n",
       "      <td>NaN</td>\n",
       "      <td>NaN</td>\n",
       "      <td>NaN</td>\n",
       "      <td>...</td>\n",
       "      <td>NaN</td>\n",
       "      <td>NaN</td>\n",
       "      <td>NaN</td>\n",
       "      <td>NaN</td>\n",
       "      <td>NaN</td>\n",
       "      <td>NaN</td>\n",
       "      <td>NaN</td>\n",
       "      <td>NaN</td>\n",
       "      <td>NaN</td>\n",
       "      <td>london marc enjoys christmas party friend oliv...</td>\n",
       "    </tr>\n",
       "  </tbody>\n",
       "</table>\n",
       "<p>5 rows × 25 columns</p>\n",
       "</div>"
      ],
      "text/plain": [
       "      Unnamed: 0.1                   Movie Title  \\\n",
       "5551           NaN            Memory (2023 film)   \n",
       "5552           NaN  The Color Purple (2023 film)   \n",
       "5553           NaN   The Boys in the Boat (film)   \n",
       "5554           NaN           Ferrari (2023 film)   \n",
       "5555           NaN             Good Grief (film)   \n",
       "\n",
       "                                           Plot Summary  \\\n",
       "5551  Sylvia, a single mother, social worker, and re...   \n",
       "5552  In 1909 Georgia, teenager Celie Harris lives w...   \n",
       "5553  The film's plot centres on the University of W...   \n",
       "5554  In the summer of 1957, Italian entrepreneur En...   \n",
       "5555  In London, Marc enjoys a Christmas party with ...   \n",
       "\n",
       "                                            Cover Image  Year  \\\n",
       "5551  upload.wikimedia.org/wikipedia/en/thumb/4/4e/M...  2023   \n",
       "5552  upload.wikimedia.org/wikipedia/en/thumb/7/70/C...  2023   \n",
       "5553  upload.wikimedia.org/wikipedia/en/thumb/6/63/B...  2023   \n",
       "5554  upload.wikimedia.org/wikipedia/en/thumb/f/f6/F...  2023   \n",
       "5555  upload.wikimedia.org/wikipedia/en/thumb/1/14/G...  2023   \n",
       "\n",
       "                                                 Source Rated omdb Year  \\\n",
       "5551  https://en.wikipedia.org//wiki/Memory_(2023_film)   NaN       NaN   \n",
       "5552  https://en.wikipedia.org//wiki/The_Color_Purpl...   NaN       NaN   \n",
       "5553  https://en.wikipedia.org//wiki/The_Boys_in_the...   NaN       NaN   \n",
       "5554  https://en.wikipedia.org//wiki/Ferrari_(2023_f...   NaN       NaN   \n",
       "5555   https://en.wikipedia.org//wiki/Good_Grief_(film)   NaN       NaN   \n",
       "\n",
       "     omdb Title Released  ... Plot Language Country Awards Poster Ratings  \\\n",
       "5551        NaN      NaN  ...  NaN      NaN     NaN    NaN    NaN     NaN   \n",
       "5552        NaN      NaN  ...  NaN      NaN     NaN    NaN    NaN     NaN   \n",
       "5553        NaN      NaN  ...  NaN      NaN     NaN    NaN    NaN     NaN   \n",
       "5554        NaN      NaN  ...  NaN      NaN     NaN    NaN    NaN     NaN   \n",
       "5555        NaN      NaN  ...  NaN      NaN     NaN    NaN    NaN     NaN   \n",
       "\n",
       "     imdbRating BoxOffice imdbID  \\\n",
       "5551        NaN       NaN    NaN   \n",
       "5552        NaN       NaN    NaN   \n",
       "5553        NaN       NaN    NaN   \n",
       "5554        NaN       NaN    NaN   \n",
       "5555        NaN       NaN    NaN   \n",
       "\n",
       "                                          ProcessedPlot  \n",
       "5551  sylvia single mother social worker recovering ...  \n",
       "5552   georgia teenager celie harris life sister net...  \n",
       "5553  film plot centre university washington crew re...  \n",
       "5554  summer  italian entrepreneur enzo ferrari prep...  \n",
       "5555  london marc enjoys christmas party friend oliv...  \n",
       "\n",
       "[5 rows x 25 columns]"
      ]
     },
     "execution_count": 3,
     "metadata": {},
     "output_type": "execute_result"
    }
   ],
   "source": [
    "#df = pd.concat(map(pd.read_csv,data_files), ignore_index=True)\n",
    "df=pd.read_csv('../data/processed/preprocessed_dataset.csv')\n",
    "df.tail(5)"
   ]
  },
  {
   "cell_type": "markdown",
   "id": "eeb667c5",
   "metadata": {
    "id": "eeb667c5"
   },
   "source": [
    "# Understanding data"
   ]
  },
  {
   "cell_type": "code",
   "execution_count": 4,
   "id": "ecc23b26",
   "metadata": {
    "colab": {
     "base_uri": "https://localhost:8080/"
    },
    "id": "ecc23b26",
    "outputId": "c40fe90f-d984-4ca8-dac1-23391946515e"
   },
   "outputs": [
    {
     "data": {
      "text/plain": [
       "(5556, 25)"
      ]
     },
     "execution_count": 4,
     "metadata": {},
     "output_type": "execute_result"
    }
   ],
   "source": [
    "df.shape #getting the rows and columns of dataset"
   ]
  },
  {
   "cell_type": "code",
   "execution_count": 5,
   "id": "fe9fc98b",
   "metadata": {
    "id": "fe9fc98b"
   },
   "outputs": [],
   "source": [
    "df_2023= df[df['Year']==2023] # creating a new dataframe of year 2023"
   ]
  },
  {
   "cell_type": "code",
   "execution_count": 6,
   "id": "db81c12c",
   "metadata": {
    "colab": {
     "base_uri": "https://localhost:8080/"
    },
    "id": "db81c12c",
    "outputId": "c5313bad-2bf2-40d6-b582-36be9ad8b5a3"
   },
   "outputs": [
    {
     "data": {
      "text/plain": [
       "(266, 25)"
      ]
     },
     "execution_count": 6,
     "metadata": {},
     "output_type": "execute_result"
    }
   ],
   "source": [
    "df_2023.shape #getting rows and columns for year 2023\n"
   ]
  },
  {
   "cell_type": "code",
   "execution_count": 7,
   "id": "0ac5afae",
   "metadata": {
    "id": "0ac5afae",
    "outputId": "9b7f9102-9545-46d4-c0f3-c391f5a6f7e4"
   },
   "outputs": [
    {
     "data": {
      "text/plain": [
       "\"After the kind-hearted but clumsy Super Dave Osborne (Bob Einstein) survives a near-fatal accident, he discovers his manager has embezzled from him. This forces him into bankruptcy and causes him to lose his house. Super Dave decides to retire from stunt work, but ends up meeting a single mother named Sandy (Gia Carides). When Super Dave learns that Sandy's son, Timmy (Carl Michael Lindner) needs an expensive heart surgery, Super Dave comes out of retirement to raise the money. In the process, he must face off against his arch-enemy, Gil Ruston (Dan Hedaya).\\n\""
      ]
     },
     "execution_count": 7,
     "metadata": {},
     "output_type": "execute_result"
    }
   ],
   "source": [
    "df['Plot Summary'][0]"
   ]
  },
  {
   "cell_type": "code",
   "execution_count": 8,
   "id": "e199b0ff",
   "metadata": {
    "id": "e199b0ff",
    "outputId": "922e94f8-2623-41e5-8b4c-adc890ac9b4d"
   },
   "outputs": [
    {
     "name": "stdout",
     "output_type": "stream",
     "text": [
      "<class 'pandas.core.frame.DataFrame'>\n",
      "RangeIndex: 5556 entries, 0 to 5555\n",
      "Data columns (total 25 columns):\n",
      " #   Column         Non-Null Count  Dtype  \n",
      "---  ------         --------------  -----  \n",
      " 0   Unnamed: 0.1   837 non-null    float64\n",
      " 1   Movie Title    5556 non-null   object \n",
      " 2   Plot Summary   5556 non-null   object \n",
      " 3   Cover Image    5529 non-null   object \n",
      " 4   Year           5556 non-null   int64  \n",
      " 5   Source         5556 non-null   object \n",
      " 6   Rated          791 non-null    object \n",
      " 7   omdb Year      816 non-null    object \n",
      " 8   omdb Title     816 non-null    object \n",
      " 9   Released       813 non-null    object \n",
      " 10  Runtime        808 non-null    object \n",
      " 11  Genre          815 non-null    object \n",
      " 12  Director       797 non-null    object \n",
      " 13  Writer         807 non-null    object \n",
      " 14  Actors         812 non-null    object \n",
      " 15  Plot           809 non-null    object \n",
      " 16  Language       812 non-null    object \n",
      " 17  Country        814 non-null    object \n",
      " 18  Awards         713 non-null    object \n",
      " 19  Poster         811 non-null    object \n",
      " 20  Ratings        816 non-null    object \n",
      " 21  imdbRating     807 non-null    float64\n",
      " 22  BoxOffice      719 non-null    object \n",
      " 23  imdbID         816 non-null    object \n",
      " 24  ProcessedPlot  5556 non-null   object \n",
      "dtypes: float64(2), int64(1), object(22)\n",
      "memory usage: 1.1+ MB\n"
     ]
    }
   ],
   "source": [
    "df.info()"
   ]
  },
  {
   "cell_type": "code",
   "execution_count": 9,
   "id": "8564ac75",
   "metadata": {
    "id": "8564ac75",
    "outputId": "d107fce8-2d83-4853-d944-e05fae257dac"
   },
   "outputs": [
    {
     "data": {
      "text/plain": [
       "2009    330\n",
       "2021    302\n",
       "2010    289\n",
       "2022    274\n",
       "2023    266\n",
       "2008    257\n",
       "2020    257\n",
       "2007    249\n",
       "2012    242\n",
       "2019    236\n",
       "2018    226\n",
       "2000    223\n",
       "2017    222\n",
       "2013    214\n",
       "2014    212\n",
       "2003    212\n",
       "2006    206\n",
       "2002    202\n",
       "2011    200\n",
       "2001    200\n",
       "2015    192\n",
       "2004    191\n",
       "2005    182\n",
       "2016    172\n",
       "Name: Year, dtype: int64"
      ]
     },
     "execution_count": 9,
     "metadata": {},
     "output_type": "execute_result"
    }
   ],
   "source": [
    "df['Year'].value_counts() # count of movies in each year\n"
   ]
  },
  {
   "cell_type": "code",
   "execution_count": 10,
   "id": "9f646805",
   "metadata": {
    "id": "9f646805",
    "outputId": "ce59ad06-31ae-4112-a117-3abf0351855d"
   },
   "outputs": [
    {
     "data": {
      "text/plain": [
       "array([2000, 2001, 2002, 2003, 2004, 2005, 2006, 2007, 2008, 2009, 2010,\n",
       "       2011, 2012, 2013, 2014, 2015, 2016, 2017, 2018, 2019, 2020, 2021,\n",
       "       2022, 2023])"
      ]
     },
     "execution_count": 10,
     "metadata": {},
     "output_type": "execute_result"
    }
   ],
   "source": [
    "df['Year'].unique() #unique values for year column"
   ]
  },
  {
   "cell_type": "code",
   "execution_count": 11,
   "id": "d325d619",
   "metadata": {
    "id": "d325d619",
    "outputId": "e130e8c0-7398-45d4-e828-d1002d7eeb7d"
   },
   "outputs": [
    {
     "data": {
      "text/plain": [
       "24"
      ]
     },
     "execution_count": 11,
     "metadata": {},
     "output_type": "execute_result"
    }
   ],
   "source": [
    "df['Year'].nunique()  #total count of years"
   ]
  },
  {
   "cell_type": "code",
   "execution_count": 12,
   "id": "6895cc33",
   "metadata": {
    "id": "6895cc33",
    "outputId": "966cee7b-252b-4122-e2f9-a7c8247d5879"
   },
   "outputs": [
    {
     "data": {
      "text/plain": [
       "Unnamed: 0.1     4719\n",
       "Movie Title         0\n",
       "Plot Summary        0\n",
       "Cover Image        27\n",
       "Year                0\n",
       "Source              0\n",
       "Rated            4765\n",
       "omdb Year        4740\n",
       "omdb Title       4740\n",
       "Released         4743\n",
       "Runtime          4748\n",
       "Genre            4741\n",
       "Director         4759\n",
       "Writer           4749\n",
       "Actors           4744\n",
       "Plot             4747\n",
       "Language         4744\n",
       "Country          4742\n",
       "Awards           4843\n",
       "Poster           4745\n",
       "Ratings          4740\n",
       "imdbRating       4749\n",
       "BoxOffice        4837\n",
       "imdbID           4740\n",
       "ProcessedPlot       0\n",
       "dtype: int64"
      ]
     },
     "execution_count": 12,
     "metadata": {},
     "output_type": "execute_result"
    }
   ],
   "source": [
    "df.isna().sum() # total num of null values"
   ]
  },
  {
   "cell_type": "code",
   "execution_count": 13,
   "id": "341cef46",
   "metadata": {},
   "outputs": [
    {
     "data": {
      "text/plain": [
       "Unnamed: 0.1     84.935205\n",
       "Movie Title       0.000000\n",
       "Plot Summary      0.000000\n",
       "Cover Image       0.485961\n",
       "Year              0.000000\n",
       "Source            0.000000\n",
       "Rated            85.763139\n",
       "omdb Year        85.313175\n",
       "omdb Title       85.313175\n",
       "Released         85.367171\n",
       "Runtime          85.457163\n",
       "Genre            85.331174\n",
       "Director         85.655148\n",
       "Writer           85.475162\n",
       "Actors           85.385169\n",
       "Plot             85.439165\n",
       "Language         85.385169\n",
       "Country          85.349172\n",
       "Awards           87.167027\n",
       "Poster           85.403168\n",
       "Ratings          85.313175\n",
       "imdbRating       85.475162\n",
       "BoxOffice        87.059035\n",
       "imdbID           85.313175\n",
       "ProcessedPlot     0.000000\n",
       "dtype: float64"
      ]
     },
     "execution_count": 13,
     "metadata": {},
     "output_type": "execute_result"
    }
   ],
   "source": [
    "df.isna().mean()*100 #percentage of null values in each column"
   ]
  },
  {
   "cell_type": "markdown",
   "id": "6f3dc17e",
   "metadata": {
    "id": "6f3dc17e"
   },
   "source": [
    "\n",
    "# Exploratory Data Analysis\n",
    "-Character count\n",
    "-Word count\n",
    "-Mean word length\n",
    "-Mean sentence length"
   ]
  },
  {
   "cell_type": "code",
   "execution_count": 14,
   "id": "57ec53da",
   "metadata": {
    "colab": {
     "base_uri": "https://localhost:8080/"
    },
    "id": "57ec53da",
    "outputId": "9d97621a-4e29-4693-c618-a39aa98b0c9e"
   },
   "outputs": [
    {
     "data": {
      "text/plain": [
       "565"
      ]
     },
     "execution_count": 14,
     "metadata": {},
     "output_type": "execute_result"
    }
   ],
   "source": [
    "length = len(df['Plot Summary'][0])\n",
    "length"
   ]
  },
  {
   "cell_type": "markdown",
   "id": "03be2c26",
   "metadata": {
    "id": "03be2c26"
   },
   "source": [
    "The length of our sample review is 565"
   ]
  },
  {
   "cell_type": "code",
   "execution_count": 15,
   "id": "945923f4",
   "metadata": {
    "id": "945923f4"
   },
   "outputs": [],
   "source": [
    "df['Length'] = df['Plot Summary'].str.len()\n"
   ]
  },
  {
   "cell_type": "code",
   "execution_count": 16,
   "id": "27963a10",
   "metadata": {
    "colab": {
     "base_uri": "https://localhost:8080/"
    },
    "id": "27963a10",
    "outputId": "81d0ee98-98eb-45e1-fad9-fc21912d0e43"
   },
   "outputs": [
    {
     "data": {
      "text/plain": [
       "count     5556.000000\n",
       "mean      3406.812635\n",
       "std       1313.911990\n",
       "min         68.000000\n",
       "25%       2837.750000\n",
       "50%       3633.000000\n",
       "75%       4115.000000\n",
       "max      22275.000000\n",
       "Name: Length, dtype: float64"
      ]
     },
     "execution_count": 16,
     "metadata": {},
     "output_type": "execute_result"
    }
   ],
   "source": [
    "df['Length'].describe()"
   ]
  },
  {
   "cell_type": "code",
   "execution_count": 17,
   "id": "e2ef3a3f",
   "metadata": {
    "colab": {
     "base_uri": "https://localhost:8080/"
    },
    "id": "e2ef3a3f",
    "outputId": "3c517b9a-c530-4afd-ad25-201116abcb6b"
   },
   "outputs": [
    {
     "data": {
      "text/plain": [
       "count    5556.000000\n",
       "mean      581.070914\n",
       "std       225.590607\n",
       "min         9.000000\n",
       "25%       487.000000\n",
       "50%       620.000000\n",
       "75%       696.000000\n",
       "max      3764.000000\n",
       "Name: word_count, dtype: float64"
      ]
     },
     "execution_count": 17,
     "metadata": {},
     "output_type": "execute_result"
    }
   ],
   "source": [
    "#word_count\n",
    "def word_count(review):\n",
    "    review= str(review)\n",
    "    review_list = review.split()\n",
    "    return len(review_list)\n",
    "\n",
    "df['word_count'] = df['Plot Summary'].apply(word_count)\n",
    "df['word_count'].describe()"
   ]
  },
  {
   "cell_type": "markdown",
   "id": "636fa4bc",
   "metadata": {
    "id": "636fa4bc"
   },
   "source": [
    "# Corpus"
   ]
  },
  {
   "cell_type": "code",
   "execution_count": 18,
   "id": "7286b5f9",
   "metadata": {
    "id": "7286b5f9"
   },
   "outputs": [],
   "source": [
    "def corpus(text):\n",
    "    text_str=str(text)\n",
    "    text_list = text_str.split()\n",
    "    return text_list"
   ]
  },
  {
   "cell_type": "code",
   "execution_count": 19,
   "id": "e4fcb258",
   "metadata": {
    "colab": {
     "base_uri": "https://localhost:8080/"
    },
    "id": "e4fcb258",
    "outputId": "50910713-e999-4ea8-d63c-9e4bd7637cc3"
   },
   "outputs": [
    {
     "data": {
      "text/plain": [
       "['kindhearted',\n",
       " 'clumsy',\n",
       " 'super',\n",
       " 'dave',\n",
       " 'osborne',\n",
       " 'bob',\n",
       " 'einstein',\n",
       " 'survives',\n",
       " 'nearfatal',\n",
       " 'accident',\n",
       " 'discovers',\n",
       " 'manager',\n",
       " 'embezzled',\n",
       " 'force',\n",
       " 'bankruptcy',\n",
       " 'cause',\n",
       " 'lose',\n",
       " 'house',\n",
       " 'super',\n",
       " 'dave',\n",
       " 'decides',\n",
       " 'retire',\n",
       " 'stunt',\n",
       " 'work',\n",
       " 'end',\n",
       " 'meeting',\n",
       " 'single',\n",
       " 'mother',\n",
       " 'named',\n",
       " 'sandy',\n",
       " 'gia',\n",
       " 'caryatid',\n",
       " 'super',\n",
       " 'dave',\n",
       " 'learns',\n",
       " 'sandys',\n",
       " 'son',\n",
       " 'timmy',\n",
       " 'carl',\n",
       " 'michael',\n",
       " 'lindner',\n",
       " 'need',\n",
       " 'expensive',\n",
       " 'heart',\n",
       " 'surgery',\n",
       " 'super',\n",
       " 'dave',\n",
       " 'come',\n",
       " 'retirement',\n",
       " 'raise',\n",
       " 'money',\n",
       " 'process',\n",
       " 'must',\n",
       " 'face',\n",
       " 'archenemy',\n",
       " 'gil',\n",
       " 'ruston',\n",
       " 'dan',\n",
       " 'hedaya']"
      ]
     },
     "execution_count": 19,
     "metadata": {},
     "output_type": "execute_result"
    }
   ],
   "source": [
    "\n",
    "corpus(df['ProcessedPlot'][0])"
   ]
  },
  {
   "cell_type": "code",
   "execution_count": 20,
   "id": "2b1cca53",
   "metadata": {
    "colab": {
     "base_uri": "https://localhost:8080/"
    },
    "id": "2b1cca53",
    "outputId": "52360ca2-8c63-48d4-cb96-d501a4105983"
   },
   "outputs": [
    {
     "data": {
      "text/plain": [
       "0    [kindhearted, clumsy, super, dave, osborne, bo...\n",
       "1    [finding, deebo, escaped, prison, get, revenge...\n",
       "2    [aging, prizefighter, longtime, best, friend, ...\n",
       "3    [supernova, chronicle, searchandrescue, patrol...\n",
       "4    [boston, irish, american, fraternal, twin, bro...\n",
       "Name: review_list, dtype: object"
      ]
     },
     "execution_count": 20,
     "metadata": {},
     "output_type": "execute_result"
    }
   ],
   "source": [
    "df['review_list'] = df['ProcessedPlot'].apply(corpus)\n",
    "df['review_list'][:5]"
   ]
  },
  {
   "cell_type": "code",
   "execution_count": 21,
   "id": "f0bc22fa",
   "metadata": {
    "colab": {
     "base_uri": "https://localhost:8080/"
    },
    "id": "f0bc22fa",
    "outputId": "f4232f5f-0b5c-46ff-ec35-6bff6a7920da"
   },
   "outputs": [
    {
     "name": "stderr",
     "output_type": "stream",
     "text": [
      "100%|\u001b[32m█████████████████████████████████████████████████████████████████████████████████████████████████████████\u001b[0m| 5556/5556 [00:00<00:00, 186068.20it/s]\u001b[0m\n"
     ]
    },
    {
     "data": {
      "text/plain": [
       "1808076"
      ]
     },
     "execution_count": 21,
     "metadata": {},
     "output_type": "execute_result"
    }
   ],
   "source": [
    "from tqdm import trange\n",
    "corpus = []\n",
    "\n",
    "for i in trange(df.shape[0], ncols=150, nrows=10, colour='green', smoothing=0.8):\n",
    "    corpus += df['review_list'][i]\n",
    "\n",
    "\n",
    "len(corpus)"
   ]
  },
  {
   "cell_type": "code",
   "execution_count": 22,
   "id": "b34f96d2",
   "metadata": {
    "colab": {
     "base_uri": "https://localhost:8080/"
    },
    "id": "b34f96d2",
    "outputId": "20fccab7-7b26-480a-9c7d-8ae77ebdba5b"
   },
   "outputs": [
    {
     "data": {
      "text/plain": [
       "[('find', 8110),\n",
       " ('tell', 6361),\n",
       " ('one', 6290),\n",
       " ('take', 6056),\n",
       " ('go', 6008),\n",
       " ('back', 5539),\n",
       " ('get', 5277),\n",
       " ('father', 5275),\n",
       " ('friend', 5204),\n",
       " ('home', 5177)]"
      ]
     },
     "execution_count": 22,
     "metadata": {},
     "output_type": "execute_result"
    }
   ],
   "source": [
    "mostCommon = Counter(corpus).most_common(10)\n",
    "mostCommon"
   ]
  },
  {
   "cell_type": "code",
   "execution_count": 23,
   "id": "e4926ad7",
   "metadata": {
    "id": "e4926ad7"
   },
   "outputs": [],
   "source": [
    "words = []\n",
    "freq = []\n",
    "for word, count in mostCommon:\n",
    "    words.append(word)\n",
    "    freq.append(count)"
   ]
  },
  {
   "cell_type": "code",
   "execution_count": 24,
   "id": "dcc5db68",
   "metadata": {
    "colab": {
     "base_uri": "https://localhost:8080/",
     "height": 452
    },
    "id": "dcc5db68",
    "outputId": "17db364d-bcdc-416f-8ad3-23314a563454"
   },
   "outputs": [
    {
     "data": {
      "image/png": "[encoded data removed]",
      "text/plain": [
       "<Figure size 640x480 with 1 Axes>"
      ]
     },
     "metadata": {},
     "output_type": "display_data"
    }
   ],
   "source": [
    "sns.barplot(x=freq, y=words)\n",
    "plt.title('Top 10 Most Frequently Occuring Words')\n",
    "plt.show()"
   ]
  },
  {
   "cell_type": "markdown",
   "id": "d8ae2085",
   "metadata": {
    "id": "d8ae2085"
   },
   "source": [
    "# ngramns"
   ]
  },
  {
   "cell_type": "code",
   "execution_count": 25,
   "id": "cebfe7c0",
   "metadata": {
    "id": "cebfe7c0"
   },
   "outputs": [],
   "source": [
    "#df.dropna(inplace=True)"
   ]
  },
  {
   "cell_type": "code",
   "execution_count": 26,
   "id": "6fa6de88",
   "metadata": {
    "id": "6fa6de88"
   },
   "outputs": [],
   "source": [
    "cv = CountVectorizer(ngram_range=(2,2))\n",
    "bigrams = cv.fit_transform(df['ProcessedPlot'])\n"
   ]
  },
  {
   "cell_type": "code",
   "execution_count": null,
   "id": "fd54be41",
   "metadata": {
    "id": "fd54be41"
   },
   "outputs": [],
   "source": [
    "count_values = bigrams.toarray().sum(axis=0)\n",
    "ngram_freq = pd.DataFrame(sorted([(count_values[i], k) for k, i in cv.vocabulary_.items()], reverse = True))\n",
    "ngram_freq.columns = [\"frequency\", \"ngram\"]"
   ]
  },
  {
   "cell_type": "code",
   "execution_count": null,
   "id": "77999d98",
   "metadata": {
    "colab": {
     "base_uri": "https://localhost:8080/",
     "height": 472
    },
    "id": "77999d98",
    "outputId": "17ef3ed4-70ab-4c3b-ee16-5159e79bb05a"
   },
   "outputs": [],
   "source": [
    "sns.barplot(x=ngram_freq['frequency'][:10], y=ngram_freq['ngram'][:10])\n",
    "plt.title('Top 10 Most Frequently Occuring Bigrams')\n",
    "plt.show()"
   ]
  },
  {
   "cell_type": "code",
   "execution_count": null,
   "id": "SPL232QU90fI",
   "metadata": {
    "id": "SPL232QU90fI"
   },
   "outputs": [],
   "source": [
    "cv1 = CountVectorizer(ngram_range=(3,3))\n",
    "trigrams = cv1.fit_transform(df['ProcessedPlot'])\n",
    "count_values = trigrams.toarray().sum(axis=0)\n",
    "ngram_freq = pd.DataFrame(sorted([(count_values[i], k) for k, i in cv1.vocabulary_.items()], reverse = True))\n",
    "ngram_freq.columns = [\"frequency\", \"ngram\"]"
   ]
  },
  {
   "cell_type": "code",
   "execution_count": null,
   "id": "MOTfzDPn-Xtj",
   "metadata": {
    "colab": {
     "base_uri": "https://localhost:8080/",
     "height": 472
    },
    "id": "MOTfzDPn-Xtj",
    "outputId": "ba074aa2-d032-4baf-bdef-c3be4f603b03"
   },
   "outputs": [],
   "source": [
    "sns.barplot(x=ngram_freq['frequency'][:10], y=ngram_freq['ngram'][:10])\n",
    "plt.title('Top 10 Most Frequently Occuring Trigrams')\n",
    "plt.show()"
   ]
  },
  {
   "cell_type": "code",
   "execution_count": null,
   "id": "yW-99fD1-FO3",
   "metadata": {
    "id": "yW-99fD1-FO3"
   },
   "outputs": [],
   "source": []
  }
 ],
 "metadata": {
  "colab": {
   "include_colab_link": true,
   "provenance": []
  },
  "kernelspec": {
   "display_name": "Python 3 (ipykernel)",
   "language": "python",
   "name": "python3"
  },
  "language_info": {
   "codemirror_mode": {
    "name": "ipython",
    "version": 3
   },
   "file_extension": ".py",
   "mimetype": "text/x-python",
   "name": "python",
   "nbconvert_exporter": "python",
   "pygments_lexer": "ipython3",
   "version": "3.11.4"
  }
 },
 "nbformat": 4,
 "nbformat_minor": 5
}
