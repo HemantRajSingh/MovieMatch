{
 "cells": [
  {
   "cell_type": "code",
   "execution_count": 39,
   "metadata": {},
   "outputs": [],
   "source": [
    "import pandas as pd"
   ]
  },
  {
   "cell_type": "code",
   "execution_count": 40,
   "metadata": {},
   "outputs": [
    {
     "name": "stdout",
     "output_type": "stream",
     "text": [
      "(7554, 7)\n"
     ]
    },
    {
     "data": {
      "text/html": [
       "<div>\n",
       "<style scoped>\n",
       "    .dataframe tbody tr th:only-of-type {\n",
       "        vertical-align: middle;\n",
       "    }\n",
       "\n",
       "    .dataframe tbody tr th {\n",
       "        vertical-align: top;\n",
       "    }\n",
       "\n",
       "    .dataframe thead th {\n",
       "        text-align: right;\n",
       "    }\n",
       "</style>\n",
       "<table border=\"1\" class=\"dataframe\">\n",
       "  <thead>\n",
       "    <tr style=\"text-align: right;\">\n",
       "      <th></th>\n",
       "      <th>id</th>\n",
       "      <th>title</th>\n",
       "      <th>year</th>\n",
       "      <th>runtime</th>\n",
       "      <th>rating</th>\n",
       "      <th>votes</th>\n",
       "      <th>plot</th>\n",
       "    </tr>\n",
       "  </thead>\n",
       "  <tbody>\n",
       "    <tr>\n",
       "      <th>0</th>\n",
       "      <td>tt0172495</td>\n",
       "      <td>1. Gladiator</td>\n",
       "      <td>2000</td>\n",
       "      <td>2000</td>\n",
       "      <td>8.5 (1.6M)</td>\n",
       "      <td>1600000</td>\n",
       "      <td>A former Roman General sets out to exact venge...</td>\n",
       "    </tr>\n",
       "    <tr>\n",
       "      <th>1</th>\n",
       "      <td>tt0217869</td>\n",
       "      <td>2. Unbreakable</td>\n",
       "      <td>2000</td>\n",
       "      <td>2000</td>\n",
       "      <td>7.3 (441K)</td>\n",
       "      <td>441000</td>\n",
       "      <td>A man learns something extraordinary about him...</td>\n",
       "    </tr>\n",
       "    <tr>\n",
       "      <th>2</th>\n",
       "      <td>tt0208092</td>\n",
       "      <td>3. Snatch</td>\n",
       "      <td>2000</td>\n",
       "      <td>2000</td>\n",
       "      <td>8.2 (909K)</td>\n",
       "      <td>909000</td>\n",
       "      <td>Unscrupulous boxing promoters, violent bookmak...</td>\n",
       "    </tr>\n",
       "    <tr>\n",
       "      <th>3</th>\n",
       "      <td>tt0144084</td>\n",
       "      <td>4. American Psycho</td>\n",
       "      <td>2000</td>\n",
       "      <td>2000</td>\n",
       "      <td>7.6 (714K)</td>\n",
       "      <td>714000</td>\n",
       "      <td>A wealthy New York City investment banking exe...</td>\n",
       "    </tr>\n",
       "    <tr>\n",
       "      <th>4</th>\n",
       "      <td>tt0180093</td>\n",
       "      <td>5. Requiem for a Dream</td>\n",
       "      <td>2000</td>\n",
       "      <td>2000</td>\n",
       "      <td>8.3 (897K)</td>\n",
       "      <td>897000</td>\n",
       "      <td>The drug-induced utopias of four Coney Island ...</td>\n",
       "    </tr>\n",
       "  </tbody>\n",
       "</table>\n",
       "</div>"
      ],
      "text/plain": [
       "          id                   title  year  runtime      rating    votes  \\\n",
       "0  tt0172495            1. Gladiator  2000     2000  8.5 (1.6M)  1600000   \n",
       "1  tt0217869          2. Unbreakable  2000     2000  7.3 (441K)   441000   \n",
       "2  tt0208092               3. Snatch  2000     2000  8.2 (909K)   909000   \n",
       "3  tt0144084      4. American Psycho  2000     2000  7.6 (714K)   714000   \n",
       "4  tt0180093  5. Requiem for a Dream  2000     2000  8.3 (897K)   897000   \n",
       "\n",
       "                                                plot  \n",
       "0  A former Roman General sets out to exact venge...  \n",
       "1  A man learns something extraordinary about him...  \n",
       "2  Unscrupulous boxing promoters, violent bookmak...  \n",
       "3  A wealthy New York City investment banking exe...  \n",
       "4  The drug-induced utopias of four Coney Island ...  "
      ]
     },
     "execution_count": 40,
     "metadata": {},
     "output_type": "execute_result"
    }
   ],
   "source": [
    "df_ids = pd.read_csv('../data/raw/imdb_movies_ids_min_votes_500.csv')\n",
    "print(df_ids.shape)\n",
    "df_ids.head()"
   ]
  },
  {
   "cell_type": "code",
   "execution_count": 41,
   "metadata": {},
   "outputs": [
    {
     "name": "stdout",
     "output_type": "stream",
     "text": [
      "(7554, 13)\n"
     ]
    },
    {
     "data": {
      "text/html": [
       "<div>\n",
       "<style scoped>\n",
       "    .dataframe tbody tr th:only-of-type {\n",
       "        vertical-align: middle;\n",
       "    }\n",
       "\n",
       "    .dataframe tbody tr th {\n",
       "        vertical-align: top;\n",
       "    }\n",
       "\n",
       "    .dataframe thead th {\n",
       "        text-align: right;\n",
       "    }\n",
       "</style>\n",
       "<table border=\"1\" class=\"dataframe\">\n",
       "  <thead>\n",
       "    <tr style=\"text-align: right;\">\n",
       "      <th></th>\n",
       "      <th>image_link</th>\n",
       "      <th>imdb_id</th>\n",
       "      <th>rating_count</th>\n",
       "      <th>best_rating</th>\n",
       "      <th>worst_rating</th>\n",
       "      <th>rating</th>\n",
       "      <th>genre</th>\n",
       "      <th>keywords</th>\n",
       "      <th>trailer_link</th>\n",
       "      <th>actors</th>\n",
       "      <th>director</th>\n",
       "      <th>synopsis</th>\n",
       "      <th>summary</th>\n",
       "    </tr>\n",
       "  </thead>\n",
       "  <tbody>\n",
       "    <tr>\n",
       "      <th>0</th>\n",
       "      <td>https://m.media-amazon.com/images/M/MV5BMDliMm...</td>\n",
       "      <td>tt0172495</td>\n",
       "      <td>1617220</td>\n",
       "      <td>10</td>\n",
       "      <td>1</td>\n",
       "      <td>8.5</td>\n",
       "      <td>['Action', 'Adventure', 'Drama']</td>\n",
       "      <td>['roman empire', 'gladiator', 'slavery', 'comb...</td>\n",
       "      <td>https://www.imdb.com/video/vi2628367897/</td>\n",
       "      <td>['Russell Crowe', 'Joaquin Phoenix', 'Connie N...</td>\n",
       "      <td>['Ridley Scott']</td>\n",
       "      <td>Shouting \"Roma Invicta!\" as his forces attack,...</td>\n",
       "      <td>A former Roman General sets out to exact venge...</td>\n",
       "    </tr>\n",
       "    <tr>\n",
       "      <th>1</th>\n",
       "      <td>https://m.media-amazon.com/images/M/MV5BMDIwMj...</td>\n",
       "      <td>tt0217869</td>\n",
       "      <td>440860</td>\n",
       "      <td>10</td>\n",
       "      <td>1</td>\n",
       "      <td>7.3</td>\n",
       "      <td>['Drama', 'Mystery', 'Sci-Fi']</td>\n",
       "      <td>['supernatural power', 'train crash', 'superhe...</td>\n",
       "      <td>https://www.imdb.com/video/vi1103346201/</td>\n",
       "      <td>['Bruce Willis', 'Samuel L. Jackson', 'Robin W...</td>\n",
       "      <td>['M. Night Shyamalan']</td>\n",
       "      <td>The film opens as we see a baby being born in ...</td>\n",
       "      <td>A man learns something extraordinary about him...</td>\n",
       "    </tr>\n",
       "    <tr>\n",
       "      <th>2</th>\n",
       "      <td>https://m.media-amazon.com/images/M/MV5BMTA2ND...</td>\n",
       "      <td>tt0208092</td>\n",
       "      <td>909299</td>\n",
       "      <td>10</td>\n",
       "      <td>1</td>\n",
       "      <td>8.2</td>\n",
       "      <td>['Comedy', 'Crime']</td>\n",
       "      <td>['diamond', 'boxer', 'narrated by character', ...</td>\n",
       "      <td>https://www.imdb.com/video/vi1558577433/</td>\n",
       "      <td>['Jason Statham', 'Brad Pitt', 'Stephen Graham']</td>\n",
       "      <td>['Guy Ritchie']</td>\n",
       "      <td>After stealing an 86-carat (17 g) diamond in a...</td>\n",
       "      <td>Unscrupulous boxing promoters, violent bookmak...</td>\n",
       "    </tr>\n",
       "    <tr>\n",
       "      <th>3</th>\n",
       "      <td>https://m.media-amazon.com/images/M/MV5BZTM2ZG...</td>\n",
       "      <td>tt0144084</td>\n",
       "      <td>713635</td>\n",
       "      <td>10</td>\n",
       "      <td>1</td>\n",
       "      <td>7.6</td>\n",
       "      <td>['Crime', 'Drama', 'Horror']</td>\n",
       "      <td>['narcissism', 'materialism', 'serial murder',...</td>\n",
       "      <td>https://www.imdb.com/video/vi4060743449/</td>\n",
       "      <td>['Christian Bale', 'Justin Theroux', 'Josh Luc...</td>\n",
       "      <td>['Mary Harron']</td>\n",
       "      <td>A white background. Red drops begin to fall pa...</td>\n",
       "      <td>A wealthy New York City investment banking exe...</td>\n",
       "    </tr>\n",
       "    <tr>\n",
       "      <th>4</th>\n",
       "      <td>https://m.media-amazon.com/images/M/MV5BOTdiNz...</td>\n",
       "      <td>tt0180093</td>\n",
       "      <td>897414</td>\n",
       "      <td>10</td>\n",
       "      <td>1</td>\n",
       "      <td>8.3</td>\n",
       "      <td>['Drama']</td>\n",
       "      <td>['drug addiction', 'sex show', 'sex scene', 'p...</td>\n",
       "      <td>https://www.imdb.com/video/vi2156069145/</td>\n",
       "      <td>['Ellen Burstyn', 'Jared Leto', 'Jennifer Conn...</td>\n",
       "      <td>['Darren Aronofsky']</td>\n",
       "      <td>Harry Goldfarb (Jared Leto) and Tyrone Love (M...</td>\n",
       "      <td>The drug-induced utopias of four Coney Island ...</td>\n",
       "    </tr>\n",
       "  </tbody>\n",
       "</table>\n",
       "</div>"
      ],
      "text/plain": [
       "                                          image_link    imdb_id  rating_count  \\\n",
       "0  https://m.media-amazon.com/images/M/MV5BMDliMm...  tt0172495       1617220   \n",
       "1  https://m.media-amazon.com/images/M/MV5BMDIwMj...  tt0217869        440860   \n",
       "2  https://m.media-amazon.com/images/M/MV5BMTA2ND...  tt0208092        909299   \n",
       "3  https://m.media-amazon.com/images/M/MV5BZTM2ZG...  tt0144084        713635   \n",
       "4  https://m.media-amazon.com/images/M/MV5BOTdiNz...  tt0180093        897414   \n",
       "\n",
       "   best_rating  worst_rating  rating                             genre  \\\n",
       "0           10             1     8.5  ['Action', 'Adventure', 'Drama']   \n",
       "1           10             1     7.3    ['Drama', 'Mystery', 'Sci-Fi']   \n",
       "2           10             1     8.2               ['Comedy', 'Crime']   \n",
       "3           10             1     7.6      ['Crime', 'Drama', 'Horror']   \n",
       "4           10             1     8.3                         ['Drama']   \n",
       "\n",
       "                                            keywords  \\\n",
       "0  ['roman empire', 'gladiator', 'slavery', 'comb...   \n",
       "1  ['supernatural power', 'train crash', 'superhe...   \n",
       "2  ['diamond', 'boxer', 'narrated by character', ...   \n",
       "3  ['narcissism', 'materialism', 'serial murder',...   \n",
       "4  ['drug addiction', 'sex show', 'sex scene', 'p...   \n",
       "\n",
       "                               trailer_link  \\\n",
       "0  https://www.imdb.com/video/vi2628367897/   \n",
       "1  https://www.imdb.com/video/vi1103346201/   \n",
       "2  https://www.imdb.com/video/vi1558577433/   \n",
       "3  https://www.imdb.com/video/vi4060743449/   \n",
       "4  https://www.imdb.com/video/vi2156069145/   \n",
       "\n",
       "                                              actors                director  \\\n",
       "0  ['Russell Crowe', 'Joaquin Phoenix', 'Connie N...        ['Ridley Scott']   \n",
       "1  ['Bruce Willis', 'Samuel L. Jackson', 'Robin W...  ['M. Night Shyamalan']   \n",
       "2   ['Jason Statham', 'Brad Pitt', 'Stephen Graham']         ['Guy Ritchie']   \n",
       "3  ['Christian Bale', 'Justin Theroux', 'Josh Luc...         ['Mary Harron']   \n",
       "4  ['Ellen Burstyn', 'Jared Leto', 'Jennifer Conn...    ['Darren Aronofsky']   \n",
       "\n",
       "                                            synopsis  \\\n",
       "0  Shouting \"Roma Invicta!\" as his forces attack,...   \n",
       "1  The film opens as we see a baby being born in ...   \n",
       "2  After stealing an 86-carat (17 g) diamond in a...   \n",
       "3  A white background. Red drops begin to fall pa...   \n",
       "4  Harry Goldfarb (Jared Leto) and Tyrone Love (M...   \n",
       "\n",
       "                                             summary  \n",
       "0  A former Roman General sets out to exact venge...  \n",
       "1  A man learns something extraordinary about him...  \n",
       "2  Unscrupulous boxing promoters, violent bookmak...  \n",
       "3  A wealthy New York City investment banking exe...  \n",
       "4  The drug-induced utopias of four Coney Island ...  "
      ]
     },
     "execution_count": 41,
     "metadata": {},
     "output_type": "execute_result"
    }
   ],
   "source": [
    "df_detail = pd.read_csv('../data/raw/imdb_movies_detail_min_votes_500.csv')\n",
    "print(df_detail.shape)\n",
    "df_detail.head()"
   ]
  },
  {
   "cell_type": "code",
   "execution_count": 42,
   "metadata": {},
   "outputs": [
    {
     "name": "stdout",
     "output_type": "stream",
     "text": [
      "Index(['id', 'title', 'year', 'runtime', 'rating', 'votes', 'plot'], dtype='object')\n",
      "Index(['image_link', 'imdb_id', 'rating_count', 'best_rating', 'worst_rating',\n",
      "       'rating', 'genre', 'keywords', 'trailer_link', 'actors', 'director',\n",
      "       'synopsis', 'summary'],\n",
      "      dtype='object')\n"
     ]
    }
   ],
   "source": [
    "print(df_ids.columns)\n",
    "print(df_detail.columns)"
   ]
  },
  {
   "cell_type": "code",
   "execution_count": 43,
   "metadata": {},
   "outputs": [],
   "source": [
    "# removing rating and votes column from df_ids\n",
    "df_ids = df_ids.drop(columns=['rating', 'votes'])"
   ]
  },
  {
   "cell_type": "code",
   "execution_count": 44,
   "metadata": {},
   "outputs": [
    {
     "name": "stdout",
     "output_type": "stream",
     "text": [
      "Index(['id', 'title', 'year', 'runtime', 'plot'], dtype='object')\n",
      "Index(['image_link', 'imdb_id', 'rating_count', 'best_rating', 'worst_rating',\n",
      "       'rating', 'genre', 'keywords', 'trailer_link', 'actors', 'director',\n",
      "       'synopsis', 'summary'],\n",
      "      dtype='object')\n"
     ]
    }
   ],
   "source": [
    "print(df_ids.columns)\n",
    "print(df_detail.columns)"
   ]
  },
  {
   "cell_type": "code",
   "execution_count": 45,
   "metadata": {},
   "outputs": [
    {
     "name": "stdout",
     "output_type": "stream",
     "text": [
      "(7554, 18)\n"
     ]
    },
    {
     "data": {
      "text/html": [
       "<div>\n",
       "<style scoped>\n",
       "    .dataframe tbody tr th:only-of-type {\n",
       "        vertical-align: middle;\n",
       "    }\n",
       "\n",
       "    .dataframe tbody tr th {\n",
       "        vertical-align: top;\n",
       "    }\n",
       "\n",
       "    .dataframe thead th {\n",
       "        text-align: right;\n",
       "    }\n",
       "</style>\n",
       "<table border=\"1\" class=\"dataframe\">\n",
       "  <thead>\n",
       "    <tr style=\"text-align: right;\">\n",
       "      <th></th>\n",
       "      <th>id</th>\n",
       "      <th>title</th>\n",
       "      <th>year</th>\n",
       "      <th>runtime</th>\n",
       "      <th>plot</th>\n",
       "      <th>image_link</th>\n",
       "      <th>imdb_id</th>\n",
       "      <th>rating_count</th>\n",
       "      <th>best_rating</th>\n",
       "      <th>worst_rating</th>\n",
       "      <th>rating</th>\n",
       "      <th>genre</th>\n",
       "      <th>keywords</th>\n",
       "      <th>trailer_link</th>\n",
       "      <th>actors</th>\n",
       "      <th>director</th>\n",
       "      <th>synopsis</th>\n",
       "      <th>summary</th>\n",
       "    </tr>\n",
       "  </thead>\n",
       "  <tbody>\n",
       "    <tr>\n",
       "      <th>0</th>\n",
       "      <td>tt0172495</td>\n",
       "      <td>1. Gladiator</td>\n",
       "      <td>2000</td>\n",
       "      <td>2000</td>\n",
       "      <td>A former Roman General sets out to exact venge...</td>\n",
       "      <td>https://m.media-amazon.com/images/M/MV5BMDliMm...</td>\n",
       "      <td>tt0172495</td>\n",
       "      <td>1617220</td>\n",
       "      <td>10</td>\n",
       "      <td>1</td>\n",
       "      <td>8.5</td>\n",
       "      <td>['Action', 'Adventure', 'Drama']</td>\n",
       "      <td>['roman empire', 'gladiator', 'slavery', 'comb...</td>\n",
       "      <td>https://www.imdb.com/video/vi2628367897/</td>\n",
       "      <td>['Russell Crowe', 'Joaquin Phoenix', 'Connie N...</td>\n",
       "      <td>['Ridley Scott']</td>\n",
       "      <td>Shouting \"Roma Invicta!\" as his forces attack,...</td>\n",
       "      <td>A former Roman General sets out to exact venge...</td>\n",
       "    </tr>\n",
       "    <tr>\n",
       "      <th>1</th>\n",
       "      <td>tt0217869</td>\n",
       "      <td>2. Unbreakable</td>\n",
       "      <td>2000</td>\n",
       "      <td>2000</td>\n",
       "      <td>A man learns something extraordinary about him...</td>\n",
       "      <td>https://m.media-amazon.com/images/M/MV5BMDIwMj...</td>\n",
       "      <td>tt0217869</td>\n",
       "      <td>440860</td>\n",
       "      <td>10</td>\n",
       "      <td>1</td>\n",
       "      <td>7.3</td>\n",
       "      <td>['Drama', 'Mystery', 'Sci-Fi']</td>\n",
       "      <td>['supernatural power', 'train crash', 'superhe...</td>\n",
       "      <td>https://www.imdb.com/video/vi1103346201/</td>\n",
       "      <td>['Bruce Willis', 'Samuel L. Jackson', 'Robin W...</td>\n",
       "      <td>['M. Night Shyamalan']</td>\n",
       "      <td>The film opens as we see a baby being born in ...</td>\n",
       "      <td>A man learns something extraordinary about him...</td>\n",
       "    </tr>\n",
       "    <tr>\n",
       "      <th>2</th>\n",
       "      <td>tt0208092</td>\n",
       "      <td>3. Snatch</td>\n",
       "      <td>2000</td>\n",
       "      <td>2000</td>\n",
       "      <td>Unscrupulous boxing promoters, violent bookmak...</td>\n",
       "      <td>https://m.media-amazon.com/images/M/MV5BMTA2ND...</td>\n",
       "      <td>tt0208092</td>\n",
       "      <td>909299</td>\n",
       "      <td>10</td>\n",
       "      <td>1</td>\n",
       "      <td>8.2</td>\n",
       "      <td>['Comedy', 'Crime']</td>\n",
       "      <td>['diamond', 'boxer', 'narrated by character', ...</td>\n",
       "      <td>https://www.imdb.com/video/vi1558577433/</td>\n",
       "      <td>['Jason Statham', 'Brad Pitt', 'Stephen Graham']</td>\n",
       "      <td>['Guy Ritchie']</td>\n",
       "      <td>After stealing an 86-carat (17 g) diamond in a...</td>\n",
       "      <td>Unscrupulous boxing promoters, violent bookmak...</td>\n",
       "    </tr>\n",
       "    <tr>\n",
       "      <th>3</th>\n",
       "      <td>tt0144084</td>\n",
       "      <td>4. American Psycho</td>\n",
       "      <td>2000</td>\n",
       "      <td>2000</td>\n",
       "      <td>A wealthy New York City investment banking exe...</td>\n",
       "      <td>https://m.media-amazon.com/images/M/MV5BZTM2ZG...</td>\n",
       "      <td>tt0144084</td>\n",
       "      <td>713635</td>\n",
       "      <td>10</td>\n",
       "      <td>1</td>\n",
       "      <td>7.6</td>\n",
       "      <td>['Crime', 'Drama', 'Horror']</td>\n",
       "      <td>['narcissism', 'materialism', 'serial murder',...</td>\n",
       "      <td>https://www.imdb.com/video/vi4060743449/</td>\n",
       "      <td>['Christian Bale', 'Justin Theroux', 'Josh Luc...</td>\n",
       "      <td>['Mary Harron']</td>\n",
       "      <td>A white background. Red drops begin to fall pa...</td>\n",
       "      <td>A wealthy New York City investment banking exe...</td>\n",
       "    </tr>\n",
       "    <tr>\n",
       "      <th>4</th>\n",
       "      <td>tt0180093</td>\n",
       "      <td>5. Requiem for a Dream</td>\n",
       "      <td>2000</td>\n",
       "      <td>2000</td>\n",
       "      <td>The drug-induced utopias of four Coney Island ...</td>\n",
       "      <td>https://m.media-amazon.com/images/M/MV5BOTdiNz...</td>\n",
       "      <td>tt0180093</td>\n",
       "      <td>897414</td>\n",
       "      <td>10</td>\n",
       "      <td>1</td>\n",
       "      <td>8.3</td>\n",
       "      <td>['Drama']</td>\n",
       "      <td>['drug addiction', 'sex show', 'sex scene', 'p...</td>\n",
       "      <td>https://www.imdb.com/video/vi2156069145/</td>\n",
       "      <td>['Ellen Burstyn', 'Jared Leto', 'Jennifer Conn...</td>\n",
       "      <td>['Darren Aronofsky']</td>\n",
       "      <td>Harry Goldfarb (Jared Leto) and Tyrone Love (M...</td>\n",
       "      <td>The drug-induced utopias of four Coney Island ...</td>\n",
       "    </tr>\n",
       "  </tbody>\n",
       "</table>\n",
       "</div>"
      ],
      "text/plain": [
       "          id                   title  year  runtime  \\\n",
       "0  tt0172495            1. Gladiator  2000     2000   \n",
       "1  tt0217869          2. Unbreakable  2000     2000   \n",
       "2  tt0208092               3. Snatch  2000     2000   \n",
       "3  tt0144084      4. American Psycho  2000     2000   \n",
       "4  tt0180093  5. Requiem for a Dream  2000     2000   \n",
       "\n",
       "                                                plot  \\\n",
       "0  A former Roman General sets out to exact venge...   \n",
       "1  A man learns something extraordinary about him...   \n",
       "2  Unscrupulous boxing promoters, violent bookmak...   \n",
       "3  A wealthy New York City investment banking exe...   \n",
       "4  The drug-induced utopias of four Coney Island ...   \n",
       "\n",
       "                                          image_link    imdb_id  rating_count  \\\n",
       "0  https://m.media-amazon.com/images/M/MV5BMDliMm...  tt0172495       1617220   \n",
       "1  https://m.media-amazon.com/images/M/MV5BMDIwMj...  tt0217869        440860   \n",
       "2  https://m.media-amazon.com/images/M/MV5BMTA2ND...  tt0208092        909299   \n",
       "3  https://m.media-amazon.com/images/M/MV5BZTM2ZG...  tt0144084        713635   \n",
       "4  https://m.media-amazon.com/images/M/MV5BOTdiNz...  tt0180093        897414   \n",
       "\n",
       "   best_rating  worst_rating  rating                             genre  \\\n",
       "0           10             1     8.5  ['Action', 'Adventure', 'Drama']   \n",
       "1           10             1     7.3    ['Drama', 'Mystery', 'Sci-Fi']   \n",
       "2           10             1     8.2               ['Comedy', 'Crime']   \n",
       "3           10             1     7.6      ['Crime', 'Drama', 'Horror']   \n",
       "4           10             1     8.3                         ['Drama']   \n",
       "\n",
       "                                            keywords  \\\n",
       "0  ['roman empire', 'gladiator', 'slavery', 'comb...   \n",
       "1  ['supernatural power', 'train crash', 'superhe...   \n",
       "2  ['diamond', 'boxer', 'narrated by character', ...   \n",
       "3  ['narcissism', 'materialism', 'serial murder',...   \n",
       "4  ['drug addiction', 'sex show', 'sex scene', 'p...   \n",
       "\n",
       "                               trailer_link  \\\n",
       "0  https://www.imdb.com/video/vi2628367897/   \n",
       "1  https://www.imdb.com/video/vi1103346201/   \n",
       "2  https://www.imdb.com/video/vi1558577433/   \n",
       "3  https://www.imdb.com/video/vi4060743449/   \n",
       "4  https://www.imdb.com/video/vi2156069145/   \n",
       "\n",
       "                                              actors                director  \\\n",
       "0  ['Russell Crowe', 'Joaquin Phoenix', 'Connie N...        ['Ridley Scott']   \n",
       "1  ['Bruce Willis', 'Samuel L. Jackson', 'Robin W...  ['M. Night Shyamalan']   \n",
       "2   ['Jason Statham', 'Brad Pitt', 'Stephen Graham']         ['Guy Ritchie']   \n",
       "3  ['Christian Bale', 'Justin Theroux', 'Josh Luc...         ['Mary Harron']   \n",
       "4  ['Ellen Burstyn', 'Jared Leto', 'Jennifer Conn...    ['Darren Aronofsky']   \n",
       "\n",
       "                                            synopsis  \\\n",
       "0  Shouting \"Roma Invicta!\" as his forces attack,...   \n",
       "1  The film opens as we see a baby being born in ...   \n",
       "2  After stealing an 86-carat (17 g) diamond in a...   \n",
       "3  A white background. Red drops begin to fall pa...   \n",
       "4  Harry Goldfarb (Jared Leto) and Tyrone Love (M...   \n",
       "\n",
       "                                             summary  \n",
       "0  A former Roman General sets out to exact venge...  \n",
       "1  A man learns something extraordinary about him...  \n",
       "2  Unscrupulous boxing promoters, violent bookmak...  \n",
       "3  A wealthy New York City investment banking exe...  \n",
       "4  The drug-induced utopias of four Coney Island ...  "
      ]
     },
     "execution_count": 45,
     "metadata": {},
     "output_type": "execute_result"
    }
   ],
   "source": [
    "# merge df_ids and df_detail\n",
    "df = pd.merge(df_ids, df_detail, left_on='id', right_on='imdb_id', how='inner')\n",
    "print(df.shape)\n",
    "df.head()"
   ]
  },
  {
   "cell_type": "code",
   "execution_count": 46,
   "metadata": {},
   "outputs": [],
   "source": [
    "# remove id column from df\n",
    "df = df.drop(columns=['id'])"
   ]
  },
  {
   "cell_type": "code",
   "execution_count": 47,
   "metadata": {},
   "outputs": [
    {
     "data": {
      "text/plain": [
       "0                            Gladiator\n",
       "1                          Unbreakable\n",
       "2                               Snatch\n",
       "3                       AmericanPsycho\n",
       "4                     RequiemforaDream\n",
       "                     ...              \n",
       "7549       Giannis:TheMarvelousJourney\n",
       "7550                    ProjectDorothy\n",
       "7551                          Reloaded\n",
       "7552    JacquelineNovak:GetonYourKnees\n",
       "7553                 IrklaisperAtlanta\n",
       "Name: title, Length: 7554, dtype: object"
      ]
     },
     "execution_count": 47,
     "metadata": {},
     "output_type": "execute_result"
    }
   ],
   "source": [
    "df['title'] = df['title'].str.replace('[\\d.\\s]+', '', regex=True)\n",
    "df['title']"
   ]
  },
  {
   "cell_type": "code",
   "execution_count": 48,
   "metadata": {},
   "outputs": [
    {
     "data": {
      "text/plain": [
       "7554"
      ]
     },
     "execution_count": 48,
     "metadata": {},
     "output_type": "execute_result"
    }
   ],
   "source": [
    "# check if runtime and year has same values\n",
    "(df['year'] == df['runtime']).sum()"
   ]
  },
  {
   "cell_type": "markdown",
   "metadata": {},
   "source": [
    "# year and runtime both have same values. so dropping runtime"
   ]
  },
  {
   "cell_type": "code",
   "execution_count": 49,
   "metadata": {},
   "outputs": [],
   "source": [
    "df.drop(['runtime'], axis=1, inplace=True)"
   ]
  },
  {
   "cell_type": "code",
   "execution_count": 50,
   "metadata": {},
   "outputs": [
    {
     "data": {
      "text/html": [
       "<div>\n",
       "<style scoped>\n",
       "    .dataframe tbody tr th:only-of-type {\n",
       "        vertical-align: middle;\n",
       "    }\n",
       "\n",
       "    .dataframe tbody tr th {\n",
       "        vertical-align: top;\n",
       "    }\n",
       "\n",
       "    .dataframe thead th {\n",
       "        text-align: right;\n",
       "    }\n",
       "</style>\n",
       "<table border=\"1\" class=\"dataframe\">\n",
       "  <thead>\n",
       "    <tr style=\"text-align: right;\">\n",
       "      <th></th>\n",
       "      <th>title</th>\n",
       "      <th>year</th>\n",
       "      <th>plot</th>\n",
       "      <th>image_link</th>\n",
       "      <th>imdb_id</th>\n",
       "      <th>rating_count</th>\n",
       "      <th>best_rating</th>\n",
       "      <th>worst_rating</th>\n",
       "      <th>rating</th>\n",
       "      <th>genre</th>\n",
       "      <th>keywords</th>\n",
       "      <th>trailer_link</th>\n",
       "      <th>actors</th>\n",
       "      <th>director</th>\n",
       "      <th>synopsis</th>\n",
       "      <th>summary</th>\n",
       "    </tr>\n",
       "  </thead>\n",
       "  <tbody>\n",
       "    <tr>\n",
       "      <th>0</th>\n",
       "      <td>Gladiator</td>\n",
       "      <td>2000</td>\n",
       "      <td>A former Roman General sets out to exact venge...</td>\n",
       "      <td>https://m.media-amazon.com/images/M/MV5BMDliMm...</td>\n",
       "      <td>tt0172495</td>\n",
       "      <td>1617220</td>\n",
       "      <td>10</td>\n",
       "      <td>1</td>\n",
       "      <td>8.5</td>\n",
       "      <td>['Action', 'Adventure', 'Drama']</td>\n",
       "      <td>['roman empire', 'gladiator', 'slavery', 'comb...</td>\n",
       "      <td>https://www.imdb.com/video/vi2628367897/</td>\n",
       "      <td>['Russell Crowe', 'Joaquin Phoenix', 'Connie N...</td>\n",
       "      <td>['Ridley Scott']</td>\n",
       "      <td>Shouting \"Roma Invicta!\" as his forces attack,...</td>\n",
       "      <td>A former Roman General sets out to exact venge...</td>\n",
       "    </tr>\n",
       "    <tr>\n",
       "      <th>1</th>\n",
       "      <td>Unbreakable</td>\n",
       "      <td>2000</td>\n",
       "      <td>A man learns something extraordinary about him...</td>\n",
       "      <td>https://m.media-amazon.com/images/M/MV5BMDIwMj...</td>\n",
       "      <td>tt0217869</td>\n",
       "      <td>440860</td>\n",
       "      <td>10</td>\n",
       "      <td>1</td>\n",
       "      <td>7.3</td>\n",
       "      <td>['Drama', 'Mystery', 'Sci-Fi']</td>\n",
       "      <td>['supernatural power', 'train crash', 'superhe...</td>\n",
       "      <td>https://www.imdb.com/video/vi1103346201/</td>\n",
       "      <td>['Bruce Willis', 'Samuel L. Jackson', 'Robin W...</td>\n",
       "      <td>['M. Night Shyamalan']</td>\n",
       "      <td>The film opens as we see a baby being born in ...</td>\n",
       "      <td>A man learns something extraordinary about him...</td>\n",
       "    </tr>\n",
       "    <tr>\n",
       "      <th>2</th>\n",
       "      <td>Snatch</td>\n",
       "      <td>2000</td>\n",
       "      <td>Unscrupulous boxing promoters, violent bookmak...</td>\n",
       "      <td>https://m.media-amazon.com/images/M/MV5BMTA2ND...</td>\n",
       "      <td>tt0208092</td>\n",
       "      <td>909299</td>\n",
       "      <td>10</td>\n",
       "      <td>1</td>\n",
       "      <td>8.2</td>\n",
       "      <td>['Comedy', 'Crime']</td>\n",
       "      <td>['diamond', 'boxer', 'narrated by character', ...</td>\n",
       "      <td>https://www.imdb.com/video/vi1558577433/</td>\n",
       "      <td>['Jason Statham', 'Brad Pitt', 'Stephen Graham']</td>\n",
       "      <td>['Guy Ritchie']</td>\n",
       "      <td>After stealing an 86-carat (17 g) diamond in a...</td>\n",
       "      <td>Unscrupulous boxing promoters, violent bookmak...</td>\n",
       "    </tr>\n",
       "    <tr>\n",
       "      <th>3</th>\n",
       "      <td>AmericanPsycho</td>\n",
       "      <td>2000</td>\n",
       "      <td>A wealthy New York City investment banking exe...</td>\n",
       "      <td>https://m.media-amazon.com/images/M/MV5BZTM2ZG...</td>\n",
       "      <td>tt0144084</td>\n",
       "      <td>713635</td>\n",
       "      <td>10</td>\n",
       "      <td>1</td>\n",
       "      <td>7.6</td>\n",
       "      <td>['Crime', 'Drama', 'Horror']</td>\n",
       "      <td>['narcissism', 'materialism', 'serial murder',...</td>\n",
       "      <td>https://www.imdb.com/video/vi4060743449/</td>\n",
       "      <td>['Christian Bale', 'Justin Theroux', 'Josh Luc...</td>\n",
       "      <td>['Mary Harron']</td>\n",
       "      <td>A white background. Red drops begin to fall pa...</td>\n",
       "      <td>A wealthy New York City investment banking exe...</td>\n",
       "    </tr>\n",
       "    <tr>\n",
       "      <th>4</th>\n",
       "      <td>RequiemforaDream</td>\n",
       "      <td>2000</td>\n",
       "      <td>The drug-induced utopias of four Coney Island ...</td>\n",
       "      <td>https://m.media-amazon.com/images/M/MV5BOTdiNz...</td>\n",
       "      <td>tt0180093</td>\n",
       "      <td>897414</td>\n",
       "      <td>10</td>\n",
       "      <td>1</td>\n",
       "      <td>8.3</td>\n",
       "      <td>['Drama']</td>\n",
       "      <td>['drug addiction', 'sex show', 'sex scene', 'p...</td>\n",
       "      <td>https://www.imdb.com/video/vi2156069145/</td>\n",
       "      <td>['Ellen Burstyn', 'Jared Leto', 'Jennifer Conn...</td>\n",
       "      <td>['Darren Aronofsky']</td>\n",
       "      <td>Harry Goldfarb (Jared Leto) and Tyrone Love (M...</td>\n",
       "      <td>The drug-induced utopias of four Coney Island ...</td>\n",
       "    </tr>\n",
       "  </tbody>\n",
       "</table>\n",
       "</div>"
      ],
      "text/plain": [
       "              title  year                                               plot  \\\n",
       "0         Gladiator  2000  A former Roman General sets out to exact venge...   \n",
       "1       Unbreakable  2000  A man learns something extraordinary about him...   \n",
       "2            Snatch  2000  Unscrupulous boxing promoters, violent bookmak...   \n",
       "3    AmericanPsycho  2000  A wealthy New York City investment banking exe...   \n",
       "4  RequiemforaDream  2000  The drug-induced utopias of four Coney Island ...   \n",
       "\n",
       "                                          image_link    imdb_id  rating_count  \\\n",
       "0  https://m.media-amazon.com/images/M/MV5BMDliMm...  tt0172495       1617220   \n",
       "1  https://m.media-amazon.com/images/M/MV5BMDIwMj...  tt0217869        440860   \n",
       "2  https://m.media-amazon.com/images/M/MV5BMTA2ND...  tt0208092        909299   \n",
       "3  https://m.media-amazon.com/images/M/MV5BZTM2ZG...  tt0144084        713635   \n",
       "4  https://m.media-amazon.com/images/M/MV5BOTdiNz...  tt0180093        897414   \n",
       "\n",
       "   best_rating  worst_rating  rating                             genre  \\\n",
       "0           10             1     8.5  ['Action', 'Adventure', 'Drama']   \n",
       "1           10             1     7.3    ['Drama', 'Mystery', 'Sci-Fi']   \n",
       "2           10             1     8.2               ['Comedy', 'Crime']   \n",
       "3           10             1     7.6      ['Crime', 'Drama', 'Horror']   \n",
       "4           10             1     8.3                         ['Drama']   \n",
       "\n",
       "                                            keywords  \\\n",
       "0  ['roman empire', 'gladiator', 'slavery', 'comb...   \n",
       "1  ['supernatural power', 'train crash', 'superhe...   \n",
       "2  ['diamond', 'boxer', 'narrated by character', ...   \n",
       "3  ['narcissism', 'materialism', 'serial murder',...   \n",
       "4  ['drug addiction', 'sex show', 'sex scene', 'p...   \n",
       "\n",
       "                               trailer_link  \\\n",
       "0  https://www.imdb.com/video/vi2628367897/   \n",
       "1  https://www.imdb.com/video/vi1103346201/   \n",
       "2  https://www.imdb.com/video/vi1558577433/   \n",
       "3  https://www.imdb.com/video/vi4060743449/   \n",
       "4  https://www.imdb.com/video/vi2156069145/   \n",
       "\n",
       "                                              actors                director  \\\n",
       "0  ['Russell Crowe', 'Joaquin Phoenix', 'Connie N...        ['Ridley Scott']   \n",
       "1  ['Bruce Willis', 'Samuel L. Jackson', 'Robin W...  ['M. Night Shyamalan']   \n",
       "2   ['Jason Statham', 'Brad Pitt', 'Stephen Graham']         ['Guy Ritchie']   \n",
       "3  ['Christian Bale', 'Justin Theroux', 'Josh Luc...         ['Mary Harron']   \n",
       "4  ['Ellen Burstyn', 'Jared Leto', 'Jennifer Conn...    ['Darren Aronofsky']   \n",
       "\n",
       "                                            synopsis  \\\n",
       "0  Shouting \"Roma Invicta!\" as his forces attack,...   \n",
       "1  The film opens as we see a baby being born in ...   \n",
       "2  After stealing an 86-carat (17 g) diamond in a...   \n",
       "3  A white background. Red drops begin to fall pa...   \n",
       "4  Harry Goldfarb (Jared Leto) and Tyrone Love (M...   \n",
       "\n",
       "                                             summary  \n",
       "0  A former Roman General sets out to exact venge...  \n",
       "1  A man learns something extraordinary about him...  \n",
       "2  Unscrupulous boxing promoters, violent bookmak...  \n",
       "3  A wealthy New York City investment banking exe...  \n",
       "4  The drug-induced utopias of four Coney Island ...  "
      ]
     },
     "execution_count": 50,
     "metadata": {},
     "output_type": "execute_result"
    }
   ],
   "source": [
    "df.head()"
   ]
  },
  {
   "cell_type": "code",
   "execution_count": 51,
   "metadata": {},
   "outputs": [],
   "source": [
    "# rename plot to description\n",
    "df.rename(columns={'plot': 'description'}, inplace=True)"
   ]
  },
  {
   "cell_type": "code",
   "execution_count": 52,
   "metadata": {},
   "outputs": [
    {
     "data": {
      "text/plain": [
       "Index(['title', 'year', 'description', 'image_link', 'imdb_id', 'rating_count',\n",
       "       'best_rating', 'worst_rating', 'rating', 'genre', 'keywords',\n",
       "       'trailer_link', 'actors', 'director', 'synopsis', 'summary'],\n",
       "      dtype='object')"
      ]
     },
     "execution_count": 52,
     "metadata": {},
     "output_type": "execute_result"
    }
   ],
   "source": [
    "df.columns"
   ]
  },
  {
   "cell_type": "code",
   "execution_count": 53,
   "metadata": {},
   "outputs": [
    {
     "data": {
      "text/plain": [
       "(7554, 16)"
      ]
     },
     "execution_count": 53,
     "metadata": {},
     "output_type": "execute_result"
    }
   ],
   "source": [
    "df.shape"
   ]
  },
  {
   "cell_type": "code",
   "execution_count": 54,
   "metadata": {},
   "outputs": [],
   "source": [
    "df.to_csv('../data/merged/imdb_movies_min_votes_500.csv', index=False)"
   ]
  },
  {
   "cell_type": "code",
   "execution_count": 55,
   "metadata": {},
   "outputs": [
    {
     "data": {
      "text/plain": [
       "(7554, 16)"
      ]
     },
     "execution_count": 55,
     "metadata": {},
     "output_type": "execute_result"
    }
   ],
   "source": [
    "df = pd.read_csv('../data/merged/imdb_movies_min_votes_500.csv')\n",
    "df.shape"
   ]
  },
  {
   "cell_type": "code",
   "execution_count": 56,
   "metadata": {},
   "outputs": [
    {
     "data": {
      "text/plain": [
       "title             16\n",
       "year               0\n",
       "description        1\n",
       "image_link         0\n",
       "imdb_id            0\n",
       "rating_count       0\n",
       "best_rating        0\n",
       "worst_rating       0\n",
       "rating             0\n",
       "genre              1\n",
       "keywords           0\n",
       "trailer_link     776\n",
       "actors             0\n",
       "director           0\n",
       "synopsis        4122\n",
       "summary            3\n",
       "dtype: int64"
      ]
     },
     "execution_count": 56,
     "metadata": {},
     "output_type": "execute_result"
    }
   ],
   "source": [
    "df.isnull().sum()"
   ]
  },
  {
   "cell_type": "code",
   "execution_count": 57,
   "metadata": {},
   "outputs": [
    {
     "data": {
      "text/html": [
       "<div>\n",
       "<style scoped>\n",
       "    .dataframe tbody tr th:only-of-type {\n",
       "        vertical-align: middle;\n",
       "    }\n",
       "\n",
       "    .dataframe tbody tr th {\n",
       "        vertical-align: top;\n",
       "    }\n",
       "\n",
       "    .dataframe thead th {\n",
       "        text-align: right;\n",
       "    }\n",
       "</style>\n",
       "<table border=\"1\" class=\"dataframe\">\n",
       "  <thead>\n",
       "    <tr style=\"text-align: right;\">\n",
       "      <th></th>\n",
       "      <th>title</th>\n",
       "      <th>year</th>\n",
       "      <th>description</th>\n",
       "      <th>image_link</th>\n",
       "      <th>imdb_id</th>\n",
       "      <th>rating_count</th>\n",
       "      <th>best_rating</th>\n",
       "      <th>worst_rating</th>\n",
       "      <th>rating</th>\n",
       "      <th>genre</th>\n",
       "      <th>keywords</th>\n",
       "      <th>trailer_link</th>\n",
       "      <th>actors</th>\n",
       "      <th>director</th>\n",
       "      <th>synopsis</th>\n",
       "      <th>summary</th>\n",
       "    </tr>\n",
       "  </thead>\n",
       "  <tbody>\n",
       "    <tr>\n",
       "      <th>183</th>\n",
       "      <td>TheUndefeated</td>\n",
       "      <td>2000</td>\n",
       "      <td>NaN</td>\n",
       "      <td>https://m.media-amazon.com/images/M/MV5BYmViMD...</td>\n",
       "      <td>tt0282023</td>\n",
       "      <td>526</td>\n",
       "      <td>10</td>\n",
       "      <td>1</td>\n",
       "      <td>6.9</td>\n",
       "      <td>['Drama', 'History', 'War']</td>\n",
       "      <td>['']</td>\n",
       "      <td>NaN</td>\n",
       "      <td>['Volodymyr Abazopulo', 'Anatoli Barchuk', 'St...</td>\n",
       "      <td>['Oles Yanchuk']</td>\n",
       "      <td>NaN</td>\n",
       "      <td>NaN</td>\n",
       "    </tr>\n",
       "  </tbody>\n",
       "</table>\n",
       "</div>"
      ],
      "text/plain": [
       "             title  year description  \\\n",
       "183  TheUndefeated  2000         NaN   \n",
       "\n",
       "                                            image_link    imdb_id  \\\n",
       "183  https://m.media-amazon.com/images/M/MV5BYmViMD...  tt0282023   \n",
       "\n",
       "     rating_count  best_rating  worst_rating  rating  \\\n",
       "183           526           10             1     6.9   \n",
       "\n",
       "                           genre keywords trailer_link  \\\n",
       "183  ['Drama', 'History', 'War']     ['']          NaN   \n",
       "\n",
       "                                                actors          director  \\\n",
       "183  ['Volodymyr Abazopulo', 'Anatoli Barchuk', 'St...  ['Oles Yanchuk']   \n",
       "\n",
       "    synopsis summary  \n",
       "183      NaN     NaN  "
      ]
     },
     "execution_count": 57,
     "metadata": {},
     "output_type": "execute_result"
    }
   ],
   "source": [
    "df[df['description'].isnull() & df['synopsis'].isnull() & df['summary'].isnull()]"
   ]
  },
  {
   "cell_type": "code",
   "execution_count": 58,
   "metadata": {},
   "outputs": [],
   "source": [
    "# drop rows with null description, synopsis and summary null\n",
    "df = df.dropna(subset=['description', 'synopsis', 'summary'], how='all')"
   ]
  },
  {
   "cell_type": "code",
   "execution_count": 59,
   "metadata": {},
   "outputs": [
    {
     "data": {
      "text/plain": [
       "(16, 16)"
      ]
     },
     "execution_count": 59,
     "metadata": {},
     "output_type": "execute_result"
    }
   ],
   "source": [
    "df[df['title'].isnull()].shape"
   ]
  },
  {
   "cell_type": "code",
   "execution_count": 60,
   "metadata": {},
   "outputs": [
    {
     "name": "stderr",
     "output_type": "stream",
     "text": [
      "/var/folders/qn/zrg5ms9n4mj424yzj3h57fh80000gn/T/ipykernel_13737/442985683.py:9: FutureWarning: Setting an item of incompatible dtype is deprecated and will raise in a future error of pandas. Value '1408' has dtype incompatible with int64, please explicitly cast to a compatible dtype first.\n",
      "  df[df['title'].isnull()] = df[df['title'].isnull()]['imdb_id'].apply(get_title)\n",
      "/var/folders/qn/zrg5ms9n4mj424yzj3h57fh80000gn/T/ipykernel_13737/442985683.py:9: FutureWarning: Setting an item of incompatible dtype is deprecated and will raise in a future error of pandas. Value '13' has dtype incompatible with int64, please explicitly cast to a compatible dtype first.\n",
      "  df[df['title'].isnull()] = df[df['title'].isnull()]['imdb_id'].apply(get_title)\n",
      "/var/folders/qn/zrg5ms9n4mj424yzj3h57fh80000gn/T/ipykernel_13737/442985683.py:9: FutureWarning: Setting an item of incompatible dtype is deprecated and will raise in a future error of pandas. Value '360' has dtype incompatible with int64, please explicitly cast to a compatible dtype first.\n",
      "  df[df['title'].isnull()] = df[df['title'].isnull()]['imdb_id'].apply(get_title)\n",
      "/var/folders/qn/zrg5ms9n4mj424yzj3h57fh80000gn/T/ipykernel_13737/442985683.py:9: FutureWarning: Setting an item of incompatible dtype is deprecated and will raise in a future error of pandas. Value '42' has dtype incompatible with int64, please explicitly cast to a compatible dtype first.\n",
      "  df[df['title'].isnull()] = df[df['title'].isnull()]['imdb_id'].apply(get_title)\n",
      "/var/folders/qn/zrg5ms9n4mj424yzj3h57fh80000gn/T/ipykernel_13737/442985683.py:9: FutureWarning: Setting an item of incompatible dtype is deprecated and will raise in a future error of pandas. Value '1' has dtype incompatible with float64, please explicitly cast to a compatible dtype first.\n",
      "  df[df['title'].isnull()] = df[df['title'].isnull()]['imdb_id'].apply(get_title)\n"
     ]
    }
   ],
   "source": [
    "from imdb import IMDb\n",
    "\n",
    "ia = IMDb()\n",
    "\n",
    "def get_title(imdb_id):\n",
    "    imdb_id = imdb_id.replace('tt', '')\n",
    "    movie = ia.get_movie(int(imdb_id))\n",
    "    return movie['title'] if movie else ''\n",
    "\n",
    "df.loc[df['title'].isnull(), 'title'] = df[df['title'].isnull()]['imdb_id'].apply(get_title)"
   ]
  },
  {
   "cell_type": "code",
   "execution_count": 61,
   "metadata": {},
   "outputs": [
    {
     "data": {
      "text/plain": [
       "title              0\n",
       "year               0\n",
       "description        0\n",
       "image_link         0\n",
       "imdb_id            0\n",
       "rating_count       0\n",
       "best_rating        0\n",
       "worst_rating       0\n",
       "rating             0\n",
       "genre              1\n",
       "keywords           0\n",
       "trailer_link     773\n",
       "actors             0\n",
       "director           0\n",
       "synopsis        4112\n",
       "summary            2\n",
       "dtype: int64"
      ]
     },
     "execution_count": 61,
     "metadata": {},
     "output_type": "execute_result"
    }
   ],
   "source": [
    "df.isnull().sum()"
   ]
  },
  {
   "cell_type": "code",
   "execution_count": 62,
   "metadata": {},
   "outputs": [],
   "source": [
    "df.to_csv('../data/merged/imdb_movies_min_votes_500.csv', index=False)"
   ]
  }
 ],
 "metadata": {
  "kernelspec": {
   "display_name": "Python 3",
   "language": "python",
   "name": "python3"
  },
  "language_info": {
   "codemirror_mode": {
    "name": "ipython",
    "version": 3
   },
   "file_extension": ".py",
   "mimetype": "text/x-python",
   "name": "python",
   "nbconvert_exporter": "python",
   "pygments_lexer": "ipython3",
   "version": "3.11.5"
  }
 },
 "nbformat": 4,
 "nbformat_minor": 2
}
