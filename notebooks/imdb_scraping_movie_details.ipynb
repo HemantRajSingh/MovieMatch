{
 "cells": [
  {
   "cell_type": "code",
   "execution_count": 6,
   "metadata": {},
   "outputs": [],
   "source": [
    "import requests\n",
    "from bs4 import BeautifulSoup\n",
    "import pandas as pd\n",
    "import numpy as np\n",
    "\n",
    "import time\n",
    "import json\n",
    "from tqdm import tqdm\n",
    "\n",
    "from selenium import webdriver\n",
    "from selenium.webdriver.chrome.options import Options\n",
    "from selenium.webdriver.common.by import By\n",
    "from selenium.webdriver.support.ui import WebDriverWait\n",
    "from selenium.webdriver.support import expected_conditions as EC\n",
    "from bs4 import BeautifulSoup"
   ]
  },
  {
   "cell_type": "code",
   "execution_count": 87,
   "metadata": {},
   "outputs": [
    {
     "name": "stdout",
     "output_type": "stream",
     "text": [
      "(35653, 7)\n"
     ]
    },
    {
     "data": {
      "text/html": [
       "<div>\n",
       "<style scoped>\n",
       "    .dataframe tbody tr th:only-of-type {\n",
       "        vertical-align: middle;\n",
       "    }\n",
       "\n",
       "    .dataframe tbody tr th {\n",
       "        vertical-align: top;\n",
       "    }\n",
       "\n",
       "    .dataframe thead th {\n",
       "        text-align: right;\n",
       "    }\n",
       "</style>\n",
       "<table border=\"1\" class=\"dataframe\">\n",
       "  <thead>\n",
       "    <tr style=\"text-align: right;\">\n",
       "      <th></th>\n",
       "      <th>id</th>\n",
       "      <th>title</th>\n",
       "      <th>year</th>\n",
       "      <th>runtime</th>\n",
       "      <th>rating</th>\n",
       "      <th>votes</th>\n",
       "      <th>plot</th>\n",
       "    </tr>\n",
       "  </thead>\n",
       "  <tbody>\n",
       "    <tr>\n",
       "      <th>0</th>\n",
       "      <td>tt0172495</td>\n",
       "      <td>1. Gladiator</td>\n",
       "      <td>2000</td>\n",
       "      <td>2000</td>\n",
       "      <td>8.5 (1.6M)</td>\n",
       "      <td>(1.6M)</td>\n",
       "      <td>A former Roman General sets out to exact venge...</td>\n",
       "    </tr>\n",
       "    <tr>\n",
       "      <th>1</th>\n",
       "      <td>tt0217869</td>\n",
       "      <td>2. Unbreakable</td>\n",
       "      <td>2000</td>\n",
       "      <td>2000</td>\n",
       "      <td>7.3 (441K)</td>\n",
       "      <td>(441K)</td>\n",
       "      <td>A man learns something extraordinary about him...</td>\n",
       "    </tr>\n",
       "    <tr>\n",
       "      <th>2</th>\n",
       "      <td>tt0208092</td>\n",
       "      <td>3. Snatch</td>\n",
       "      <td>2000</td>\n",
       "      <td>2000</td>\n",
       "      <td>8.2 (909K)</td>\n",
       "      <td>(909K)</td>\n",
       "      <td>Unscrupulous boxing promoters, violent bookmak...</td>\n",
       "    </tr>\n",
       "    <tr>\n",
       "      <th>3</th>\n",
       "      <td>tt0144084</td>\n",
       "      <td>4. American Psycho</td>\n",
       "      <td>2000</td>\n",
       "      <td>2000</td>\n",
       "      <td>7.6 (714K)</td>\n",
       "      <td>(714K)</td>\n",
       "      <td>A wealthy New York City investment banking exe...</td>\n",
       "    </tr>\n",
       "    <tr>\n",
       "      <th>4</th>\n",
       "      <td>tt0180093</td>\n",
       "      <td>5. Requiem for a Dream</td>\n",
       "      <td>2000</td>\n",
       "      <td>2000</td>\n",
       "      <td>8.3 (897K)</td>\n",
       "      <td>(897K)</td>\n",
       "      <td>The drug-induced utopias of four Coney Island ...</td>\n",
       "    </tr>\n",
       "  </tbody>\n",
       "</table>\n",
       "</div>"
      ],
      "text/plain": [
       "          id                   title  year runtime      rating    votes  \\\n",
       "0  tt0172495            1. Gladiator  2000    2000  8.5 (1.6M)   (1.6M)   \n",
       "1  tt0217869          2. Unbreakable  2000    2000  7.3 (441K)   (441K)   \n",
       "2  tt0208092               3. Snatch  2000    2000  8.2 (909K)   (909K)   \n",
       "3  tt0144084      4. American Psycho  2000    2000  7.6 (714K)   (714K)   \n",
       "4  tt0180093  5. Requiem for a Dream  2000    2000  8.3 (897K)   (897K)   \n",
       "\n",
       "                                                plot  \n",
       "0  A former Roman General sets out to exact venge...  \n",
       "1  A man learns something extraordinary about him...  \n",
       "2  Unscrupulous boxing promoters, violent bookmak...  \n",
       "3  A wealthy New York City investment banking exe...  \n",
       "4  The drug-induced utopias of four Coney Island ...  "
      ]
     },
     "execution_count": 87,
     "metadata": {},
     "output_type": "execute_result"
    }
   ],
   "source": [
    "df = pd.read_csv('../data/raw/imdb_movies_ids.csv')\n",
    "print(df.shape)\n",
    "df.head()"
   ]
  },
  {
   "cell_type": "code",
   "execution_count": 9,
   "metadata": {},
   "outputs": [
    {
     "name": "stdout",
     "output_type": "stream",
     "text": [
      "<class 'pandas.core.frame.DataFrame'>\n",
      "RangeIndex: 35653 entries, 0 to 35652\n",
      "Data columns (total 7 columns):\n",
      " #   Column   Non-Null Count  Dtype \n",
      "---  ------   --------------  ----- \n",
      " 0   id       35653 non-null  object\n",
      " 1   title    35653 non-null  object\n",
      " 2   year     35650 non-null  object\n",
      " 3   runtime  35650 non-null  object\n",
      " 4   rating   35653 non-null  object\n",
      " 5   votes    35653 non-null  object\n",
      " 6   plot     33752 non-null  object\n",
      "dtypes: object(7)\n",
      "memory usage: 1.9+ MB\n"
     ]
    }
   ],
   "source": [
    "df.info()"
   ]
  },
  {
   "cell_type": "code",
   "execution_count": 89,
   "metadata": {},
   "outputs": [
    {
     "data": {
      "text/plain": [
       "0    1600000\n",
       "1     441000\n",
       "2     909000\n",
       "3     714000\n",
       "4     897000\n",
       "Name: votes, dtype: int64"
      ]
     },
     "execution_count": 89,
     "metadata": {},
     "output_type": "execute_result"
    }
   ],
   "source": [
    "df['votes'] = df['votes'].str.replace('\\(', '', regex=True)\n",
    "df['votes'] = df['votes'].str.replace('\\)', '', regex=True)\n",
    "df['votes'] = df['votes'].replace({'K': '*1e3', 'M': '*1e6'}, regex=True).map(pd.eval).astype(int)\n",
    "df['votes'].head()"
   ]
  },
  {
   "cell_type": "markdown",
   "metadata": {},
   "source": [
    "# As we have 35653 imdb movies records, scraping all movies summary and synopsis would create a hige dataset. So we'll apply filter criteria as 500 minimum votes required to reduce the dataset."
   ]
  },
  {
   "cell_type": "code",
   "execution_count": 90,
   "metadata": {},
   "outputs": [
    {
     "data": {
      "text/plain": [
       "(7554, 7)"
      ]
     },
     "execution_count": 90,
     "metadata": {},
     "output_type": "execute_result"
    }
   ],
   "source": [
    "min_votes_500 = df[df['votes'] > 500]\n",
    "min_votes_500.shape"
   ]
  },
  {
   "cell_type": "code",
   "execution_count": 91,
   "metadata": {},
   "outputs": [
    {
     "data": {
      "text/html": [
       "<div>\n",
       "<style scoped>\n",
       "    .dataframe tbody tr th:only-of-type {\n",
       "        vertical-align: middle;\n",
       "    }\n",
       "\n",
       "    .dataframe tbody tr th {\n",
       "        vertical-align: top;\n",
       "    }\n",
       "\n",
       "    .dataframe thead th {\n",
       "        text-align: right;\n",
       "    }\n",
       "</style>\n",
       "<table border=\"1\" class=\"dataframe\">\n",
       "  <thead>\n",
       "    <tr style=\"text-align: right;\">\n",
       "      <th></th>\n",
       "      <th>id</th>\n",
       "      <th>title</th>\n",
       "      <th>year</th>\n",
       "      <th>runtime</th>\n",
       "      <th>rating</th>\n",
       "      <th>votes</th>\n",
       "      <th>plot</th>\n",
       "    </tr>\n",
       "  </thead>\n",
       "  <tbody>\n",
       "    <tr>\n",
       "      <th>0</th>\n",
       "      <td>tt0172495</td>\n",
       "      <td>1. Gladiator</td>\n",
       "      <td>2000</td>\n",
       "      <td>2000</td>\n",
       "      <td>8.5 (1.6M)</td>\n",
       "      <td>1600000</td>\n",
       "      <td>A former Roman General sets out to exact venge...</td>\n",
       "    </tr>\n",
       "    <tr>\n",
       "      <th>1</th>\n",
       "      <td>tt0217869</td>\n",
       "      <td>2. Unbreakable</td>\n",
       "      <td>2000</td>\n",
       "      <td>2000</td>\n",
       "      <td>7.3 (441K)</td>\n",
       "      <td>441000</td>\n",
       "      <td>A man learns something extraordinary about him...</td>\n",
       "    </tr>\n",
       "    <tr>\n",
       "      <th>2</th>\n",
       "      <td>tt0208092</td>\n",
       "      <td>3. Snatch</td>\n",
       "      <td>2000</td>\n",
       "      <td>2000</td>\n",
       "      <td>8.2 (909K)</td>\n",
       "      <td>909000</td>\n",
       "      <td>Unscrupulous boxing promoters, violent bookmak...</td>\n",
       "    </tr>\n",
       "    <tr>\n",
       "      <th>3</th>\n",
       "      <td>tt0144084</td>\n",
       "      <td>4. American Psycho</td>\n",
       "      <td>2000</td>\n",
       "      <td>2000</td>\n",
       "      <td>7.6 (714K)</td>\n",
       "      <td>714000</td>\n",
       "      <td>A wealthy New York City investment banking exe...</td>\n",
       "    </tr>\n",
       "    <tr>\n",
       "      <th>4</th>\n",
       "      <td>tt0180093</td>\n",
       "      <td>5. Requiem for a Dream</td>\n",
       "      <td>2000</td>\n",
       "      <td>2000</td>\n",
       "      <td>8.3 (897K)</td>\n",
       "      <td>897000</td>\n",
       "      <td>The drug-induced utopias of four Coney Island ...</td>\n",
       "    </tr>\n",
       "  </tbody>\n",
       "</table>\n",
       "</div>"
      ],
      "text/plain": [
       "          id                   title  year runtime      rating    votes  \\\n",
       "0  tt0172495            1. Gladiator  2000    2000  8.5 (1.6M)  1600000   \n",
       "1  tt0217869          2. Unbreakable  2000    2000  7.3 (441K)   441000   \n",
       "2  tt0208092               3. Snatch  2000    2000  8.2 (909K)   909000   \n",
       "3  tt0144084      4. American Psycho  2000    2000  7.6 (714K)   714000   \n",
       "4  tt0180093  5. Requiem for a Dream  2000    2000  8.3 (897K)   897000   \n",
       "\n",
       "                                                plot  \n",
       "0  A former Roman General sets out to exact venge...  \n",
       "1  A man learns something extraordinary about him...  \n",
       "2  Unscrupulous boxing promoters, violent bookmak...  \n",
       "3  A wealthy New York City investment banking exe...  \n",
       "4  The drug-induced utopias of four Coney Island ...  "
      ]
     },
     "execution_count": 91,
     "metadata": {},
     "output_type": "execute_result"
    }
   ],
   "source": [
    "min_votes_500.head()"
   ]
  },
  {
   "cell_type": "code",
   "execution_count": 92,
   "metadata": {},
   "outputs": [],
   "source": [
    "min_votes_500.to_csv('../data/raw/imdb_movies_ids_min_votes_500.csv', index=False)"
   ]
  },
  {
   "cell_type": "code",
   "execution_count": 20,
   "metadata": {},
   "outputs": [],
   "source": [
    "def create_url(id, attribute=[]):\n",
    "    url = \"https://www.imdb.com/title/\"+str(id)+\"/\"\n",
    "    if 'synopsis' in attribute:\n",
    "        url += \"plotsummary/\"\n",
    "    return url"
   ]
  },
  {
   "cell_type": "code",
   "execution_count": 21,
   "metadata": {},
   "outputs": [],
   "source": [
    "chrome_options = Options()\n",
    "prefs = {\"profile.managed_default_content_settings.images\": 2}\n",
    "chrome_options.add_experimental_option(\"prefs\", prefs)\n",
    "\n",
    "driver = webdriver.Chrome(options=chrome_options)"
   ]
  },
  {
   "cell_type": "code",
   "execution_count": 22,
   "metadata": {},
   "outputs": [],
   "source": [
    "def load_page(url):\n",
    "\n",
    "    driver.get(url)\n",
    "    time.sleep(1)\n",
    "    \n",
    "    soup = BeautifulSoup(driver.page_source, 'html.parser')\n",
    "    return soup"
   ]
  },
  {
   "cell_type": "code",
   "execution_count": 23,
   "metadata": {},
   "outputs": [],
   "source": [
    "def get_movie_data(id):\n",
    "    url = create_url(id)\n",
    "    soup = load_page(url)\n",
    "    movie_data = soup.find('script',{\"type\":\"application/ld+json\"})\n",
    "    movie = {}\n",
    "\n",
    "    if movie_data is not None:\n",
    "        movie_data = json.loads(movie_data.string)\n",
    "        movie['image_link'] = movie_data.get('image', '')\n",
    "        movie['imdb_id'] = id\n",
    "        aggregate_rating = movie_data.get('aggregateRating', {})\n",
    "        movie['rating_count'] = aggregate_rating.get('ratingCount', '')\n",
    "        movie['best_rating'] = aggregate_rating.get('bestRating', '')\n",
    "        movie['worst_rating'] = aggregate_rating.get('worstRating')\n",
    "        movie['rating'] = aggregate_rating.get('ratingValue')\n",
    "        movie['genre'] = movie_data.get('genre')\n",
    "        movie['keywords'] = movie_data.get('keywords', '').split(',')\n",
    "        movie['trailer_link'] = movie_data.get('trailer', {}).get('url', '')\n",
    "        movie['actors'] = [actor.get('name', '') for actor in movie_data.get('actor', [])]\n",
    "        movie['director'] = [director.get('name', '') for director in movie_data.get('director', [])]\n",
    "        \n",
    "        synopsis_soup = load_page(create_url(id, attribute=['synopsis']))\n",
    "        synopsis_div = synopsis_soup.select_one('[data-testid=\"sub-section-synopsis\"] .ipc-html-content-inner-div')\n",
    "        if synopsis_div is not None:\n",
    "            movie['synopsis'] = synopsis_div.text\n",
    "        summary_div = synopsis_soup.select_one('[data-testid=\"sub-section-summaries\"] .ipc-html-content-inner-div')\n",
    "        if summary_div is not None:\n",
    "            movie['summary'] = summary_div.text\n",
    "    \n",
    "    return movie"
   ]
  },
  {
   "cell_type": "code",
   "execution_count": null,
   "metadata": {},
   "outputs": [],
   "source": [
    "movies = []\n",
    "for id in tqdm(min_votes_500['id']):\n",
    "    print(id)\n",
    "    try: \n",
    "        movie = get_movie_data(id)\n",
    "        # Append the movie data to movies_df\n",
    "        if movie != {}:\n",
    "            movies.append(movie)\n",
    "    except Exception as e:\n",
    "        print(e)\n",
    "driver.quit()"
   ]
  },
  {
   "cell_type": "code",
   "execution_count": 20,
   "metadata": {},
   "outputs": [],
   "source": [
    "movies_df = pd.DataFrame(movies)\n",
    "movies_df.to_csv('../data/raw/imdb_movies_detail_min_votes_500.csv', index=False)"
   ]
  }
 ],
 "metadata": {
  "kernelspec": {
   "display_name": "Python 3",
   "language": "python",
   "name": "python3"
  },
  "language_info": {
   "codemirror_mode": {
    "name": "ipython",
    "version": 3
   },
   "file_extension": ".py",
   "mimetype": "text/x-python",
   "name": "python",
   "nbconvert_exporter": "python",
   "pygments_lexer": "ipython3",
   "version": "3.11.5"
  }
 },
 "nbformat": 4,
 "nbformat_minor": 2
}
